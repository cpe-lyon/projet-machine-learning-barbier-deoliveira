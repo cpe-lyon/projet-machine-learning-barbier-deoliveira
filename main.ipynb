{
 "cells": [
  {
   "cell_type": "markdown",
   "id": "6170a8fca255ca05",
   "metadata": {
    "collapsed": false
   },
   "source": [
    "# Projet"
   ]
  },
  {
   "cell_type": "markdown",
   "id": "9e51117bb9f37dde",
   "metadata": {
    "collapsed": false
   },
   "source": [
    "## Collecte de données"
   ]
  },
  {
   "cell_type": "code",
   "execution_count": 1,
   "id": "13c0d01e502c7f5",
   "metadata": {
    "ExecuteTime": {
     "end_time": "2024-03-26T07:41:17.852508Z",
     "start_time": "2024-03-26T07:41:11.742846Z"
    }
   },
   "outputs": [
    {
     "name": "stdout",
     "output_type": "stream",
     "text": [
      "Defaulting to user installation because normal site-packages is not writeable\n",
      "Requirement already satisfied: sparqlwrapper in c:\\users\\dojos\\appdata\\local\\packages\\pythonsoftwarefoundation.python.3.12_qbz5n2kfra8p0\\localcache\\local-packages\\python312\\site-packages (2.0.0)\n",
      "Requirement already satisfied: rdflib>=6.1.1 in c:\\users\\dojos\\appdata\\local\\packages\\pythonsoftwarefoundation.python.3.12_qbz5n2kfra8p0\\localcache\\local-packages\\python312\\site-packages (from sparqlwrapper) (7.0.0)\n",
      "Requirement already satisfied: isodate<0.7.0,>=0.6.0 in c:\\users\\dojos\\appdata\\local\\packages\\pythonsoftwarefoundation.python.3.12_qbz5n2kfra8p0\\localcache\\local-packages\\python312\\site-packages (from rdflib>=6.1.1->sparqlwrapper) (0.6.1)\n",
      "Requirement already satisfied: pyparsing<4,>=2.1.0 in c:\\users\\dojos\\appdata\\local\\packages\\pythonsoftwarefoundation.python.3.12_qbz5n2kfra8p0\\localcache\\local-packages\\python312\\site-packages (from rdflib>=6.1.1->sparqlwrapper) (3.1.1)\n",
      "Requirement already satisfied: six in c:\\users\\dojos\\appdata\\local\\packages\\pythonsoftwarefoundation.python.3.12_qbz5n2kfra8p0\\localcache\\local-packages\\python312\\site-packages (from isodate<0.7.0,>=0.6.0->rdflib>=6.1.1->sparqlwrapper) (1.16.0)\n",
      "Defaulting to user installation because normal site-packages is not writeable\n",
      "Requirement already satisfied: pandas in c:\\users\\dojos\\appdata\\local\\packages\\pythonsoftwarefoundation.python.3.12_qbz5n2kfra8p0\\localcache\\local-packages\\python312\\site-packages (2.2.1)\n",
      "Requirement already satisfied: numpy<2,>=1.26.0 in c:\\users\\dojos\\appdata\\local\\packages\\pythonsoftwarefoundation.python.3.12_qbz5n2kfra8p0\\localcache\\local-packages\\python312\\site-packages (from pandas) (1.26.4)\n",
      "Requirement already satisfied: python-dateutil>=2.8.2 in c:\\users\\dojos\\appdata\\local\\packages\\pythonsoftwarefoundation.python.3.12_qbz5n2kfra8p0\\localcache\\local-packages\\python312\\site-packages (from pandas) (2.9.0.post0)\n",
      "Requirement already satisfied: pytz>=2020.1 in c:\\users\\dojos\\appdata\\local\\packages\\pythonsoftwarefoundation.python.3.12_qbz5n2kfra8p0\\localcache\\local-packages\\python312\\site-packages (from pandas) (2024.1)\n",
      "Requirement already satisfied: tzdata>=2022.7 in c:\\users\\dojos\\appdata\\local\\packages\\pythonsoftwarefoundation.python.3.12_qbz5n2kfra8p0\\localcache\\local-packages\\python312\\site-packages (from pandas) (2024.1)\n",
      "Requirement already satisfied: six>=1.5 in c:\\users\\dojos\\appdata\\local\\packages\\pythonsoftwarefoundation.python.3.12_qbz5n2kfra8p0\\localcache\\local-packages\\python312\\site-packages (from python-dateutil>=2.8.2->pandas) (1.16.0)\n"
     ]
    }
   ],
   "source": [
    "!pip install sparqlwrapper\n",
    "!pip install pandas"
   ]
  },
  {
   "cell_type": "code",
   "execution_count": 2,
   "id": "cbcc901a-1e44-44b8-bf22-135e6b00ecd6",
   "metadata": {
    "ExecuteTime": {
     "end_time": "2024-03-26T07:41:18.723555Z",
     "start_time": "2024-03-26T07:41:17.856040Z"
    }
   },
   "outputs": [],
   "source": [
    "import sys\n",
    "from SPARQLWrapper import SPARQLWrapper, JSON\n",
    "\n",
    "endpoint_url = \"https://query.wikidata.org/sparql\"\n",
    "\n",
    "# Get casino image\n",
    "query = \"\"\"SELECT ?image {\n",
    "  ?data wdt:P31 wd:Q133215;\n",
    "        wdt:P18 ?image\n",
    "}\n",
    "LIMIT 128\"\"\"\n",
    "\n",
    "\n",
    "def get_results(endpoint_url, query):\n",
    "    user_agent = \"WDQS-example Python/%s.%s\" % (\n",
    "        sys.version_info[0],\n",
    "        sys.version_info[1],\n",
    "    )\n",
    "    sparql = SPARQLWrapper(endpoint_url, agent=user_agent)\n",
    "    sparql.setQuery(query)\n",
    "    sparql.setReturnFormat(JSON)\n",
    "    return sparql.query().convert()\n",
    "\n",
    "\n",
    "array = []\n",
    "results = get_results(endpoint_url, query)\n",
    "\n",
    "for result in results[\"results\"][\"bindings\"]:\n",
    "    array.append(\n",
    "        (\n",
    "            result[\"image\"][\"value\"],\n",
    "        )\n",
    "    )"
   ]
  },
  {
   "cell_type": "code",
   "execution_count": 3,
   "id": "42f6d72d-ae1e-4e59-a38f-c0ed356ba85f",
   "metadata": {
    "ExecuteTime": {
     "end_time": "2024-03-26T07:41:26.283994Z",
     "start_time": "2024-03-26T07:41:18.725565Z"
    }
   },
   "outputs": [
    {
     "data": {
      "text/plain": "                                                 image\n0    http://commons.wikimedia.org/wiki/Special:File...\n1    http://commons.wikimedia.org/wiki/Special:File...\n2    http://commons.wikimedia.org/wiki/Special:File...\n3    http://commons.wikimedia.org/wiki/Special:File...\n4    http://commons.wikimedia.org/wiki/Special:File...\n..                                                 ...\n123  http://commons.wikimedia.org/wiki/Special:File...\n124  http://commons.wikimedia.org/wiki/Special:File...\n125  http://commons.wikimedia.org/wiki/Special:File...\n126  http://commons.wikimedia.org/wiki/Special:File...\n127  http://commons.wikimedia.org/wiki/Special:File...\n\n[128 rows x 1 columns]",
      "text/html": "<div>\n<style scoped>\n    .dataframe tbody tr th:only-of-type {\n        vertical-align: middle;\n    }\n\n    .dataframe tbody tr th {\n        vertical-align: top;\n    }\n\n    .dataframe thead th {\n        text-align: right;\n    }\n</style>\n<table border=\"1\" class=\"dataframe\">\n  <thead>\n    <tr style=\"text-align: right;\">\n      <th></th>\n      <th>image</th>\n    </tr>\n  </thead>\n  <tbody>\n    <tr>\n      <th>0</th>\n      <td>http://commons.wikimedia.org/wiki/Special:File...</td>\n    </tr>\n    <tr>\n      <th>1</th>\n      <td>http://commons.wikimedia.org/wiki/Special:File...</td>\n    </tr>\n    <tr>\n      <th>2</th>\n      <td>http://commons.wikimedia.org/wiki/Special:File...</td>\n    </tr>\n    <tr>\n      <th>3</th>\n      <td>http://commons.wikimedia.org/wiki/Special:File...</td>\n    </tr>\n    <tr>\n      <th>4</th>\n      <td>http://commons.wikimedia.org/wiki/Special:File...</td>\n    </tr>\n    <tr>\n      <th>...</th>\n      <td>...</td>\n    </tr>\n    <tr>\n      <th>123</th>\n      <td>http://commons.wikimedia.org/wiki/Special:File...</td>\n    </tr>\n    <tr>\n      <th>124</th>\n      <td>http://commons.wikimedia.org/wiki/Special:File...</td>\n    </tr>\n    <tr>\n      <th>125</th>\n      <td>http://commons.wikimedia.org/wiki/Special:File...</td>\n    </tr>\n    <tr>\n      <th>126</th>\n      <td>http://commons.wikimedia.org/wiki/Special:File...</td>\n    </tr>\n    <tr>\n      <th>127</th>\n      <td>http://commons.wikimedia.org/wiki/Special:File...</td>\n    </tr>\n  </tbody>\n</table>\n<p>128 rows × 1 columns</p>\n</div>"
     },
     "execution_count": 3,
     "metadata": {},
     "output_type": "execute_result"
    }
   ],
   "source": [
    "import pandas as pd\n",
    "dataframe = pd.DataFrame(array, columns=[\"image\"])\n",
    "dataframe = dataframe.astype(\n",
    "    dtype={\"image\": \"<U200\"}\n",
    ")\n",
    "dataframe"
   ]
  },
  {
   "cell_type": "code",
   "execution_count": 4,
   "id": "ea19f1335276aa9a",
   "metadata": {
    "collapsed": false,
    "ExecuteTime": {
     "end_time": "2024-03-26T07:41:26.290475Z",
     "start_time": "2024-03-26T07:41:26.286235Z"
    }
   },
   "outputs": [],
   "source": [
    "import os\n",
    "try:\n",
    "    os.mkdir('images')\n",
    "except:\n",
    "    pass"
   ]
  },
  {
   "cell_type": "markdown",
   "id": "9ba0fe6414a8d0d4",
   "metadata": {
    "collapsed": false
   },
   "source": [
    "Nous allons écrire une méthode pour extraire les exifs"
   ]
  },
  {
   "cell_type": "markdown",
   "id": "9791aaf0725d6db5",
   "metadata": {
    "collapsed": false
   },
   "source": [
    "Nous allons maintenant télécharger les images"
   ]
  },
  {
   "cell_type": "code",
   "execution_count": 5,
   "id": "307c6bcd-24e1-4040-b7de-a62456d4c377",
   "metadata": {
    "ExecuteTime": {
     "end_time": "2024-03-26T07:41:29.625185Z",
     "start_time": "2024-03-26T07:41:26.291484Z"
    }
   },
   "outputs": [],
   "source": [
    "import requests\n",
    "import shutil\n",
    "import os\n",
    "import json\n",
    "\n",
    "count = 0\n",
    "def download_image(url):\n",
    "    global metadata, count\n",
    "    if count % 10 == 0:\n",
    "        print(\"Téléchargé \", count, \" images\") \n",
    "    count += 1\n",
    "\n",
    "    headers = {\"User-Agent\": \"Mozilla/5.0\"}\n",
    "    request = requests.get(url, allow_redirects=True, headers=headers, stream=True)\n",
    "    if request.status_code == 200:\n",
    "        nom = os.path.basename(url)[-30:]\n",
    "        chemin = \"images/\"+nom\n",
    "        with open(chemin, \"wb\") as image:\n",
    "            request.raw.decode_content = True\n",
    "            shutil.copyfileobj(request.raw, image)\n",
    "    return request.status_code"
   ]
  },
  {
   "cell_type": "code",
   "execution_count": 6,
   "id": "93bc8514-6631-4283-8c20-ea3ab34a54b6",
   "metadata": {
    "ExecuteTime": {
     "end_time": "2024-03-26T07:45:45.209127Z",
     "start_time": "2024-03-26T07:41:29.627196Z"
    }
   },
   "outputs": [
    {
     "name": "stdout",
     "output_type": "stream",
     "text": [
      "Début du téléchargement\n",
      "Téléchargé  0  images\n",
      "Téléchargé  10  images\n",
      "Téléchargé  20  images\n",
      "Téléchargé  30  images\n",
      "Téléchargé  40  images\n",
      "Téléchargé  50  images\n",
      "Téléchargé  60  images\n",
      "Téléchargé  70  images\n",
      "Téléchargé  80  images\n",
      "Téléchargé  90  images\n",
      "Téléchargé  100  images\n",
      "Téléchargé  110  images\n",
      "Téléchargé  120  images\n"
     ]
    },
    {
     "data": {
      "text/plain": "0      200\n1      200\n2      200\n3      200\n4      200\n      ... \n123    200\n124    200\n125    200\n126    200\n127    200\nName: image, Length: 128, dtype: int64"
     },
     "execution_count": 6,
     "metadata": {},
     "output_type": "execute_result"
    }
   ],
   "source": [
    "print(\"Début du téléchargement\")\n",
    "dataframe.image.apply(download_image)"
   ]
  },
  {
   "cell_type": "markdown",
   "source": [
    "## Étiquetage et annotation"
   ],
   "metadata": {
    "collapsed": false
   },
   "id": "53cf1c9d7653a26a"
  },
  {
   "cell_type": "markdown",
   "id": "585aa84c15d81e16",
   "metadata": {
    "collapsed": false
   },
   "source": [
    "On enregistre les exifs"
   ]
  },
  {
   "cell_type": "code",
   "execution_count": 7,
   "id": "4dbb92f046f1f710",
   "metadata": {
    "collapsed": false,
    "ExecuteTime": {
     "end_time": "2024-03-26T07:46:00.082912Z",
     "start_time": "2024-03-26T07:45:45.213096Z"
    }
   },
   "outputs": [
    {
     "name": "stdout",
     "output_type": "stream",
     "text": [
      "Defaulting to user installation because normal site-packages is not writeable\n",
      "Requirement already satisfied: scikit-learn in c:\\users\\dojos\\appdata\\local\\packages\\pythonsoftwarefoundation.python.3.12_qbz5n2kfra8p0\\localcache\\local-packages\\python312\\site-packages (1.4.1.post1)\n",
      "Requirement already satisfied: numpy<2.0,>=1.19.5 in c:\\users\\dojos\\appdata\\local\\packages\\pythonsoftwarefoundation.python.3.12_qbz5n2kfra8p0\\localcache\\local-packages\\python312\\site-packages (from scikit-learn) (1.26.4)\n",
      "Requirement already satisfied: scipy>=1.6.0 in c:\\users\\dojos\\appdata\\local\\packages\\pythonsoftwarefoundation.python.3.12_qbz5n2kfra8p0\\localcache\\local-packages\\python312\\site-packages (from scikit-learn) (1.12.0)\n",
      "Requirement already satisfied: joblib>=1.2.0 in c:\\users\\dojos\\appdata\\local\\packages\\pythonsoftwarefoundation.python.3.12_qbz5n2kfra8p0\\localcache\\local-packages\\python312\\site-packages (from scikit-learn) (1.3.2)\n",
      "Requirement already satisfied: threadpoolctl>=2.0.0 in c:\\users\\dojos\\appdata\\local\\packages\\pythonsoftwarefoundation.python.3.12_qbz5n2kfra8p0\\localcache\\local-packages\\python312\\site-packages (from scikit-learn) (3.3.0)\n",
      "Fonction extraction OK\n"
     ]
    }
   ],
   "source": [
    "!pip install scikit-learn\n",
    "import os, sys, json\n",
    "from PIL import Image\n",
    "from PIL.ExifTags import TAGS\n",
    "import numpy\n",
    "import math\n",
    "from sklearn.cluster import KMeans\n",
    "\n",
    "\n",
    "def extraire_donnees(image_chemin):\n",
    "    imgfile = Image.open(image_chemin)\n",
    "    try:\n",
    "        exif_data = imgfile._getexif()\n",
    "    except:\n",
    "        print(f\"les EXIFs n'ont pas pu être extraits depuis {image_chemin}\")\n",
    "        exif_data = {}\n",
    "    image_metadata = dict()\n",
    "    if exif_data:\n",
    "        for tag, value in exif_data.items():\n",
    "            if(isinstance(value, bytes)):\n",
    "                continue\n",
    "            if (not isinstance(value, int)) and (not isinstance(value, float)):\n",
    "                value = f\"{value}\"\n",
    "            if tag in TAGS:\n",
    "                image_metadata[TAGS[tag]] = value\n",
    "    return image_metadata\n",
    "print(\"Fonction extraction OK\")"
   ]
  },
  {
   "cell_type": "markdown",
   "id": "c624fb4963fbe0d4",
   "metadata": {
    "collapsed": false
   },
   "source": [
    "On utilise KMeans pour avoir 2 clusters par image"
   ]
  },
  {
   "cell_type": "code",
   "execution_count": 8,
   "id": "961ff0e6632d80f5",
   "metadata": {
    "collapsed": false,
    "ExecuteTime": {
     "end_time": "2024-03-26T07:46:00.163493Z",
     "start_time": "2024-03-26T07:46:00.092038Z"
    }
   },
   "outputs": [],
   "source": [
    "def extraire_couleurs(image_chemin):\n",
    "    imgfile = Image.open(image_chemin)\n",
    "    numarray = numpy.array(imgfile.getdata(), numpy.uint8)\n",
    "    print(image_chemin)\n",
    "    clusters = KMeans(n_clusters=2, n_init=2)\n",
    "    couleurs = []\n",
    "    try :\n",
    "        clusters.fit(numarray)\n",
    "        for i in range(2):\n",
    "            couleur = (\"#%02x%02x%02x\"\n",
    "                % (\n",
    "                    math.ceil(clusters.cluster_centers_[i][0]),\n",
    "                    math.ceil(clusters.cluster_centers_[i][1]),\n",
    "                    math.ceil(clusters.cluster_centers_[i][2]),\n",
    "                ))\n",
    "            couleurs.append(couleur)\n",
    "    except:\n",
    "        print(f\"les couleurs n'ont pas pu être extraits depuis {image_chemin}\")\n",
    "        couleur = \"#00000\"\n",
    "        for i in range(2):\n",
    "            couleurs.append(couleur)\n",
    "    print(couleurs)\n",
    "    return couleurs"
   ]
  },
  {
   "cell_type": "markdown",
   "source": [
    "On ajoute des tags rentrés à l'avance depuis user_inputs, qui représente des entrées d'utilisateurs."
   ],
   "metadata": {
    "collapsed": false
   },
   "id": "aa8e09a5b2d56b"
  },
  {
   "cell_type": "code",
   "execution_count": 9,
   "id": "b141cb6f46e2ee94",
   "metadata": {
    "collapsed": false,
    "ExecuteTime": {
     "end_time": "2024-03-26T07:46:00.176305Z",
     "start_time": "2024-03-26T07:46:00.166832Z"
    }
   },
   "outputs": [],
   "source": [
    "def ajout_tag(dat, filename, tags):\n",
    "    dat[filename]['tags'] = tags\n",
    "    return dat\n",
    "\n",
    "def lire_entree(dat, filename):\n",
    "    input_file = \"user_input/\"+filename+\".txt\"\n",
    "    tagstr = \"\"\n",
    "    if os.path.exists(input_file):\n",
    "        with open(input_file, 'r') as fichier:\n",
    "            tagstr = fichier.read()\n",
    "    tags = [partie for partie in tagstr.split() if partie]\n",
    "    return ajout_tag(dat, filename, tags)"
   ]
  },
  {
   "cell_type": "markdown",
   "id": "448e67b571c50465",
   "metadata": {
    "collapsed": false
   },
   "source": [
    "On construit un JSON en extrayant les couleurs, les exifs, et les tags"
   ]
  },
  {
   "cell_type": "code",
   "execution_count": 10,
   "id": "ba3b844e4b5cdb4e",
   "metadata": {
    "collapsed": false,
    "ExecuteTime": {
     "end_time": "2024-03-26T08:01:50.241968Z",
     "start_time": "2024-03-26T07:46:00.273909Z"
    }
   },
   "outputs": [
    {
     "name": "stdout",
     "output_type": "stream",
     "text": [
      "images/%20Casino%2C%20Las%20Vagas.jpg\n",
      "['#4a4847', '#92a1b0']\n",
      "images/%20Casino%2C%20Las%20Vegas.jpg\n",
      "['#b2cae5', '#565254']\n",
      "images/%20Montbenon%2C%20Lausanne.jpg\n",
      "['#939da4', '#1e1b19']\n",
      "images/%20Neuenahr%20Kurhaus%2030.JPG\n",
      "['#beb8b0', '#313b57']\n",
      "images/%20Rico%20%28IMG%202934%29.jpg\n",
      "['#6f7465', '#daded8']\n",
      "images/%20Savoie%20-Aix-les-Bains.JPG\n",
      "['#a1bed1', '#455548']\n",
      "images/%20Vegas%20December%202013.jpg\n",
      "['#5f5448', '#b9bec2']\n",
      "images/%20Vegas%20Wynn%20P4220706.jpg\n",
      "['#4c5248', '#b0c4d6']\n",
      "images/%C3%A1rkert%20kaszin%C3%B3.jpg\n",
      "['#a9afb1', '#423f3e']\n",
      "images/-%20en%20Cultuurpaleis%201.jpg\n",
      "['#869aba', '#3f3e41']\n",
      "images/-%20North%20-%202011-06-04.jpg\n",
      "['#c9d1e2', '#505551']\n",
      "images/.%20Lema%C3%AEtre%20Jobard.jpg\n",
      "['#6e634a', '#c0b6a1']\n",
      "images/0-%20Camuy%20Puerto%20Rico.jpg\n",
      "['#5d544d', '#93b6ca']\n",
      "images/0-%20Vivid%20Sydney%202015.jpg\n",
      "['#232636', '#84747e']\n",
      "images/02017%2003%20%28cropped%29.jpg\n",
      "['#444342', '#97acc5']\n",
      "images/0Charlie%27s%20Decatur%201.jpg\n",
      "['#ecedec', '#4a4137']\n",
      "images/2%20di%20Campione%2C%20day.jpg\n",
      "['#414531', '#dacab6']\n",
      "images/2015%20img38%20Spa%20house.jpg\n",
      "['#6b92bc', '#505244']\n",
      "images/20expansion%20april%202008.jpg\n",
      "['#58686f', '#dfe9ef']\n",
      "images/20Grand%20River%20Detroit1.jpg\n",
      "['#cadcdf', '#3e4d51']\n",
      "images/20in%20Nassau%2C%20Bahamas.jpg\n",
      "['#454c46', '#7c9bb5']\n",
      "images/20Palais%20de%20l%27Europe.jpg\n",
      "['#8da8d6', '#57524d']\n",
      "images/4%20queens.JPG\n",
      "['#341a13', '#d9b97d']\n",
      "images/7Entr%C3%A9e%20du%20Casino.jpg\n",
      "['#6f6865', '#d5c2b2']\n",
      "images/Aachen%20Casino.JPG\n",
      "['#170e04', '#bf894b']\n",
      "images/Ada%20Gaming%20Center.jpg\n",
      "['#ccc7be', '#675a38']\n",
      "images/aden%20baden%202016%200010.jpg\n",
      "['#9eb2ca', '#585a44']\n",
      "images/aideRailwayStationAdelaide.jpg\n",
      "['#5b5950', '#dfe5e7']\n",
      "images/Aliante%20Casino%202.jpg\n",
      "['#4a5953', '#87a8bf']\n",
      "images/Annecy%2020120101%20-%2019.JPG\n",
      "['#b4b7c1', '#3c3e2b']\n",
      "images/ano.%20Figueira%20da%20Foz.jpg\n",
      "['#6d6c64', '#ebf3f6']\n",
      "images/Arcachon%20Casino%20R01.jpg\n",
      "['#45453d', '#879ab9']\n",
      "images/as%2C%20Nevada%201989%2049.jpg\n",
      "['#101317', '#c4cfce']\n",
      "images/asino%20Canberra%20Sign%20.jpg\n",
      "['#c3b899', '#1e2725']\n",
      "images/asino%20de%20Montr%C3%A9al.JPG\n",
      "['#44445a', '#d8dbe9']\n",
      "images/asino%20on%20empty%20night.jpg\n",
      "['#22100a', '#d6745d']\n",
      "images/Atv2885.jpg\n",
      "['#d2c1b1', '#583934']\n",
      "images/au%20Las%20Vegas%20signage.jpg\n",
      "['#585f55', '#90acd8']\n",
      "images/Ballys%20Las%20Vegas.jpg\n",
      "['#3e475b', '#bebcb8']\n",
      "images/Bellagio%20outside.jpg\n",
      "['#cedee8', '#67726e']\n",
      "images/Binion%27s.jpg\n",
      "['#9bb9af', '#2f241d']\n",
      "images/Binions%20horseshoe%201986.jpg\n",
      "['#210c07', '#d6b97b']\n",
      "images/Borgata%20ac.jpg\n",
      "['#c0bfbb', '#5f5438']\n",
      "images/C%20France%20-%20panoramio.jpg\n",
      "['#85888e', '#332e2a']\n",
      "images/C%20France%2C%20ca.%201895.jpg\n",
      "['#c6c2d2', '#5b4f31']\n",
      "images/Casa%20Rosso%203.jpg\n",
      "['#b0a4a9', '#413e45']\n",
      "images/Casino%20at%20night%202004.jpg\n",
      "['#1c1009', '#e0c2af']\n",
      "images/Casino%20Barri%C3%A8re.jpg\n",
      "['#99a9bd', '#565144']\n",
      "images/Casino%20Estoril.jpg\n",
      "['#3f3d28', '#a0b0cc']\n",
      "images/Casino%20Figueira.jpg\n",
      "['#84a7c6', '#2f353e']\n",
      "images/Casino%20Kursaal.jpg\n",
      "['#c3cdc0', '#5c7177']\n",
      "images/Casino%20Montbenon.jpg\n",
      "['#c1c0bc', '#656261']\n",
      "images/Casino%20Travemuende.jpg\n",
      "['#4e4b49', '#92a3b5']\n",
      "images/Casino-de-Saint-Denis.JPG\n",
      "['#231c16', '#7c97be']\n",
      "images/CasinoduLiban.jpg\n",
      "['#202022', '#807986']\n",
      "images/CASSINO-ALADIM.JPG\n",
      "['#3e3934', '#8d9cb4']\n",
      "images/Circus%20Circus%20P4220697.jpg\n",
      "['#534d4b', '#89a3b4']\n",
      "images/Crown%20Casino%20complex.jpg\n",
      "['#7491cb', '#515457']\n",
      "images/d%20%28Espa%C3%B1a%29%2005.jpg\n",
      "['#96adbd', '#3e3e3c']\n",
      "images/Deauville-Casino-20120915.jpg\n",
      "['#d6d1cc', '#424c59']\n",
      "images/den%20Kursaal%20Stirnfront.jpg\n",
      "['#839db5', '#383c25']\n",
      "images/did%20et%20Atrium%20Casino.jpg\n",
      "['#5b5a56', '#eaf1f4']\n",
      "images/Dunes%20Hotel.jpg\n",
      "['#ebe7e2', '#4f534c']\n",
      "images/e%20hotel%20The%20Bellagio.jpg\n",
      "['#b5ab9a', '#3c4c54']\n",
      "images/egas%20-%20November%202003.jpg\n",
      "['#c6d3d3', '#5e5c59']\n",
      "images/Eldorado%20Casino.jpg\n",
      "['#6bb0d2', '#50493f']\n",
      "images/ePelton%40theBicycleCasino.jpg\n",
      "['#c7ac95', '#483e35']\n",
      "images/Fa%C3%A7ade%20fleurie.jpg\n",
      "['#3d3829', '#b9baaf']\n",
      "images/Flamingohotelyay.jpg\n",
      "['#b5a9a3', '#323246']\n",
      "images/Fremont%20street%201983.jpg\n",
      "['#3b1f15', '#828c8d']\n",
      "images/gas%20Excalibur%20P4230727.jpg\n",
      "['#4c4f53', '#9bbacf']\n",
      "images/gas%20Tropicana%20P4230726.jpg\n",
      "['#d3d9d7', '#52718d']\n",
      "images/Golden%20Nugget%202008.jpg\n",
      "['#a27957', '#271f1b']\n",
      "images/Golden%20Nugget.jpg\n",
      "['#585d60', '#ccd3db']\n",
      "images/GrandCasinoBasel.JPG\n",
      "['#7993bb', '#69453a']\n",
      "images/Hard%20rock%20las%20vegas.jpg\n",
      "['#b8c2ce', '#3d3931']\n",
      "images/Hooters%20Casino%20HotelLV.jpg\n",
      "['#bcd5e6', '#4b5255']\n",
      "images/HPIM1957.sized.jpg\n",
      "['#6f493e', '#e6e4e1']\n",
      "images/ino%20de%20Charlevoix%2001.jpg\n",
      "['#606d42', '#c2d8e1']\n",
      "images/ino%20mauresque%20arcachon.jpg\n",
      "['#4b4c40', '#d2d3c8']\n",
      "images/Interlaken%20Kursaal%2009.jpg\n",
      "['#3d4d43', '#9fba81']\n",
      "images/is%2C%20Duisburg%2C%202012.JPG\n",
      "['#565441', '#b8c0c8']\n",
      "images/Kurpark-hg-spielbank-005.jpg\n",
      "['#3b3d33', '#b7bab2']\n",
      "images/kwesasne%20Mohawk%20Casino.jpg\n",
      "['#292e25', '#d9e1eb']\n",
      "images/La%20Mediterranee.jpg\n",
      "['#3e5572', '#b0ad9e']\n",
      "images/land%20Hotel%20Las%20Vegas.jpg\n",
      "['#96a3b5', '#3f3b34']\n",
      "images/Las%20vegas%20club-edit1.jpg\n",
      "['#494540', '#a5b5bd']\n",
      "images/Las%20Vegas%2C%20Nevada%29.jpg\n",
      "['#1b1b22', '#838ea6']\n",
      "images/LasVegas-MGMgrand.jpg\n",
      "['#1a2511', '#ac8b71']\n",
      "images/Leamy%20Casino.JPG\n",
      "['#5b5e6c', '#c6cedd']\n",
      "images/London%20Hippodrome%202011.jpg\n",
      "['#58534d', '#f2f9fb']\n",
      "images/M-408116720.jpg\n",
      "['#1c0902', '#e4a46b']\n",
      "images/Marinalarge.jpg\n",
      "['#555449', '#7ca5c3']\n",
      "images/Mirage%20Volcano.jpg\n",
      "['#47291a', '#deb48b']\n",
      "images/Neues%20Kurhaus%20II.jpg\n",
      "['#514b42', '#d5dadc']\n",
      "images/no%20Lakeside%20California.jpg\n",
      "['#cfd8d6', '#4d4e2f']\n",
      "images/O%27Sheas%20Casino.jpg\n",
      "['#57574f', '#bebdb4']\n",
      "images/o%2C%20casin%C3%B2%2C%2001.jpg\n",
      "['#a5bede', '#494542']\n",
      "images/ontainebleau%20Las%20Vegas.JPG\n",
      "['#384a5e', '#c1d6df']\n",
      "images/Orleans2-LV.JPG\n",
      "['#afb6ba', '#434239']\n",
      "images/Palms%20Casino%20Resort.jpg\n",
      "['#352d31', '#5b7b9c']\n",
      "images/Park%20MGM%20exterior.jpg\n",
      "['#2d3437', '#b2c0d1']\n",
      "images/r%20City%20Casino%20Length.png\n",
      "['#acc3d4', '#434b4c']\n",
      "images/Rio%20hotel%20vegas.jpg\n",
      "['#5a463b', '#b3c2d0']\n",
      "images/Rio%20Vegas%20Nima.JPG\n",
      "['#ced8d5', '#3f495e']\n",
      "images/Riverwind%20Casino.jpg\n",
      "['#2a2c32', '#5c648e']\n",
      "images/Royan%20pont%20cas.JPG\n",
      "['#676e67', '#b8baab']\n",
      "images/rto%20Rico%20Roof%20Sunset.jpg\n",
      "['#c5d0df', '#624e3c']\n",
      "images/s%20%28July%2015%202008%29.jpg\n",
      "['#6d664b', '#a7bbd1']\n",
      "images/s%2095%20%2828276862784%29.jpg\n",
      "['#969dc8', '#2f397c']\n",
      "images/s%20Vegas%20October%202012.jpg\n",
      "['#413b3c', '#b4b1ad']\n",
      "images/Samstown-01.jpg\n",
      "['#a2b0e1', '#7f410f']\n",
      "images/San%20Juan%2C%20casino.jpg\n",
      "['#4e4f49', '#a9b6d3']\n",
      "images/Southcoastcasinovegas.jpg\n",
      "['#5b5d56', '#a1bec5']\n",
      "images/Spa%20Casino%20R02.jpg\n",
      "['#a6acb0', '#4c4a42']\n",
      "images/Spielbank%20Hohensyburg.JPG\n",
      "['#d4ddda', '#333a3f']\n",
      "images/sVegas%20-%20ParisLasVegas.jpg\n",
      "['#463d35', '#c0bfc8']\n",
      "images/th%20East%20-%202010-12-12.jpg\n",
      "['#939eac', '#47382d']\n",
      "images/The%20Cal.jpg\n",
      "['#1e2222', '#91897f']\n",
      "images/tian%20Las%20Vegas%2C%20NV.jpg\n",
      "['#50524c', '#f5f9fc']\n",
      "images/tion%2C%20Las%20Vegas%20NV.jpg\n",
      "['#403c3c', '#c0cdd8']\n",
      "images/train%2C%20December%202020.jpg\n",
      "['#383730', '#c4c6c7']\n",
      "images/tre%20par%20Emile%20Ledoux.jpg\n",
      "['#4a502c', '#d8b59d']\n",
      "images/un%2C%20Uncasville%2C%20CT.jpg\n",
      "['#92b8e5', '#40576c']\n",
      "images/urhaus-Wiesbaden-bei-Nacht.jpg\n",
      "['#d3a463', '#473b2c']\n",
      "images/ust%20Hotel%20And%20Casino.jpg\n",
      "['#345472', '#d3d8cb']\n",
      "images/Vegas%20-%20October%202021.jpg\n",
      "['#2b3644', '#91abcc']\n",
      "images/Venetian%20Macau.jpg\n",
      "['#a78d65', '#1a150e']\n",
      "{'%20Casino%2C%20Las%20Vagas.jpg': {'exif': {'CustomRendered': 0, 'ExposureMode': 0, 'WhiteBalance': 0, 'SceneCaptureType': 0, 'Contrast': 0, 'Saturation': 0, 'Sharpness': 0, 'ImageDescription': '                               ', 'Make': 'SONY', 'Model': 'DSC-H3', 'Orientation': 1, 'YCbCrPositioning': 2, 'XResolution': '72.0', 'YResolution': '72.0', 'ResolutionUnit': 2, 'Software': 'Adobe Photoshop CS2 Windows', 'DateTime': '2008:03:16 20:23:43', 'ExifOffset': 380, 'CompressedBitsPerPixel': '3.0', 'DateTimeOriginal': '2008:03:07 22:55:14', 'DateTimeDigitized': '2008:03:07 22:55:14', 'ExposureBiasValue': '0.0', 'MaxApertureValue': '3.625', 'MeteringMode': 5, 'LightSource': 0, 'Flash': 24, 'FocalLength': '6.3', 'ColorSpace': 1, 'ExifImageWidth': 584, 'ExifImageHeight': 778, 'ExposureTime': '0.002', 'FNumber': '8.0', 'ExposureProgram': 2, 'ISOSpeedRatings': 125}, 'color': ['#4a4847', '#92a1b0'], 'tags': []}, '%20Casino%2C%20Las%20Vegas.jpg': {'exif': {'GPSInfo': \"{0: b'\\\\x02\\\\x03\\\\x00\\\\x00'}\", 'ResolutionUnit': 2, 'ExifOffset': 228, 'Make': 'NIKON CORPORATION', 'Model': 'NIKON D3300', 'Software': 'Ver.1.00 ', 'Orientation': 1, 'DateTime': '2018:06:01 12:55:12', 'YCbCrPositioning': 1, 'XResolution': '300.0', 'YResolution': '300.0', 'CompressedBitsPerPixel': '2.0', 'DateTimeOriginal': '2018:06:01 12:55:12', 'DateTimeDigitized': '2018:06:01 12:55:12', 'ExposureBiasValue': '0.0', 'MaxApertureValue': '3.9', 'MeteringMode': 5, 'LightSource': 0, 'Flash': 24, 'FocalLength': '22.0', 'ColorSpace': 1, 'ExifImageWidth': 6000, 'ExifInteroperabilityOffset': 15236, 'SceneCaptureType': 0, 'SubsecTime': '80', 'SubsecTimeOriginal': '80', 'SubsecTimeDigitized': '80', 'ExifImageHeight': 4000, 'SubjectDistanceRange': 0, 'SensingMethod': 2, 'ExposureTime': '0.0025', 'FNumber': '10.0', 'ExposureProgram': 0, 'CustomRendered': 0, 'ISOSpeedRatings': 200, 'ExposureMode': 0, 'SensitivityType': 2, 'WhiteBalance': 0, 'DigitalZoomRatio': '1.0', 'FocalLengthIn35mmFilm': 33, 'GainControl': 0, 'Contrast': 0, 'Saturation': 0, 'Sharpness': 0}, 'color': ['#b2cae5', '#565254'], 'tags': ['nature', 'architecture']}, '%20Montbenon%2C%20Lausanne.jpg': {'exif': {'ResolutionUnit': 2, 'ExifOffset': 242, 'ImageDescription': 'OLYMPUS DIGITAL CAMERA', 'Make': 'OLYMPUS IMAGING CORP.', 'Model': 'E-500', 'Software': 'Adobe Photoshop Lightroom 3.4.1', 'DateTime': '2011:09:29 21:07:19', 'XResolution': '240.0', 'YResolution': '240.0', 'ShutterSpeedValue': '6.321928', 'ApertureValue': '4.643856', 'ExposureBiasValue': '0.0', 'MaxApertureValue': '3.61328125', 'CustomRendered': 0, 'MeteringMode': 5, 'LightSource': 9, 'Flash': 24, 'FocalLength': '23.0', 'ExposureMode': 0, 'WhiteBalance': 1, 'DigitalZoomRatio': '1.0', 'SceneCaptureType': 1, 'GainControl': 0, 'Contrast': 2, 'Saturation': 2, 'Sharpness': 2, 'ExposureTime': '0.0125', 'FNumber': '5.0', 'ExposureProgram': 5, 'ISOSpeedRatings': 100}, 'color': ['#939da4', '#1e1b19'], 'tags': []}, '%20Neuenahr%20Kurhaus%2030.JPG': {'exif': {'ResolutionUnit': 2, 'ExifOffset': 136, 'Make': 'Canon', 'Model': 'Canon EOS 1000D', 'Software': 'Digital Photo Professional', 'Orientation': 1, 'DateTime': '2011:09:28 15:37:34', 'YCbCrPositioning': 1, 'XResolution': '350.0', 'YResolution': '350.0', 'ShutterSpeedValue': '9.0', 'DateTimeOriginal': '2011:09:28 15:37:34', 'DateTimeDigitized': '2011:09:28 15:37:34', 'ApertureValue': '6.0', 'ExposureBiasValue': '-0.3333333333333333', 'Flash': 16, 'FocalLength': '22.0', 'ColorSpace': 1, 'ExifImageWidth': 3572, 'SceneCaptureType': 0, 'FocalPlaneXResolution': '4438.356164383562', 'FocalPlaneYResolution': '4445.969125214408', 'SubsecTime': '83', 'SubsecTimeOriginal': '83', 'SubsecTimeDigitized': '83', 'ExifImageHeight': 2469, 'FocalPlaneResolutionUnit': 2, 'ExposureTime': '0.002', 'FNumber': '8.0', 'ExposureProgram': 3, 'CustomRendered': 0, 'ISOSpeedRatings': 100, 'ExposureMode': 0, 'WhiteBalance': 0}, 'color': ['#beb8b0', '#313b57'], 'tags': []}, '%20Rico%20%28IMG%202934%29.jpg': {'exif': {}, 'color': ['#6f7465', '#daded8'], 'tags': ['architecture']}, '%20Savoie%20-Aix-les-Bains.JPG': {'exif': {'ResolutionUnit': 2, 'ExifOffset': 2294, 'Make': 'EASTMAN KODAK COMPANY', 'Model': 'KODAK EASYSHARE ZD710 ZOOM DIGITAL CAMERA', 'Orientation': 1, 'DateTime': '2012:09:22 18:05:50', 'YCbCrPositioning': 1, 'XResolution': '480.0', 'YResolution': '480.0', 'ShutterSpeedValue': '9.333333333333334', 'DateTimeOriginal': '2012:09:22 15:02:02', 'DateTimeDigitized': '2012:09:22 15:02:02', 'ApertureValue': '4.0', 'ExposureBiasValue': '0.0', 'MaxApertureValue': '3.0', 'MeteringMode': 5, 'LightSource': 0, 'Flash': 16, 'FocalLength': '6.3', 'ColorSpace': 1, 'ExifImageWidth': 2972, 'ExifInteroperabilityOffset': 14322, 'SceneCaptureType': 0, 'ExifImageHeight': 2164, 'Contrast': 0, 'Saturation': 0, 'Sharpness': 0, 'SubjectDistanceRange': 0, 'ExposureIndex': '80.0', 'SensingMethod': 2, 'ExposureTime': '0.0015625', 'FNumber': '4.0', 'ImageUniqueID': 'AA9C5182F97C4B75BE1C934B789DB227', 'ExposureProgram': 0, 'CustomRendered': 0, 'ISOSpeedRatings': 80, 'ExposureMode': 0, 'WhiteBalance': 0, 'DigitalZoomRatio': '0.0', 'FocalLengthIn35mmFilm': 38, 'GainControl': 1}, 'color': ['#a1bed1', '#455548'], 'tags': []}, '%20Vegas%20December%202013.jpg': {'exif': {'ResolutionUnit': 2, 'ExifOffset': 220, 'Make': 'NIKON CORPORATION', 'Model': 'NIKON D7000', 'Software': 'Adobe Photoshop Camera Raw 6.7.1 (Windows)', 'DateTime': '2015:05:24 22:18:35', 'XResolution': '300.0', 'YResolution': '300.0', 'ShutterSpeedValue': '-1.321928', 'ApertureValue': '6.0', 'DateTimeOriginal': '2013:12:25 16:44:36', 'DateTimeDigitized': '2013:12:25 16:44:36', 'ExposureBiasValue': '-0.6666666666666666', 'MaxApertureValue': '3.0', 'MeteringMode': 5, 'LightSource': 0, 'Flash': 16, 'FocalLength': '16.0', 'WhiteBalance': 0, 'DigitalZoomRatio': '1.0', 'FocalLengthIn35mmFilm': 24, 'SceneCaptureType': 0, 'GainControl': 0, 'SubsecTimeOriginal': '90', 'SubsecTimeDigitized': '90', 'Sharpness': 0, 'SubjectDistanceRange': 0, 'SensingMethod': 2, 'ExposureTime': '2.5', 'FNumber': '8.0', 'ExposureProgram': 3, 'CustomRendered': 0, 'ISOSpeedRatings': 100, 'ExposureMode': 0, 'SensitivityType': 2, 'BodySerialNumber': '3392989', 'LensSpecification': '(11.0, 16.0, 2.8, 2.8)', 'LensModel': '11.0-16.0 mm f/2.8', 'Contrast': 0, 'Saturation': 0}, 'color': ['#5f5448', '#b9bec2'], 'tags': ['modern']}, '%20Vegas%20Wynn%20P4220706.jpg': {'exif': {'DateTimeOriginal': '2018:04:22 22:03:21', 'Rating': 1, 'ResolutionUnit': 2, 'RatingPercent': 20, 'ExifOffset': 1018, 'ImageDescription': 'OLYMPUS DIGITAL CAMERA         ', 'Make': 'OLYMPUS IMAGING CORP.  ', 'Model': 'SZ-20                  ', 'Software': 'darktable 2.0', 'Orientation': 1, 'DateTime': '2018:05:27 17:31:08', 'YCbCrPositioning': 2, 'XResolution': 300, 'YResolution': 300, 'CompressedBitsPerPixel': '2.0', 'DateTimeDigitized': '2018:04:22 22:03:21', 'ExposureBiasValue': '0.0', 'MaxApertureValue': '3.26', 'MeteringMode': 5, 'LightSource': 0, 'Flash': 16, 'FocalLength': '4.2', 'ColorSpace': 1, 'ExifImageWidth': 3996, 'ExifInteroperabilityOffset': 2658, 'SceneCaptureType': 1, 'ExifImageHeight': 2990, 'Contrast': 0, 'Saturation': 0, 'Sharpness': 0, 'ExposureTime': '0.001', 'FNumber': '3.0', 'ExposureProgram': 5, 'CustomRendered': 0, 'ISOSpeedRatings': 80, 'ExposureMode': 0, 'WhiteBalance': 0, 'DigitalZoomRatio': '0.0', 'FocalLengthIn35mmFilm': 24, 'GainControl': 0}, 'color': ['#4c5248', '#b0c4d6'], 'tags': ['nature', 'modern']}, '%C3%A1rkert%20kaszin%C3%B3.jpg': {'exif': {'ResolutionUnit': 2, 'ExifOffset': 240, 'ImageDescription': '          ', 'Make': 'NIKON', 'Model': 'COOLPIX P530', 'Software': 'ACD Systems Digital Imaging', 'Orientation': 1, 'DateTime': '2017:02:02 09:29:07', 'YCbCrPositioning': 1, 'XResolution': '300.0', 'YResolution': '300.0', 'CompressedBitsPerPixel': '2.0', 'DateTimeOriginal': '2017:01:28 12:01:44', 'DateTimeDigitized': '2017:01:28 12:01:44', 'ExposureBiasValue': '0.0', 'MaxApertureValue': '3.2', 'MeteringMode': 5, 'LightSource': 0, 'Flash': 16, 'FocalLength': '25.9', 'ColorSpace': 1, 'ExifImageWidth': 4608, 'ExifInteroperabilityOffset': 3710, 'SceneCaptureType': 0, 'SubsecTime': '546', 'ExifImageHeight': 3456, 'Saturation': 2, 'Sharpness': 2, 'SubjectDistanceRange': 0, 'ExposureTime': '0.008', 'FNumber': '4.4', 'ExposureProgram': 2, 'CustomRendered': 0, 'ISOSpeedRatings': 100, 'ExposureMode': 0, 'WhiteBalance': 0, 'DigitalZoomRatio': '0.0', 'FocalLengthIn35mmFilm': 145, 'GainControl': 0, 'Contrast': 2}, 'color': ['#a9afb1', '#423f3e'], 'tags': []}, '-%20en%20Cultuurpaleis%201.jpg': {'exif': {'CustomRendered': 0, 'ExposureMode': 0, 'WhiteBalance': 0, 'SceneCaptureType': 0, 'ResolutionUnit': 2, 'Contrast': 0, 'ExifOffset': 328, 'Saturation': 0, 'Sharpness': 0, 'ImageDescription': '                               ', 'Make': 'SONY', 'Model': 'DSC-S60', 'DateTime': '2007:09:30 15:59:46', 'YCbCrPositioning': 2, 'XResolution': '72.0', 'YResolution': '72.0', 'CompressedBitsPerPixel': '8.0', 'DateTimeOriginal': '2007:09:30 15:59:46', 'DateTimeDigitized': '2007:09:30 15:59:46', 'ExposureBiasValue': '0.0', 'MaxApertureValue': '3.0', 'MeteringMode': 5, 'LightSource': 0, 'Flash': 16, 'FocalLength': '6.0', 'ColorSpace': 1, 'ExifImageWidth': 1728, 'ExifImageHeight': 2304, 'ExposureTime': '0.002', 'FNumber': '5.6', 'ExposureProgram': 2, 'ISOSpeedRatings': 80}, 'color': ['#869aba', '#3f3e41'], 'tags': []}, '-%20North%20-%202011-06-04.jpg': {'exif': {'ResolutionUnit': 2, 'ExifOffset': 196, 'Make': 'Canon', 'Model': 'Canon EOS DIGITAL REBEL', 'Orientation': 1, 'DateTime': '2011:06:04 07:44:20', 'YCbCrPositioning': 1, 'XResolution': '180.0', 'YResolution': '180.0', 'CompressedBitsPerPixel': '3.0', 'DateTimeOriginal': '2011:06:04 07:44:20', 'DateTimeDigitized': '2011:06:04 07:44:20', 'ShutterSpeedValue': '7.321929931640625', 'ApertureValue': '6.33984375', 'ExposureBiasValue': '0.0', 'MaxApertureValue': '4.0', 'MeteringMode': 5, 'Flash': 24, 'FocalLength': '30.0', 'ColorSpace': 1, 'ExifImageWidth': 3072, 'FocalPlaneXResolution': '3443.946188340807', 'ExifImageHeight': 2048, 'FocalPlaneYResolution': '3442.016806722689', 'FocalPlaneResolutionUnit': 2, 'SensingMethod': 2, 'ExposureTime': '0.00625', 'ExifInteroperabilityOffset': 2366, 'FNumber': '9.0', 'CustomRendered': 0, 'ISOSpeedRatings': 100, 'ExposureMode': 0, 'WhiteBalance': 0, 'SceneCaptureType': 0}, 'color': ['#c9d1e2', '#505551'], 'tags': []}, '.%20Lema%C3%AEtre%20Jobard.jpg': {'exif': {'ExifOffset': 2130, 'Artist': 'Philip', 'SubsecTimeOriginal': '34', 'SubsecTimeDigitized': '34', 'DateTimeOriginal': '2019:06:27 21:35:30', 'DateTimeDigitized': '2019:06:27 21:35:30'}, 'color': ['#6e634a', '#c0b6a1'], 'tags': ['nature', 'old']}, '0-%20Camuy%20Puerto%20Rico.jpg': {'exif': {'ResolutionUnit': 2, 'ExifOffset': 642, 'Make': 'Panasonic', 'Model': 'DMC-FZ47', 'Software': 'Ver.1.0  ', 'DateTime': '2017:04:16 17:32:20', 'YCbCrPositioning': 2, 'YResolution': '180.0', 'XResolution': '180.0', 'Artist': 'Picasa', 'CompressedBitsPerPixel': '4.0', 'DateTimeOriginal': '2017:04:10 09:09:43', 'DateTimeDigitized': '2017:04:10 09:09:43', 'ExposureBiasValue': '0.0', 'MaxApertureValue': '3.171875', 'MeteringMode': 5, 'LightSource': 0, 'Flash': 16, 'FocalLength': '5.7', 'ColorSpace': 1, 'ExifImageWidth': 3540, 'ExifInteroperabilityOffset': 2594, 'FocalLengthIn35mmFilm': 32, 'SceneCaptureType': 0, 'ExifImageHeight': 2896, 'Contrast': 0, 'Saturation': 0, 'Sharpness': 0, 'SensingMethod': 2, 'ExposureTime': '0.003125', 'FNumber': '5.6', 'ImageUniqueID': '9b6498ca50339a389c2fd0c3ced9e687', 'ExposureProgram': 8, 'CustomRendered': 1, 'ISOSpeedRatings': 100, 'ExposureMode': 0, 'SensitivityType': 1, 'WhiteBalance': 0, 'DigitalZoomRatio': '0.0', 'GainControl': 0}, 'color': ['#5d544d', '#93b6ca'], 'tags': ['architecture']}, '0-%20Vivid%20Sydney%202015.jpg': {'exif': {'GPSInfo': \"{0: b'\\\\x02\\\\x02\\\\x00\\\\x00', 1: 'S', 2: (33.0, 52.0548, 0.0), 3: 'E', 4: (151.0, 11.7652, 0.0), 6: 6.0198}\", 'ResolutionUnit': 2, 'ExifOffset': 276, 'Make': 'Canon', 'Model': 'Canon EOS 7D', 'Software': 'Adobe Photoshop Lightroom 6.0 (Macintosh)', 'Orientation': 1, 'DateTime': '2015:06:02 12:50:54', 'YResolution': '240.0', 'Copyright': 'Maksym Kozlenko', 'XResolution': '240.0', 'Artist': 'Maksym Kozlenko', 'ShutterSpeedValue': '-0.678072', 'ApertureValue': '2.970854', 'DateTimeOriginal': '2015:05:25 18:47:13', 'DateTimeDigitized': '2015:05:25 18:47:13', 'ExposureBiasValue': '-1.0', 'MaxApertureValue': '3.0', 'MeteringMode': 5, 'ColorSpace': 1, 'Flash': 16, 'FocalLength': '17.0', 'ExposureMode': 0, 'WhiteBalance': 0, 'SceneCaptureType': 0, 'FocalPlaneXResolution': '5715.545755237045', 'FocalPlaneYResolution': '5808.403361344538', 'FocalPlaneResolutionUnit': 2, 'SubsecTimeOriginal': '11', 'SubsecTimeDigitized': '11', 'ExposureTime': '1.6', 'FNumber': '2.8', 'ExposureProgram': 2, 'CustomRendered': 0, 'ISOSpeedRatings': 200, 'SensitivityType': 2, 'BodySerialNumber': '0261710792', 'RecommendedExposureIndex': 200, 'LensSpecification': '(17.0, 50.0, nan, nan)', 'LensModel': '17-50mm'}, 'color': ['#232636', '#84747e'], 'tags': ['nature', 'modern', 'classy']}, '02017%2003%20%28cropped%29.jpg': {'exif': {'GPSInfo': \"{0: b'\\\\x02\\\\x03\\\\x00\\\\x00', 1: 'S', 2: (31.0, 57.6295, 0.0), 3: 'E', 4: (115.0, 53.977, 0.0), 5: b'\\\\x01', 6: 11.0, 10: '3', 18: 'WGS-84'}\", 'ResolutionUnit': 2, 'ExifOffset': 228, 'Make': 'Canon', 'Model': 'Canon EOS 700D', 'Software': 'Adobe Photoshop Lightroom Classic 7.1 (Windows)', 'DateTime': '2018:01:07 18:14:59', 'XResolution': '72.0', 'YResolution': '72.0', 'ShutterSpeedValue': '7.965784', 'ApertureValue': '6.643856', 'DateTimeOriginal': '2017:12:15 09:56:41', 'DateTimeDigitized': '2017:12:15 09:56:41', 'ExposureBiasValue': '0.0', 'MaxApertureValue': '4.125', 'MeteringMode': 5, 'ColorSpace': 1, 'Flash': 16, 'FocalLength': '31.0', 'ExposureMode': 0, 'WhiteBalance': 0, 'SceneCaptureType': 0, 'FocalPlaneXResolution': '5798.657718120805', 'FocalPlaneYResolution': '5788.94472361809', 'FocalPlaneResolutionUnit': 2, 'SubsecTimeOriginal': '00', 'SubsecTimeDigitized': '00', 'ExposureTime': '0.004', 'FNumber': '10.0', 'ExposureProgram': 0, 'CustomRendered': 0, 'ISOSpeedRatings': 100, 'SensitivityType': 2, 'BodySerialNumber': '125032002867', 'RecommendedExposureIndex': 100, 'LensSpecification': '(18.0, 55.0, nan, nan)', 'LensModel': 'EF-S18-55mm f/3.5-5.6 IS STM', 'LensSerialNumber': '0000139ee2'}, 'color': ['#444342', '#97acc5'], 'tags': ['nature', 'modern']}, '0Charlie%27s%20Decatur%201.jpg': {'exif': {'GPSInfo': \"{0: b'\\\\x02\\\\x02\\\\x00\\\\x00', 1: 'N', 2: (36.0, 9.0, 49.9434), 3: 'W', 4: (115.0, 12.0, 23.6881), 5: b'\\\\x00', 6: 640.0, 7: (16.0, 59.0, 41.0), 18: 'WGS-84', 27: 'ASCII\\\\x00\\\\x00\\\\x00gps', 29: '2017:12:31'}\", 'ResolutionUnit': 2, 'ExifOffset': 238, 'Make': 'Motorola', 'Model': 'Moto G (4)', 'Software': 'athene-user 7.0 NPJ25.93-14.7 7 release-keys', 'DateTime': '2017:12:31 08:59:41', 'YCbCrPositioning': 1, 'XResolution': '72.0', 'YResolution': '72.0', 'ShutterSpeedValue': '9.14', 'DateTimeOriginal': '2017:12:31 08:59:41', 'DateTimeDigitized': '2017:12:31 08:59:41', 'ApertureValue': '2.0', 'BrightnessValue': '-1.0', 'ExposureBiasValue': '0.0', 'MaxApertureValue': '2.0', 'MeteringMode': 1, 'Flash': 16, 'FocalLength': '3.64', 'ColorSpace': 1, 'ExifImageWidth': 3120, 'ExifInteroperabilityOffset': 3184, 'SceneCaptureType': 0, 'ExifImageHeight': 2092, 'Contrast': 0, 'Saturation': 0, 'Sharpness': 1, 'ExposureTime': '0.0017667844522968198', 'FNumber': '2.0', 'ExposureProgram': 2, 'CustomRendered': 0, 'ISOSpeedRatings': 50, 'ExposureMode': 0, 'WhiteBalance': 0, 'DigitalZoomRatio': '1.0'}, 'color': ['#ecedec', '#4a4137'], 'tags': []}, '2%20di%20Campione%2C%20day.jpg': {'exif': {'ResolutionUnit': 2, 'ExifOffset': 230, 'Make': 'NIKON CORPORATION', 'Model': 'NIKON D700', 'Software': 'Ver.1.02 ', 'DateTime': '2011:04:28 12:10:23', 'YResolution': '72.0', 'Copyright': '@carlo pozzoni-como', 'XResolution': '72.0', 'Artist': 'POZ', 'ShutterSpeedValue': '7.643856', 'ApertureValue': '7.61471', 'DateTimeOriginal': '2011:04:20 16:42:35', 'DateTimeDigitized': '2011:04:20 16:42:35', 'ExposureBiasValue': '0.0', 'MaxApertureValue': '3.0', 'SubjectDistance': '4294967295.0', 'MeteringMode': 5, 'LightSource': 0, 'Flash': 0, 'FocalLength': '95.0', 'WhiteBalance': 0, 'DigitalZoomRatio': '1.0', 'FocalLengthIn35mmFilm': 95, 'SceneCaptureType': 0, 'GainControl': 0, 'SubsecTimeOriginal': '00', 'SubsecTimeDigitized': '00', 'Sharpness': 0, 'SubjectDistanceRange': 0, 'SensingMethod': 2, 'ExposureTime': '0.005', 'FNumber': '14.0', 'ExposureProgram': 1, 'CustomRendered': 0, 'ISOSpeedRatings': 320, 'ExposureMode': 1, 'SensitivityType': 0, 'BodySerialNumber': '2328341', 'LensSpecification': '(70.0, 200.0, 2.8, 2.8)', 'LensModel': '70.0-200.0 mm f/2.8', 'Contrast': 0, 'Saturation': 0}, 'color': ['#414531', '#dacab6'], 'tags': ['modern', 'architecture']}, '2015%20img38%20Spa%20house.jpg': {'exif': {'ImageWidth': 5472, 'ImageLength': 3648, 'BitsPerSample': '(8, 8, 8)', 'PhotometricInterpretation': 2, 'ResolutionUnit': 2, 'ExifOffset': 336, 'Make': 'Canon', 'Model': 'Canon EOS 7D Mark II', 'Software': 'Adobe Photoshop CC (Windows)', 'Orientation': 1, 'DateTime': '2015:10:12 20:34:13', 'YResolution': '300.0', 'SamplesPerPixel': 3, 'Copyright': 'time of exposure is UTC', 'XResolution': '300.0', 'Artist': 'A.Savin', 'ShutterSpeedValue': '7.643856', 'ApertureValue': '6.918863', 'DateTimeOriginal': '2015:10:03 09:45:07', 'DateTimeDigitized': '2015:10:03 09:45:07', 'ExposureBiasValue': '0.0', 'MaxApertureValue': '4.375', 'MeteringMode': 5, 'ColorSpace': 1, 'Flash': 16, 'FocalLength': '8.0', 'ExifImageWidth': 4850, 'ExifImageHeight': 2728, 'SceneCaptureType': 0, 'FocalPlaneXResolution': '6086.7630700778645', 'FocalPlaneYResolution': '6090.150250417362', 'FocalPlaneResolutionUnit': 2, 'SubsecTimeOriginal': '57', 'SubsecTimeDigitized': '57', 'ExposureTime': '0.005', 'FNumber': '11.0', 'ExposureProgram': 2, 'CustomRendered': 0, 'ISOSpeedRatings': 100, 'ExposureMode': 0, 'SensitivityType': 2, 'WhiteBalance': 0, 'RecommendedExposureIndex': 100, 'BodySerialNumber': '033021000431', 'LensSpecification': '(8.0, 16.0, nan, nan)', 'LensModel': '8-16mm', 'LensSerialNumber': '0000000000'}, 'color': ['#6b92bc', '#505244'], 'tags': ['nature', 'architecture']}, '20expansion%20april%202008.jpg': {'exif': {}, 'color': ['#58686f', '#dfe9ef'], 'tags': ['modern']}, '20Grand%20River%20Detroit1.jpg': {'exif': {'ResolutionUnit': 2, 'ExifOffset': 182, 'Make': 'Hewlett-Packard', 'Model': 'Photosmart M425', 'Software': 'Picasa 3.0', 'Orientation': 0, 'YCbCrPositioning': 2, 'XResolution': '230.0', 'YResolution': '230.0', 'CompressedBitsPerPixel': '3.2', 'DateTimeOriginal': '2008:11:07 17:54:43', 'DateTimeDigitized': '2008:11:07 17:54:43', 'ShutterSpeedValue': '10.92', 'ApertureValue': '4.46', 'BrightnessValue': '10.222', 'ExposureBiasValue': '0.0', 'MaxApertureValue': '2.97', 'MeteringMode': 2, 'LightSource': 20, 'Flash': 24, 'FocalLength': '6.0', 'ColorSpace': 65535, 'ExifImageWidth': 1744, 'ExifImageHeight': 1035, 'Contrast': 0, 'Saturation': 0, 'Sharpness': 0, 'SubjectDistanceRange': 3, 'ExposureIndex': '100.0', 'SensingMethod': 2, 'ExposureTime': '0.000516', 'ExifInteroperabilityOffset': 2174, 'FNumber': '4.7', 'ImageUniqueID': '1f36816822642475a287e33232ee4d64', 'ExposureProgram': 2, 'CustomRendered': 0, 'ISOSpeedRatings': 100, 'ExposureMode': 0, 'WhiteBalance': 0, 'DigitalZoomRatio': '0.0', 'FocalLengthIn35mmFilm': 36, 'SceneCaptureType': 0, 'GainControl': 0}, 'color': ['#cadcdf', '#3e4d51'], 'tags': ['modern']}, '20in%20Nassau%2C%20Bahamas.jpg': {'exif': {'ResolutionUnit': 2, 'ExifOffset': 192, 'Make': 'Apple', 'Model': 'iPhone 6', 'Software': '9.3.2', 'Orientation': 1, 'DateTime': '2016:06:24 14:28:54', 'YCbCrPositioning': 1, 'XResolution': '72.0', 'YResolution': '72.0', 'ShutterSpeedValue': '9.316858496953284', 'DateTimeOriginal': '2016:06:24 14:28:54', 'DateTimeDigitized': '2016:06:24 14:28:54', 'ApertureValue': '2.2750071245369052', 'BrightnessValue': '8.741319444444445', 'ExposureBiasValue': '0.0', 'MeteringMode': 5, 'Flash': 16, 'FocalLength': '4.15', 'ColorSpace': 1, 'ExifImageWidth': 3264, 'FocalLengthIn35mmFilm': 29, 'SceneCaptureType': 0, 'ExifImageHeight': 2448, 'SubsecTimeOriginal': '902', 'SubsecTimeDigitized': '902', 'SubjectLocation': '(1631, 1223, 1795, 1077)', 'SensingMethod': 2, 'ExposureTime': '0.001567398119122257', 'FNumber': '2.2', 'ExposureProgram': 2, 'ISOSpeedRatings': 32, 'ExposureMode': 0, 'WhiteBalance': 0, 'LensSpecification': '(4.15, 4.15, 2.2, 2.2)', 'LensMake': 'Apple', 'LensModel': 'iPhone 6 back camera 4.15mm f/2.2'}, 'color': ['#454c46', '#7c9bb5'], 'tags': ['nature', 'architecture']}, '20Palais%20de%20l%27Europe.jpg': {'exif': {}, 'color': ['#8da8d6', '#57524d'], 'tags': []}, '4%20queens.JPG': {'exif': {'ResolutionUnit': 2, 'ExifOffset': 506, 'Make': 'EASTMAN KODAK COMPANY', 'Model': 'KODAK DX7440 ZOOM DIGITAL CAMERA', 'Orientation': 1, 'YCbCrPositioning': 1, 'XResolution': '230.0', 'YResolution': '230.0', 'ShutterSpeedValue': '6.0', 'DateTimeOriginal': '2006:06:21 20:16:56', 'DateTimeDigitized': '2006:06:21 20:16:56', 'ApertureValue': '3.6', 'ExposureBiasValue': '0.0', 'MaxApertureValue': '3.6', 'MeteringMode': 5, 'LightSource': 0, 'Flash': 25, 'FocalLength': '8.2', 'ColorSpace': 1, 'ExifImageWidth': 2304, 'ExifInteroperabilityOffset': 2748, 'SceneCaptureType': 0, 'ExifImageHeight': 1728, 'Contrast': 0, 'Saturation': 0, 'Sharpness': 0, 'SubjectDistanceRange': 0, 'ExposureIndex': '140.0', 'SensingMethod': 2, 'ExposureTime': '0.016666666666666666', 'FNumber': '3.4', 'ExposureProgram': 2, 'CustomRendered': 0, 'ISOSpeedRatings': 140, 'ExposureMode': 0, 'WhiteBalance': 0, 'DigitalZoomRatio': '0.0', 'FocalLengthIn35mmFilm': 49, 'GainControl': 1}, 'color': ['#341a13', '#d9b97d'], 'tags': ['classy']}, '7Entr%C3%A9e%20du%20Casino.jpg': {'exif': {}, 'color': ['#6f6865', '#d5c2b2'], 'tags': []}, 'Aachen%20Casino.JPG': {'exif': {'GPSInfo': \"{0: b'\\\\x02\\\\x03\\\\x00\\\\x00'}\", 'ResolutionUnit': 2, 'ExifOffset': 348, 'Make': 'NIKON CORPORATION', 'Model': 'NIKON D7000', 'Software': 'Ver.1.03 ', 'Orientation': 1, 'DateTime': '2014:01:19 20:39:47', 'YCbCrPositioning': 2, 'YResolution': '300.0', 'Copyright': '                                                      ', 'XResolution': '300.0', 'Artist': '                                    ', 'CompressedBitsPerPixel': '2.0', 'DateTimeOriginal': '2014:01:19 20:39:47', 'DateTimeDigitized': '2014:01:19 20:39:47', 'ExposureBiasValue': '0.0', 'MaxApertureValue': '3.6', 'MeteringMode': 5, 'LightSource': 0, 'Flash': 16, 'FocalLength': '18.0', 'ColorSpace': 1, 'ExifImageWidth': 4928, 'ExifInteroperabilityOffset': 36942, 'SceneCaptureType': 0, 'SubsecTime': '00', 'SubsecTimeOriginal': '00', 'SubsecTimeDigitized': '00', 'ExifImageHeight': 3264, 'SubjectDistanceRange': 0, 'SensingMethod': 2, 'ExposureTime': '0.125', 'FNumber': '3.5', 'ExposureProgram': 1, 'CustomRendered': 0, 'ISOSpeedRatings': 800, 'ExposureMode': 1, 'SensitivityType': 2, 'WhiteBalance': 0, 'DigitalZoomRatio': '1.0', 'FocalLengthIn35mmFilm': 27, 'GainControl': 1, 'Contrast': 0, 'Saturation': 0, 'Sharpness': 0}, 'color': ['#170e04', '#bf894b'], 'tags': ['classy', 'architecture']}, 'Ada%20Gaming%20Center.jpg': {'exif': {}, 'color': ['#ccc7be', '#675a38'], 'tags': []}, 'aden%20baden%202016%200010.jpg': {'exif': {'GPSInfo': \"{0: b'\\\\x02\\\\x02\\\\x00\\\\x00', 1: 'N', 2: (48.0, 45.0, 37.008), 3: 'E', 4: (8.0, 14.0, 15.169), 5: b'\\\\x00', 6: 175.0, 7: (11.0, 5.0, 46.0), 9: 'A', 18: 'WGS-84', 29: '2016:04:21'}\", 'ResolutionUnit': 2, 'ExifOffset': 218, 'Make': 'Sony', 'Model': 'D5503', 'Software': '14.6.A.1.236_6_f1000010', 'Orientation': 1, 'DateTime': '2016:04:21 13:06:01', 'YCbCrPositioning': 1, 'XResolution': '72.0', 'YResolution': '72.0', 'ShutterSpeedValue': '10.64', 'DateTimeOriginal': '2016:04:21 13:06:01', 'DateTimeDigitized': '2016:04:21 13:06:01', 'ExposureBiasValue': '0.0', 'MeteringMode': 5, 'LightSource': 0, 'Flash': 24, 'FocalLength': '4.9', 'ColorSpace': 1, 'ExifImageWidth': 3840, 'ExifInteroperabilityOffset': 11904, 'SceneCaptureType': 0, 'SubjectDistanceRange': 0, 'SubsecTime': '375024', 'SubsecTimeOriginal': '375024', 'SubsecTimeDigitized': '375024', 'ExifImageHeight': 2160, 'ExposureTime': '0.000625', 'FNumber': '2.0', 'CustomRendered': 0, 'ISOSpeedRatings': 50, 'ExposureMode': 0, 'WhiteBalance': 0, 'DigitalZoomRatio': '1.0'}, 'color': ['#9eb2ca', '#585a44'], 'tags': ['architecture']}, 'aideRailwayStationAdelaide.jpg': {'exif': {'ResolutionUnit': 2, 'ExifOffset': 314, 'ImageDescription': 'OLYMPUS DIGITAL CAMERA         ', 'Make': 'OLYMPUS IMAGING CORP.  ', 'Model': 'FE170,X760', 'Software': 'Microsoft Windows Live Photo Gallery12.0.1308.1023', 'Orientation': 1, 'DateTime': '2007:12:19 19:04:50', 'YCbCrPositioning': 2, 'XResolution': '314.0', 'YResolution': '314.0', 'DateTimeOriginal': '2007:10:12 20:13:41', 'DateTimeDigitized': '2007:10:12 20:13:41', 'ExposureBiasValue': '0.0', 'MaxApertureValue': '3.26', 'MeteringMode': 2, 'LightSource': 0, 'Flash': 16, 'FocalLength': '6.3', 'ColorSpace': 1, 'ExifImageWidth': 2112, 'ExifInteroperabilityOffset': 3310, 'SceneCaptureType': 0, 'ExifImageHeight': 2816, 'Contrast': 0, 'Saturation': 0, 'Sharpness': 0, 'ExposureTime': '0.01', 'FNumber': '3.1', 'ExposureProgram': 2, 'CustomRendered': 0, 'ISOSpeedRatings': 64, 'ExposureMode': 0, 'WhiteBalance': 0, 'DigitalZoomRatio': '1.0', 'GainControl': 0}, 'color': ['#5b5950', '#dfe5e7'], 'tags': []}, 'Aliante%20Casino%202.jpg': {'exif': {'ResolutionUnit': 2, 'ExifOffset': 228, 'ImageDescription': '                               ', 'Make': 'SONY', 'Model': 'DSC-P10', 'Orientation': 1, 'DateTime': '2018:10:20 14:00:38', 'YCbCrPositioning': 2, 'XResolution': '72.0', 'YResolution': '72.0', 'CompressedBitsPerPixel': '4.0', 'DateTimeOriginal': '2018:10:20 14:00:38', 'DateTimeDigitized': '2018:10:20 14:00:38', 'ExposureBiasValue': '0.0', 'MaxApertureValue': '3.0', 'MeteringMode': 5, 'LightSource': 0, 'Flash': 0, 'FocalLength': '7.9', 'ColorSpace': 1, 'ExifImageWidth': 2592, 'ExifInteroperabilityOffset': 2162, 'SceneCaptureType': 0, 'ExifImageHeight': 1944, 'ExposureTime': '0.01', 'FNumber': '5.6', 'ExposureProgram': 2, 'CustomRendered': 0, 'ISOSpeedRatings': 100, 'ExposureMode': 0, 'WhiteBalance': 0}, 'color': ['#4a5953', '#87a8bf'], 'tags': ['nature']}, 'Annecy%2020120101%20-%2019.JPG': {'exif': {'ResolutionUnit': 2, 'ExifOffset': 264, 'Make': 'Canon', 'Model': 'Canon EOS 550D\\x00\\x00\\x00\\x00\\x00\\x00\\x00\\x00\\x00\\x00\\x00\\x00\\x00\\x00\\x00\\x00\\x00', 'Software': 'Digital Photo Professional\\x00\\x00\\x00\\x00\\x00', 'Orientation': 1, 'DateTime': '2012:01:01 14:23:35', 'YCbCrPositioning': 1, 'YResolution': '350.0', 'Copyright': '\\x00', 'XResolution': '350.0', 'Artist': '\\x00', 'ShutterSpeedValue': '8.625', 'DateTimeOriginal': '2012:01:01 14:23:35', 'DateTimeDigitized': '2012:01:01 14:23:35', 'ApertureValue': '6.0', 'ExposureBiasValue': '0.0', 'Flash': 16, 'FocalLength': '24.0', 'ColorSpace': 1, 'ExifImageWidth': 5184, 'ExifInteroperabilityOffset': 5250, 'FocalPlaneXResolution': '5728.176795580111', 'FocalPlaneYResolution': '5808.403361344538', 'ExifImageHeight': 3456, 'FocalPlaneResolutionUnit': 2, 'ExposureTime': '0.0025', 'FNumber': '8.0', 'CustomRendered': 0, 'ISOSpeedRatings': 100, 'ExposureMode': 0, 'WhiteBalance': 0, 'SceneCaptureType': 0}, 'color': ['#b4b7c1', '#3c3e2b'], 'tags': []}, 'ano.%20Figueira%20da%20Foz.jpg': {'exif': {'ResolutionUnit': 2, 'ExifOffset': 634, 'Make': 'Panasonic', 'Model': 'DMC-TZ8', 'Software': 'Ver.1.0  ', 'Orientation': 1, 'DateTime': '2011:09:10 10:13:15', 'YCbCrPositioning': 2, 'XResolution': '180.0', 'YResolution': '180.0', 'CompressedBitsPerPixel': '4.0', 'DateTimeOriginal': '2011:09:10 10:13:15', 'DateTimeDigitized': '2011:09:10 10:13:15', 'ExposureBiasValue': '0.0', 'MaxApertureValue': '3.44', 'MeteringMode': 5, 'LightSource': 0, 'Flash': 16, 'FocalLength': '4.7', 'ColorSpace': 1, 'ExifImageWidth': 4000, 'ExifInteroperabilityOffset': 10652, 'FocalLengthIn35mmFilm': 29, 'SceneCaptureType': 0, 'ExifImageHeight': 3000, 'Contrast': 0, 'Saturation': 0, 'Sharpness': 0, 'SensingMethod': 2, 'ExposureTime': '0.005', 'FNumber': '4.0', 'ExposureProgram': 8, 'CustomRendered': 0, 'ISOSpeedRatings': 80, 'ExposureMode': 0, 'WhiteBalance': 0, 'DigitalZoomRatio': '0.0', 'GainControl': 0}, 'color': ['#6d6c64', '#ebf3f6'], 'tags': []}, 'Arcachon%20Casino%20R01.jpg': {'exif': {'GPSInfo': \"{0: b'\\\\x02\\\\x02\\\\x00\\\\x00'}\", 'ResolutionUnit': 2, 'ExifOffset': 252, 'Make': 'NIKON CORPORATION', 'Model': 'NIKON D90', 'Software': 'Adobe Photoshop Elements 6.0 Macintosh', 'Orientation': 1, 'DateTime': '2012:10:03 17:26:50', 'YCbCrPositioning': 2, 'XResolution': '300.0', 'YResolution': '300.0', 'CompressedBitsPerPixel': '4.0', 'DateTimeOriginal': '2012:09:16 11:56:49', 'DateTimeDigitized': '2012:09:16 11:56:49', 'ExposureBiasValue': '0.0', 'MaxApertureValue': '4.0', 'MeteringMode': 5, 'LightSource': 0, 'Flash': 0, 'FocalLength': '27.0', 'ColorSpace': 1, 'ExifImageWidth': 3852, 'ExifInteroperabilityOffset': 876, 'SceneCaptureType': 0, 'SubsecTime': '00', 'SubsecTimeOriginal': '00', 'SubsecTimeDigitized': '00', 'ExifImageHeight': 2559, 'SubjectDistanceRange': 0, 'SensingMethod': 2, 'ExposureTime': '0.0025', 'FNumber': '13.0', 'ExposureProgram': 3, 'CustomRendered': 0, 'ISOSpeedRatings': 200, 'ExposureMode': 0, 'WhiteBalance': 0, 'DigitalZoomRatio': '1.0', 'FocalLengthIn35mmFilm': 40, 'GainControl': 0, 'Contrast': 0, 'Saturation': 0, 'Sharpness': 0}, 'color': ['#45453d', '#879ab9'], 'tags': []}, 'as%2C%20Nevada%201989%2049.jpg': {'exif': {'ResolutionUnit': 2, 'ExifOffset': 232, 'Make': 'Nikon', 'Model': 'Nikon SUPER COOLSCAN 5000 ED', 'Software': 'Adobe Photoshop CS Windows', 'Orientation': 1, 'DateTime': '2021:10:05 10:11:41', 'YCbCrPositioning': 1, 'XResolution': '800.0', 'YResolution': '800.0', 'ColorSpace': 1, 'ExifImageWidth': 965, 'ExifImageHeight': 695}, 'color': ['#101317', '#c4cfce'], 'tags': ['classy']}, 'asino%20Canberra%20Sign%20.jpg': {'exif': {'ResolutionUnit': 2, 'ExifOffset': 218, 'Make': 'Canon', 'Model': 'Canon EOS 5D Mark III', 'Software': 'Adobe Photoshop Camera Raw 9.6 (Macintosh)', 'DateTime': '2016:07:27 09:40:26', 'XResolution': '999.0', 'YResolution': '999.0', 'ShutterSpeedValue': '-1.321928', 'ApertureValue': '6.643856', 'DateTimeOriginal': '2016:06:18 17:24:57', 'DateTimeDigitized': '2016:06:18 17:24:57', 'ExposureBiasValue': '0.3333333333333333', 'MaxApertureValue': '4.0', 'MeteringMode': 5, 'ColorSpace': 65535, 'Flash': 16, 'FocalLength': '20.0', 'ExposureMode': 0, 'WhiteBalance': 0, 'SceneCaptureType': 0, 'FocalPlaneXResolution': '1100.0', 'FocalPlaneYResolution': '1100.0', 'FocalPlaneResolutionUnit': 3, 'SubsecTimeOriginal': '19', 'SubsecTimeDigitized': '19', 'ExposureTime': '2.5', 'FNumber': '10.0', 'ExposureProgram': 3, 'CustomRendered': 0, 'ISOSpeedRatings': 100, 'SensitivityType': 2, 'BodySerialNumber': '055023000078', 'RecommendedExposureIndex': 100, 'LensSpecification': '(17.0, 40.0, nan, nan)', 'LensModel': 'EF17-40mm f/4L USM', 'LensSerialNumber': '0000000000'}, 'color': ['#c3b899', '#1e2725'], 'tags': ['classy']}, 'asino%20de%20Montr%C3%A9al.JPG': {'exif': {'ResolutionUnit': 2, 'ExifOffset': 338, 'Make': 'EASTMAN KODAK COMPANY', 'Model': 'KODAK CX4300 DIGITAL CAMERA', 'Software': 'Version 1.0000 ', 'Orientation': 1, 'YCbCrPositioning': 2, 'XResolution': '230.0', 'YResolution': '230.0', 'CompressedBitsPerPixel': '2.28', 'DateTimeOriginal': '2005:04:10 07:01:32', 'DateTimeDigitized': '2005:04:10 07:01:32', 'ShutterSpeedValue': '8.78', 'ApertureValue': '3.61', 'ExposureBiasValue': '0.0', 'MaxApertureValue': '3.61', 'MeteringMode': 2, 'Flash': 0, 'FocalLength': '7.63', 'ColorSpace': 1, 'ExifImageWidth': 2080, 'ExifInteroperabilityOffset': 1750, 'SceneCaptureType': 0, 'ExifImageHeight': 1544, 'Contrast': 0, 'Saturation': 0, 'Sharpness': 0, 'SubjectDistanceRange': 0, 'ExposureIndex': '100.0', 'SensingMethod': 2, 'ExposureTime': '0.00226', 'FNumber': '3.5', 'ExposureProgram': 2, 'CustomRendered': 0, 'ISOSpeedRatings': 100, 'ExposureMode': 0, 'WhiteBalance': 0, 'DigitalZoomRatio': '0.0', 'FocalLengthIn35mmFilm': 36, 'GainControl': 0}, 'color': ['#44445a', '#d8dbe9'], 'tags': ['modern']}, 'asino%20on%20empty%20night.jpg': {'exif': {'ResolutionUnit': 2, 'ExifOffset': 246, 'Make': 'Canon', 'Model': 'Canon PowerShot SD790 IS', 'Software': 'Paint Shop Pro Photo 12.01\\x00\\x00\\x00\\x00\\x00\\x00\\x00\\x00\\x00\\x00\\x00\\x00\\x00\\x00', 'Orientation': 1, 'DateTime': '2009:03:16 13:15:07\\x00', 'YCbCrPositioning': 1, 'XResolution': '180.0', 'YResolution': '180.0', 'CompressedBitsPerPixel': '3.0', 'DateTimeOriginal': '2008:02:19 18:14:21\\x00', 'DateTimeDigitized': '2008:02:19 18:14:21\\x00', 'ShutterSpeedValue': '6.3125', 'ApertureValue': '2.96875', 'ExposureBiasValue': '0.0', 'MaxApertureValue': '2.96875', 'MeteringMode': 5, 'Flash': 24, 'FocalLength': '6.2', 'ColorSpace': 1, 'ExifImageWidth': 2000, 'FocalPlaneXResolution': '15136.929460580914', 'ExifImageHeight': 1500, 'FocalPlaneYResolution': '15116.022099447513', 'FocalPlaneResolutionUnit': 2, 'SensingMethod': 2, 'ExposureTime': '0.0125', 'ExifInteroperabilityOffset': 1020, 'FNumber': '2.8', 'CustomRendered': 0, 'ISOSpeedRatings': 125, 'ExposureMode': 0, 'WhiteBalance': 0, 'DigitalZoomRatio': '1.0', 'SceneCaptureType': 0}, 'color': ['#22100a', '#d6745d'], 'tags': ['classy']}, 'Atv2885.jpg': {'exif': {}, 'color': ['#d2c1b1', '#583934'], 'tags': ['old']}, 'au%20Las%20Vegas%20signage.jpg': {'exif': {'GPSInfo': \"{0: b'\\\\x02\\\\x02\\\\x00\\\\x00', 1: 'N', 2: (36.0, 7.0, 58.34), 3: 'W', 4: (115.0, 9.0, 53.78), 5: b'\\\\x00', 6: 630.89662027833, 12: 'K', 13: 0.0, 16: 'T', 17: 45.799186737566465, 23: 'T', 24: 45.799186737566465, 29: '2022:03:21', 31: 21.88508593067288}\", 'ResolutionUnit': 2, 'ExifOffset': 240, 'Make': 'Apple', 'Model': 'iPhone 11', 'Software': '15.3.1', 'Orientation': 6, 'DateTime': '2022:03:21 15:55:41', 'YCbCrSubSampling': '(2, 2)', 'YCbCrPositioning': 1, 'XResolution': '72.0', 'YResolution': '72.0', 'HostComputer': 'iPhone 11', 'ShutterSpeedValue': '11.609640476860978', 'DateTimeOriginal': '2022:03:21 15:55:41', 'DateTimeDigitized': '2022:03:21 15:55:41', 'ApertureValue': '1.6959938128383605', 'BrightnessValue': '10.159811764705882', 'ExposureBiasValue': '0.0', 'MeteringMode': 5, 'Flash': 16, 'FocalLength': '4.25', 'ColorSpace': 65535, 'ExifImageWidth': 4032, 'DigitalZoomRatio': '2.511627906976744', 'FocalLengthIn35mmFilm': 65, 'SceneCaptureType': 0, 'OffsetTime': '-07:00', 'OffsetTimeOriginal': '-07:00', 'OffsetTimeDigitized': '-07:00', 'SubsecTimeOriginal': '910', 'SubjectLocation': '(2006, 1512, 2322, 1392)', 'SubsecTimeDigitized': '910', 'ExifImageHeight': 3024, 'SensingMethod': 2, 'ExposureTime': '0.00032', 'FNumber': '1.8', 'ImageUniqueID': '4c5a90cb6d3a2a290000000000000000', 'ExposureProgram': 2, 'ISOSpeedRatings': 32, 'ExposureMode': 0, 'WhiteBalance': 0, 'LensSpecification': '(1.5399999618512084, 4.25, 1.8, 2.4)', 'LensMake': 'Apple', 'LensModel': 'iPhone 11 back dual wide camera 4.25mm f/1.8', 'CompositeImage': 2}, 'color': ['#585f55', '#90acd8'], 'tags': ['modern']}, 'Ballys%20Las%20Vegas.jpg': {'exif': {'ResolutionUnit': 2, 'ExifOffset': 191, 'Make': 'Canon', 'Model': 'Canon EOS DIGITAL REBEL XT', 'Orientation': 0, 'DateTime': '2006:12:11 14:16:01', 'YCbCrPositioning': 2, 'XResolution': '72.0', 'YResolution': '72.0', 'ShutterSpeedValue': '4126470.0', 'DateTimeOriginal': '2006:12:11 14:16:01', 'DateTimeDigitized': '2006:12:11 14:16:01', 'ApertureValue': '8.918869018554688', 'ExposureBiasValue': '0.0', 'MeteringMode': 5, 'Flash': 16, 'FocalLength': '18.0', 'ColorSpace': 65535, 'ExifImageWidth': 1600, 'ExifInteroperabilityOffset': 9229, 'FocalPlaneXResolution': '1977.116704805492', 'FocalPlaneYResolution': '1979.381443298969', 'ExifImageHeight': 1067, 'FocalPlaneResolutionUnit': 2, 'ExposureTime': '0.008', 'FNumber': '22.0', 'ExposureProgram': 1, 'CustomRendered': 0, 'ISOSpeedRatings': 200, 'ExposureMode': 1, 'WhiteBalance': 0, 'SceneCaptureType': 0}, 'color': ['#3e475b', '#bebcb8'], 'tags': ['modern']}, 'Bellagio%20outside.jpg': {'exif': {'ResolutionUnit': 2, 'ExifOffset': 39761, 'ImageDescription': '                               ', 'Make': 'NIKON                  ', 'Model': 'COOLPIX P5000', 'Software': 'COOLPIX P5000V1.0              ', 'Orientation': 1, 'DateTime': '2009:10:30 02:25:40', 'YCbCrPositioning': 2, 'XResolution': '300.0', 'YResolution': '300.0', 'CompressedBitsPerPixel': '4.0', 'DateTimeOriginal': '2009:07:07 23:49:31', 'DateTimeDigitized': '2009:07:07 23:49:31', 'ExposureBiasValue': '0.0', 'MaxApertureValue': '2.9', 'MeteringMode': 5, 'LightSource': 0, 'Flash': 24, 'FocalLength': '7.5', 'ColorSpace': 1, 'ExifImageWidth': 1159, 'FocalLengthIn35mmFilm': 36, 'SceneCaptureType': 0, 'ExifImageHeight': 882, 'Contrast': 0, 'Saturation': 0, 'Sharpness': 0, 'SubjectDistanceRange': 0, 'ExposureTime': '0.0053705692803437165', 'ExifInteroperabilityOffset': 40409, 'FNumber': '4.8', 'ExposureProgram': 2, 'CustomRendered': 0, 'ISOSpeedRatings': 64, 'ExposureMode': 0, 'WhiteBalance': 0, 'DigitalZoomRatio': '0.0', 'GainControl': 0}, 'color': ['#cedee8', '#67726e'], 'tags': ['classy', 'architecture']}, 'Binion%27s.jpg': {'exif': {'ResolutionUnit': 2, 'ExifOffset': 240, 'ImageDescription': '                               ', 'Make': 'Canon', 'Model': 'Canon PowerShot A1000 IS', 'Orientation': 1, 'DateTime': '2009:10:13 22:20:41', 'YCbCrPositioning': 2, 'XResolution': '180.0', 'YResolution': '180.0', 'CompressedBitsPerPixel': '3.0', 'DateTimeOriginal': '2009:10:13 22:20:41', 'DateTimeDigitized': '2009:10:13 22:20:41', 'ShutterSpeedValue': '6.65625', 'ApertureValue': '6.0', 'ExposureBiasValue': '0.0', 'MaxApertureValue': '2.875', 'MeteringMode': 5, 'Flash': 16, 'FocalLength': '6.2', 'ColorSpace': 1, 'ExifImageWidth': 3648, 'FocalPlaneXResolution': '15136.929460580914', 'ExifImageHeight': 2736, 'FocalPlaneYResolution': '15116.022099447513', 'FocalPlaneResolutionUnit': 2, 'SensingMethod': 2, 'ExposureTime': '0.01', 'ExifInteroperabilityOffset': 3208, 'FNumber': '8.0', 'CustomRendered': 0, 'ISOSpeedRatings': 1600, 'ExposureMode': 0, 'WhiteBalance': 0, 'DigitalZoomRatio': '1.0', 'SceneCaptureType': 0}, 'color': ['#9bb9af', '#2f241d'], 'tags': ['classy']}, 'Binions%20horseshoe%201986.jpg': {'exif': {}, 'color': ['#210c07', '#d6b97b'], 'tags': ['classy']}, 'Borgata%20ac.jpg': {'exif': {'GPSInfo': \"{0: b'\\\\x02\\\\x02\\\\x00\\\\x00', 1: 'N', 2: (39.0, 22.0, 57.87447601304145), 3: 'W', 4: (74.0, 26.0, 8.748096074985355), 7: (11.0, 11.0, 33.0), 8: '0', 18: 'WGS-84', 29: '2010:08:01'}\", 'ResolutionUnit': 2, 'ExifOffset': 176, 'Make': 'Canon', 'Model': 'Canon PowerShot SX20 IS', 'DateTime': '2010:08:21 10:34:00', 'XResolution': '240.0', 'YResolution': '240.0', 'ShutterSpeedValue': '10.287712', 'ApertureValue': '4.970854', 'DateTimeOriginal': '2010:08:01 11:11:33', 'DateTimeDigitized': '2010:08:01 11:11:33', 'ExposureBiasValue': '0.0', 'MaxApertureValue': '3.34375', 'SubjectDistance': '1.47', 'MeteringMode': 5, 'Flash': 16, 'FocalLength': '6.439', 'ExposureMode': 0, 'WhiteBalance': 0, 'DigitalZoomRatio': '1.0', 'FocalPlaneXResolution': '16393.44262295082', 'FocalPlaneYResolution': '16393.44262295082', 'FocalPlaneResolutionUnit': 2, 'SensingMethod': 2, 'ExposureTime': '0.0008', 'FNumber': '5.6', 'CustomRendered': 0, 'ISOSpeedRatings': 125, 'SceneCaptureType': 0}, 'color': ['#c0bfbb', '#5f5438'], 'tags': []}, 'C%20France%20-%20panoramio.jpg': {'exif': {'GPSInfo': \"{0: b'\\\\x02\\\\x02\\\\x00\\\\x00'}\", 'ResolutionUnit': 2, 'ExifOffset': 256, 'Make': 'NIKON CORPORATION', 'Model': 'NIKON D200', 'Software': 'Paint Shop Pro Photo 12,01\\x00\\x00\\x00\\x00\\x00\\x00\\x00\\x00\\x00\\x00\\x00\\x00\\x00\\x00', 'Orientation': 1, 'DateTime': '2011:01:03 20:09:56\\x00', 'YCbCrPositioning': 2, 'XResolution': '300.0', 'YResolution': '300.0', 'CompressedBitsPerPixel': '4.0', 'DateTimeOriginal': '2007:09:16 16:44:17\\x00', 'DateTimeDigitized': '2007:09:16 16:44:17\\x00', 'ExposureBiasValue': '0.0', 'MaxApertureValue': '4.1', 'MeteringMode': 5, 'LightSource': 0, 'Flash': 0, 'FocalLength': '38.0', 'ColorSpace': 1, 'ExifImageWidth': 1500, 'ExifInteroperabilityOffset': 882, 'SceneCaptureType': 0, 'SubsecTime': '49', 'SubsecTimeOriginal': '49', 'SubsecTimeDigitized': '49', 'ExifImageHeight': 1004, 'SubjectDistanceRange': 0, 'SensingMethod': 2, 'ExposureTime': '0.0015625', 'FNumber': '13.0', 'ExposureProgram': 2, 'CustomRendered': 0, 'ISOSpeedRatings': 500, 'ExposureMode': 0, 'WhiteBalance': 0, 'DigitalZoomRatio': '1.0', 'FocalLengthIn35mmFilm': 57, 'GainControl': 1, 'Contrast': 0, 'Saturation': 0, 'Sharpness': 0}, 'color': ['#85888e', '#332e2a'], 'tags': []}, 'C%20France%2C%20ca.%201895.jpg': {'exif': {'ImageWidth': 3379, 'ImageLength': 2470, 'BitsPerSample': '(8, 8, 8)', 'Compression': 1, 'PhotometricInterpretation': 2, 'ResolutionUnit': 2, 'ExifOffset': 252, 'Software': 'Adobe Photoshop CS2 Windows', 'Orientation': 1, 'DateTime': '2010:01:13 10:41:41', 'SamplesPerPixel': 3, 'XResolution': '400.0', 'YResolution': '400.0', 'PlanarConfiguration': 1, 'ColorSpace': 65535, 'ExifImageWidth': 3286, 'ExifImageHeight': 2384}, 'color': ['#c6c2d2', '#5b4f31'], 'tags': []}, 'Casa%20Rosso%203.jpg': {'exif': {'ImageWidth': 3264, 'ImageLength': 2448, 'ResolutionUnit': 2, 'ExifOffset': 224, 'Make': 'SAMSUNG', 'Model': 'GT-I9100', 'Software': 'I9100XWMS2', 'Orientation': 1, 'DateTime': '2015:05:02 21:09:01', 'YCbCrPositioning': 1, 'XResolution': '72.0', 'YResolution': '72.0', 'ShutterSpeedValue': '4.05', 'ApertureValue': '2.81', 'DateTimeOriginal': '2015:05:02 21:09:01', 'DateTimeDigitized': '2015:05:02 21:09:01', 'BrightnessValue': '1.42', 'ExposureBiasValue': '0.0', 'MaxApertureValue': '2.81', 'MeteringMode': 2, 'Flash': 16, 'FocalLength': '4.03', 'ColorSpace': 1, 'ExifImageWidth': 3264, 'SceneCaptureType': 0, 'ExifImageHeight': 2448, 'ExposureTime': '0.058823529411764705', 'FNumber': '2.65', 'ImageUniqueID': 'SCEF02', 'ExposureProgram': 3, 'ISOSpeedRatings': 125, 'ExposureMode': 0, 'WhiteBalance': 0}, 'color': ['#b0a4a9', '#413e45'], 'tags': []}, 'Casino%20at%20night%202004.jpg': {'exif': {'ResolutionUnit': 2, 'ExifOffset': 232, 'ImageDescription': '          ', 'Make': 'NIKON', 'Model': 'E990', 'Software': 'ACD Systems Digital Imaging', 'Orientation': 1, 'DateTime': '2008:09:21 20:58:10', 'YCbCrPositioning': 1, 'XResolution': '300.0', 'YResolution': '300.0', 'CompressedBitsPerPixel': '1.0', 'DateTimeOriginal': '2004:08:09 00:17:21', 'DateTimeDigitized': '2004:08:09 00:17:21', 'ExposureBiasValue': '0.0', 'MaxApertureValue': '3.5', 'MeteringMode': 5, 'LightSource': 0, 'Flash': 0, 'FocalLength': '10.9', 'ColorSpace': 1, 'ExifImageWidth': 1280, 'ExifInteroperabilityOffset': 1235, 'SubsecTime': '234', 'ExifImageHeight': 960, 'ExposureTime': '0.11235955056179775', 'FNumber': '2.7', 'ExposureProgram': 2, 'ISOSpeedRatings': 100}, 'color': ['#1c1009', '#e0c2af'], 'tags': ['classy']}, 'Casino%20Barri%C3%A8re.jpg': {'exif': {'GPSInfo': \"{0: b'\\\\x02\\\\x03\\\\x00\\\\x00'}\", 'ResolutionUnit': 2, 'ExifOffset': 2526, 'ProcessingSoftware': 'Windows Photo Editor 10.0.10011.16384', 'Make': 'NIKON CORPORATION', 'Model': 'NIKON D800', 'YCbCrCoefficients': '(0.299, 0.587, 0.114)', 'Orientation': 1, 'YCbCrPositioning': 2, 'Software': 'Windows Photo Editor 10.0.10011.16384', 'DateTime': '2020:08:22 07:25:36', 'Artist': '                                    ', 'Copyright': '                                                      ', 'XResolution': '300.0', 'YResolution': '300.0', 'CompressedBitsPerPixel': '4.0', 'DateTimeOriginal': '2020:08:04 13:05:07', 'DateTimeDigitized': '2020:08:04 13:05:07', 'ExposureBiasValue': '0.3333333333333333', 'MaxApertureValue': '1.6', 'MeteringMode': 5, 'LightSource': 9, 'Flash': 16, 'FocalLength': '50.0', 'ColorSpace': 1, 'ExifImageWidth': 7360, 'ExifInteroperabilityOffset': 18368, 'SceneCaptureType': 0, 'SubsecTime': '90', 'SubsecTimeOriginal': '90', 'SubsecTimeDigitized': '90', 'ExifImageHeight': 4912, 'SubjectDistanceRange': 0, 'SensingMethod': 2, 'ExposureTime': '0.0015625', 'FNumber': '13.0', 'ExposureProgram': 2, 'CustomRendered': 0, 'ISOSpeedRatings': 400, 'ExposureMode': 0, 'SensitivityType': 2, 'WhiteBalance': 1, 'DigitalZoomRatio': '1.0', 'FocalLengthIn35mmFilm': 50, 'GainControl': 1, 'Contrast': 0, 'Saturation': 0, 'Sharpness': 0}, 'color': ['#99a9bd', '#565144'], 'tags': []}, 'Casino%20Estoril.jpg': {'exif': {'ResolutionUnit': 2, 'ExifOffset': 300, 'ImageDescription': 'OLYMPUS DIGITAL CAMERA         ', 'Make': 'Eastman Kodak Company', 'Model': 'Picture Maker G3', 'Software': 'Adobe Photoshop 7.0', 'Orientation': 1, 'DateTime': '2007:06:29 21:38:02', 'YCbCrPositioning': 1, 'YResolution': '72.0', 'XResolution': '72.0', 'Artist': 'Mathias Stang', 'CompressedBitsPerPixel': '2.0', 'DateTimeOriginal': '0000:00:00 00:00:00', 'DateTimeDigitized': '0000:00:00 00:00:00', 'ExposureBiasValue': '0.0', 'MaxApertureValue': '2.0', 'MeteringMode': 5, 'LightSource': 0, 'Flash': 0, 'FocalLength': '6.6', 'ColorSpace': 1, 'ExifImageWidth': 1602, 'ExifImageHeight': 730, 'ExposureTime': '0.00125', 'FNumber': '5.0', 'ExposureProgram': 4, 'ISOSpeedRatings': 100}, 'color': ['#3f3d28', '#a0b0cc'], 'tags': ['nature', 'architecture']}, 'Casino%20Figueira.jpg': {'exif': {'ImageWidth': 4640, 'ImageLength': 3472, 'GPSInfo': \"{1: 'N', 2: (40.0, 8.0, 59.7875), 3: 'W', 4: (8.0, 51.0, 49.9283), 5: b'\\\\x00', 6: 82.287, 7: (16.0, 38.0, 12.0), 27: b'ASCII\\\\x00\\\\x00\\\\x00GPS\\\\x00', 29: '2022:08:25'}\", 'ResolutionUnit': 2, 'ExifOffset': 170, 'Orientation': 1, 'YCbCrPositioning': 1, 'DateTime': '2022:08:25 17:38:13', 'XResolution': '72.0', 'YResolution': '72.0', 'ExifVersion': '0220', 'ColorSpace': 1, 'ApertureValue': '1.69', 'ExifImageHeight': 3472, 'ExposureBiasValue': '0.0', 'MaxApertureValue': '1.69', 'DateTimeOriginal': '2022:08:25 17:38:13', 'WhiteBalance': 0, 'ExifInteroperabilityOffset': 1409, 'Flash': 16, 'ExifImageWidth': 4640, 'FocalLengthIn35mmFilm': 0, 'DigitalZoomRatio': '1.0', 'FocalLength': '5.53', 'SubsecTime': '173122', 'SubsecTimeOriginal': '173122', 'SubsecTimeDigitized': '173122', 'DateTimeDigitized': '2022:08:25 17:38:13', 'ShutterSpeedValue': '9.456', 'SensingMethod': 0, 'ExposureTime': '0.001422475106685633', 'FNumber': '1.8', 'ISOSpeedRatings': 100, 'LightSource': 21}, 'color': ['#84a7c6', '#2f353e'], 'tags': ['modern']}, 'Casino%20Kursaal.jpg': {'exif': {'ResolutionUnit': 2, 'ExifOffset': 284, 'ImageDescription': 'Medion   DIGITAL CAMERA        ', 'Make': 'Medion   OPTICAL CO,LTD', 'Model': 'MD9700', 'Software': 'Ver 1.0', 'Orientation': 1, 'DateTime': '2001:12:00 00:00:00', 'YCbCrPositioning': 2, 'XResolution': '72.0', 'YResolution': '72.0', 'CompressedBitsPerPixel': '0.2734375', 'DateTimeOriginal': '2001:01:14 17:26:24', 'DateTimeDigitized': '2001:01:14 17:26:24', 'ShutterSpeedValue': '7.125', 'ApertureValue': '7.8138', 'ExposureBiasValue': '0.0', 'SubjectDistance': 'nan', 'MeteringMode': 0, 'Flash': 0, 'FocalLength': '8.24', 'ColorSpace': 1, 'ExifImageWidth': 1600, 'ExifInteroperabilityOffset': 886, 'ExifImageHeight': 1200, 'ISOSpeedRatings': 100}, 'color': ['#c3cdc0', '#5c7177'], 'tags': []}, 'Casino%20Montbenon.jpg': {'exif': {'ResolutionUnit': 2, 'ExifOffset': 494, 'Make': 'Panasonic', 'Model': 'DMC-TZ5', 'Software': 'Ver.1.0  ', 'Orientation': 1, 'DateTime': '2009:11:14 15:49:59', 'YCbCrPositioning': 2, 'XResolution': '180.0', 'YResolution': '180.0', 'CompressedBitsPerPixel': '4.0', 'DateTimeOriginal': '2009:11:14 15:49:59', 'DateTimeDigitized': '2009:11:14 15:49:59', 'ExposureBiasValue': '0.0', 'MaxApertureValue': '3.44', 'MeteringMode': 5, 'LightSource': 4, 'Flash': 25, 'FocalLength': '4.7', 'ColorSpace': 1, 'ExifImageWidth': 3456, 'ExifInteroperabilityOffset': 9968, 'FocalLengthIn35mmFilm': 28, 'SceneCaptureType': 0, 'ExifImageHeight': 2592, 'Contrast': 0, 'Saturation': 0, 'Sharpness': 0, 'SensingMethod': 2, 'ExposureTime': '0.03333333333333333', 'FNumber': '3.3', 'ExposureProgram': 2, 'CustomRendered': 0, 'ISOSpeedRatings': 160, 'ExposureMode': 0, 'WhiteBalance': 0, 'DigitalZoomRatio': '0.0', 'GainControl': 1}, 'color': ['#c1c0bc', '#656261'], 'tags': []}, 'Casino%20Travemuende.jpg': {'exif': {'ResolutionUnit': 2, 'ExifOffset': 196, 'Make': 'Canon', 'Model': 'Canon PowerShot A710 IS', 'Orientation': 1, 'DateTime': '2011:03:23 14:01:24', 'YCbCrPositioning': 1, 'XResolution': '180.0', 'YResolution': '180.0', 'CompressedBitsPerPixel': '5.0', 'DateTimeOriginal': '2011:03:23 14:01:24', 'DateTimeDigitized': '2011:03:23 14:01:24', 'ShutterSpeedValue': '10.28125', 'ApertureValue': '4.0', 'ExposureBiasValue': '0.0', 'MaxApertureValue': '2.96875', 'MeteringMode': 5, 'Flash': 16, 'FocalLength': '5.8', 'ColorSpace': 1, 'ExifImageWidth': 3072, 'FocalPlaneXResolution': '13653.333333333334', 'ExifImageHeight': 2304, 'FocalPlaneYResolution': '13633.136094674555', 'FocalPlaneResolutionUnit': 2, 'SensingMethod': 2, 'ExposureTime': '0.0008', 'ExifInteroperabilityOffset': 3080, 'FNumber': '4.0', 'CustomRendered': 0, 'ExposureMode': 0, 'WhiteBalance': 0, 'DigitalZoomRatio': '1.0', 'SceneCaptureType': 0}, 'color': ['#4e4b49', '#92a3b5'], 'tags': ['architecture']}, 'Casino-de-Saint-Denis.JPG': {'exif': {'ExifOffset': 2220, 'Make': 'Canon', 'Model': 'Canon EOS 400D DIGITAL', 'Orientation': 1, 'DateTime': '2011:05:02 16:22:36', 'YCbCrPositioning': 2, 'ShutterSpeedValue': '8.965789794921875', 'DateTimeOriginal': '2011:05:02 16:22:36', 'DateTimeDigitized': '2011:05:02 16:22:36', 'ApertureValue': '7.614715576171875', 'ExposureBiasValue': '0.0', 'MeteringMode': 5, 'Flash': 16, 'FocalLength': '18.0', 'ColorSpace': 1, 'ExifImageWidth': 3888, 'SceneCaptureType': 0, 'FocalPlaneXResolution': '4433.295324971494', 'FocalPlaneYResolution': '4453.6082474226805', 'ExifImageHeight': 2592, 'SubsecTimeOriginal': '00', 'SubsecTimeDigitized': '00', 'FocalPlaneResolutionUnit': 2, 'ExposureTime': '0.002', 'FNumber': '14.0', 'ExposureProgram': 0, 'CustomRendered': 0, 'ISOSpeedRatings': 400, 'ExposureMode': 0, 'WhiteBalance': 0}, 'color': ['#231c16', '#7c97be'], 'tags': []}, 'CasinoduLiban.jpg': {'exif': {'ResolutionUnit': 2, 'ExifOffset': 192, 'ImageDescription': 'IslBG', 'Software': 'ACD Systems Digital Imaging', 'Orientation': 1, 'DateTime': '2005:03:27 14:39:55', 'YCbCrPositioning': 1, 'XResolution': '300.0', 'YResolution': '300.0', 'SubsecTime': '0', 'ColorSpace': 1, 'ExifImageWidth': 800, 'ExifImageHeight': 594, 'ExifInteroperabilityOffset': 270}, 'color': ['#202022', '#807986'], 'tags': []}, 'CASSINO-ALADIM.JPG': {'exif': {'ResolutionUnit': 2, 'ExifOffset': 284, 'ImageDescription': 'OLYMPUS DIGITAL CAMERA         ', 'Make': 'OLYMPUS OPTICAL CO.,LTD', 'Model': 'C3100Z,C3020Z', 'Software': 'v374-75', 'Orientation': 1, 'DateTime': '0000:00:00 00:00:00', 'YCbCrPositioning': 2, 'XResolution': '72.0', 'YResolution': '72.0', 'CompressedBitsPerPixel': '1.0', 'DateTimeOriginal': '0000:00:00 00:00:00', 'DateTimeDigitized': '0000:00:00 00:00:00', 'ExposureBiasValue': '0.0', 'MaxApertureValue': '3.0', 'MeteringMode': 5, 'LightSource': 0, 'Flash': 0, 'FocalLength': '6.6', 'ColorSpace': 1, 'ExifImageWidth': 2048, 'ExifInteroperabilityOffset': 886, 'ExifImageHeight': 1536, 'ExposureTime': '0.0025', 'FNumber': '5.6', 'ExposureProgram': 2, 'ISOSpeedRatings': 100}, 'color': ['#3e3934', '#8d9cb4'], 'tags': []}, 'Circus%20Circus%20P4220697.jpg': {'exif': {'DateTimeOriginal': '2018:04:22 21:41:52', 'Rating': 1, 'ResolutionUnit': 2, 'RatingPercent': 20, 'ExifOffset': 1018, 'ImageDescription': 'OLYMPUS DIGITAL CAMERA         ', 'Make': 'OLYMPUS IMAGING CORP.  ', 'Model': 'SZ-20                  ', 'Software': 'darktable 2.0', 'Orientation': 1, 'DateTime': '2018:05:28 19:56:41', 'YCbCrPositioning': 2, 'XResolution': 300, 'YResolution': 300, 'CompressedBitsPerPixel': '2.0', 'DateTimeDigitized': '2018:04:22 21:41:52', 'ExposureBiasValue': '0.0', 'MaxApertureValue': '3.26', 'MeteringMode': 5, 'LightSource': 0, 'Flash': 16, 'FocalLength': '5.9', 'ColorSpace': 1, 'ExifImageWidth': 4526, 'ExifInteroperabilityOffset': 2658, 'SceneCaptureType': 0, 'ExifImageHeight': 3386, 'Contrast': 0, 'Saturation': 0, 'Sharpness': 0, 'ExposureTime': '0.00625', 'FNumber': '9.4', 'ExposureProgram': 5, 'CustomRendered': 0, 'ISOSpeedRatings': 80, 'ExposureMode': 0, 'WhiteBalance': 0, 'DigitalZoomRatio': '0.0', 'FocalLengthIn35mmFilm': 33, 'GainControl': 0}, 'color': ['#534d4b', '#89a3b4'], 'tags': ['architecture']}, 'Crown%20Casino%20complex.jpg': {'exif': {'CustomRendered': 0, 'ExposureMode': 0, 'WhiteBalance': 0, 'DigitalZoomRatio': '0.0', 'SceneCaptureType': 1, 'GainControl': 0, 'Contrast': 0, 'Saturation': 0, 'Sharpness': 0, 'ImageDescription': 'OLYMPUS DIGITAL CAMERA         ', 'Make': 'OLYMPUS OPTICAL CO.,LTD', 'Model': 'C750UZ', 'Orientation': 1, 'YCbCrPositioning': 2, 'XResolution': '72.0', 'YResolution': '72.0', 'ResolutionUnit': 2, 'Software': 'v753g-79', 'DateTime': '0000:00:00 00:00:00', 'ExifOffset': 644, 'CompressedBitsPerPixel': '2.0', 'DateTimeOriginal': '0000:00:00 00:00:00', 'DateTimeDigitized': '0000:00:00 00:00:00', 'ExposureBiasValue': '0.0', 'MaxApertureValue': '3.0', 'MeteringMode': 5, 'LightSource': 0, 'Flash': 16, 'FocalLength': '6.3', 'ColorSpace': 1, 'ExifImageWidth': 2288, 'ExifImageHeight': 1712, 'ExposureTime': '0.0025', 'FNumber': '5.6', 'ExposureProgram': 5, 'ISOSpeedRatings': 50}, 'color': ['#7491cb', '#515457'], 'tags': ['modern']}, 'd%20%28Espa%C3%B1a%29%2005.jpg': {'exif': {'ResolutionUnit': 2, 'ExifOffset': 603, 'ImageDescription': \"'Casino de Madrid' (Spain), at 15 Calle de Alcala (street) in Centro district. Built in 1910.\", 'Make': 'Panasonic', 'Model': 'DMC-ZX3', 'Software': 'Adobe Photoshop CS2 Windows', 'Orientation': 1, 'DateTime': '2011:02:27 22:46:33', 'YCbCrPositioning': 2, 'YResolution': '180.0', 'Copyright': 'Luis Garcia ([[User:Zaqarbal|Zaqarbal]]) publishes this photo in Wikimedia Commons under [[:Commons:GNU Free Documentation License|GFDL]] and [[:Category:CC-BY-SA-3.0,2.5,2.0,1.0|Cc-by-sa-3.0,2.5,2.0,1.0]] licenses.', 'XResolution': '180.0', 'Artist': 'Luis Garcia ([[User:Zaqarbal|Zaqarbal]])', 'CompressedBitsPerPixel': '4.0', 'DateTimeOriginal': '2011:02:27 09:38:22', 'DateTimeDigitized': '2011:02:27 09:38:22', 'ExposureBiasValue': '0.0', 'MaxApertureValue': '3.44', 'MeteringMode': 5, 'LightSource': 0, 'Flash': 16, 'FocalLength': '4.5', 'ColorSpace': 1, 'ExifImageWidth': 3147, 'FocalLengthIn35mmFilm': 25, 'SceneCaptureType': 0, 'ExifImageHeight': 3058, 'Contrast': 0, 'Saturation': 0, 'Sharpness': 0, 'SensingMethod': 2, 'ExposureTime': '0.003125', 'FNumber': '3.3', 'ExposureProgram': 8, 'CustomRendered': 0, 'ISOSpeedRatings': 125, 'ExposureMode': 0, 'WhiteBalance': 0, 'DigitalZoomRatio': '0.0', 'GainControl': 1}, 'color': ['#96adbd', '#3e3e3c'], 'tags': ['architecture']}, 'Deauville-Casino-20120915.jpg': {'exif': {'ResolutionUnit': 2, 'ExifOffset': 284, 'Make': 'Canon', 'Model': 'Canon EOS 450D', 'Software': 'Adobe Photoshop CS5.1 Macintosh', 'Orientation': 1, 'DateTime': '2012:10:05 14:52:02', 'YResolution': '240.0', 'Copyright': 'Creatice commons (CC BY 3.0)', 'XResolution': '240.0', 'Artist': 'Daniel VILLAFRUELA', 'ShutterSpeedValue': '8.965784', 'ApertureValue': '8.0', 'DateTimeOriginal': '2012:09:15 12:14:54', 'DateTimeDigitized': '2012:09:15 12:14:54', 'ExposureBiasValue': '0.0', 'MaxApertureValue': '3.625', 'SubjectDistance': '3.49', 'MeteringMode': 6, 'Flash': 16, 'FocalLength': '18.0', 'ExposureMode': 0, 'WhiteBalance': 0, 'SceneCaptureType': 0, 'FocalPlaneXResolution': '4865.603644646925', 'FocalPlaneYResolution': '4876.712328767123', 'FocalPlaneResolutionUnit': 2, 'SubsecTimeOriginal': '03', 'SubsecTimeDigitized': '03', 'ExposureTime': '0.002', 'FNumber': '16.0', 'ExposureProgram': 2, 'CustomRendered': 0, 'ISOSpeedRatings': 200, 'CameraOwnerName': 'Daniel VILLAFRUELA', 'BodySerialNumber': '1380331676', 'LensSpecification': '(18.0, 55.0, nan, nan)', 'LensModel': 'EF-S18-55mm f/3.5-5.6 IS'}, 'color': ['#d6d1cc', '#424c59'], 'tags': []}, 'den%20Kursaal%20Stirnfront.jpg': {'exif': {}, 'color': ['#839db5', '#383c25'], 'tags': []}, 'did%20et%20Atrium%20Casino.jpg': {'exif': {'ImageWidth': 2560, 'ImageLength': 1920, 'GPSInfo': \"{0: b'\\\\x02\\\\x02\\\\x00\\\\x00', 1: 'N', 2: (43.7107507, 0.0, 0.0), 3: 'W', 4: (1.0558943, 0.0, 0.0), 5: b'\\\\x00', 6: 38.0, 7: (10.0, 4.0, 52.0), 27: b'ASCII\\\\x00\\\\x00\\\\x00GPS', 29: '2012:09:11'}\", 'ExifOffset': 176, 'Make': 'google', 'Model': 'Nexus S', 'Software': 'JRO03E', 'Orientation': 1, 'DateTime': '2012:09:11 12:04:52', 'YCbCrPositioning': 1, 'ShutterSpeedValue': '9.0', 'ApertureValue': '3.0', 'DateTimeOriginal': '2012:09:11 12:04:52', 'DateTimeDigitized': '2012:09:11 12:04:52', 'BrightnessValue': '8.0', 'ExposureBiasValue': 'nan', 'MaxApertureValue': '3.0', 'MeteringMode': 2, 'Flash': 0, 'FocalLength': '3.43', 'ColorSpace': 1, 'ExifImageWidth': 2560, 'SceneCaptureType': 0, 'ExifImageHeight': 1920, 'ExposureTime': '0.0015772870662460567', 'FNumber': '2.6', 'ExposureProgram': 3, 'ISOSpeedRatings': 50, 'ExposureMode': 0, 'WhiteBalance': 0}, 'color': ['#5b5a56', '#eaf1f4'], 'tags': []}, 'Dunes%20Hotel.jpg': {'exif': {}, 'color': ['#ebe7e2', '#4f534c'], 'tags': ['modern', 'classy']}, 'e%20hotel%20The%20Bellagio.jpg': {'exif': {'GPSInfo': \"{0: b'\\\\x02\\\\x02\\\\x00\\\\x00', 1: 'N', 2: (36.0, 6.824, 0.0), 3: 'W', 4: (115.0, 10.5856, 0.0), 5: b'\\\\x00', 6: 663.0, 7: (23.0, 56.0, 40.0), 8: '0', 16: 'T', 17: 111.46, 18: 'WGS-84', 19: 'N', 20: (36.0, 6.0, 43.441380002005815), 21: 'W', 22: (115.0, 10.0, 16.170312044327794), 29: '2010:05:18'}\", 'ResolutionUnit': 2, 'ExifOffset': 368, 'ImageDescription': 'Paris Las Vegas as seen from the Bellagio on a sunny summer day in the afternoon.', 'Make': 'SONY', 'Model': 'DSLR-A900', 'Software': 'Adobe Photoshop CS5 Windows', 'Orientation': 1, 'DateTime': '2010:05:18 15:56:40', 'YResolution': '360.0', 'Copyright': 'Â©2010 JÃ¼rgen Matern', 'XResolution': '360.0', 'Artist': 'JÃ¼rgen Matern', 'ShutterSpeedValue': '7.643856', 'ApertureValue': '4.970854', 'DateTimeOriginal': '2010:05:18 15:56:40', 'DateTimeDigitized': '2010:05:18 16:56:40', 'BrightnessValue': '6.25', 'ExposureBiasValue': '-0.3', 'MaxApertureValue': '3.0', 'MeteringMode': 2, 'LightSource': 0, 'Flash': 16, 'FocalLength': '45.0', 'ColorSpace': 1, 'ExifImageWidth': 4536, 'FocalLengthIn35mmFilm': 45, 'SceneCaptureType': 0, 'ExifImageHeight': 3914, 'Contrast': 0, 'Saturation': 0, 'Sharpness': 0, 'ExposureTime': '0.005', 'FNumber': '5.6', 'ExposureProgram': 3, 'CustomRendered': 0, 'ISOSpeedRatings': 200, 'ExposureMode': 0, 'SensitivityType': 0, 'WhiteBalance': 0, 'LensSpecification': '(28.0, 70.0, 2.8, 2.8)', 'LensModel': '28-70mm F2.8'}, 'color': ['#b5ab9a', '#3c4c54'], 'tags': ['modern', 'architecture']}, 'egas%20-%20November%202003.jpg': {'exif': {'ResolutionUnit': 2, 'ExifOffset': 260, 'ImageDescription': '                               ', 'Make': 'SONY', 'Model': 'CYBERSHOT', 'Software': 'Adobe Photoshop CS2 Windows', 'Orientation': 1, 'DateTime': '2007:10:07 15:52:03', 'YCbCrPositioning': 2, 'XResolution': '72.0', 'YResolution': '72.0', 'CompressedBitsPerPixel': '2.0', 'DateTimeOriginal': '2003:11:14 20:28:32', 'DateTimeDigitized': '2003:11:14 20:28:32', 'ExposureBiasValue': '0.0', 'MaxApertureValue': '3.0', 'MeteringMode': 3, 'LightSource': 0, 'Flash': 0, 'FocalLength': '8.0', 'ColorSpace': 1, 'ExifImageWidth': 687, 'ExifImageHeight': 963, 'ExposureTime': '0.0008', 'FNumber': '5.6', 'ExposureProgram': 8, 'ISOSpeedRatings': 100}, 'color': ['#c6d3d3', '#5e5c59'], 'tags': ['modern', 'architecture']}, 'Eldorado%20Casino.jpg': {'exif': {'ImageWidth': 1280, 'ImageLength': 720, 'GPSInfo': \"{0: b'\\\\x02\\\\x02\\\\x00\\\\x00', 1: 'N', 2: (36.0, 1.0, 57.3614), 3: 'W', 4: (114.0, 58.0, 59.1906), 5: b'\\\\x00', 6: 590.0, 7: (22.0, 28.0, 1.0), 29: '2017:09:04'}\", 'ResolutionUnit': 2, 'ExifOffset': 238, 'Make': 'samsung', 'Model': 'SM-G530T', 'Software': 'G530TUVS2AQE3', 'Orientation': 6, 'DateTime': '2017:09:04 15:28:09', 'YCbCrPositioning': 1, 'XResolution': '72.0', 'YResolution': '72.0', 'ShutterSpeedValue': '9.58', 'DateTimeOriginal': '2017:09:04 15:28:09', 'DateTimeDigitized': '2017:09:04 15:28:09', 'ApertureValue': '2.28', 'BrightnessValue': '7.81', 'ExposureBiasValue': '0.0', 'MaxApertureValue': '2.28', 'MeteringMode': 2, 'LightSource': 0, 'Flash': 0, 'FocalLength': '3.3', 'ColorSpace': 1, 'ExifImageWidth': 1280, 'ExifImageHeight': 720, 'SensingMethod': 2, 'ExposureTime': '0.001303780964797914', 'ExifInteroperabilityOffset': 2984, 'FNumber': '2.2', 'ImageUniqueID': 'H08QLHL03AY\\x00\\x00\\x00\\x00\\x00\\x00\\x00\\x00\\x00\\x00\\x00\\x00\\x00\\x00\\x00\\x00\\x00\\x00\\x00\\x00\\x00', 'ExposureProgram': 2, 'ISOSpeedRatings': 50, 'ExposureMode': 0, 'WhiteBalance': 0, 'FocalLengthIn35mmFilm': 31, 'SceneCaptureType': 0}, 'color': ['#6bb0d2', '#50493f'], 'tags': []}, 'ePelton%40theBicycleCasino.jpg': {'exif': {}, 'color': ['#c7ac95', '#483e35'], 'tags': []}, 'Fa%C3%A7ade%20fleurie.jpg': {'exif': {}, 'color': ['#3d3829', '#b9baaf'], 'tags': []}, 'Flamingohotelyay.jpg': {'exif': {'ResolutionUnit': 2, 'ExifOffset': 338, 'Make': 'EASTMAN KODAK COMPANY', 'Model': 'KODAK EASYSHARE CX7300 DIGITAL CAMERA', 'Software': 'Version 1.0000 ', 'Orientation': 1, 'YCbCrPositioning': 2, 'XResolution': '230.0', 'YResolution': '230.0', 'CompressedBitsPerPixel': '1.65', 'DateTimeOriginal': '2005:08:18 05:58:53', 'DateTimeDigitized': '2005:08:18 05:58:53', 'ShutterSpeedValue': '10.81', 'ApertureValue': '4.33', 'ExposureBiasValue': '0.0', 'MaxApertureValue': '4.33', 'MeteringMode': 2, 'Flash': 24, 'FocalLength': '5.9', 'ColorSpace': 1, 'ExifImageWidth': 2080, 'ExifInteroperabilityOffset': 2518, 'SceneCaptureType': 0, 'ExifImageHeight': 1544, 'Contrast': 0, 'Saturation': 0, 'Sharpness': 0, 'SubjectDistanceRange': 0, 'ExposureIndex': '100.0', 'SensingMethod': 2, 'ExposureTime': '0.000555', 'FNumber': '4.5', 'ExposureProgram': 2, 'CustomRendered': 0, 'ISOSpeedRatings': 100, 'ExposureMode': 0, 'WhiteBalance': 0, 'DigitalZoomRatio': '0.0', 'FocalLengthIn35mmFilm': 37, 'GainControl': 0}, 'color': ['#b5a9a3', '#323246'], 'tags': []}, 'Fremont%20street%201983.jpg': {'exif': {}, 'color': ['#3b1f15', '#828c8d'], 'tags': []}, 'gas%20Excalibur%20P4230727.jpg': {'exif': {'DateTimeOriginal': '2018:04:23 00:33:43', 'Rating': 1, 'ResolutionUnit': 2, 'RatingPercent': 20, 'ExifOffset': 1018, 'ImageDescription': 'OLYMPUS DIGITAL CAMERA         ', 'Make': 'OLYMPUS IMAGING CORP.  ', 'Model': 'SZ-20                  ', 'Software': 'darktable 2.0', 'Orientation': 1, 'DateTime': '2018:05:27 11:58:40', 'YCbCrPositioning': 2, 'XResolution': 300, 'YResolution': 300, 'CompressedBitsPerPixel': '2.0', 'DateTimeDigitized': '2018:04:23 00:33:43', 'ExposureBiasValue': '0.0', 'MaxApertureValue': '3.26', 'MeteringMode': 5, 'LightSource': 0, 'Flash': 16, 'FocalLength': '4.9', 'ColorSpace': 1, 'ExifImageWidth': 4541, 'ExifInteroperabilityOffset': 2658, 'SceneCaptureType': 1, 'ExifImageHeight': 3398, 'Contrast': 0, 'Saturation': 0, 'Sharpness': 0, 'ExposureTime': '0.00125', 'FNumber': '3.3', 'ExposureProgram': 5, 'CustomRendered': 0, 'ISOSpeedRatings': 80, 'ExposureMode': 0, 'WhiteBalance': 0, 'DigitalZoomRatio': '0.0', 'FocalLengthIn35mmFilm': 27, 'GainControl': 0}, 'color': ['#4c4f53', '#9bbacf'], 'tags': ['nature', 'architecture']}, 'gas%20Tropicana%20P4230726.jpg': {'exif': {'DateTimeOriginal': '2018:04:23 00:32:17', 'Rating': 1, 'ResolutionUnit': 2, 'RatingPercent': 20, 'ExifOffset': 1018, 'ImageDescription': 'OLYMPUS DIGITAL CAMERA         ', 'Make': 'OLYMPUS IMAGING CORP.  ', 'Model': 'SZ-20                  ', 'Software': 'darktable 2.0', 'Orientation': 1, 'DateTime': '2018:05:27 12:00:36', 'YCbCrPositioning': 2, 'XResolution': 300, 'YResolution': 300, 'CompressedBitsPerPixel': '2.0', 'DateTimeDigitized': '2018:04:23 00:32:17', 'ExposureBiasValue': '0.0', 'MaxApertureValue': '3.26', 'MeteringMode': 5, 'LightSource': 0, 'Flash': 16, 'FocalLength': '10.1', 'ColorSpace': 1, 'ExifImageWidth': 2392, 'ExifInteroperabilityOffset': 2658, 'SceneCaptureType': 0, 'ExifImageHeight': 3197, 'Contrast': 0, 'Saturation': 0, 'Sharpness': 0, 'ExposureTime': '0.001', 'FNumber': '4.5', 'ExposureProgram': 5, 'CustomRendered': 0, 'ISOSpeedRatings': 80, 'ExposureMode': 0, 'WhiteBalance': 0, 'DigitalZoomRatio': '0.0', 'FocalLengthIn35mmFilm': 57, 'GainControl': 0}, 'color': ['#d3d9d7', '#52718d'], 'tags': ['modern']}, 'Golden%20Nugget%202008.jpg': {'exif': {'ResolutionUnit': 2, 'ExifOffset': 240, 'Make': 'Canon', 'Model': 'Canon EOS DIGITAL REBEL XT', 'Software': 'Adobe Photoshop Elements 5.0 Windows', 'Orientation': 1, 'DateTime': '2008:09:22 20:33:42', 'YCbCrPositioning': 1, 'XResolution': '350.0', 'YResolution': '350.0', 'ShutterSpeedValue': '6.64385986328125', 'DateTimeOriginal': '2008:09:19 23:29:31', 'DateTimeDigitized': '2008:09:19 23:29:31', 'ApertureValue': '3.614715576171875', 'ExposureBiasValue': '0.0', 'Flash': 16, 'FocalLength': '18.0', 'ColorSpace': 1, 'ExifImageWidth': 1000, 'SceneCaptureType': 0, 'FocalPlaneXResolution': '3954.233409610984', 'FocalPlaneYResolution': '3958.762886597938', 'ExifImageHeight': 513, 'FocalPlaneResolutionUnit': 2, 'ExposureTime': '0.01', 'FNumber': '3.5', 'ExposureProgram': 1, 'CustomRendered': 0, 'ISOSpeedRatings': 200, 'ExposureMode': 1, 'WhiteBalance': 0}, 'color': ['#a27957', '#271f1b'], 'tags': []}, 'Golden%20Nugget.jpg': {'exif': {}, 'color': ['#585d60', '#ccd3db'], 'tags': []}, 'GrandCasinoBasel.JPG': {'exif': {'GPSInfo': \"{0: b'\\\\x02\\\\x02\\\\x00\\\\x00'}\", 'ResolutionUnit': 2, 'ExifOffset': 360, 'Make': 'Canon', 'Model': 'Canon EOS 500D', 'YResolution': '72.0', 'Orientation': 1, 'DateTime': '2013:06:08 16:32:18', 'YCbCrPositioning': 2, 'Copyright': '', 'XResolution': '72.0', 'Artist': '', 'ShutterSpeedValue': '7.625', 'DateTimeOriginal': '2013:06:08 16:32:18', 'DateTimeDigitized': '2013:06:08 16:32:18', 'ApertureValue': '6.0', 'ExposureBiasValue': '-1.0', 'MeteringMode': 5, 'Flash': 16, 'FocalLength': '18.0', 'ColorSpace': 1, 'ExifImageWidth': 3456, 'ExifInteroperabilityOffset': 8380, 'FocalPlaneXResolution': '3865.771812080537', 'FocalPlaneYResolution': '3885.328836424958', 'SubsecTime': '04', 'SubsecTimeOriginal': '04', 'SubsecTimeDigitized': '04', 'ExifImageHeight': 2304, 'FocalPlaneResolutionUnit': 2, 'ExposureTime': '0.005', 'FNumber': '8.0', 'ExposureProgram': 2, 'CustomRendered': 0, 'ISOSpeedRatings': 100, 'ExposureMode': 0, 'WhiteBalance': 0, 'SceneCaptureType': 0}, 'color': ['#7993bb', '#69453a'], 'tags': []}, 'Hard%20rock%20las%20vegas.jpg': {'exif': {'Model': 'KODAK CX6330 ZOOM DIGITAL CAMERA', 'ExifOffset': 118, 'YCbCrPositioning': 1, 'Make': 'EASTMAN KODAK COMPANY', 'ShutterSpeedValue': '9.0', 'DateTimeOriginal': '2005:03:22 09:21:42', 'DateTimeDigitized': '2005:03:22 09:21:42', 'ApertureValue': '5.0', 'ExposureBiasValue': '0.0', 'MaxApertureValue': '2.9', 'MeteringMode': 5, 'LightSource': 0, 'Flash': 24, 'FocalLength': '5.6', 'ColorSpace': 1, 'ExifImageWidth': 2032, 'FocalLengthIn35mmFilm': 37, 'SceneCaptureType': 0, 'ExifImageHeight': 1524, 'Contrast': 0, 'Saturation': 0, 'Sharpness': 0, 'SubjectDistanceRange': 0, 'ExposureIndex': '100.0', 'SensingMethod': 2, 'ExposureTime': '0.002', 'FNumber': '5.6', 'ExposureProgram': 2, 'CustomRendered': 0, 'ExposureMode': 0, 'WhiteBalance': 0, 'DigitalZoomRatio': '0.0', 'GainControl': 0}, 'color': ['#b8c2ce', '#3d3931'], 'tags': []}, 'Hooters%20Casino%20HotelLV.jpg': {'exif': {'ResolutionUnit': 2, 'ExifOffset': 504, 'Make': 'EASTMAN KODAK COMPANY', 'Model': 'KODAK Z612 ZOOM DIGITAL CAMERA', 'Orientation': 1, 'YCbCrPositioning': 1, 'XResolution': '230.0', 'YResolution': '230.0', 'ShutterSpeedValue': '10.0', 'DateTimeOriginal': '2007:08:23 15:50:51', 'DateTimeDigitized': '2007:08:23 15:50:51', 'ApertureValue': '3.4', 'ExposureBiasValue': '0.0', 'MaxApertureValue': '3.4', 'MeteringMode': 5, 'LightSource': 0, 'Flash': 24, 'FocalLength': '14.6', 'ColorSpace': 1, 'ExifImageWidth': 2832, 'ExifInteroperabilityOffset': 11148, 'SceneCaptureType': 0, 'ExifImageHeight': 2128, 'Contrast': 0, 'Saturation': 0, 'Sharpness': 0, 'SubjectDistanceRange': 0, 'ExposureIndex': '80.0', 'SensingMethod': 2, 'ExposureTime': '0.001', 'FNumber': '3.2', 'ExposureProgram': 2, 'CustomRendered': 0, 'ISOSpeedRatings': 80, 'ExposureMode': 0, 'WhiteBalance': 0, 'DigitalZoomRatio': '0.0', 'FocalLengthIn35mmFilm': 87, 'GainControl': 0}, 'color': ['#bcd5e6', '#4b5255'], 'tags': ['nature', 'modern']}, 'HPIM1957.sized.jpg': {'exif': {}, 'color': ['#6f493e', '#e6e4e1'], 'tags': []}, 'ino%20de%20Charlevoix%2001.jpg': {'exif': {'ResolutionUnit': 2, 'ExifOffset': 218, 'ImageDescription': '          ', 'Make': 'NIKON', 'Model': 'E4100', 'Software': 'Picasa 3.0', 'Orientation': 0, 'DateTime': '2006:06:04 09:21:28', 'YCbCrPositioning': 2, 'XResolution': '300.0', 'YResolution': '300.0', 'CompressedBitsPerPixel': '2.0', 'DateTimeOriginal': '2006:06:04 09:21:28', 'DateTimeDigitized': '2006:06:04 09:21:28', 'ExposureBiasValue': '0.0', 'MaxApertureValue': '3.0', 'MeteringMode': 5, 'LightSource': 0, 'Flash': 24, 'FocalLength': '5.8', 'ColorSpace': 65535, 'ExifImageWidth': 2288, 'ExifInteroperabilityOffset': 2092, 'SceneCaptureType': 0, 'ExifImageHeight': 1531, 'Contrast': 0, 'Saturation': 0, 'Sharpness': 0, 'SubjectDistanceRange': 0, 'ExposureTime': '0.004721435316336166', 'FNumber': '5.6', 'ImageUniqueID': '51d9b1b98ef016b48c4c76f7fbd037f0', 'ExposureProgram': 2, 'CustomRendered': 0, 'ISOSpeedRatings': 50, 'ExposureMode': 0, 'WhiteBalance': 0, 'DigitalZoomRatio': '0.0', 'FocalLengthIn35mmFilm': 35, 'GainControl': 0}, 'color': ['#606d42', '#c2d8e1'], 'tags': []}, 'ino%20mauresque%20arcachon.jpg': {'exif': {}, 'color': ['#4b4c40', '#d2d3c8'], 'tags': []}, 'Interlaken%20Kursaal%2009.jpg': {'exif': {'ResolutionUnit': 2, 'ExifOffset': 2294, 'Make': 'NIKON CORPORATION', 'Model': 'NIKON D40X', 'Software': 'Ver.1.00 ', 'Orientation': 1, 'DateTime': '2011:07:22 17:55:46', 'YCbCrPositioning': 2, 'XResolution': '300.0', 'YResolution': '300.0', 'CompressedBitsPerPixel': '4.0', 'DateTimeOriginal': '2011:07:22 17:55:46', 'DateTimeDigitized': '2011:07:22 17:55:46', 'ExposureBiasValue': '0.0', 'MaxApertureValue': '3.6', 'MeteringMode': 5, 'LightSource': 0, 'Flash': 0, 'FocalLength': '18.0', 'ColorSpace': 1, 'ExifImageWidth': 3872, 'ExifInteroperabilityOffset': 32858, 'SceneCaptureType': 0, 'SubsecTime': '40', 'SubsecTimeOriginal': '40', 'SubsecTimeDigitized': '40', 'ExifImageHeight': 2592, 'SubjectDistanceRange': 0, 'SensingMethod': 2, 'ExposureTime': '0.01', 'FNumber': '5.0', 'ExposureProgram': 0, 'CustomRendered': 0, 'ISOSpeedRatings': 200, 'ExposureMode': 0, 'WhiteBalance': 0, 'DigitalZoomRatio': '1.0', 'FocalLengthIn35mmFilm': 27, 'GainControl': 0, 'Contrast': 0, 'Saturation': 0, 'Sharpness': 0}, 'color': ['#3d4d43', '#9fba81'], 'tags': ['nature']}, 'is%2C%20Duisburg%2C%202012.JPG': {'exif': {'GPSInfo': \"{0: b'\\\\x02\\\\x02\\\\x00\\\\x00', 1: 'N', 2: (51.0, 25.0, 55.00037993920973), 3: 'E', 4: (6.0, 45.0, 37.794347974123255), 5: b'\\\\x00', 6: 36.0, 7: (15.0, 16.0, 40.0), 18: 'WGS-84', 29: '2012:12:02'}\", 'ResolutionUnit': 2, 'ExifOffset': 292, 'Make': 'Canon', 'Model': 'Canon EOS 600D', 'YResolution': '72.0', 'Orientation': 1, 'DateTime': '2012:12:02 16:16:40', 'YCbCrPositioning': 2, 'Copyright': '2012 - BlackIceNRW - Wikipedia - Wikimedia Commons', 'XResolution': '72.0', 'Artist': 'BlackIceNRW - Wikipedia', 'ShutterSpeedValue': '6.0', 'DateTimeOriginal': '2012:12:02 16:16:40', 'DateTimeDigitized': '2012:12:02 16:16:40', 'ApertureValue': '4.0', 'ExposureBiasValue': '0.0', 'MeteringMode': 5, 'Flash': 9, 'FocalLength': '18.0', 'ColorSpace': 1, 'ExifImageWidth': 5184, 'ExifInteroperabilityOffset': 8186, 'FocalPlaneXResolution': '5728.176795580111', 'FocalPlaneYResolution': '5808.403361344538', 'SubsecTime': '00', 'SubsecTimeOriginal': '00', 'SubsecTimeDigitized': '00', 'ExifImageHeight': 3456, 'FocalPlaneResolutionUnit': 2, 'ExposureTime': '0.016666666666666666', 'FNumber': '4.0', 'ExposureProgram': 2, 'CustomRendered': 0, 'ISOSpeedRatings': 400, 'ExposureMode': 0, 'SensitivityType': 2, 'WhiteBalance': 0, 'RecommendedExposureIndex': 400, 'CameraOwnerName': '\\x00\\x00\\x00\\x00\\x00\\x00\\x00\\x00\\x00\\x00\\x00\\x00\\x00\\x00\\x00\\x00\\x00\\x00\\x00\\x00\\x00\\x00\\x00\\x00\\x00\\x00\\x00\\x00\\x00\\x00\\x00', 'BodySerialNumber': '073023033031', 'LensSpecification': '(18.0, 55.0, nan, nan)', 'LensModel': 'EF-S18-55mm f/3.5-5.6 IS II\\x00\\x00\\x00\\x00\\x00\\x00\\x00\\x00\\x00\\x00\\x00\\x00\\x00\\x00\\x00\\x00\\x00\\x00\\x00\\x00\\x00\\x00\\x00\\x00\\x00\\x00\\x00\\x00\\x00\\x00\\x00\\x00\\x00\\x00\\x00\\x00\\x00\\x00\\x00\\x00\\x00\\x00', 'LensSerialNumber': '0000038f03\\x00', 'SceneCaptureType': 0}, 'color': ['#565441', '#b8c0c8'], 'tags': ['modern']}, 'Kurpark-hg-spielbank-005.jpg': {'exif': {'ResolutionUnit': 2, 'ExifOffset': 420, 'Make': 'Panasonic', 'Model': 'DMC-FZ50', 'Software': 'Ver.1.0  ', 'Orientation': 1, 'DateTime': '2009:08:26 13:42:03', 'YCbCrPositioning': 2, 'XResolution': '72.0', 'YResolution': '72.0', 'CompressedBitsPerPixel': '4.0', 'DateTimeOriginal': '2009:08:26 13:42:03', 'DateTimeDigitized': '2009:08:26 13:42:03', 'ExposureBiasValue': '0.0', 'MaxApertureValue': '3.0', 'MeteringMode': 5, 'LightSource': 0, 'Flash': 16, 'FocalLength': '7.4', 'ColorSpace': 1, 'ExifImageWidth': 3648, 'ExifInteroperabilityOffset': 7692, 'FocalLengthIn35mmFilm': 35, 'SceneCaptureType': 0, 'ExifImageHeight': 2736, 'Contrast': 0, 'Saturation': 0, 'Sharpness': 0, 'SensingMethod': 2, 'ExposureTime': '0.004', 'FNumber': '5.0', 'ExposureProgram': 2, 'CustomRendered': 0, 'ISOSpeedRatings': 100, 'ExposureMode': 0, 'WhiteBalance': 0, 'DigitalZoomRatio': '0.0', 'GainControl': 0}, 'color': ['#3b3d33', '#b7bab2'], 'tags': []}, 'kwesasne%20Mohawk%20Casino.jpg': {'exif': {'ResolutionUnit': 2, 'ExifOffset': 202, 'Make': 'Canon', 'Model': 'Canon EOS 60D', 'YResolution': '72.0', 'Orientation': 1, 'DateTime': '2017:12:07 10:04:15', 'YCbCrPositioning': 2, 'Copyright': '', 'XResolution': '72.0', 'Artist': '', 'ShutterSpeedValue': '9.375', 'DateTimeOriginal': '2014:08:22 08:10:17', 'DateTimeDigitized': '2014:08:22 08:10:17', 'ApertureValue': '3.375', 'ExposureBiasValue': '0.0', 'MeteringMode': 5, 'Flash': 16, 'FocalLength': '55.0', 'ColorSpace': 1, 'ExifImageWidth': 5048, 'ExifInteroperabilityOffset': 8106, 'FocalPlaneXResolution': '5728.176795580111', 'FocalPlaneYResolution': '5808.403361344538', 'SubsecTime': '35', 'SubsecTimeOriginal': '35', 'SubsecTimeDigitized': '35', 'ExifImageHeight': 3032, 'FocalPlaneResolutionUnit': 2, 'ExposureTime': '0.0015625', 'FNumber': '3.2', 'ExposureProgram': 6, 'CustomRendered': 0, 'ISOSpeedRatings': 100, 'ExposureMode': 0, 'WhiteBalance': 0, 'SceneCaptureType': 0}, 'color': ['#292e25', '#d9e1eb'], 'tags': []}, 'La%20Mediterranee.jpg': {'exif': {'GPSInfo': \"{0: b'\\\\x02\\\\x03\\\\x00\\\\x00'}\", 'ResolutionUnit': 2, 'ExifOffset': 264, 'ImageDescription': '                               ', 'Make': 'Canon', 'Model': 'Canon PowerShot G16', 'YResolution': '180.0', 'Orientation': 1, 'DateTime': '2016:08:14 20:19:16', 'YCbCrPositioning': 2, 'Copyright': '', 'XResolution': '180.0', 'Artist': '', 'CompressedBitsPerPixel': '3.0', 'DateTimeOriginal': '2016:08:14 20:19:16', 'DateTimeDigitized': '2016:08:14 20:19:16', 'ShutterSpeedValue': '5.90625', 'ApertureValue': '1.6875', 'ExposureBiasValue': '0.0', 'MaxApertureValue': '1.6875', 'MeteringMode': 5, 'Flash': 16, 'FocalLength': '6.1', 'ColorSpace': 1, 'ExifImageWidth': 4000, 'FocalPlaneXResolution': '13745.704467353951', 'ExifImageHeight': 3000, 'FocalPlaneYResolution': '13698.630136986301', 'FocalPlaneResolutionUnit': 2, 'SensingMethod': 2, 'ExposureTime': '0.016666666666666666', 'ExifInteroperabilityOffset': 5036, 'FNumber': '1.8', 'CustomRendered': 0, 'ISOSpeedRatings': 640, 'ExposureMode': 0, 'SensitivityType': 4, 'WhiteBalance': 0, 'CameraOwnerName': '', 'DigitalZoomRatio': '1.0', 'SceneCaptureType': 0}, 'color': ['#3e5572', '#b0ad9e'], 'tags': ['nature', 'classy', 'architecture']}, 'land%20Hotel%20Las%20Vegas.jpg': {'exif': {'ResolutionUnit': 2, 'ExifOffset': 228, 'Make': 'Canon', 'Model': 'Canon DIGITAL IXUS 50', 'Software': 'Adobe Photoshop CS Windows', 'Orientation': 1, 'DateTime': '2006:11:09 21:10:55', 'YCbCrPositioning': 1, 'XResolution': '180.0', 'YResolution': '180.0', 'CompressedBitsPerPixel': '5.0', 'DateTimeOriginal': '2006:09:11 23:44:45', 'DateTimeDigitized': '2006:09:11 23:44:45', 'ShutterSpeedValue': '7.96875', 'ApertureValue': '6.0', 'ExposureBiasValue': '0.0', 'MaxApertureValue': '4.0', 'MeteringMode': 5, 'Flash': 24, 'FocalLength': '12.12', 'ColorSpace': 1, 'ExifImageWidth': 1924, 'FocalPlaneXResolution': '11520.0', 'ExifImageHeight': 1561, 'FocalPlaneYResolution': '11571.42857142857', 'FocalPlaneResolutionUnit': 2, 'SensingMethod': 2, 'ExposureTime': '0.004', 'ExifInteroperabilityOffset': 988, 'FNumber': '8.0', 'CustomRendered': 0, 'ExposureMode': 0, 'WhiteBalance': 0, 'DigitalZoomRatio': '1.0', 'SceneCaptureType': 0}, 'color': ['#96a3b5', '#3f3b34'], 'tags': []}, 'Las%20vegas%20club-edit1.jpg': {'exif': {'ResolutionUnit': 2, 'ExifOffset': 2300, 'Make': 'Canon', 'Model': 'Canon PowerShot A540', 'Software': 'Adobe Photoshop CS3 Macintosh', 'Orientation': 1, 'DateTime': '2008:12:04 14:42:21', 'YCbCrPositioning': 1, 'XResolution': '180.0', 'YResolution': '180.0', 'CompressedBitsPerPixel': '5.0', 'DateTimeOriginal': '2008:07:01 19:08:09', 'DateTimeDigitized': '2008:07:01 19:08:09', 'ShutterSpeedValue': '7.65625', 'ApertureValue': '4.0', 'ExposureBiasValue': '-0.3333333333333333', 'MaxApertureValue': '2.75', 'MeteringMode': 5, 'Flash': 80, 'FocalLength': '5.8', 'ColorSpace': 1, 'ExifImageWidth': 1600, 'FocalPlaneXResolution': '10097.777777777777', 'ExifImageHeight': 1200, 'FocalPlaneYResolution': '10082.84023668639', 'FocalPlaneResolutionUnit': 2, 'SensingMethod': 2, 'ExposureTime': '0.005', 'ExifInteroperabilityOffset': 5144, 'FNumber': '4.0', 'CustomRendered': 0, 'ExposureMode': 1, 'WhiteBalance': 0, 'DigitalZoomRatio': '1.0', 'SceneCaptureType': 1}, 'color': ['#494540', '#a5b5bd'], 'tags': ['classy', 'architecture']}, 'Las%20Vegas%2C%20Nevada%29.jpg': {'exif': {'ResolutionUnit': 2, 'ExifOffset': 218, 'YResolution': '72.0', 'Software': 'Photos 3.0', 'Orientation': 1, 'DateTime': '2018:10:18 16:01:38', 'Copyright': 'Attribution-ShareAlike (CC BY-SA) \\n', 'XResolution': '72.0', 'Artist': 'Raul Jusinto', 'ShutterSpeedValue': '11.55218876125427', 'DateTimeOriginal': '2018:10:18 16:01:38', 'ApertureValue': '1.695993816823393', 'BrightnessValue': '10.845281862745098', 'ExposureBiasValue': '0.0', 'MeteringMode': 3, 'ColorSpace': 65535, 'Flash': 16, 'FocalLength': '4.0', 'ExifImageWidth': 4032, 'ExifImageHeight': 3024, 'DigitalZoomRatio': '2.2072992700729928', 'FocalLengthIn35mmFilm': 62, 'SceneCaptureType': 0, 'SensingMethod': 2, 'ExposureTime': '0.000333000333000333', 'FNumber': '1.8', 'ExposureProgram': 2, 'ISOSpeedRatings': 20, 'ExposureMode': 0, 'WhiteBalance': 0, 'LensSpecification': '(3.99, 3.99, 1.8, 1.8)', 'LensMake': 'Apple', 'LensModel': 'iPhone 8 back camera 3.99mm f/1.8'}, 'color': ['#1b1b22', '#838ea6'], 'tags': ['modern']}, 'LasVegas-MGMgrand.jpg': {'exif': {'CustomRendered': 0, 'ExposureMode': 1, 'WhiteBalance': 1, 'SceneCaptureType': 0, 'ResolutionUnit': 2, 'ExifOffset': 264, 'Make': 'Canon', 'Model': 'Canon EOS 10D', 'Software': 'Adobe Photoshop Album 2.0', 'DateTime': '2004:10:10 19:07:32', 'YCbCrPositioning': 1, 'XResolution': '133.25', 'YResolution': '133.25', 'ShutterSpeedValue': '-0.5849456787109375', 'DateTimeOriginal': '2003:12:26 23:31:03', 'DateTimeDigitized': '2003:12:26 23:31:03', 'ApertureValue': '6.9188690185546875', 'ExposureBiasValue': '0.0', 'ColorSpace': 65535, 'Flash': 0, 'FocalLength': '40.0', 'ExifImageWidth': 800, 'ExifImageHeight': 533, 'FocalPlaneXResolution': '3443.946188340807', 'FocalPlaneYResolution': '3442.016806722689', 'FocalPlaneResolutionUnit': 2, 'ExposureTime': '1.5', 'FNumber': '11.0', 'ISOSpeedRatings': 400}, 'color': ['#1a2511', '#ac8b71'], 'tags': ['modern', 'classy']}, 'Leamy%20Casino.JPG': {'exif': {'ResolutionUnit': 2, 'ExifOffset': 543, 'ImageDescription': 'OLYMPUS DIGITAL CAMERA         ', 'Make': 'OLYMPUS CORPORATION    ', 'Model': 'u10D,S300D,u300D', 'Software': '22-1014                        ', 'Orientation': 1, 'DateTime': '2005:10:20 14:49:23', 'YCbCrPositioning': 2, 'XResolution': '144.0', 'YResolution': '144.0', 'DateTimeOriginal': '2005:10:20 14:49:23', 'DateTimeDigitized': '2005:10:20 14:49:23', 'ExposureBiasValue': '0.0', 'MaxApertureValue': '3.26', 'MeteringMode': 5, 'LightSource': 0, 'Flash': 24, 'FocalLength': '5.8', 'ColorSpace': 1, 'ExifImageWidth': 2048, 'SceneCaptureType': 0, 'GainControl': 0, 'ExifImageHeight': 1536, 'Contrast': 0, 'Saturation': 0, 'Sharpness': 0, 'ExposureTime': '0.016666666666666666', 'ExifInteroperabilityOffset': 1892, 'FNumber': '8.8', 'ExposureProgram': 2, 'CustomRendered': 0, 'ISOSpeedRatings': 80, 'ExposureMode': 0, 'WhiteBalance': 0, 'DigitalZoomRatio': '1.0'}, 'color': ['#5b5e6c', '#c6cedd'], 'tags': ['architecture']}, 'London%20Hippodrome%202011.jpg': {'exif': {'ResolutionUnit': 2, 'ExifOffset': 196, 'Make': 'NIKON CORPORATION', 'Model': 'NIKON D90', 'Software': 'Ver.1.00', 'DateTime': '2011:06:15 14:36:09', 'YCbCrPositioning': 1, 'XResolution': '300.0', 'YResolution': '300.0', 'ColorSpace': 1, 'DateTimeOriginal': '2011:06:15 14:36:09', 'DateTimeDigitized': '2011:06:15 14:36:09', 'ExposureBiasValue': '0.0', 'MaxApertureValue': '3.614709851551957', 'MeteringMode': 5, 'LightSource': 0, 'Flash': 24, 'FocalLength': '18.0', 'ExifImageWidth': 4288, 'DigitalZoomRatio': '1.0', 'FocalLengthIn35mmFilm': 27, 'SceneCaptureType': 0, 'ExifImageHeight': 2848, 'Contrast': 0, 'Saturation': 0, 'Sharpness': 0, 'SubjectDistanceRange': 0, 'SensingMethod': 2, 'ExposureTime': '0.005', 'FNumber': '7.1', 'ExposureProgram': 0, 'CustomRendered': 0, 'ISOSpeedRatings': 200, 'ExposureMode': 0, 'WhiteBalance': 0, 'GainControl': 0}, 'color': ['#58534d', '#f2f9fb'], 'tags': ['architecture']}, 'M-408116720.jpg': {'exif': {'CustomRendered': 0, 'ExposureMode': 0, 'WhiteBalance': 0, 'SceneCaptureType': 0, 'ResolutionUnit': 2, 'ExifOffset': 224, 'Make': 'Canon', 'Model': 'Canon EOS 350D DIGITAL', 'DateTime': '2006:07:03 07:47:50', 'YCbCrPositioning': 2, 'XResolution': '72.0', 'YResolution': '72.0', 'ShutterSpeedValue': '6.321929931640625', 'DateTimeOriginal': '2006:07:03 07:47:50', 'DateTimeDigitized': '2006:07:03 07:47:50', 'ApertureValue': '4.970855712890625', 'ExposureBiasValue': '0.0', 'MeteringMode': 5, 'Flash': 16, 'FocalLength': '18.0', 'ColorSpace': 1, 'ExifImageWidth': 2304, 'FocalPlaneXResolution': '3958.762886597938', 'FocalPlaneYResolution': '3954.233409610984', 'ExifImageHeight': 3456, 'FocalPlaneResolutionUnit': 2, 'ExposureTime': '0.0125', 'FNumber': '5.6', 'ExposureProgram': 2, 'ISOSpeedRatings': 400}, 'color': ['#1c0902', '#e4a46b'], 'tags': ['classy']}, 'Marinalarge.jpg': {'exif': {}, 'color': ['#555449', '#7ca5c3'], 'tags': []}, 'Mirage%20Volcano.jpg': {'exif': {'ImageWidth': 10500, 'ImageLength': 7001, 'BitsPerSample': '(8, 8, 8)', 'Compression': 1, 'PhotometricInterpretation': 2, 'ResolutionUnit': 2, 'ExifOffset': 308, 'Make': 'Canon', 'Model': 'Canon EOS-1Ds Mark II', 'Software': 'Adobe Photoshop CS2 Macintosh', 'Orientation': 1, 'DateTime': '2008:12:30 12:44:16', 'SamplesPerPixel': 3, 'XResolution': '200.0', 'YResolution': '200.0', 'PlanarConfiguration': 1, 'ShutterSpeedValue': '2.321928', 'ApertureValue': '6.33985', 'DateTimeOriginal': '2008:12:03 20:26:41', 'DateTimeDigitized': '2008:12:03 20:26:41', 'ExposureBiasValue': '0.0', 'MaxApertureValue': '4.0', 'MeteringMode': 5, 'ColorSpace': 65535, 'Flash': 16, 'FocalLength': '26.0', 'ExifImageWidth': 2000, 'ExifImageHeight': 1334, 'SceneCaptureType': 0, 'FocalPlaneXResolution': '3526.760563380282', 'FocalPlaneYResolution': '3528.042328042328', 'FocalPlaneResolutionUnit': 2, 'ExposureTime': '0.2', 'FNumber': '9.0', 'ExposureProgram': 1, 'CustomRendered': 0, 'ISOSpeedRatings': 800, 'ExposureMode': 1, 'WhiteBalance': 1}, 'color': ['#47291a', '#deb48b'], 'tags': ['nature', 'modern', 'classy']}, 'Neues%20Kurhaus%20II.jpg': {'exif': {'ResolutionUnit': 2, 'ExifOffset': 224, 'Make': 'NIKON CORPORATION', 'Model': 'NIKON D50', 'Software': 'Adobe Photoshop Elements 9.0 Windows', 'Orientation': 1, 'DateTime': '2012:01:12 22:09:23', 'XResolution': '240.0', 'YResolution': '240.0', 'ShutterSpeedValue': '5.906891', 'ApertureValue': '4.811985', 'DateTimeOriginal': '2012:01:12 16:43:41', 'DateTimeDigitized': '2012:01:12 16:43:41', 'ExposureBiasValue': '0.0', 'MaxApertureValue': '4.7', 'SubjectDistance': '4294967295.0', 'MeteringMode': 5, 'LightSource': 0, 'Flash': 0, 'FocalLength': '42.0', 'ColorSpace': 1, 'ExifImageWidth': 2994, 'SceneCaptureType': 0, 'SubsecTime': '60', 'SubsecTimeOriginal': '60', 'SubsecTimeDigitized': '60', 'ExifImageHeight': 1991, 'SubjectDistanceRange': 0, 'SensingMethod': 2, 'ExposureTime': '0.016666666666666666', 'FNumber': '5.3', 'ExposureProgram': 3, 'CustomRendered': 0, 'ISOSpeedRatings': 400, 'ExposureMode': 0, 'WhiteBalance': 0, 'LensSpecification': '(18.0, 55.0, 3.5, 5.6)', 'LensModel': '18.0-55.0 mm f/3.5-5.6', 'DigitalZoomRatio': '1.0', 'FocalLengthIn35mmFilm': 63, 'GainControl': 0, 'Contrast': 0, 'Saturation': 0, 'Sharpness': 0}, 'color': ['#514b42', '#d5dadc'], 'tags': ['architecture']}, 'no%20Lakeside%20California.jpg': {'exif': {'ResolutionUnit': 2, 'ExifOffset': 320, 'Make': 'Canon', 'Model': 'Canon EOS 40D', 'Software': 'Adobe Photoshop CS5 Windows', 'Orientation': 1, 'DateTime': '2013:03:22 19:48:51', 'YResolution': '300.0', 'Copyright': 'Â© Instinct Images - Creative Commons Attributionâ\\x80\\x93ShareAlike License\\n', 'XResolution': '300.0', 'Artist': 'Instinct Images', 'ShutterSpeedValue': '6.965784', 'ApertureValue': '6.918863', 'DateTimeOriginal': '2013:03:21 11:03:27', 'DateTimeDigitized': '2013:03:21 11:03:27', 'ExposureBiasValue': '0.0', 'MaxApertureValue': '4.0', 'SubjectDistance': '4294967295.0', 'MeteringMode': 6, 'Flash': 16, 'FocalLength': '25.0', 'ColorSpace': 1, 'ExifImageWidth': 900, 'SceneCaptureType': 0, 'FocalPlaneXResolution': '4438.356164383562', 'FocalPlaneYResolution': '4445.969125214408', 'SubsecTime': '00', 'SubsecTimeOriginal': '00', 'SubsecTimeDigitized': '00', 'ExifImageHeight': 600, 'FocalPlaneResolutionUnit': 2, 'ExposureTime': '0.008', 'FNumber': '11.0', 'ExposureProgram': 3, 'CustomRendered': 0, 'ISOSpeedRatings': 100, 'ExposureMode': 0, 'WhiteBalance': 1, 'BodySerialNumber': '1921100444', 'LensSpecification': '(18.0, 55.0, nan, nan)', 'LensModel': 'EF-S18-55mm f/3.5-5.6 IS'}, 'color': ['#cfd8d6', '#4d4e2f'], 'tags': ['nature']}, 'O%27Sheas%20Casino.jpg': {'exif': {}, 'color': ['#57574f', '#bebdb4'], 'tags': ['nature']}, 'o%2C%20casin%C3%B2%2C%2001.jpg': {'exif': {'ImageWidth': 5472, 'ImageLength': 3648, 'BitsPerSample': '(8, 8, 8)', 'GPSInfo': \"{0: b'\\\\x02\\\\x03\\\\x00\\\\x00'}\", 'PhotometricInterpretation': 2, 'ResolutionUnit': 2, 'ExifOffset': 304, 'Make': 'Canon', 'Model': 'Canon EOS 6D', 'Software': 'Adobe Photoshop CC 2017 (Windows)', 'Orientation': 1, 'DateTime': '2019:07:01 23:21:52', 'YCbCrPositioning': 2, 'SamplesPerPixel': 3, 'XResolution': '72.0', 'YResolution': '72.0', 'ShutterSpeedValue': '8.0', 'DateTimeOriginal': '2018:08:19 13:42:25', 'DateTimeDigitized': '2018:08:19 13:42:25', 'ApertureValue': '6.625', 'ExposureBiasValue': '0.0', 'MaxApertureValue': '3.75', 'MeteringMode': 5, 'Flash': 16, 'FocalLength': '24.0', 'ColorSpace': 1, 'ExifImageWidth': 4074, 'ExifInteroperabilityOffset': 1228, 'FocalPlaneXResolution': '3810.58495821727', 'SubsecTime': '92', 'SubsecTimeOriginal': '92', 'SubsecTimeDigitized': '92', 'ExifImageHeight': 3462, 'FocalPlaneYResolution': '3815.899581589958', 'FocalPlaneResolutionUnit': 2, 'ExposureTime': '0.004', 'FNumber': '10.0', 'ExposureProgram': 2, 'CustomRendered': 0, 'ISOSpeedRatings': 100, 'ExposureMode': 0, 'SensitivityType': 2, 'WhiteBalance': 0, 'RecommendedExposureIndex': 100, 'CameraOwnerName': '', 'BodySerialNumber': '055052000338', 'LensSpecification': '(24.0, 105.0, 0.0, 0.0)', 'LensModel': 'EF24-105mm f/3.5-5.6 IS STM', 'LensSerialNumber': '000000ccc4', 'SceneCaptureType': 0}, 'color': ['#a5bede', '#494542'], 'tags': []}, 'ontainebleau%20Las%20Vegas.JPG': {'exif': {'ResolutionUnit': 2, 'ExifOffset': 2362, 'ImageDescription': '                               ', 'Make': 'SONY', 'Model': 'DSC-W80', 'Software': 'Microsoft Windows Live Photo Gallery14.0.8064.206', 'Orientation': 1, 'DateTime': '2009:07:16 10:11:34', 'YCbCrPositioning': 2, 'XResolution': '72.0', 'YResolution': '72.0', 'CompressedBitsPerPixel': '4.0', 'DateTimeOriginal': '2009:07:16 09:04:22', 'DateTimeDigitized': '2009:07:16 09:04:22', 'ExposureBiasValue': '0.0', 'MaxApertureValue': '3.0', 'MeteringMode': 5, 'LightSource': 0, 'Flash': 16, 'FocalLength': '8.7', 'ColorSpace': 1, 'ExifImageWidth': 1536, 'ExifInteroperabilityOffset': 13368, 'SceneCaptureType': 0, 'Contrast': 0, 'ExifImageHeight': 2048, 'Saturation': 0, 'Sharpness': 0, 'ExposureTime': '0.008', 'FNumber': '10.0', 'ImageUniqueID': '4BA0D9801FA443929EA71B7366D59966', 'ExposureProgram': 2, 'CustomRendered': 0, 'ISOSpeedRatings': 125, 'ExposureMode': 0, 'WhiteBalance': 0}, 'color': ['#384a5e', '#c1d6df'], 'tags': ['modern']}, 'Orleans2-LV.JPG': {'exif': {'ResolutionUnit': 2, 'ExifOffset': 996, 'ImageDescription': 'OLYMPUS DIGITAL CAMERA         ', 'Make': 'OLYMPUS IMAGING CORP.', 'Model': 'C180,D435', 'Software': 'Version 1.0', 'Orientation': 1, 'DateTime': '0000:00:00 00:00:00', 'YCbCrPositioning': 2, 'XResolution': '72.0', 'YResolution': '72.0', 'CompressedBitsPerPixel': '2.0', 'DateTimeOriginal': '0000:00:00 00:00:00', 'DateTimeDigitized': '0000:00:00 00:00:00', 'ExposureBiasValue': '0.0', 'MaxApertureValue': '3.0', 'MeteringMode': 5, 'LightSource': 0, 'Flash': 24, 'FocalLength': '6.1', 'ColorSpace': 1, 'ExifImageWidth': 2592, 'ExifInteroperabilityOffset': 1714, 'SceneCaptureType': 0, 'ExifImageHeight': 1944, 'Contrast': 0, 'Saturation': 0, 'Sharpness': 0, 'ExposureTime': '0.0025', 'FNumber': '2.8', 'ExposureProgram': 5, 'CustomRendered': 0, 'ISOSpeedRatings': 250, 'ExposureMode': 0, 'WhiteBalance': 0, 'DigitalZoomRatio': '1.85', 'GainControl': 2}, 'color': ['#afb6ba', '#434239'], 'tags': []}, 'Palms%20Casino%20Resort.jpg': {'exif': {'ResolutionUnit': 2, 'Software': 'Paint.NET v3.10', 'XResolution': '200.0', 'YResolution': '200.0'}, 'color': ['#352d31', '#5b7b9c'], 'tags': []}, 'Park%20MGM%20exterior.jpg': {'exif': {'GPSInfo': \"{1: 'N', 2: (36.0, 6.0, 13.37), 3: 'W', 4: (115.0, 10.0, 25.2), 5: b'\\\\x00', 6: 647.5966162065895, 7: (18.0, 55.0, 27.01), 12: 'K', 13: 0.0, 16: 'T', 17: 332.27140783744557, 23: 'T', 24: 332.27140783744557, 29: '2019:02:04', 31: 30.0}\", 'ResolutionUnit': 2, 'ExifOffset': 206, 'Make': 'Apple', 'Model': 'iPhone SE', 'Software': '12.1.2', 'Orientation': 3, 'DateTime': '2019:02:04 10:55:27', 'YCbCrPositioning': 1, 'XResolution': '72.0', 'YResolution': '72.0', 'ShutterSpeedValue': '10.80486409155937', 'DateTimeOriginal': '2019:02:04 10:55:27', 'DateTimeDigitized': '2019:02:04 10:55:27', 'ApertureValue': '2.2750070475474535', 'BrightnessValue': '10.949874130016289', 'ExposureBiasValue': '0.0', 'MeteringMode': 5, 'Flash': 24, 'FocalLength': '4.15', 'ColorSpace': 1, 'ExifImageWidth': 4032, 'FocalLengthIn35mmFilm': 29, 'SceneCaptureType': 0, 'ExifImageHeight': 3024, 'SubsecTimeOriginal': '820', 'SubsecTimeDigitized': '820', 'SubjectLocation': '(2015, 1511, 2217, 1330)', 'SensingMethod': 2, 'ExposureTime': '0.0005589714924538849', 'FNumber': '2.2', 'ExposureProgram': 2, 'ISOSpeedRatings': 25, 'ExposureMode': 0, 'WhiteBalance': 0, 'LensSpecification': '(4.15, 4.15, 2.2, 2.2)', 'LensMake': 'Apple', 'LensModel': 'iPhone SE back camera 4.15mm f/2.2'}, 'color': ['#2d3437', '#b2c0d1'], 'tags': []}, 'r%20City%20Casino%20Length.png': {'exif': {}, 'color': ['#acc3d4', '#434b4c'], 'tags': ['nature', 'modern']}, 'Rio%20hotel%20vegas.jpg': {'exif': {}, 'color': ['#5a463b', '#b3c2d0'], 'tags': ['modern']}, 'Rio%20Vegas%20Nima.JPG': {'exif': {'ExifOffset': 2272, 'ImageDescription': '                               ', 'Make': 'SONY', 'Model': 'DSC-H3', 'Orientation': 1, 'DateTime': '2008:11:04 10:43:33', 'YCbCrPositioning': 2, 'CompressedBitsPerPixel': '3.0', 'DateTimeOriginal': '2008:11:04 10:43:33', 'DateTimeDigitized': '2008:11:04 10:43:33', 'ExposureBiasValue': '0.0', 'MaxApertureValue': '3.625', 'MeteringMode': 5, 'LightSource': 0, 'Flash': 16, 'FocalLength': '30.4', 'ColorSpace': 1, 'ExifImageWidth': 3264, 'SceneCaptureType': 0, 'Contrast': 0, 'Saturation': 0, 'ExifImageHeight': 2448, 'SubsecTimeOriginal': '00', 'SubsecTimeDigitized': '00', 'Sharpness': 0, 'ExposureTime': '0.002', 'FNumber': '4.0', 'ExposureProgram': 2, 'CustomRendered': 0, 'ISOSpeedRatings': 125, 'ExposureMode': 0, 'WhiteBalance': 0}, 'color': ['#ced8d5', '#3f495e'], 'tags': ['modern', 'classy']}, 'Riverwind%20Casino.jpg': {'exif': {}, 'color': ['#2a2c32', '#5c648e'], 'tags': ['classy']}, 'Royan%20pont%20cas.JPG': {'exif': {'ResolutionUnit': 2, 'ExifOffset': 636, 'Make': 'Panasonic', 'Model': 'DMC-FZ28', 'Software': 'Ver.1.0  ', 'Orientation': 1, 'DateTime': '2009:08:27 17:53:49', 'YCbCrPositioning': 2, 'XResolution': '180.0', 'YResolution': '180.0', 'CompressedBitsPerPixel': '4.0', 'DateTimeOriginal': '2009:08:27 17:53:49', 'DateTimeDigitized': '2009:08:27 17:53:49', 'ExposureBiasValue': '0.0', 'MaxApertureValue': '3.0', 'MeteringMode': 5, 'LightSource': 0, 'Flash': 16, 'FocalLength': '7.1', 'ColorSpace': 1, 'ExifImageWidth': 1600, 'ExifInteroperabilityOffset': 10242, 'FocalLengthIn35mmFilm': 71, 'SceneCaptureType': 0, 'ExifImageHeight': 1200, 'Contrast': 0, 'Saturation': 0, 'Sharpness': 0, 'SensingMethod': 2, 'ExposureTime': '0.00125', 'FNumber': '8.0', 'ExposureProgram': 2, 'CustomRendered': 0, 'ISOSpeedRatings': 100, 'ExposureMode': 0, 'WhiteBalance': 0, 'DigitalZoomRatio': '0.0', 'GainControl': 0}, 'color': ['#676e67', '#b8baab'], 'tags': []}, 'rto%20Rico%20Roof%20Sunset.jpg': {'exif': {'ResolutionUnit': 2, 'ExifOffset': 154, 'Make': 'Canon', 'Model': 'Canon EOS 7D', 'DateTime': '2012:09:12 22:22:15', 'XResolution': '240.0', 'YResolution': '240.0', 'ShutterSpeedValue': '8.965784', 'ApertureValue': '5.310704', 'DateTimeOriginal': '2012:09:02 18:15:16', 'DateTimeDigitized': '2012:09:02 18:15:16', 'ExposureBiasValue': '0.0', 'MaxApertureValue': '3.0', 'SubjectDistance': '4294967295.0', 'MeteringMode': 5, 'Flash': 16, 'FocalLength': '100.0', 'ExposureMode': 1, 'WhiteBalance': 0, 'SceneCaptureType': 0, 'FocalPlaneXResolution': '5715.545755237045', 'FocalPlaneYResolution': '5808.403361344538', 'FocalPlaneResolutionUnit': 2, 'SubsecTimeOriginal': '00', 'SubsecTimeDigitized': '00', 'ExposureTime': '0.002', 'FNumber': '6.3', 'ExposureProgram': 1, 'CustomRendered': 0, 'ISOSpeedRatings': 500}, 'color': ['#c5d0df', '#624e3c'], 'tags': ['architecture']}, 's%20%28July%2015%202008%29.jpg': {'exif': {'ImageWidth': 3072, 'ImageLength': 2048, 'BitsPerSample': '(8, 8, 8)', 'PhotometricInterpretation': 2, 'ResolutionUnit': 2, 'ExifOffset': 300, 'Make': 'Canon', 'Model': 'Canon EOS 300D DIGITAL', 'Software': 'Adobe Photoshop CC 2015 (Windows)', 'Orientation': 1, 'DateTime': '2017:10:15 07:07:51', 'YCbCrPositioning': 1, 'SamplesPerPixel': 3, 'XResolution': '180.0', 'YResolution': '180.0', 'CompressedBitsPerPixel': '3.0', 'DateTimeOriginal': '2008:07:15 07:33:18', 'DateTimeDigitized': '2008:07:15 07:33:18', 'ShutterSpeedValue': '9.321929931640625', 'ApertureValue': '5.310699462890625', 'ExposureBiasValue': '0.0', 'MaxApertureValue': '0.970855712890625', 'MeteringMode': 5, 'Flash': 0, 'FocalLength': '30.0', 'ColorSpace': 1, 'ExifImageWidth': 3000, 'FocalPlaneXResolution': '3443.946188340807', 'ExifImageHeight': 2000, 'FocalPlaneYResolution': '3442.016806722689', 'FocalPlaneResolutionUnit': 2, 'SensingMethod': 2, 'ExposureTime': '0.0015625', 'FNumber': '6.3', 'CustomRendered': 0, 'ISOSpeedRatings': 100, 'ExposureMode': 0, 'WhiteBalance': 0, 'SceneCaptureType': 0}, 'color': ['#6d664b', '#a7bbd1'], 'tags': []}, 's%2095%20%2828276862784%29.jpg': {'exif': {'ImageWidth': 4035, 'ImageLength': 2596, 'BitsPerSample': '(8, 8, 8)', 'GPSInfo': \"{0: b'\\\\x02\\\\x03\\\\x00\\\\x00', 1: 'N', 2: (36.0, 7.0, 15.441858121725112), 3: 'W', 4: (115.0, 10.0, 10.871213872832369), 53248: 10.387902064330293, 53249: 0.0, 16: 'T', 17: 359.98237885462555, 23: 'T', 24: 0.0, 25: 'K', 26: 4.597162997128187}\", 'PhotometricInterpretation': 2, 'ResolutionUnit': 2, 'ExifOffset': 246, 'Software': 'Adobe Photoshop CC 2015 (Windows)', 'Orientation': 1, 'DateTime': '2016:07:25 16:00:03', 'SamplesPerPixel': 3, 'XResolution': '96.0', 'YResolution': '96.0', 'ColorSpace': 65535, 'ExifImageWidth': 4035, 'ExifImageHeight': 2596}, 'color': ['#969dc8', '#2f397c'], 'tags': ['classy', 'architecture']}, 's%20Vegas%20October%202012.jpg': {'exif': {'ImageWidth': 1600, 'ImageLength': 1200, 'ExifOffset': 147, 'Make': 'SAMSUNG', 'Model': 'SCH-R910', 'Orientation': 1, 'DateTime': '2012:10:06 12:05:22', 'YCbCrPositioning': 1, 'ColorSpace': 1, 'ExifImageWidth': 1600, 'DateTimeOriginal': '2012:10:06 12:05:22', 'DateTimeDigitized': '2012:10:06 12:05:22', 'ExposureBiasValue': '0.0', 'MaxApertureValue': '2.76', 'MeteringMode': 2, 'Flash': 0, 'FocalLength': '2.78', 'ExifImageHeight': 1200, 'WhiteBalance': 0, 'SceneCaptureType': 0, 'ExposureTime': '0.008333333333333333', 'FNumber': '2.6', 'ExposureProgram': 3, 'ISOSpeedRatings': 50, 'ExposureMode': 0}, 'color': ['#413b3c', '#b4b1ad'], 'tags': ['classy']}, 'Samstown-01.jpg': {'exif': {'ResolutionUnit': 2, 'ExifOffset': 266, 'Make': 'FUJIFILM', 'Model': 'FinePix F470', 'Software': 'QuickTime 7.5', 'Orientation': 1, 'DateTime': '2008:08:26 11:50:49', 'YCbCrPositioning': 2, 'Copyright': '    ', 'XResolution': '72.0', 'YResolution': '72.0', 'HostComputer': 'Mac OS X 10.5.4', 'CompressedBitsPerPixel': '4.0', 'DateTimeOriginal': '2008:08:24 16:17:17', 'DateTimeDigitized': '2008:08:24 16:17:17', 'ShutterSpeedValue': '8.6', 'ApertureValue': '4.3', 'BrightnessValue': '7.6', 'ExposureBiasValue': '0.0', 'MaxApertureValue': '3.0', 'MeteringMode': 5, 'LightSource': 0, 'Flash': 24, 'FocalLength': '13.4', 'ColorSpace': 1, 'ExifImageWidth': 2816, 'ExifImageHeight': 2112, 'FocalPlaneXResolution': '4926.0', 'FocalPlaneYResolution': '4926.0', 'FocalPlaneResolutionUnit': 3, 'SubjectDistanceRange': 0, 'SensingMethod': 2, 'ExposureTime': '0.0025', 'FNumber': '4.4', 'ExposureProgram': 2, 'CustomRendered': 0, 'ISOSpeedRatings': 64, 'ExposureMode': 0, 'WhiteBalance': 0, 'SceneCaptureType': 0, 'Sharpness': 0}, 'color': ['#a2b0e1', '#7f410f'], 'tags': ['classy']}, 'San%20Juan%2C%20casino.jpg': {'exif': {'GPSInfo': \"{0: b'\\\\x02\\\\x02\\\\x00\\\\x00'}\", 'ResolutionUnit': 2, 'ExifOffset': 364, 'Make': 'NIKON CORPORATION', 'Model': 'NIKON D300', 'Software': 'Adobe Photoshop CS Windows', 'Orientation': 1, 'DateTime': '2019:07:11 11:16:55', 'YCbCrCoefficients': '(0.299, 0.587, 0.114)', 'YCbCrPositioning': 2, 'XResolution': '300.0', 'YResolution': '300.0', 'WhitePoint': '(0.313, 0.329)', 'PrimaryChromaticities': '(0.64, 0.33, 0.21, 0.71, 0.15, 0.06)', 'CompressedBitsPerPixel': '4.0', 'DateTimeOriginal': '2013:10:28 16:00:56', 'DateTimeDigitized': '2013:10:28 16:00:56', 'ExposureBiasValue': '0.0', 'MaxApertureValue': '3.0', 'MeteringMode': 2, 'LightSource': 9, 'Flash': 0, 'FocalLength': '28.0', 'ColorSpace': 65535, 'ExifImageWidth': 3923, 'ExifInteroperabilityOffset': 1008, 'SceneCaptureType': 0, 'SubsecTime': '32', 'SubsecTimeOriginal': '32', 'SubsecTimeDigitized': '32', 'ExifImageHeight': 2604, 'SubjectDistanceRange': 0, 'SensingMethod': 2, 'ExposureTime': '0.00625', 'FNumber': '22.0', 'ExposureProgram': 4, 'CustomRendered': 0, 'ISOSpeedRatings': 200, 'Gamma': '2.2', 'ExposureMode': 0, 'WhiteBalance': 1, 'DigitalZoomRatio': '1.0', 'FocalLengthIn35mmFilm': 42, 'GainControl': 0, 'Contrast': 0, 'Saturation': 0, 'Sharpness': 2}, 'color': ['#4e4f49', '#a9b6d3'], 'tags': ['architecture']}, 'Southcoastcasinovegas.jpg': {'exif': {'ResolutionUnit': 2, 'ExifOffset': 156, 'Software': 'Adobe Photoshop 7.0', 'Orientation': 1, 'DateTime': '2006:02:13 18:09:58', 'XResolution': '72.0', 'YResolution': '72.0', 'ColorSpace': 65535, 'ExifImageWidth': 500, 'ExifImageHeight': 354}, 'color': ['#5b5d56', '#a1bec5'], 'tags': []}, 'Spa%20Casino%20R02.jpg': {'exif': {'ResolutionUnit': 2, 'ExifOffset': 196, 'Make': 'Canon', 'Model': 'Canon PowerShot A620', 'Orientation': 1, 'DateTime': '2008:09:18 14:31:43', 'YCbCrPositioning': 1, 'XResolution': '180.0', 'YResolution': '180.0', 'CompressedBitsPerPixel': '5.0', 'DateTimeOriginal': '2008:09:18 14:31:43', 'DateTimeDigitized': '2008:09:18 14:31:43', 'ShutterSpeedValue': '8.96875', 'ApertureValue': '5.3125', 'ExposureBiasValue': '0.0', 'MaxApertureValue': '3.34375', 'MeteringMode': 5, 'Flash': 80, 'FocalLength': '9.565', 'ColorSpace': 1, 'ExifImageWidth': 3072, 'FocalPlaneXResolution': '10816.901408450703', 'ExifImageHeight': 2304, 'FocalPlaneYResolution': '10816.901408450703', 'FocalPlaneResolutionUnit': 2, 'SensingMethod': 2, 'ExposureTime': '0.002', 'ExifInteroperabilityOffset': 2206, 'FNumber': '6.3', 'CustomRendered': 0, 'ExposureMode': 0, 'WhiteBalance': 0, 'DigitalZoomRatio': '1.0', 'SceneCaptureType': 0}, 'color': ['#a6acb0', '#4c4a42'], 'tags': ['architecture']}, 'Spielbank%20Hohensyburg.JPG': {'exif': {'ResolutionUnit': 2, 'ExifOffset': 288, 'Make': 'FUJIFILM', 'Model': 'FinePix F650', 'Software': 'Digital Camera FinePix F650 Ver1.00', 'Orientation': 1, 'DateTime': '2007:03:11 12:19:07', 'YCbCrPositioning': 2, 'Copyright': '    ', 'XResolution': '72.0', 'YResolution': '72.0', 'CompressedBitsPerPixel': '4.0', 'DateTimeOriginal': '2007:03:11 12:19:07', 'DateTimeDigitized': '2007:03:11 12:19:07', 'ShutterSpeedValue': '8.3', 'ApertureValue': '3.4', 'BrightnessValue': '7.2', 'ExposureBiasValue': '0.0', 'MaxApertureValue': '2.8', 'MeteringMode': 5, 'LightSource': 0, 'Flash': 9, 'FocalLength': '5.8', 'ColorSpace': 1, 'ExifImageWidth': 2816, 'ExifImageHeight': 2112, 'FocalPlaneXResolution': '4926.0', 'FocalPlaneYResolution': '4926.0', 'FocalPlaneResolutionUnit': 3, 'SubjectDistanceRange': 0, 'SensingMethod': 2, 'ExposureTime': '0.003125', 'ExifInteroperabilityOffset': 972, 'FNumber': '3.2', 'ExposureProgram': 2, 'CustomRendered': 0, 'ISOSpeedRatings': 64, 'ExposureMode': 0, 'WhiteBalance': 0, 'SceneCaptureType': 0, 'Sharpness': 0}, 'color': ['#d4ddda', '#333a3f'], 'tags': []}, 'sVegas%20-%20ParisLasVegas.jpg': {'exif': {'ResolutionUnit': 2, 'ExifOffset': 224, 'ImageDescription': 'SONY DSC', 'Make': 'SONY', 'Model': 'DSLR-A700', 'Software': 'Adobe Photoshop CS4 Windows', 'Orientation': 1, 'DateTime': '2010:04:24 21:54:46', 'XResolution': '240.0', 'YResolution': '240.0', 'ShutterSpeedValue': '7.643856', 'ApertureValue': '6.918863', 'DateTimeOriginal': '2010:04:11 23:47:28', 'DateTimeDigitized': '2010:04:11 23:47:28', 'BrightnessValue': '8.62', 'ExposureBiasValue': '0.0', 'MaxApertureValue': '3.61', 'MeteringMode': 5, 'LightSource': 0, 'Flash': 24, 'FocalLength': '20.0', 'ColorSpace': 65535, 'ExifImageWidth': 4272, 'FocalLengthIn35mmFilm': 30, 'SceneCaptureType': 1, 'ExifImageHeight': 2848, 'Contrast': 0, 'Saturation': 0, 'Sharpness': 0, 'ExposureTime': '0.005', 'FNumber': '11.0', 'ExposureProgram': 8, 'CustomRendered': 0, 'ISOSpeedRatings': 200, 'ExposureMode': 0, 'WhiteBalance': 0, 'DigitalZoomRatio': '0.0'}, 'color': ['#463d35', '#c0bfc8'], 'tags': ['architecture']}, 'th%20East%20-%202010-12-12.jpg': {'exif': {'ResolutionUnit': 2, 'ExifOffset': 296, 'ImageDescription': '                               ', 'Make': 'SONY', 'Model': 'DSC-T90', 'Software': 'Adobe Photoshop CS2 Windows', 'Orientation': 1, 'DateTime': '2014:09:29 13:28:49', 'YCbCrPositioning': 2, 'XResolution': '72.0', 'YResolution': '72.0', 'CompressedBitsPerPixel': '4.0', 'DateTimeOriginal': '2010:12:12 11:16:34', 'DateTimeDigitized': '2010:12:12 11:16:34', 'ExposureBiasValue': '0.0', 'MaxApertureValue': '3.625', 'MeteringMode': 5, 'LightSource': 0, 'Flash': 24, 'FocalLength': '6.18', 'ColorSpace': 1, 'ExifImageWidth': 3885, 'ExifInteroperabilityOffset': 740, 'SceneCaptureType': 1, 'Contrast': 0, 'ExifImageHeight': 2844, 'Saturation': 0, 'Sharpness': 0, 'ExposureTime': '0.001', 'FNumber': '5.6', 'ExposureProgram': 2, 'CustomRendered': 0, 'ISOSpeedRatings': 80, 'ExposureMode': 0, 'WhiteBalance': 0}, 'color': ['#939eac', '#47382d'], 'tags': ['architecture']}, 'The%20Cal.jpg': {'exif': {'PhotometricInterpretation': 32803, 'ResolutionUnit': 2, 'ExifOffset': 209, 'Make': 'NIKON CORPORATION', 'Model': 'NIKON D700', 'Software': 'Ver.1.00 ', 'Orientation': 1, 'DateTime': '2009:09:27 07:36:07', 'XResolution': '72.0', 'YResolution': '72.0', 'ColorSpace': 1, 'ExifImageWidth': 3978, 'DateTimeOriginal': '2009:09:27 07:36:07', 'DateTimeDigitized': '2009:09:27 07:36:07', 'ExposureBiasValue': '0.0', 'MaxApertureValue': '3.0', 'MeteringMode': 5, 'LightSource': 0, 'Flash': 0, 'FocalLength': '28.0', 'ExifImageHeight': 2642, 'DigitalZoomRatio': '1.0', 'FocalLengthIn35mmFilm': 28, 'SceneCaptureType': 0, 'SubsecTime': '50', 'SubsecTimeOriginal': '50', 'SubsecTimeDigitized': '50', 'Saturation': 0, 'Sharpness': 0, 'SubjectDistanceRange': 0, 'SensingMethod': 2, 'Contrast': 0, 'ExposureTime': '1.3', 'FNumber': '10.0', 'ExposureProgram': 3, 'CustomRendered': 1, 'ISOSpeedRatings': 100, 'ExposureMode': 0, 'WhiteBalance': 0, 'GainControl': 0}, 'color': ['#1e2222', '#91897f'], 'tags': ['modern', 'classy']}, 'tian%20Las%20Vegas%2C%20NV.jpg': {'exif': {'ResolutionUnit': 2, 'ExifOffset': 282, 'Make': 'CASIO COMPUTER CO.,LTD.', 'Model': 'EX-S500', 'Software': '1.02                 ', 'Orientation': 1, 'DateTime': '2007:07:26 12:01:58', 'YCbCrPositioning': 1, 'XResolution': '72.0', 'YResolution': '72.0', 'CompressedBitsPerPixel': '4.270833333333333', 'DateTimeOriginal': '2007:07:26 12:01:58', 'DateTimeDigitized': '2007:07:26 12:01:58', 'ExposureBiasValue': '0.0', 'MaxApertureValue': '2.8', 'MeteringMode': 5, 'LightSource': 0, 'Flash': 16, 'FocalLength': '7.6', 'ColorSpace': 1, 'ExifImageWidth': 2048, 'ExifInteroperabilityOffset': 30632, 'FocalLengthIn35mmFilm': 47, 'SceneCaptureType': 0, 'ExifImageHeight': 1536, 'Contrast': 0, 'Saturation': 0, 'Sharpness': 2, 'ExposureTime': '0.0015625', 'FNumber': '4.8', 'ExposureProgram': 2, 'CustomRendered': 0, 'ExposureMode': 0, 'WhiteBalance': 0, 'DigitalZoomRatio': 'nan', 'GainControl': 0}, 'color': ['#50524c', '#f5f9fc'], 'tags': ['architecture']}, 'tion%2C%20Las%20Vegas%20NV.jpg': {'exif': {'ResolutionUnit': 2, 'ExifOffset': 234, 'ImageDescription': '                               ', 'Make': 'Canon', 'Model': 'Canon PowerShot SX150 IS', 'Orientation': 1, 'DateTime': '2012:01:29 17:26:10', 'YCbCrPositioning': 2, 'XResolution': '180.0', 'YResolution': '180.0', 'CompressedBitsPerPixel': '3.0', 'DateTimeOriginal': '2012:01:29 17:26:10', 'DateTimeDigitized': '2012:01:29 17:26:10', 'ShutterSpeedValue': '9.96875', 'ApertureValue': '3.53125', 'ExposureBiasValue': '0.0', 'MaxApertureValue': '3.53125', 'MeteringMode': 5, 'Flash': 16, 'FocalLength': '5.0', 'ColorSpace': 1, 'ExifImageWidth': 3072, 'FocalPlaneXResolution': '12641.975308641975', 'ExifImageHeight': 2304, 'FocalPlaneYResolution': '12659.34065934066', 'FocalPlaneResolutionUnit': 2, 'SensingMethod': 2, 'ExposureTime': '0.001', 'ExifInteroperabilityOffset': 4760, 'FNumber': '3.4', 'CustomRendered': 0, 'ISOSpeedRatings': 80, 'ExposureMode': 0, 'SensitivityType': 4, 'WhiteBalance': 0, 'CameraOwnerName': '', 'DigitalZoomRatio': '1.0', 'SceneCaptureType': 0}, 'color': ['#403c3c', '#c0cdd8'], 'tags': []}, 'train%2C%20December%202020.jpg': {'exif': {'ImageWidth': 4032, 'ImageLength': 3024, 'GPSInfo': \"{0: b'\\\\x02\\\\x02\\\\x00\\\\x00', 5: b'\\\\x00', 6: 0.0, 7: (0.0, 0.0, 0.0), 29: '1970:01:01'}\", 'ResolutionUnit': 2, 'ExifOffset': 244, 'Make': 'samsung', 'Model': 'SM-G973U', 'Software': 'G973USQS4ETJ2', 'DateTime': '2020:12:21 20:49:57', 'YCbCrPositioning': 1, 'YResolution': '72.0', 'XResolution': '72.0', 'Artist': 'Picasa', 'ShutterSpeedValue': '7.774', 'DateTimeOriginal': '2020:12:12 11:30:54', 'DateTimeDigitized': '2020:12:12 11:30:54', 'ApertureValue': '2.52', 'BrightnessValue': '6.26', 'ExposureBiasValue': 'nan', 'MaxApertureValue': '1.16', 'MeteringMode': 2, 'Flash': 0, 'FocalLength': '4.3', 'ColorSpace': 1, 'ExifImageWidth': 3801, 'ExifInteroperabilityOffset': 890, 'SceneCaptureType': 0, 'SubsecTime': '734506', 'SubsecTimeOriginal': '734506', 'SubsecTimeDigitized': '734506', 'ExifImageHeight': 2599, 'SensingMethod': 1, 'ExposureTime': '0.0045662100456621', 'FNumber': '2.4', 'ImageUniqueID': '4f0fbe273765af1dcdc3f3e9e1473a6c', 'ExposureProgram': 2, 'ISOSpeedRatings': 50, 'ExposureMode': 0, 'WhiteBalance': 0, 'FocalLengthIn35mmFilm': 26}, 'color': ['#383730', '#c4c6c7'], 'tags': ['nature', 'architecture']}, 'tre%20par%20Emile%20Ledoux.jpg': {'exif': {'ResolutionUnit': 2, 'ExifOffset': 188, 'Make': 'Apple', 'Model': 'iPad', 'Software': '7.0.4', 'Orientation': 1, 'DateTime': '2014:09:17 14:13:25', 'YCbCrPositioning': 1, 'XResolution': '72.0', 'YResolution': '72.0', 'ShutterSpeedValue': '8.141626794258373', 'DateTimeOriginal': '2014:09:17 14:13:25', 'DateTimeDigitized': '2014:09:17 14:13:25', 'ApertureValue': '2.5260688216892597', 'BrightnessValue': '7.337752525252525', 'MeteringMode': 3, 'Flash': 32, 'FocalLength': '4.28', 'ColorSpace': 1, 'ExifImageWidth': 905, 'FocalLengthIn35mmFilm': 35, 'SceneCaptureType': 0, 'ExifImageHeight': 752, 'SubsecTimeOriginal': '255', 'SubsecTimeDigitized': '255', 'SensingMethod': 2, 'ExposureTime': '0.0035460992907801418', 'FNumber': '2.4', 'ExposureProgram': 2, 'ISOSpeedRatings': 50, 'ExposureMode': 0, 'WhiteBalance': 0, 'LensSpecification': '(4.28, 4.28, 2.4, 2.4)', 'LensMake': 'Apple', 'LensModel': 'iPad back camera 4.28mm f/2.4'}, 'color': ['#4a502c', '#d8b59d'], 'tags': []}, 'un%2C%20Uncasville%2C%20CT.jpg': {'exif': {'ResolutionUnit': 2, 'ExifOffset': 316, 'ImageDescription': '                               ', 'Make': 'SONY', 'Model': 'DSC-H300', 'Software': 'PlayMemories Home', 'Orientation': 1, 'DateTime': '2018:04:18 20:55:38', 'YCbCrPositioning': 2, 'Copyright': 'Copyright 2009', 'XResolution': '350.0', 'YResolution': '350.0', 'CompressedBitsPerPixel': '2.784254449811421', 'DateTimeOriginal': '2018:04:18 11:52:48', 'DateTimeDigitized': '2018:04:18 11:52:48', 'ShutterSpeedValue': '8.344', 'ApertureValue': '6.34', 'ExposureBiasValue': '0.0', 'MaxApertureValue': '3.17', 'MeteringMode': 4, 'LightSource': 0, 'Flash': 0, 'FocalLength': '9.0', 'ColorSpace': 1, 'ExifImageWidth': 5152, 'SceneCaptureType': 0, 'ExifImageHeight': 3864, 'Contrast': 0, 'Sharpness': 0, 'SensingMethod': 2, 'ExposureTime': '0.003125', 'ExifInteroperabilityOffset': 816, 'FNumber': '9.0', 'ExposureProgram': 2, 'CustomRendered': 0, 'ISOSpeedRatings': 80, 'ExposureMode': 0, 'WhiteBalance': 0, 'FocalLengthIn35mmFilm': 50}, 'color': ['#92b8e5', '#40576c'], 'tags': ['modern']}, 'urhaus-Wiesbaden-bei-Nacht.jpg': {'exif': {'ResolutionUnit': 2, 'ExifOffset': 216, 'Make': 'NIKON CORPORATION', 'Model': 'NIKON D70', 'Software': 'Adobe Photoshop CS2 Windows', 'Orientation': 1, 'DateTime': '2008:07:29 17:54:39', 'XResolution': '609.0', 'YResolution': '609.0', 'ShutterSpeedValue': '-1.0', 'ApertureValue': '5.310704', 'DateTimeOriginal': '2006:11:16 17:25:09', 'DateTimeDigitized': '2006:11:16 17:25:09', 'ExposureBiasValue': '1.0', 'MaxApertureValue': '3.6', 'MeteringMode': 5, 'LightSource': 0, 'Flash': 0, 'FocalLength': '18.0', 'ColorSpace': 65535, 'ExifImageWidth': 3008, 'DigitalZoomRatio': '1.0', 'FocalLengthIn35mmFilm': 27, 'SceneCaptureType': 0, 'ExifImageHeight': 2009, 'SubsecTimeOriginal': '70', 'SubsecTimeDigitized': '70', 'Sharpness': 0, 'SubjectDistanceRange': 0, 'SensingMethod': 2, 'ExposureTime': '2.0', 'FNumber': '6.3', 'ExposureProgram': 3, 'CustomRendered': 0, 'ISOSpeedRatings': 200, 'ExposureMode': 0, 'WhiteBalance': 0, 'GainControl': 0, 'Contrast': 1, 'Saturation': 0}, 'color': ['#d3a463', '#473b2c'], 'tags': ['architecture']}, 'ust%20Hotel%20And%20Casino.jpg': {'exif': {'ResolutionUnit': 2, 'ExifOffset': 196, 'Make': 'Canon', 'Model': 'Canon DIGITAL IXUS 40', 'Orientation': 1, 'DateTime': '2006:01:04 20:45:11', 'YCbCrPositioning': 1, 'XResolution': '180.0', 'YResolution': '180.0', 'CompressedBitsPerPixel': '5.0', 'DateTimeOriginal': '2006:01:04 20:45:11', 'DateTimeDigitized': '2006:01:04 20:45:11', 'ShutterSpeedValue': '9.3125', 'ApertureValue': '4.96875', 'ExposureBiasValue': '0.0', 'MaxApertureValue': '2.96875', 'MeteringMode': 5, 'Flash': 24, 'FocalLength': '5.8', 'ColorSpace': 1, 'ExifImageWidth': 2272, 'FocalPlaneXResolution': '10142.857142857143', 'ExifImageHeight': 1704, 'FocalPlaneYResolution': '10142.857142857143', 'FocalPlaneResolutionUnit': 2, 'SensingMethod': 2, 'ExposureTime': '0.0015625', 'ExifInteroperabilityOffset': 2142, 'FNumber': '5.6', 'CustomRendered': 0, 'ExposureMode': 0, 'WhiteBalance': 0, 'DigitalZoomRatio': '1.0', 'SceneCaptureType': 0}, 'color': ['#345472', '#d3d8cb'], 'tags': ['nature', 'architecture']}, 'Vegas%20-%20October%202021.jpg': {'exif': {'TileWidth': 1024, 'TileLength': 1024, 'GPSInfo': \"{0: b'\\\\x02\\\\x02\\\\x00\\\\x00', 1: 'N', 2: (36.0, 8.0, 11.79), 3: 'W', 4: (115.0, 9.0, 43.95), 5: b'\\\\x00', 6: 628.9519343493553, 12: 'K', 13: 0.04121705515661201, 16: 'T', 17: 132.42110453648914, 23: 'T', 24: 132.42110453648914, 31: 10.21801948051948}\", 'ResolutionUnit': 2, 'ExifOffset': 234, 'Make': 'Apple', 'Model': 'iPhone XR', 'Software': '14.8', 'DateTime': '2022:02:27 10:50:34', 'YCbCrPositioning': 1, 'YResolution': '72.0', 'XResolution': '72.0', 'Artist': 'Picasa', 'ShutterSpeedValue': '10.697948894236278', 'DateTimeOriginal': '2021:10:06 11:31:59', 'DateTimeDigitized': '2021:10:06 11:31:59', 'ApertureValue': '1.6959938128383605', 'BrightnessValue': '9.461922748872913', 'ExposureBiasValue': '0.0', 'MeteringMode': 5, 'Flash': 0, 'FocalLength': '4.25', 'ColorSpace': 65535, 'ExifImageWidth': 2054, 'ExifInteroperabilityOffset': 1134, 'FocalLengthIn35mmFilm': 26, 'SceneCaptureType': 0, 'OffsetTime': '-07:00', 'OffsetTimeOriginal': '-07:00', 'OffsetTimeDigitized': '-07:00', 'SubsecTimeOriginal': '210', 'SubsecTimeDigitized': '210', 'ExifImageHeight': 1530, 'SensingMethod': 2, 'ExposureTime': '0.0006020469596628537', 'FNumber': '1.8', 'ImageUniqueID': 'ec087e530292e8e664d6d81df24a429d', 'CustomRendered': 6, 'ISOSpeedRatings': 25, 'WhiteBalance': 0, 'LensSpecification': '(4.25, 4.25, 1.8, 1.8)', 'LensMake': 'Apple', 'LensModel': 'iPhone XR back camera 4.25mm f/1.8'}, 'color': ['#2b3644', '#91abcc'], 'tags': ['modern']}, 'Venetian%20Macau.jpg': {'exif': {'ResolutionUnit': 2, 'ExifOffset': 238, 'Make': 'Canon ', 'Model': 'Canon EOS 20D', 'Software': 'SILKYPIX(R) Developer Studio Version 3.0.15.1', 'Orientation': 1, 'DateTime': '2007:12:07 14:24:11', 'YCbCrPositioning': 2, 'XResolution': '300.0', 'YResolution': '300.0', 'ShutterSpeedValue': '0.321929931640625', 'DateTimeOriginal': '2007:11:29 21:04:35', 'DateTimeDigitized': '2007:11:29 21:04:35', 'ApertureValue': '6.33984375', 'ExposureBiasValue': '0.6666666666666666', 'MeteringMode': 5, 'Flash': 16, 'FocalLength': '16.0', 'ColorSpace': 1, 'ExifImageWidth': 1200, 'ExifInteroperabilityOffset': 12924, 'FocalPlaneXResolution': '3959.322033898305', 'FocalPlaneYResolution': '3959.322033898305', 'ExifImageHeight': 1800, 'FocalPlaneResolutionUnit': 2, 'ExposureTime': '0.8', 'FNumber': '9.0', 'ExposureProgram': 3, 'CustomRendered': 1, 'ISOSpeedRatings': 800, 'ExposureMode': 0, 'SceneCaptureType': 0}, 'color': ['#a78d65', '#1a150e'], 'tags': ['architecture']}}\n"
     ]
    }
   ],
   "source": [
    "json_dat = {}\n",
    "for filename in os.listdir(\"images\"):\n",
    "    json_dat[filename] = {\n",
    "        'exif': extraire_donnees(\"images/\"+filename),\n",
    "        'color': extraire_couleurs(\"images/\"+filename)\n",
    "    }\n",
    "    json_dat = lire_entree(json_dat, filename)\n",
    "print(json_dat)\n",
    "json.dump(json_dat, open(\"img_data.json\", \"w\"), indent=2)"
   ]
  },
  {
   "cell_type": "markdown",
   "source": [
    "## Analyses de données"
   ],
   "metadata": {
    "collapsed": false
   },
   "id": "57e8969d168d249d"
  },
  {
   "cell_type": "markdown",
   "id": "b0ed09be8fd0b946",
   "metadata": {
    "collapsed": false
   },
   "source": [
    "Maintenant, on a les données à l'état brut. On va les transformer pour garder des données traitables pour l'analyse. Il faut qu'on convertisse chaque donnée en une valeur traitable pour faire des vecteurs. On commence par une fonction de transformation de la première couleur dominante en tag"
   ]
  },
  {
   "cell_type": "code",
   "outputs": [
    {
     "name": "stdout",
     "output_type": "stream",
     "text": [
      "Defaulting to user installation because normal site-packages is not writeable\n",
      "Requirement already satisfied: colorsysx in c:\\users\\dojos\\appdata\\local\\packages\\pythonsoftwarefoundation.python.3.12_qbz5n2kfra8p0\\localcache\\local-packages\\python312\\site-packages (1.1)\n"
     ]
    }
   ],
   "source": [
    "!pip install colorsysx"
   ],
   "metadata": {
    "collapsed": false,
    "ExecuteTime": {
     "end_time": "2024-03-26T08:01:53.997372Z",
     "start_time": "2024-03-26T08:01:50.262448Z"
    }
   },
   "id": "ac0c18eb04a0a5b0",
   "execution_count": 11
  },
  {
   "cell_type": "code",
   "outputs": [],
   "source": [
    "import numpy as np\n",
    "from sklearn.neighbors import NearestNeighbors\n",
    "import colorsysx as colorsys\n",
    "\n",
    "couleurs_tags_possibles = {\n",
    "    'red': [255, 0, 0],\n",
    "    'green': [0, 255, 0],\n",
    "    'blue': [0, 0, 255],\n",
    "    'yellow': [255, 255, 0],\n",
    "    'cyan': [0, 255, 255],\n",
    "    'magenta': [255, 0, 255],\n",
    "    'black': [0, 0, 0],\n",
    "    'white': [255, 255, 255]\n",
    "}\n",
    "\n",
    "tags_keys = couleurs_tags_possibles.keys()\n",
    "def rgb_to_hls(color_rgb):\n",
    "    return colorsys.rgb_to_hls(*[v/255 for v in color_rgb[:3]])\n",
    "\n",
    "colors_lab = {k: rgb_to_hls(couleurs_tags_possibles[k]) for k in tags_keys}\n",
    "color_voisins = NearestNeighbors(n_neighbors=1, algorithm='ball_tree').fit(np.array([colors_lab[k] for k in tags_keys]))\n",
    "\n",
    "def tag_de_couleur(colorhex):\n",
    "    # hex to rgb: #xxxxxx -> [ x, x, x ]\n",
    "    hex = colorhex.lstrip('#')\n",
    "    color = tuple(int(hex[i:i+2], 16) for i in (0, 2, 4))\n",
    "    \n",
    "    color_lab = rgb_to_hls(color)\n",
    "    distances, indices = color_voisins.kneighbors([color_lab])\n",
    "    nearest_color = list(tags_keys)[indices[0][0]]\n",
    "    return nearest_color"
   ],
   "metadata": {
    "collapsed": false,
    "ExecuteTime": {
     "end_time": "2024-03-26T08:01:54.518870Z",
     "start_time": "2024-03-26T08:01:54.013022Z"
    }
   },
   "id": "a071e92db4dba2f4",
   "execution_count": 12
  },
  {
   "cell_type": "code",
   "outputs": [],
   "source": [
    "\"\"\"\n",
    " single_picdata peut être un dictionnaire {exif, color, tags} ou {}\n",
    " La sortie doit être un tableau (ou vecteur) traitable pour l'analyse\n",
    "\"\"\"\n",
    "def transform_data(single_picdata):\n",
    "    keys = single_picdata.keys()\n",
    "    exifs = single_picdata[\"exif\"] if \"exif\" in keys else {}\n",
    "    exifkeys = exifs.keys()\n",
    "    tags = single_picdata[\"tags\"]\n",
    "    orientation = \"unknown\"\n",
    "    if \"ExifImageWidth\" in exifs and \"ExifImageheight\" in exifs:\n",
    "        orientation = \"landscape\" if exifs[\"ExifImageWidth\"] > exifs[\"ExifImageHeight\"] else \"portrait\"\n",
    "    return [\n",
    "        orientation,\n",
    "        tag_de_couleur(single_picdata[\"color\"][0]),\n",
    "        \"true\" if \"old\" in tags else \"false\",\n",
    "        \"true\" if \"modern\" in tags else \"false\",\n",
    "        \"true\" if \"architecture\" in tags else \"false\",\n",
    "        \"true\" if \"classy\" in tags else \"false\",\n",
    "        \"true\" if \"nature\" in tags else \"false\"\n",
    "    ]"
   ],
   "metadata": {
    "collapsed": false,
    "ExecuteTime": {
     "end_time": "2024-03-26T08:01:54.535063Z",
     "start_time": "2024-03-26T08:01:54.522927Z"
    }
   },
   "id": "a5df6289c684775",
   "execution_count": 13
  },
  {
   "cell_type": "markdown",
   "source": [
    "On initialise ensuite un tableau avec nos données traitables pour 10 images aléatoires"
   ],
   "metadata": {
    "collapsed": false
   },
   "id": "a67fb1a7b5906f27"
  },
  {
   "cell_type": "code",
   "outputs": [],
   "source": [
    "from random import sample\n",
    "import json, os\n",
    "\n",
    "def read_pic_datas(picnames):\n",
    "    with open('img_data.json', 'r') as f:\n",
    "        pic_json_data = json.load(f)\n",
    "    pic_json_keys = pic_json_data.keys()\n",
    "    res_dat = []\n",
    "    for picname in picnames:\n",
    "        single_picdat = pic_json_data[picname] if picname in pic_json_keys else {}\n",
    "        res_dat.append(transform_data(single_picdat))\n",
    "    return res_dat\n",
    "\n",
    "# Test sur 10 images aléatoires\n",
    "pics = sample(os.listdir(\"images\"), 10)\n",
    "picdata_matrix = read_pic_datas(pics)\n",
    "pd.DataFrame(picdata_matrix)"
   ],
   "metadata": {
    "collapsed": false,
    "ExecuteTime": {
     "end_time": "2024-03-26T08:01:54.693311Z",
     "start_time": "2024-03-26T08:01:54.542073Z"
    }
   },
   "id": "53c4de823eec5738",
   "execution_count": 14
  },
  {
   "cell_type": "markdown",
   "source": [
    "On demandera les préférences utilisateur sur ces 10 images"
   ],
   "metadata": {
    "collapsed": false
   },
   "id": "d81a0a0bc5c7ca13"
  },
  {
   "cell_type": "code",
   "outputs": [
    {
     "name": "stdout",
     "output_type": "stream",
     "text": [
      "Defaulting to user installation because normal site-packages is not writeable\n",
      "Requirement already satisfied: ipywidgets in c:\\users\\dojos\\appdata\\local\\packages\\pythonsoftwarefoundation.python.3.12_qbz5n2kfra8p0\\localcache\\local-packages\\python312\\site-packages (8.1.2)\n",
      "Requirement already satisfied: comm>=0.1.3 in c:\\users\\dojos\\appdata\\local\\packages\\pythonsoftwarefoundation.python.3.12_qbz5n2kfra8p0\\localcache\\local-packages\\python312\\site-packages (from ipywidgets) (0.2.1)\n",
      "Requirement already satisfied: ipython>=6.1.0 in c:\\users\\dojos\\appdata\\local\\packages\\pythonsoftwarefoundation.python.3.12_qbz5n2kfra8p0\\localcache\\local-packages\\python312\\site-packages (from ipywidgets) (8.22.1)\n",
      "Requirement already satisfied: traitlets>=4.3.1 in c:\\users\\dojos\\appdata\\local\\packages\\pythonsoftwarefoundation.python.3.12_qbz5n2kfra8p0\\localcache\\local-packages\\python312\\site-packages (from ipywidgets) (5.14.1)\n",
      "Requirement already satisfied: widgetsnbextension~=4.0.10 in c:\\users\\dojos\\appdata\\local\\packages\\pythonsoftwarefoundation.python.3.12_qbz5n2kfra8p0\\localcache\\local-packages\\python312\\site-packages (from ipywidgets) (4.0.10)\n",
      "Requirement already satisfied: jupyterlab-widgets~=3.0.10 in c:\\users\\dojos\\appdata\\local\\packages\\pythonsoftwarefoundation.python.3.12_qbz5n2kfra8p0\\localcache\\local-packages\\python312\\site-packages (from ipywidgets) (3.0.10)\n",
      "Requirement already satisfied: decorator in c:\\users\\dojos\\appdata\\local\\packages\\pythonsoftwarefoundation.python.3.12_qbz5n2kfra8p0\\localcache\\local-packages\\python312\\site-packages (from ipython>=6.1.0->ipywidgets) (5.1.1)\n",
      "Requirement already satisfied: jedi>=0.16 in c:\\users\\dojos\\appdata\\local\\packages\\pythonsoftwarefoundation.python.3.12_qbz5n2kfra8p0\\localcache\\local-packages\\python312\\site-packages (from ipython>=6.1.0->ipywidgets) (0.19.1)\n",
      "Requirement already satisfied: matplotlib-inline in c:\\users\\dojos\\appdata\\local\\packages\\pythonsoftwarefoundation.python.3.12_qbz5n2kfra8p0\\localcache\\local-packages\\python312\\site-packages (from ipython>=6.1.0->ipywidgets) (0.1.6)\n",
      "Requirement already satisfied: prompt-toolkit<3.1.0,>=3.0.41 in c:\\users\\dojos\\appdata\\local\\packages\\pythonsoftwarefoundation.python.3.12_qbz5n2kfra8p0\\localcache\\local-packages\\python312\\site-packages (from ipython>=6.1.0->ipywidgets) (3.0.43)\n",
      "Requirement already satisfied: pygments>=2.4.0 in c:\\users\\dojos\\appdata\\local\\packages\\pythonsoftwarefoundation.python.3.12_qbz5n2kfra8p0\\localcache\\local-packages\\python312\\site-packages (from ipython>=6.1.0->ipywidgets) (2.17.2)\n",
      "Requirement already satisfied: stack-data in c:\\users\\dojos\\appdata\\local\\packages\\pythonsoftwarefoundation.python.3.12_qbz5n2kfra8p0\\localcache\\local-packages\\python312\\site-packages (from ipython>=6.1.0->ipywidgets) (0.6.3)\n",
      "Requirement already satisfied: colorama in c:\\users\\dojos\\appdata\\local\\packages\\pythonsoftwarefoundation.python.3.12_qbz5n2kfra8p0\\localcache\\local-packages\\python312\\site-packages (from ipython>=6.1.0->ipywidgets) (0.4.6)\n",
      "Requirement already satisfied: parso<0.9.0,>=0.8.3 in c:\\users\\dojos\\appdata\\local\\packages\\pythonsoftwarefoundation.python.3.12_qbz5n2kfra8p0\\localcache\\local-packages\\python312\\site-packages (from jedi>=0.16->ipython>=6.1.0->ipywidgets) (0.8.3)\n",
      "Requirement already satisfied: wcwidth in c:\\users\\dojos\\appdata\\local\\packages\\pythonsoftwarefoundation.python.3.12_qbz5n2kfra8p0\\localcache\\local-packages\\python312\\site-packages (from prompt-toolkit<3.1.0,>=3.0.41->ipython>=6.1.0->ipywidgets) (0.2.13)\n",
      "Requirement already satisfied: executing>=1.2.0 in c:\\users\\dojos\\appdata\\local\\packages\\pythonsoftwarefoundation.python.3.12_qbz5n2kfra8p0\\localcache\\local-packages\\python312\\site-packages (from stack-data->ipython>=6.1.0->ipywidgets) (2.0.1)\n",
      "Requirement already satisfied: asttokens>=2.1.0 in c:\\users\\dojos\\appdata\\local\\packages\\pythonsoftwarefoundation.python.3.12_qbz5n2kfra8p0\\localcache\\local-packages\\python312\\site-packages (from stack-data->ipython>=6.1.0->ipywidgets) (2.4.1)\n",
      "Requirement already satisfied: pure-eval in c:\\users\\dojos\\appdata\\local\\packages\\pythonsoftwarefoundation.python.3.12_qbz5n2kfra8p0\\localcache\\local-packages\\python312\\site-packages (from stack-data->ipython>=6.1.0->ipywidgets) (0.2.2)\n",
      "Requirement already satisfied: six>=1.12.0 in c:\\users\\dojos\\appdata\\local\\packages\\pythonsoftwarefoundation.python.3.12_qbz5n2kfra8p0\\localcache\\local-packages\\python312\\site-packages (from asttokens>=2.1.0->stack-data->ipython>=6.1.0->ipywidgets) (1.16.0)\n"
     ]
    }
   ],
   "source": [
    "!pip install ipywidgets"
   ],
   "metadata": {
    "collapsed": false,
    "ExecuteTime": {
     "end_time": "2024-03-26T08:01:57.173691Z",
     "start_time": "2024-03-26T08:01:54.697603Z"
    }
   },
   "id": "e95498282a3031f2",
   "execution_count": 15
  },
  {
   "cell_type": "code",
   "outputs": [
    {
     "data": {
      "text/plain": "HBox(children=(Button(icon='thumbs-down', style=ButtonStyle(button_color='#5352ed'), tooltip='Dislike'), Butto…",
      "application/vnd.jupyter.widget-view+json": {
       "version_major": 2,
       "version_minor": 0,
       "model_id": "783042aa112f4f038859a5fc34c5b642"
      }
     },
     "metadata": {},
     "output_type": "display_data"
    },
    {
     "data": {
      "text/plain": "Output()",
      "application/vnd.jupyter.widget-view+json": {
       "version_major": 2,
       "version_minor": 0,
       "model_id": "e38fd0c5ee804ea3b05ea8230105e584"
      }
     },
     "metadata": {},
     "output_type": "display_data"
    }
   ],
   "source": [
    "import ipywidgets as widgets\n",
    "from IPython.display import clear_output\n",
    "\n",
    "class ImageScroller:\n",
    "    def __init__(self, pics):\n",
    "        self.pics = pics\n",
    "        self.pic_output = widgets.Output()\n",
    "        self.shown_image_idx = 0\n",
    "        self.likes = [None] * len(pics)\n",
    "\n",
    "    def show(self, nomfichier):\n",
    "        with open(\"images/\" + nomfichier, 'rb') as f:\n",
    "            self.shown_image = f.read()\n",
    "        picwidget = widgets.Image(\n",
    "            value=self.shown_image,\n",
    "        )\n",
    "        picwidget.layout.height= '150px'\n",
    "        with self.pic_output:\n",
    "            clear_output()\n",
    "            display(picwidget)\n",
    "    \n",
    "    def clear_if_maxed(self):\n",
    "        if self.shown_image_idx >= len(self.pics):\n",
    "            with self.pic_output:\n",
    "                clear_output()\n",
    "                print(\"Fin de la navigation\")\n",
    "    \n",
    "    def next(self):\n",
    "        self.shown_image_idx = ( self.shown_image_idx + 1 + len(self.pics) ) % len(self.pics)\n",
    "        self.show(self.pics[self.shown_image_idx])\n",
    "    \n",
    "    def prev(self):\n",
    "        self.shown_image_idx = ( self.shown_image_idx - 1 + len(self.pics) ) % len(self.pics)\n",
    "        self.show(self.pics[self.shown_image_idx])\n",
    "    \n",
    "    def likeit(self):\n",
    "        self.clear_if_maxed()\n",
    "        self.likes[self.shown_image_idx] = True\n",
    "        self.shown_image_idx += 1\n",
    "        self.clear_if_maxed()\n",
    "        self.show(self.pics[self.shown_image_idx])\n",
    "    \n",
    "    def hateit(self):\n",
    "        self.clear_if_maxed()\n",
    "        self.likes[self.shown_image_idx] = False\n",
    "        self.shown_image_idx += 1\n",
    "        self.clear_if_maxed()\n",
    "        self.show(self.pics[self.shown_image_idx])\n",
    "    \n",
    "    def get_right_button(self):\n",
    "        like_button = widgets.Button(\n",
    "            description='',\n",
    "            disabled=False,\n",
    "            button_style='',\n",
    "            tooltip='Like',\n",
    "            icon='heart'\n",
    "        )\n",
    "        like_button.style = {'button_color': '#ff4757'}\n",
    "        like_button.on_click(lambda _b : self.likeit())\n",
    "        return like_button\n",
    "    \n",
    "    \n",
    "    def get_left_button(self):\n",
    "        hate_button = widgets.Button(\n",
    "            description='',\n",
    "            disabled=False,\n",
    "            button_style='',\n",
    "            tooltip='Dislike',\n",
    "            icon='thumbs-down'\n",
    "        )\n",
    "        hate_button.style = {'button_color': '#5352ed'}\n",
    "        hate_button.on_click(lambda _b: self.hateit())\n",
    "        return hate_button\n",
    "    \n",
    "    def display(self):\n",
    "        buttons = widgets.HBox([self.get_left_button(), self.get_right_button()])\n",
    "        display(buttons,self.pic_output)\n",
    "        self.show(self.pics[self.shown_image_idx])\n",
    "\n",
    "# On teste avec une seule image pour confirmer que ça fonctionne\n",
    "scroller = ImageScroller([pics[0]])\n",
    "scroller.display()"
   ],
   "metadata": {
    "collapsed": false,
    "ExecuteTime": {
     "end_time": "2024-03-26T09:47:08.250590Z",
     "start_time": "2024-03-26T09:47:08.219574Z"
    }
   },
   "id": "66d9fa6f9a19489c",
   "execution_count": 68
  },
  {
   "cell_type": "code",
   "outputs": [
    {
     "name": "stdout",
     "output_type": "stream",
     "text": [
      "[True]\n"
     ]
    }
   ],
   "source": [
    "print(scroller.likes)"
   ],
   "metadata": {
    "collapsed": false,
    "ExecuteTime": {
     "end_time": "2024-03-26T09:47:15.056314Z",
     "start_time": "2024-03-26T09:47:15.050925Z"
    }
   },
   "id": "3847aa20e152dc9",
   "execution_count": 69
  },
  {
   "cell_type": "markdown",
   "source": [
    "On a donc les données d'un seul utilisateur"
   ],
   "metadata": {
    "collapsed": false
   },
   "id": "98b00885d3dd19c1"
  },
  {
   "cell_type": "markdown",
   "source": [
    "## Visualisation des données"
   ],
   "metadata": {
    "collapsed": false
   },
   "id": "e6eca0e42731182e"
  },
  {
   "cell_type": "code",
   "outputs": [
    {
     "name": "stdout",
     "output_type": "stream",
     "text": [
      "Defaulting to user installation because normal site-packages is not writeable\n",
      "Requirement already satisfied: pandas in c:\\users\\dojos\\appdata\\local\\packages\\pythonsoftwarefoundation.python.3.12_qbz5n2kfra8p0\\localcache\\local-packages\\python312\\site-packages (2.2.1)\n",
      "Requirement already satisfied: numpy<2,>=1.26.0 in c:\\users\\dojos\\appdata\\local\\packages\\pythonsoftwarefoundation.python.3.12_qbz5n2kfra8p0\\localcache\\local-packages\\python312\\site-packages (from pandas) (1.26.4)\n",
      "Requirement already satisfied: python-dateutil>=2.8.2 in c:\\users\\dojos\\appdata\\local\\packages\\pythonsoftwarefoundation.python.3.12_qbz5n2kfra8p0\\localcache\\local-packages\\python312\\site-packages (from pandas) (2.9.0.post0)\n",
      "Requirement already satisfied: pytz>=2020.1 in c:\\users\\dojos\\appdata\\local\\packages\\pythonsoftwarefoundation.python.3.12_qbz5n2kfra8p0\\localcache\\local-packages\\python312\\site-packages (from pandas) (2024.1)\n",
      "Requirement already satisfied: tzdata>=2022.7 in c:\\users\\dojos\\appdata\\local\\packages\\pythonsoftwarefoundation.python.3.12_qbz5n2kfra8p0\\localcache\\local-packages\\python312\\site-packages (from pandas) (2024.1)\n",
      "Requirement already satisfied: six>=1.5 in c:\\users\\dojos\\appdata\\local\\packages\\pythonsoftwarefoundation.python.3.12_qbz5n2kfra8p0\\localcache\\local-packages\\python312\\site-packages (from python-dateutil>=2.8.2->pandas) (1.16.0)\n",
      "Defaulting to user installation because normal site-packages is not writeable\n",
      "Requirement already satisfied: matplotlib in c:\\users\\dojos\\appdata\\local\\packages\\pythonsoftwarefoundation.python.3.12_qbz5n2kfra8p0\\localcache\\local-packages\\python312\\site-packages (3.8.3)\n",
      "Requirement already satisfied: contourpy>=1.0.1 in c:\\users\\dojos\\appdata\\local\\packages\\pythonsoftwarefoundation.python.3.12_qbz5n2kfra8p0\\localcache\\local-packages\\python312\\site-packages (from matplotlib) (1.2.0)\n",
      "Requirement already satisfied: cycler>=0.10 in c:\\users\\dojos\\appdata\\local\\packages\\pythonsoftwarefoundation.python.3.12_qbz5n2kfra8p0\\localcache\\local-packages\\python312\\site-packages (from matplotlib) (0.12.1)\n",
      "Requirement already satisfied: fonttools>=4.22.0 in c:\\users\\dojos\\appdata\\local\\packages\\pythonsoftwarefoundation.python.3.12_qbz5n2kfra8p0\\localcache\\local-packages\\python312\\site-packages (from matplotlib) (4.50.0)\n",
      "Requirement already satisfied: kiwisolver>=1.3.1 in c:\\users\\dojos\\appdata\\local\\packages\\pythonsoftwarefoundation.python.3.12_qbz5n2kfra8p0\\localcache\\local-packages\\python312\\site-packages (from matplotlib) (1.4.5)\n",
      "Requirement already satisfied: numpy<2,>=1.21 in c:\\users\\dojos\\appdata\\local\\packages\\pythonsoftwarefoundation.python.3.12_qbz5n2kfra8p0\\localcache\\local-packages\\python312\\site-packages (from matplotlib) (1.26.4)\n",
      "Requirement already satisfied: packaging>=20.0 in c:\\users\\dojos\\appdata\\local\\packages\\pythonsoftwarefoundation.python.3.12_qbz5n2kfra8p0\\localcache\\local-packages\\python312\\site-packages (from matplotlib) (23.2)\n",
      "Requirement already satisfied: pillow>=8 in c:\\users\\dojos\\appdata\\local\\packages\\pythonsoftwarefoundation.python.3.12_qbz5n2kfra8p0\\localcache\\local-packages\\python312\\site-packages (from matplotlib) (10.2.0)\n",
      "Requirement already satisfied: pyparsing>=2.3.1 in c:\\users\\dojos\\appdata\\local\\packages\\pythonsoftwarefoundation.python.3.12_qbz5n2kfra8p0\\localcache\\local-packages\\python312\\site-packages (from matplotlib) (3.1.1)\n",
      "Requirement already satisfied: python-dateutil>=2.7 in c:\\users\\dojos\\appdata\\local\\packages\\pythonsoftwarefoundation.python.3.12_qbz5n2kfra8p0\\localcache\\local-packages\\python312\\site-packages (from matplotlib) (2.9.0.post0)\n",
      "Requirement already satisfied: six>=1.5 in c:\\users\\dojos\\appdata\\local\\packages\\pythonsoftwarefoundation.python.3.12_qbz5n2kfra8p0\\localcache\\local-packages\\python312\\site-packages (from python-dateutil>=2.7->matplotlib) (1.16.0)\n",
      "Defaulting to user installation because normal site-packages is not writeable\n",
      "Requirement already satisfied: ipywidgets in c:\\users\\dojos\\appdata\\local\\packages\\pythonsoftwarefoundation.python.3.12_qbz5n2kfra8p0\\localcache\\local-packages\\python312\\site-packages (8.1.2)\n",
      "Requirement already satisfied: comm>=0.1.3 in c:\\users\\dojos\\appdata\\local\\packages\\pythonsoftwarefoundation.python.3.12_qbz5n2kfra8p0\\localcache\\local-packages\\python312\\site-packages (from ipywidgets) (0.2.1)\n",
      "Requirement already satisfied: ipython>=6.1.0 in c:\\users\\dojos\\appdata\\local\\packages\\pythonsoftwarefoundation.python.3.12_qbz5n2kfra8p0\\localcache\\local-packages\\python312\\site-packages (from ipywidgets) (8.22.1)\n",
      "Requirement already satisfied: traitlets>=4.3.1 in c:\\users\\dojos\\appdata\\local\\packages\\pythonsoftwarefoundation.python.3.12_qbz5n2kfra8p0\\localcache\\local-packages\\python312\\site-packages (from ipywidgets) (5.14.1)\n",
      "Requirement already satisfied: widgetsnbextension~=4.0.10 in c:\\users\\dojos\\appdata\\local\\packages\\pythonsoftwarefoundation.python.3.12_qbz5n2kfra8p0\\localcache\\local-packages\\python312\\site-packages (from ipywidgets) (4.0.10)\n",
      "Requirement already satisfied: jupyterlab-widgets~=3.0.10 in c:\\users\\dojos\\appdata\\local\\packages\\pythonsoftwarefoundation.python.3.12_qbz5n2kfra8p0\\localcache\\local-packages\\python312\\site-packages (from ipywidgets) (3.0.10)\n",
      "Requirement already satisfied: decorator in c:\\users\\dojos\\appdata\\local\\packages\\pythonsoftwarefoundation.python.3.12_qbz5n2kfra8p0\\localcache\\local-packages\\python312\\site-packages (from ipython>=6.1.0->ipywidgets) (5.1.1)\n",
      "Requirement already satisfied: jedi>=0.16 in c:\\users\\dojos\\appdata\\local\\packages\\pythonsoftwarefoundation.python.3.12_qbz5n2kfra8p0\\localcache\\local-packages\\python312\\site-packages (from ipython>=6.1.0->ipywidgets) (0.19.1)\n",
      "Requirement already satisfied: matplotlib-inline in c:\\users\\dojos\\appdata\\local\\packages\\pythonsoftwarefoundation.python.3.12_qbz5n2kfra8p0\\localcache\\local-packages\\python312\\site-packages (from ipython>=6.1.0->ipywidgets) (0.1.6)\n",
      "Requirement already satisfied: prompt-toolkit<3.1.0,>=3.0.41 in c:\\users\\dojos\\appdata\\local\\packages\\pythonsoftwarefoundation.python.3.12_qbz5n2kfra8p0\\localcache\\local-packages\\python312\\site-packages (from ipython>=6.1.0->ipywidgets) (3.0.43)\n",
      "Requirement already satisfied: pygments>=2.4.0 in c:\\users\\dojos\\appdata\\local\\packages\\pythonsoftwarefoundation.python.3.12_qbz5n2kfra8p0\\localcache\\local-packages\\python312\\site-packages (from ipython>=6.1.0->ipywidgets) (2.17.2)\n",
      "Requirement already satisfied: stack-data in c:\\users\\dojos\\appdata\\local\\packages\\pythonsoftwarefoundation.python.3.12_qbz5n2kfra8p0\\localcache\\local-packages\\python312\\site-packages (from ipython>=6.1.0->ipywidgets) (0.6.3)\n",
      "Requirement already satisfied: colorama in c:\\users\\dojos\\appdata\\local\\packages\\pythonsoftwarefoundation.python.3.12_qbz5n2kfra8p0\\localcache\\local-packages\\python312\\site-packages (from ipython>=6.1.0->ipywidgets) (0.4.6)\n",
      "Requirement already satisfied: parso<0.9.0,>=0.8.3 in c:\\users\\dojos\\appdata\\local\\packages\\pythonsoftwarefoundation.python.3.12_qbz5n2kfra8p0\\localcache\\local-packages\\python312\\site-packages (from jedi>=0.16->ipython>=6.1.0->ipywidgets) (0.8.3)\n",
      "Requirement already satisfied: wcwidth in c:\\users\\dojos\\appdata\\local\\packages\\pythonsoftwarefoundation.python.3.12_qbz5n2kfra8p0\\localcache\\local-packages\\python312\\site-packages (from prompt-toolkit<3.1.0,>=3.0.41->ipython>=6.1.0->ipywidgets) (0.2.13)\n",
      "Requirement already satisfied: executing>=1.2.0 in c:\\users\\dojos\\appdata\\local\\packages\\pythonsoftwarefoundation.python.3.12_qbz5n2kfra8p0\\localcache\\local-packages\\python312\\site-packages (from stack-data->ipython>=6.1.0->ipywidgets) (2.0.1)\n",
      "Requirement already satisfied: asttokens>=2.1.0 in c:\\users\\dojos\\appdata\\local\\packages\\pythonsoftwarefoundation.python.3.12_qbz5n2kfra8p0\\localcache\\local-packages\\python312\\site-packages (from stack-data->ipython>=6.1.0->ipywidgets) (2.4.1)\n",
      "Requirement already satisfied: pure-eval in c:\\users\\dojos\\appdata\\local\\packages\\pythonsoftwarefoundation.python.3.12_qbz5n2kfra8p0\\localcache\\local-packages\\python312\\site-packages (from stack-data->ipython>=6.1.0->ipywidgets) (0.2.2)\n",
      "Requirement already satisfied: six>=1.12.0 in c:\\users\\dojos\\appdata\\local\\packages\\pythonsoftwarefoundation.python.3.12_qbz5n2kfra8p0\\localcache\\local-packages\\python312\\site-packages (from asttokens>=2.1.0->stack-data->ipython>=6.1.0->ipywidgets) (1.16.0)\n"
     ]
    }
   ],
   "source": [
    "!pip install pandas\n",
    "!pip install matplotlib\n",
    "!pip install ipywidgets"
   ],
   "metadata": {
    "collapsed": false,
    "ExecuteTime": {
     "end_time": "2024-03-26T09:47:25.687943Z",
     "start_time": "2024-03-26T09:47:17.166285Z"
    }
   },
   "id": "f0cbd50e095118b1",
   "execution_count": 70
  },
  {
   "cell_type": "markdown",
   "source": [
    "On commence par coder une visualisation des images par année"
   ],
   "metadata": {
    "collapsed": false
   },
   "id": "609fffea925beebc"
  },
  {
   "cell_type": "code",
   "outputs": [],
   "source": [
    "import pandas as pd\n",
    "import matplotlib.pyplot as plt\n",
    "import matplotlib\n",
    "import json\n",
    "import datetime\n",
    "\n",
    "annee_actuelle = datetime.datetime.now().year\n",
    "def get_annee(exif):\n",
    "    annee = exif[\"DateTimeOriginal\"].split(\":\")[0] if \"DateTimeOriginal\" in exif.keys() else '0'\n",
    "    if int(annee) == 0 or int(annee) > annee_actuelle:\n",
    "        annee = \"Unknown\"\n",
    "    return annee\n",
    "\n",
    "def images_par_date(exifs, subplot):\n",
    "    dates = [get_annee(i) for i in exifs]\n",
    "    int_dates = [int(d) for d in dates if d != \"Unknown\"]\n",
    "    annees_idx = [str(i) for i in range(min(int_dates), max(int_dates))]\n",
    "    frequences_annees = {k: dates.count(k) for k in annees_idx}\n",
    "    subplot.plot(frequences_annees.keys(), frequences_annees.values())\n",
    "    subplot.set_xlabel('Années')\n",
    "    subplot.set_ylabel('Fréquence')\n",
    "    subplot.set_xticks(annees_idx, [i if int(i) % 5 == 0 else '' for i in annees_idx])\n",
    "    subplot.set_title(f'Fréquence des années\\n(Inconnues: {dates.count(\"Unknown\")})')"
   ],
   "metadata": {
    "collapsed": false,
    "ExecuteTime": {
     "end_time": "2024-03-26T09:47:25.704552Z",
     "start_time": "2024-03-26T09:47:25.691952Z"
    }
   },
   "id": "66c94fec5325164",
   "execution_count": 71
  },
  {
   "cell_type": "markdown",
   "source": [
    "On récupère l'orientation des images"
   ],
   "metadata": {
    "collapsed": false
   },
   "id": "505bea6dc375d49d"
  },
  {
   "cell_type": "code",
   "outputs": [],
   "source": [
    "def get_orientation(exifs):\n",
    "    orientation = \"unknown\"\n",
    "    if \"ExifImageWidth\" in exifs and \"ExifImageHeight\" in exifs:\n",
    "        orientation = \"landscape\" if exifs[\"ExifImageWidth\"] > exifs[\"ExifImageHeight\"] else \"portrait\"\n",
    "    return orientation\n",
    "\n",
    "def images_par_orientation(list_exifs, subplot):\n",
    "    orientations = [get_orientation(exifs) for exifs in list_exifs]\n",
    "    frequences = {k: orientations.count(k) for k in [\"landscape\", \"portrait\", \"unknown\"]}\n",
    "    subplot.pie(frequences.values(), labels=frequences.keys(), colors=['r','g','b'], autopct='%1.1f%%')\n",
    "    subplot.axis('equal')\n",
    "    subplot.set_title('Fréquence des orientations')"
   ],
   "metadata": {
    "collapsed": false,
    "ExecuteTime": {
     "end_time": "2024-03-26T09:47:25.718763Z",
     "start_time": "2024-03-26T09:47:25.707502Z"
    }
   },
   "id": "a2f8f1908c728228",
   "execution_count": 72
  },
  {
   "cell_type": "markdown",
   "source": [
    "On récupère les couleurs ou tags dominants"
   ],
   "metadata": {
    "collapsed": false
   },
   "id": "7fbe353bc88b9cc"
  },
  {
   "cell_type": "code",
   "outputs": [],
   "source": [
    "def tag_columns(tags, subplot, title, colorlambda= None):\n",
    "    frequences = {}\n",
    "    for tag in tags:\n",
    "        if tag not in frequences:\n",
    "            frequences[tag] = 0\n",
    "        frequences[tag] += 1\n",
    "    colors = None\n",
    "    if colorlambda is not None:\n",
    "        colors = [colorlambda(k) for k in frequences.keys()]\n",
    "    subplot.bar(frequences.keys(), frequences.values(), color=colors, edgecolor=\"black\")\n",
    "    subplot.set_title(title)"
   ],
   "metadata": {
    "collapsed": false,
    "ExecuteTime": {
     "end_time": "2024-03-26T09:47:25.733866Z",
     "start_time": "2024-03-26T09:47:25.723772Z"
    }
   },
   "id": "357a35171f2028b4",
   "execution_count": 73
  },
  {
   "cell_type": "code",
   "outputs": [
    {
     "data": {
      "text/plain": "<Figure size 640x480 with 4 Axes>",
      "image/png": "[encoded data removed]"
     },
     "metadata": {},
     "output_type": "display_data"
    }
   ],
   "source": [
    "with open('img_data.json', 'r') as f:\n",
    "    pic_json_data = json.load(f)\n",
    "pic_exifs = [i[\"exif\"] if i is not None else {} for i in pic_json_data.values()]\n",
    "\n",
    "font = {'size' : 8}\n",
    "matplotlib.rc('font', **font)\n",
    "\n",
    "fig, ((sp1, sp2), (sp3, sp4)) = plt.subplots(2, 2)\n",
    "images_par_date(pic_exifs, sp1)\n",
    "images_par_orientation(pic_exifs, sp2)\n",
    "colortags = [tag_de_couleur(c) for i in pic_json_data.values() for c in i[\"color\"]]\n",
    "tag_columns(colortags, sp3, \"Fréquence des couleurs\", lambda c: c)\n",
    "sp3.set(xticklabels=[])\n",
    "tag_columns([t for i in pic_json_data.values() for t in i[\"tags\"]], sp4, \"Fréquence des tags\")\n",
    "fig.tight_layout()\n",
    "plt.show()"
   ],
   "metadata": {
    "collapsed": false,
    "ExecuteTime": {
     "end_time": "2024-03-26T09:47:26.699898Z",
     "start_time": "2024-03-26T09:47:25.736776Z"
    }
   },
   "id": "4fcbe32e3d1296c9",
   "execution_count": 74
  },
  {
   "cell_type": "code",
   "outputs": [
    {
     "data": {
      "text/plain": "HBox(children=(Button(icon='arrow-left', style=ButtonStyle(button_color='#003f17'), tooltip='Next'), Button(ic…",
      "application/vnd.jupyter.widget-view+json": {
       "version_major": 2,
       "version_minor": 0,
       "model_id": "3c6a56f1a9cf4880a6abd68b944e42a3"
      }
     },
     "metadata": {},
     "output_type": "display_data"
    },
    {
     "data": {
      "text/plain": "Output()",
      "application/vnd.jupyter.widget-view+json": {
       "version_major": 2,
       "version_minor": 0,
       "model_id": "95445d12a4f34f8db2d216a1ab32de7f"
      }
     },
     "metadata": {},
     "output_type": "display_data"
    },
    {
     "data": {
      "text/plain": "Output()",
      "application/vnd.jupyter.widget-view+json": {
       "version_major": 2,
       "version_minor": 0,
       "model_id": "13e2ca27e28949b0ada1031964ab6c59"
      }
     },
     "metadata": {},
     "output_type": "display_data"
    }
   ],
   "source": [
    "import ipywidgets as widgets\n",
    "import os\n",
    "from IPython.display import clear_output\n",
    "\n",
    "pics = os.listdir(\"images\")\n",
    "\n",
    "class ImageViewer(ImageScroller):\n",
    "    \n",
    "    def __init__(self, pics, json_data):\n",
    "        ImageScroller.__init__(self, pics)\n",
    "        self.pic_data = widgets.Output()\n",
    "        self.json_data = json_data\n",
    "    \n",
    "    def get_right_button(self):\n",
    "        next_button = widgets.Button(\n",
    "            description='',\n",
    "            disabled=False,\n",
    "            button_style='',\n",
    "            tooltip='Next',\n",
    "            icon='arrow-right'\n",
    "        )\n",
    "        next_button.style = {'button_color': '#003f17'}\n",
    "        next_button.on_click(lambda _b: self.next())\n",
    "        return next_button\n",
    "    \n",
    "    def get_left_button(self):\n",
    "        next_button = widgets.Button(\n",
    "            description='',\n",
    "            disabled=False,\n",
    "            button_style='',\n",
    "            tooltip='Next',\n",
    "            icon='arrow-left'\n",
    "        )\n",
    "        next_button.style = {'button_color': '#003f17'}\n",
    "        next_button.on_click(lambda _b: self.prev())\n",
    "        return next_button\n",
    "    \n",
    "    def show(self, name):\n",
    "        ImageScroller.show(self, name)\n",
    "        data = self.json_data[name] if name in self.json_data.keys() else None\n",
    "        with self.pic_data:\n",
    "            clear_output()\n",
    "            print(f\"{name}:\")\n",
    "            if data is None:\n",
    "                print(\"No data available\")\n",
    "            else:\n",
    "                print(f\"colors: {' '.join(data['color'])}\")\n",
    "                print(f\"tags: {' '.join(data['tags'])}\")\n",
    "                print(f\"annee: {get_annee(data['exif'])}\")\n",
    "    def display(self):\n",
    "        buttons = widgets.HBox([self.get_left_button(), self.get_right_button()])\n",
    "        display(buttons,self.pic_data, self.pic_output)\n",
    "        self.show(self.pics[self.shown_image_idx])\n",
    "\n",
    "viewer = ImageViewer(pics, pic_json_data)\n",
    "viewer.display()"
   ],
   "metadata": {
    "collapsed": false,
    "ExecuteTime": {
     "end_time": "2024-03-26T09:47:26.764964Z",
     "start_time": "2024-03-26T09:47:26.701907Z"
    }
   },
   "id": "e14f9884fbc79adb",
   "execution_count": 75
  },
  {
   "cell_type": "code",
   "outputs": [
    {
     "name": "stdout",
     "output_type": "stream",
     "text": [
      "Defaulting to user installation because normal site-packages is not writeable\n",
      "Collecting sklearn\n",
      "  Using cached sklearn-0.0.post12.tar.gz (2.6 kB)\n",
      "  Installing build dependencies: started\n",
      "  Installing build dependencies: finished with status 'done'\n",
      "  Getting requirements to build wheel: started\n",
      "  Getting requirements to build wheel: finished with status 'error'\n"
     ]
    },
    {
     "name": "stderr",
     "output_type": "stream",
     "text": [
      "  error: subprocess-exited-with-error\n",
      "  \n",
      "  Getting requirements to build wheel did not run successfully.\n",
      "  exit code: 1\n",
      "  \n",
      "  [15 lines of output]\n",
      "  The 'sklearn' PyPI package is deprecated, use 'scikit-learn'\n",
      "  rather than 'sklearn' for pip commands.\n",
      "  \n",
      "  Here is how to fix this error in the main use cases:\n",
      "  - use 'pip install scikit-learn' rather than 'pip install sklearn'\n",
      "  - replace 'sklearn' by 'scikit-learn' in your pip requirements files\n",
      "    (requirements.txt, setup.py, setup.cfg, Pipfile, etc ...)\n",
      "  - if the 'sklearn' package is used by one of your dependencies,\n",
      "    it would be great if you take some time to track which package uses\n",
      "    'sklearn' instead of 'scikit-learn' and report it to their issue tracker\n",
      "  - as a last resort, set the environment variable\n",
      "    SKLEARN_ALLOW_DEPRECATED_SKLEARN_PACKAGE_INSTALL=True to avoid this error\n",
      "  \n",
      "  More information is available at\n",
      "  https://github.com/scikit-learn/sklearn-pypi-package\n",
      "  [end of output]\n",
      "  \n",
      "  note: This error originates from a subprocess, and is likely not a problem with pip.\n",
      "error: subprocess-exited-with-error\n",
      "\n",
      "Getting requirements to build wheel did not run successfully.\n",
      "exit code: 1\n",
      "\n",
      "See above for output.\n",
      "\n",
      "note: This error originates from a subprocess, and is likely not a problem with pip.\n"
     ]
    }
   ],
   "source": [
    "!pip install sklearn graphviz pydotplus"
   ],
   "metadata": {
    "collapsed": false,
    "ExecuteTime": {
     "end_time": "2024-03-26T09:47:38.386105Z",
     "start_time": "2024-03-26T09:47:26.767990Z"
    }
   },
   "id": "e21334bd72885326",
   "execution_count": 76
  },
  {
   "cell_type": "code",
   "outputs": [],
   "source": [
    "import os\n",
    "from sklearn.preprocessing import LabelEncoder\n",
    "\n",
    "# Transformation de toutes les images en vecteur\n",
    "pics = sample(os.listdir(\"images\"), 128)\n",
    "picdata_matrix = read_pic_datas(pics)\n",
    "\n",
    "# Encodage de tous les labels\n",
    "label_encoders = [LabelEncoder() for _ in range(len(picdata_matrix[0]))]\n",
    "encoded_data = []\n",
    "for i, column in enumerate(zip(*picdata_matrix)):\n",
    "    encoded_data.append(label_encoders[i].fit_transform(column))\n",
    "\n",
    "X = list(zip(*encoded_data))"
   ],
   "metadata": {
    "collapsed": false,
    "ExecuteTime": {
     "end_time": "2024-03-26T09:59:49.248421Z",
     "start_time": "2024-03-26T09:59:49.106014Z"
    }
   },
   "id": "5da9fa20c9abb1b0",
   "execution_count": 89
  },
  {
   "cell_type": "markdown",
   "source": [
    "On récupère ensuite les données sur lequelles entrainer le programme avec des entrées utilisateur (X_train).\n",
    "On demandera ensuite de choisir les images préférées pour remplir y_train"
   ],
   "metadata": {
    "collapsed": false
   },
   "id": "ff23c8e9c1169d2c"
  },
  {
   "cell_type": "markdown",
   "source": [
    "On peut observer les prédictions"
   ],
   "metadata": {
    "collapsed": false
   },
   "id": "db0a5483521d1a8e"
  },
  {
   "cell_type": "code",
   "outputs": [
    {
     "data": {
      "text/plain": "HBox(children=(Button(icon='thumbs-down', style=ButtonStyle(button_color='#5352ed'), tooltip='Dislike'), Butto…",
      "application/vnd.jupyter.widget-view+json": {
       "version_major": 2,
       "version_minor": 0,
       "model_id": "715170a924954b4097c281e907983a68"
      }
     },
     "metadata": {},
     "output_type": "display_data"
    },
    {
     "data": {
      "text/plain": "Output()",
      "application/vnd.jupyter.widget-view+json": {
       "version_major": 2,
       "version_minor": 0,
       "model_id": "6d9544afadb04dfd8482ec10bc6a37f1"
      }
     },
     "metadata": {},
     "output_type": "display_data"
    }
   ],
   "source": [
    "from random import choice\n",
    "from sklearn.model_selection import train_test_split\n",
    "from sklearn import svm\n",
    "from sklearn.metrics import accuracy_score\n",
    "\n",
    "# Si on exécute le Jupyter d'un coup: inputs aléatoires (on recommande quand même de remplir le ipywidgets\n",
    "y_train = [choice([True, False]) for i in pics]\n",
    "X_train, X_test, pics_train, pics_test = train_test_split(X, pics, train_size=0.1, random_state=42)\n",
    "\n",
    "entrainement = ImageScroller(pics_train)\n",
    "entrainement.display()"
   ],
   "metadata": {
    "collapsed": false,
    "ExecuteTime": {
     "end_time": "2024-03-26T09:59:50.754945Z",
     "start_time": "2024-03-26T09:59:50.691883Z"
    }
   },
   "id": "42b22202b25b0ba2",
   "execution_count": 90
  },
  {
   "cell_type": "code",
   "outputs": [
    {
     "data": {
      "text/plain": "HBox(children=(Button(icon='arrow-left', style=ButtonStyle(button_color='#003f17'), tooltip='Next'), Button(ic…",
      "application/vnd.jupyter.widget-view+json": {
       "version_major": 2,
       "version_minor": 0,
       "model_id": "b578caa4b9654f449bd02c17a8027b04"
      }
     },
     "metadata": {},
     "output_type": "display_data"
    },
    {
     "data": {
      "text/plain": "Output()",
      "application/vnd.jupyter.widget-view+json": {
       "version_major": 2,
       "version_minor": 0,
       "model_id": "78c74f19dc8e4b18b8640d277db30cac"
      }
     },
     "metadata": {},
     "output_type": "display_data"
    },
    {
     "data": {
      "text/plain": "Output()",
      "application/vnd.jupyter.widget-view+json": {
       "version_major": 2,
       "version_minor": 0,
       "model_id": "fae00c889a744ef5a4da85f5848a75ac"
      }
     },
     "metadata": {},
     "output_type": "display_data"
    }
   ],
   "source": [
    "y_train = entrainement.likes\n",
    "\n",
    "# On se sert des entrees utilisateur\n",
    "classifier = svm.SVC()\n",
    "classifier.fit(X_train, y_train)\n",
    "\n",
    "# Predictions\n",
    "y_pred = classifier.predict(X_test)\n",
    "\n",
    "class ImagePredictionViewer(ImageViewer):\n",
    "    def __init__(self, pics, prediction):\n",
    "        ImageViewer.__init__(self, pics, None )\n",
    "        self.prediction = prediction\n",
    "    \n",
    "    def show(self, name):\n",
    "        ImageScroller.show(self, name)\n",
    "        data = self.prediction[self.shown_image_idx]\n",
    "        with self.pic_data:\n",
    "            clear_output()\n",
    "            print(f\"{name}: \"+ (\"Like\" if data else \"Dislike\"))\n",
    "\n",
    "predictionv = ImagePredictionViewer(pics_test, y_pred)\n",
    "predictionv.display()"
   ],
   "metadata": {
    "collapsed": false,
    "ExecuteTime": {
     "end_time": "2024-03-26T10:00:32.316282Z",
     "start_time": "2024-03-26T10:00:32.264799Z"
    }
   },
   "id": "f694a7860fa23961",
   "execution_count": 91
  },
  {
   "cell_type": "markdown",
   "source": [
    "## Tests\n",
    "Pour éviter de tester sur nos 128 images, on calculera une accuracy à chaque like / dislike, ce qui nous permettra d'arrêter quand on veut"
   ],
   "metadata": {
    "collapsed": false
   },
   "id": "78554cdd3afab160"
  },
  {
   "cell_type": "code",
   "outputs": [
    {
     "data": {
      "text/plain": "HBox(children=(Button(icon='thumbs-down', style=ButtonStyle(button_color='#5352ed'), tooltip='Dislike'), Butto…",
      "application/vnd.jupyter.widget-view+json": {
       "version_major": 2,
       "version_minor": 0,
       "model_id": "e38fe8d74ebe4d8fb3f33e139b18b593"
      }
     },
     "metadata": {},
     "output_type": "display_data"
    },
    {
     "data": {
      "text/plain": "Output()",
      "application/vnd.jupyter.widget-view+json": {
       "version_major": 2,
       "version_minor": 0,
       "model_id": "cfbec472263644298990ad1d320c52c2"
      }
     },
     "metadata": {},
     "output_type": "display_data"
    },
    {
     "data": {
      "text/plain": "Output()",
      "application/vnd.jupyter.widget-view+json": {
       "version_major": 2,
       "version_minor": 0,
       "model_id": "b761a791c9924bb59c2c6d6b5eed88e7"
      }
     },
     "metadata": {},
     "output_type": "display_data"
    }
   ],
   "source": [
    "class ImageAccuracyScroller(ImageScroller):\n",
    "    def __init__(self, pics, prediction):\n",
    "        ImageScroller.__init__(self, pics)\n",
    "        self.pic_data = widgets.Output()\n",
    "        self.prediction = prediction\n",
    "        # Seulement les likes remplis\n",
    "        self.y_test = []\n",
    "        \n",
    "    def get_accuracy(self):\n",
    "        # Mise a jour de accuracy_likes\n",
    "        while len(self.likes) > len(self.y_test):\n",
    "            newlike = self.likes[len(self.y_test)]\n",
    "            if newlike is None:\n",
    "                break\n",
    "            self.y_test.append(newlike)\n",
    "        lytest = len(self.y_test)\n",
    "        if lytest < 1:\n",
    "            return \"Inconnue\"\n",
    "        pred = self.prediction[:lytest]\n",
    "        return accuracy_score(self.y_test, pred)\n",
    "        \n",
    "    \n",
    "    def show(self, name):\n",
    "        ImageScroller.show(self, name)\n",
    "        with self.pic_data:\n",
    "            clear_output()\n",
    "            print(f\"Image {self.shown_image_idx}:\")\n",
    "            print(f\"Accuracy: {self.get_accuracy()}\")\n",
    "            \n",
    "    def display(self):\n",
    "        buttons = widgets.HBox([self.get_left_button(), self.get_right_button()])\n",
    "        display(buttons,self.pic_data, self.pic_output)\n",
    "        self.show(self.pics[self.shown_image_idx])   \n",
    "accscroller = ImageAccuracyScroller(pics_test, y_pred)\n",
    "accscroller.display()\n"
   ],
   "metadata": {
    "collapsed": false,
    "ExecuteTime": {
     "end_time": "2024-03-26T10:03:31.468197Z",
     "start_time": "2024-03-26T10:03:31.352113Z"
    }
   },
   "id": "d7469806fef6ebf0",
   "execution_count": 95
  },
  {
   "cell_type": "code",
   "outputs": [],
   "source": [],
   "metadata": {
    "collapsed": false
   },
   "id": "d340ba696a6adf79"
  }
 ],
 "metadata": {
  "kernelspec": {
   "display_name": "Python 3 (ipykernel)",
   "language": "python",
   "name": "python3"
  },
  "language_info": {
   "codemirror_mode": {
    "name": "ipython",
    "version": 3
   },
   "file_extension": ".py",
   "mimetype": "text/x-python",
   "name": "python",
   "nbconvert_exporter": "python",
   "pygments_lexer": "ipython3",
   "version": "3.12.2"
  }
 },
 "nbformat": 4,
 "nbformat_minor": 5
}
