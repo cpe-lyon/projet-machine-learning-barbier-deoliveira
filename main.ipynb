{
 "cells": [
  {
   "cell_type": "markdown",
   "id": "6170a8fca255ca05",
   "metadata": {
    "collapsed": false
   },
   "source": [
    "# Projet\n",
    "*Les premières parties peuvent être exécutée par un kernel différent: à la fin de chaque partie, les fichiers sont stockés, et la mémoire vive n'est pas utilisée d'une partie à l'autre*\n",
    "\n",
    "Après l'analyse, les parties sont interdépendantes"
   ]
  },
  {
   "cell_type": "markdown",
   "id": "9e51117bb9f37dde",
   "metadata": {
    "collapsed": false
   },
   "source": [
    "## Collecte de données"
   ]
  },
  {
   "cell_type": "code",
   "execution_count": 1,
   "id": "13c0d01e502c7f5",
   "metadata": {
    "ExecuteTime": {
     "end_time": "2024-03-21T18:16:31.266129Z",
     "start_time": "2024-03-21T18:16:25.346007Z"
    }
   },
   "outputs": [
    {
     "name": "stdout",
     "output_type": "stream",
     "text": [
      "Defaulting to user installation because normal site-packages is not writeable\n",
      "Requirement already satisfied: sparqlwrapper in c:\\users\\dojos\\appdata\\local\\packages\\pythonsoftwarefoundation.python.3.12_qbz5n2kfra8p0\\localcache\\local-packages\\python312\\site-packages (2.0.0)\n",
      "Requirement already satisfied: rdflib>=6.1.1 in c:\\users\\dojos\\appdata\\local\\packages\\pythonsoftwarefoundation.python.3.12_qbz5n2kfra8p0\\localcache\\local-packages\\python312\\site-packages (from sparqlwrapper) (7.0.0)\n",
      "Requirement already satisfied: isodate<0.7.0,>=0.6.0 in c:\\users\\dojos\\appdata\\local\\packages\\pythonsoftwarefoundation.python.3.12_qbz5n2kfra8p0\\localcache\\local-packages\\python312\\site-packages (from rdflib>=6.1.1->sparqlwrapper) (0.6.1)\n",
      "Requirement already satisfied: pyparsing<4,>=2.1.0 in c:\\users\\dojos\\appdata\\local\\packages\\pythonsoftwarefoundation.python.3.12_qbz5n2kfra8p0\\localcache\\local-packages\\python312\\site-packages (from rdflib>=6.1.1->sparqlwrapper) (3.1.1)\n",
      "Requirement already satisfied: six in c:\\users\\dojos\\appdata\\local\\packages\\pythonsoftwarefoundation.python.3.12_qbz5n2kfra8p0\\localcache\\local-packages\\python312\\site-packages (from isodate<0.7.0,>=0.6.0->rdflib>=6.1.1->sparqlwrapper) (1.16.0)\n",
      "Defaulting to user installation because normal site-packages is not writeable\n",
      "Requirement already satisfied: pandas in c:\\users\\dojos\\appdata\\local\\packages\\pythonsoftwarefoundation.python.3.12_qbz5n2kfra8p0\\localcache\\local-packages\\python312\\site-packages (2.2.1)\n",
      "Requirement already satisfied: numpy<2,>=1.26.0 in c:\\users\\dojos\\appdata\\local\\packages\\pythonsoftwarefoundation.python.3.12_qbz5n2kfra8p0\\localcache\\local-packages\\python312\\site-packages (from pandas) (1.26.4)\n",
      "Requirement already satisfied: python-dateutil>=2.8.2 in c:\\users\\dojos\\appdata\\local\\packages\\pythonsoftwarefoundation.python.3.12_qbz5n2kfra8p0\\localcache\\local-packages\\python312\\site-packages (from pandas) (2.9.0.post0)\n",
      "Requirement already satisfied: pytz>=2020.1 in c:\\users\\dojos\\appdata\\local\\packages\\pythonsoftwarefoundation.python.3.12_qbz5n2kfra8p0\\localcache\\local-packages\\python312\\site-packages (from pandas) (2024.1)\n",
      "Requirement already satisfied: tzdata>=2022.7 in c:\\users\\dojos\\appdata\\local\\packages\\pythonsoftwarefoundation.python.3.12_qbz5n2kfra8p0\\localcache\\local-packages\\python312\\site-packages (from pandas) (2024.1)\n",
      "Requirement already satisfied: six>=1.5 in c:\\users\\dojos\\appdata\\local\\packages\\pythonsoftwarefoundation.python.3.12_qbz5n2kfra8p0\\localcache\\local-packages\\python312\\site-packages (from python-dateutil>=2.8.2->pandas) (1.16.0)\n"
     ]
    }
   ],
   "source": [
    "!pip install sparqlwrapper\n",
    "!pip install pandas"
   ]
  },
  {
   "cell_type": "code",
   "execution_count": 2,
   "id": "cbcc901a-1e44-44b8-bf22-135e6b00ecd6",
   "metadata": {
    "ExecuteTime": {
     "end_time": "2024-03-21T18:16:31.984212Z",
     "start_time": "2024-03-21T18:16:31.268147Z"
    }
   },
   "outputs": [],
   "source": [
    "import sys\n",
    "from SPARQLWrapper import SPARQLWrapper, JSON\n",
    "\n",
    "endpoint_url = \"https://query.wikidata.org/sparql\"\n",
    "\n",
    "# Get casino image\n",
    "query = \"\"\"SELECT ?image {\n",
    "  ?data wdt:P31 wd:Q133215;\n",
    "        wdt:P18 ?image\n",
    "}\n",
    "LIMIT 128\"\"\"\n",
    "\n",
    "\n",
    "def get_results(endpoint_url, query):\n",
    "    user_agent = \"WDQS-example Python/%s.%s\" % (\n",
    "        sys.version_info[0],\n",
    "        sys.version_info[1],\n",
    "    )\n",
    "    sparql = SPARQLWrapper(endpoint_url, agent=user_agent)\n",
    "    sparql.setQuery(query)\n",
    "    sparql.setReturnFormat(JSON)\n",
    "    return sparql.query().convert()\n",
    "\n",
    "\n",
    "array = []\n",
    "results = get_results(endpoint_url, query)\n",
    "\n",
    "for result in results[\"results\"][\"bindings\"]:\n",
    "    array.append(\n",
    "        (\n",
    "            result[\"image\"][\"value\"],\n",
    "        )\n",
    "    )"
   ]
  },
  {
   "cell_type": "code",
   "execution_count": 3,
   "id": "42f6d72d-ae1e-4e59-a38f-c0ed356ba85f",
   "metadata": {
    "ExecuteTime": {
     "end_time": "2024-03-21T18:16:38.887300Z",
     "start_time": "2024-03-21T18:16:31.986766Z"
    }
   },
   "outputs": [
    {
     "data": {
      "text/plain": "                                                 image\n0    http://commons.wikimedia.org/wiki/Special:File...\n1    http://commons.wikimedia.org/wiki/Special:File...\n2    http://commons.wikimedia.org/wiki/Special:File...\n3    http://commons.wikimedia.org/wiki/Special:File...\n4    http://commons.wikimedia.org/wiki/Special:File...\n..                                                 ...\n123  http://commons.wikimedia.org/wiki/Special:File...\n124  http://commons.wikimedia.org/wiki/Special:File...\n125  http://commons.wikimedia.org/wiki/Special:File...\n126  http://commons.wikimedia.org/wiki/Special:File...\n127  http://commons.wikimedia.org/wiki/Special:File...\n\n[128 rows x 1 columns]",
      "text/html": "<div>\n<style scoped>\n    .dataframe tbody tr th:only-of-type {\n        vertical-align: middle;\n    }\n\n    .dataframe tbody tr th {\n        vertical-align: top;\n    }\n\n    .dataframe thead th {\n        text-align: right;\n    }\n</style>\n<table border=\"1\" class=\"dataframe\">\n  <thead>\n    <tr style=\"text-align: right;\">\n      <th></th>\n      <th>image</th>\n    </tr>\n  </thead>\n  <tbody>\n    <tr>\n      <th>0</th>\n      <td>http://commons.wikimedia.org/wiki/Special:File...</td>\n    </tr>\n    <tr>\n      <th>1</th>\n      <td>http://commons.wikimedia.org/wiki/Special:File...</td>\n    </tr>\n    <tr>\n      <th>2</th>\n      <td>http://commons.wikimedia.org/wiki/Special:File...</td>\n    </tr>\n    <tr>\n      <th>3</th>\n      <td>http://commons.wikimedia.org/wiki/Special:File...</td>\n    </tr>\n    <tr>\n      <th>4</th>\n      <td>http://commons.wikimedia.org/wiki/Special:File...</td>\n    </tr>\n    <tr>\n      <th>...</th>\n      <td>...</td>\n    </tr>\n    <tr>\n      <th>123</th>\n      <td>http://commons.wikimedia.org/wiki/Special:File...</td>\n    </tr>\n    <tr>\n      <th>124</th>\n      <td>http://commons.wikimedia.org/wiki/Special:File...</td>\n    </tr>\n    <tr>\n      <th>125</th>\n      <td>http://commons.wikimedia.org/wiki/Special:File...</td>\n    </tr>\n    <tr>\n      <th>126</th>\n      <td>http://commons.wikimedia.org/wiki/Special:File...</td>\n    </tr>\n    <tr>\n      <th>127</th>\n      <td>http://commons.wikimedia.org/wiki/Special:File...</td>\n    </tr>\n  </tbody>\n</table>\n<p>128 rows × 1 columns</p>\n</div>"
     },
     "execution_count": 3,
     "metadata": {},
     "output_type": "execute_result"
    }
   ],
   "source": [
    "import pandas as pd\n",
    "dataframe = pd.DataFrame(array, columns=[\"image\"])\n",
    "dataframe = dataframe.astype(\n",
    "    dtype={\"image\": \"<U200\"}\n",
    ")\n",
    "dataframe"
   ]
  },
  {
   "cell_type": "code",
   "execution_count": 4,
   "id": "ea19f1335276aa9a",
   "metadata": {
    "collapsed": false,
    "ExecuteTime": {
     "end_time": "2024-03-21T18:16:38.911237Z",
     "start_time": "2024-03-21T18:16:38.898121Z"
    }
   },
   "outputs": [],
   "source": [
    "import os\n",
    "try:\n",
    "    os.mkdir('images')\n",
    "except:\n",
    "    pass"
   ]
  },
  {
   "cell_type": "markdown",
   "id": "9ba0fe6414a8d0d4",
   "metadata": {
    "collapsed": false
   },
   "source": [
    "Nous allons écrire une méthode pour extraire les exifs"
   ]
  },
  {
   "cell_type": "markdown",
   "id": "9791aaf0725d6db5",
   "metadata": {
    "collapsed": false
   },
   "source": [
    "Nous allons maintenant télécharger les images"
   ]
  },
  {
   "cell_type": "code",
   "execution_count": 5,
   "id": "307c6bcd-24e1-4040-b7de-a62456d4c377",
   "metadata": {
    "ExecuteTime": {
     "end_time": "2024-03-21T18:16:39.112120Z",
     "start_time": "2024-03-21T18:16:38.914997Z"
    }
   },
   "outputs": [],
   "source": [
    "import requests\n",
    "import shutil\n",
    "import os\n",
    "import json\n",
    "\n",
    "count = 0\n",
    "def download_image(url):\n",
    "    global metadata, count\n",
    "    if count % 10 == 0:\n",
    "        print(\"Téléchargé \", count, \" images\") \n",
    "    count += 1\n",
    "\n",
    "    headers = {\"User-Agent\": \"Mozilla/5.0\"}\n",
    "    request = requests.get(url, allow_redirects=True, headers=headers, stream=True)\n",
    "    if request.status_code == 200:\n",
    "        nom = os.path.basename(url)[-30:]\n",
    "        chemin = \"images/\"+nom\n",
    "        with open(chemin, \"wb\") as image:\n",
    "            request.raw.decode_content = True\n",
    "            shutil.copyfileobj(request.raw, image)\n",
    "    return request.status_code"
   ]
  },
  {
   "cell_type": "code",
   "execution_count": 6,
   "id": "93bc8514-6631-4283-8c20-ea3ab34a54b6",
   "metadata": {
    "ExecuteTime": {
     "end_time": "2024-03-21T18:23:22.074975Z",
     "start_time": "2024-03-21T18:16:39.114907Z"
    }
   },
   "outputs": [
    {
     "name": "stdout",
     "output_type": "stream",
     "text": [
      "Début du téléchargement\n",
      "Téléchargé  0  images\n",
      "Téléchargé  10  images\n",
      "Téléchargé  20  images\n",
      "Téléchargé  30  images\n",
      "Téléchargé  40  images\n",
      "Téléchargé  50  images\n",
      "Téléchargé  60  images\n",
      "Téléchargé  70  images\n",
      "Téléchargé  80  images\n",
      "Téléchargé  90  images\n",
      "Téléchargé  100  images\n",
      "Téléchargé  110  images\n",
      "Téléchargé  120  images\n"
     ]
    },
    {
     "data": {
      "text/plain": "0      200\n1      200\n2      200\n3      200\n4      200\n      ... \n123    200\n124    200\n125    200\n126    200\n127    200\nName: image, Length: 128, dtype: int64"
     },
     "execution_count": 6,
     "metadata": {},
     "output_type": "execute_result"
    }
   ],
   "source": [
    "print(\"Début du téléchargement\")\n",
    "dataframe.image.apply(download_image)"
   ]
  },
  {
   "cell_type": "markdown",
   "source": [
    "## Étiquetage et annotation"
   ],
   "metadata": {
    "collapsed": false
   },
   "id": "eedcc5090a6f562f"
  },
  {
   "cell_type": "markdown",
   "id": "585aa84c15d81e16",
   "metadata": {
    "collapsed": false
   },
   "source": [
    "On enregistre les exifs"
   ]
  },
  {
   "cell_type": "code",
   "execution_count": 7,
   "id": "4dbb92f046f1f710",
   "metadata": {
    "collapsed": false,
    "pycharm": {
     "is_executing": true
    },
    "ExecuteTime": {
     "end_time": "2024-03-21T18:23:39.340807Z",
     "start_time": "2024-03-21T18:23:22.077993Z"
    }
   },
   "outputs": [
    {
     "name": "stdout",
     "output_type": "stream",
     "text": [
      "Defaulting to user installation because normal site-packages is not writeable\n",
      "Requirement already satisfied: scikit-learn in c:\\users\\dojos\\appdata\\local\\packages\\pythonsoftwarefoundation.python.3.12_qbz5n2kfra8p0\\localcache\\local-packages\\python312\\site-packages (1.4.1.post1)\n",
      "Requirement already satisfied: numpy<2.0,>=1.19.5 in c:\\users\\dojos\\appdata\\local\\packages\\pythonsoftwarefoundation.python.3.12_qbz5n2kfra8p0\\localcache\\local-packages\\python312\\site-packages (from scikit-learn) (1.26.4)\n",
      "Requirement already satisfied: scipy>=1.6.0 in c:\\users\\dojos\\appdata\\local\\packages\\pythonsoftwarefoundation.python.3.12_qbz5n2kfra8p0\\localcache\\local-packages\\python312\\site-packages (from scikit-learn) (1.12.0)\n",
      "Requirement already satisfied: joblib>=1.2.0 in c:\\users\\dojos\\appdata\\local\\packages\\pythonsoftwarefoundation.python.3.12_qbz5n2kfra8p0\\localcache\\local-packages\\python312\\site-packages (from scikit-learn) (1.3.2)\n",
      "Requirement already satisfied: threadpoolctl>=2.0.0 in c:\\users\\dojos\\appdata\\local\\packages\\pythonsoftwarefoundation.python.3.12_qbz5n2kfra8p0\\localcache\\local-packages\\python312\\site-packages (from scikit-learn) (3.3.0)\n",
      "Fonction extraction OK\n"
     ]
    }
   ],
   "source": [
    "!pip install scikit-learn\n",
    "import os, sys, json\n",
    "from PIL import Image\n",
    "from PIL.ExifTags import TAGS\n",
    "import numpy\n",
    "import math\n",
    "from sklearn.cluster import KMeans\n",
    "\n",
    "\n",
    "def extraire_donnees(image_chemin):\n",
    "    imgfile = Image.open(image_chemin)\n",
    "    try:\n",
    "        exif_data = imgfile._getexif()\n",
    "    except:\n",
    "        print(f\"les EXIFs n'ont pas pu être extraits depuis {image_chemin}\")\n",
    "        exif_data = {}\n",
    "    image_metadata = dict()\n",
    "    if exif_data:\n",
    "        for tag, value in exif_data.items():\n",
    "            if(isinstance(value, bytes)):\n",
    "                continue\n",
    "            if (not isinstance(value, int)) and (not isinstance(value, float)):\n",
    "                value = f\"{value}\"\n",
    "            if tag in TAGS:\n",
    "                image_metadata[TAGS[tag]] = value\n",
    "    return image_metadata\n",
    "print(\"Fonction extraction OK\")"
   ]
  },
  {
   "cell_type": "markdown",
   "id": "c624fb4963fbe0d4",
   "metadata": {
    "collapsed": false
   },
   "source": [
    "On utilise KMeans pour avoir 2 clusters par image"
   ]
  },
  {
   "cell_type": "code",
   "execution_count": 8,
   "id": "961ff0e6632d80f5",
   "metadata": {
    "collapsed": false,
    "ExecuteTime": {
     "end_time": "2024-03-21T18:23:39.378266Z",
     "start_time": "2024-03-21T18:23:39.349839Z"
    }
   },
   "outputs": [],
   "source": [
    "def extraire_couleurs(image_chemin):\n",
    "    imgfile = Image.open(image_chemin)\n",
    "    numarray = numpy.array(imgfile.getdata(), numpy.uint8)\n",
    "    print(image_chemin)\n",
    "    clusters = KMeans(n_clusters=2, n_init=2)\n",
    "    couleurs = []\n",
    "    try :\n",
    "        clusters.fit(numarray)\n",
    "        for i in range(2):\n",
    "            couleur = (\"#%02x%02x%02x\"\n",
    "                % (\n",
    "                    math.ceil(clusters.cluster_centers_[i][0]),\n",
    "                    math.ceil(clusters.cluster_centers_[i][1]),\n",
    "                    math.ceil(clusters.cluster_centers_[i][2]),\n",
    "                ))\n",
    "            couleurs.append(couleur)\n",
    "    except:\n",
    "        print(f\"les couleurs n'ont pas pu être extraits depuis {image_chemin}\")\n",
    "        couleur = \"#00000\"\n",
    "        for i in range(2):\n",
    "            couleurs.append(couleur)\n",
    "    print(couleurs)\n",
    "    return couleurs"
   ]
  },
  {
   "cell_type": "markdown",
   "source": [
    "On ajoute des tags rentrés à l'avance depuis user_inputs, qui représente des entrées d'utilisateurs."
   ],
   "metadata": {
    "collapsed": false
   },
   "id": "ad64f701c7da3b1c"
  },
  {
   "cell_type": "code",
   "execution_count": 9,
   "id": "b141cb6f46e2ee94",
   "metadata": {
    "collapsed": false,
    "ExecuteTime": {
     "end_time": "2024-03-21T18:23:39.397807Z",
     "start_time": "2024-03-21T18:23:39.383283Z"
    }
   },
   "outputs": [],
   "source": [
    "def ajout_tag(dat, filename, tags):\n",
    "    dat[filename]['tags'] = tags\n",
    "    return dat\n",
    "\n",
    "def lire_entree(dat, filename):\n",
    "    input_file = \"user_input/\"+filename+\".txt\"\n",
    "    tagstr = \"\"\n",
    "    if os.path.exists(input_file):\n",
    "        with open(input_file, 'r') as fichier:\n",
    "            tagstr = fichier.read()\n",
    "    tags = [partie for partie in tagstr.split() if partie]\n",
    "    return ajout_tag(dat, filename, tags)"
   ]
  },
  {
   "cell_type": "markdown",
   "id": "448e67b571c50465",
   "metadata": {
    "collapsed": false
   },
   "source": [
    "On construit un JSON en extrayant les couleurs, les exifs, et les tags"
   ]
  },
  {
   "cell_type": "code",
   "execution_count": 13,
   "id": "ba3b844e4b5cdb4e",
   "metadata": {
    "collapsed": false,
    "ExecuteTime": {
     "end_time": "2024-03-21T19:41:14.291987Z",
     "start_time": "2024-03-21T19:25:29.577958Z"
    }
   },
   "outputs": [
    {
     "name": "stdout",
     "output_type": "stream",
     "text": [
      "images/%20Casino%2C%20Las%20Vagas.jpg\n",
      "['#4a4747', '#92a0b0']\n",
      "images/%20Casino%2C%20Las%20Vegas.jpg\n",
      "['#565254', '#b2cae5']\n",
      "images/%20Foto%20postcard%201940s.jpg\n",
      "['#d4d5d6', '#4a4b4d']\n",
      "images/%20Montbenon%2C%20Lausanne.jpg\n",
      "['#1e1b19', '#939da4']\n",
      "images/%20Neuenahr%20Kurhaus%2030.JPG\n",
      "['#beb8b0', '#313b57']\n",
      "images/%20Rico%20%28IMG%202934%29.jpg\n",
      "['#daded8', '#6f7565']\n",
      "images/%20Savoie%20-Aix-les-Bains.JPG\n",
      "['#455548', '#a2bed1']\n",
      "images/%20Station%20hotel%20tower.jpg\n",
      "['#554c4b', '#b6b7d7']\n",
      "images/%20Vegas%20December%202013.jpg\n",
      "['#5f5548', '#b9bec2']\n",
      "images/%20Vegas%20Wynn%20P4220706.jpg\n",
      "['#4c5248', '#b0c4d6']\n",
      "les EXIFs n'ont pas pu être extraits depuis images/%2C%20NV%20HAER%20NV-14-12.tif\n",
      "images/%2C%20NV%20HAER%20NV-14-12.tif\n",
      "les couleurs n'ont pas pu être extraits depuis images/%2C%20NV%20HAER%20NV-14-12.tif\n",
      "['#00000', '#00000']\n",
      "images/%C3%A1rkert%20kaszin%C3%B3.jpg\n",
      "['#423f3e', '#a9afb1']\n",
      "images/-%20en%20Cultuurpaleis%201.jpg\n",
      "['#869bbb', '#403f43']\n",
      "images/-%20North%20-%202011-06-04.jpg\n",
      "['#c9d1e2', '#505451']\n",
      "images/.%20Casino%20Gran%20Madrid.jpg\n",
      "['#3d3e38', '#b5cae7']\n",
      "images/.%20Lema%C3%AEtre%20Jobard.jpg\n",
      "['#c0b6a1', '#6e634a']\n",
      "images/0-%20Camuy%20Puerto%20Rico.jpg\n",
      "['#5d544d', '#93b6ca']\n",
      "images/0-%20Vivid%20Sydney%202015.jpg\n",
      "['#84757e', '#232736']\n",
      "images/02017%2003%20%28cropped%29.jpg\n",
      "['#444342', '#97acc5']\n",
      "images/0Charlie%27s%20Decatur%201.jpg\n",
      "['#4a4137', '#ecedec']\n",
      "images/0Hotel%20Casino%20Carrasco.jpg\n",
      "['#29231a', '#b6a684']\n",
      "images/2%20di%20Campione%2C%20day.jpg\n",
      "['#414531', '#dacab6']\n",
      "images/2015%20img38%20Spa%20house.jpg\n",
      "['#98a6ae', '#385b7c']\n",
      "images/20Autopista%20Panamericana.JPG\n",
      "['#435144', '#4f8cb9']\n",
      "images/20election%20advertisement.jpg\n",
      "['#a3acb8', '#58575c']\n",
      "images/20expansion%20april%202008.jpg\n",
      "['#dfe9ef', '#58686f']\n",
      "images/20Grand%20River%20Detroit1.jpg\n",
      "['#3e4d51', '#c9dbdf']\n",
      "images/20in%20Nassau%2C%20Bahamas.jpg\n",
      "['#7c9bb5', '#454c46']\n",
      "images/20Nugget%20Casino%20Resort.jpg\n",
      "['#393d41', '#a5cbe5']\n",
      "images/20Palais%20de%20l%27Europe.jpg\n",
      "['#57524d', '#8da8d5']\n",
      "images/4%20queens.JPG\n",
      "['#341a13', '#d9b97d']\n",
      "images/7Entr%C3%A9e%20du%20Casino.jpg\n",
      "['#d5c2b2', '#6f6865']\n",
      "images/Aachen%20Casino.JPG\n",
      "['#170d04', '#bf884b']\n",
      "images/Ada%20Gaming%20Center.jpg\n",
      "['#ccc7be', '#675a38']\n",
      "images/aden%20baden%202016%200010.jpg\n",
      "['#575a44', '#9eb2c9']\n",
      "images/ahs%20Rincon%20San%20Diego.jpg\n",
      "['#3e546d', '#d2ccc1']\n",
      "images/aideRailwayStationAdelaide.jpg\n",
      "['#dfe5e7', '#5b5950']\n",
      "images/alacio%20del%20Condestable.jpg\n",
      "['#63554d', '#edecee']\n",
      "images/Aliante%20Casino%202.jpg\n",
      "['#87a8bf', '#4a5953']\n",
      "images/Annecy%2020120101%20-%2019.JPG\n",
      "['#3c3d2b', '#b4b7c1']\n",
      "images/ano.%20Figueira%20da%20Foz.jpg\n",
      "['#6d6c64', '#ebf3f6']\n",
      "images/Arcachon%20Casino%20R01.jpg\n",
      "['#51647e', '#c6c3bd']\n",
      "images/as%2C%20Nevada%201989%2049.jpg\n",
      "['#c5d0ce', '#101317']\n",
      "images/asino%20Canberra%20Sign%20.jpg\n",
      "['#1e2725', '#c3b898']\n",
      "images/asino%20de%20Montr%C3%A9al.JPG\n",
      "['#44445a', '#d8dbe9']\n",
      "images/asino%20on%20empty%20night.jpg\n",
      "['#22100a', '#d6745d']\n",
      "images/asino%2C%20Dunedin%2C%20NZ.jpg\n",
      "['#aeb1b7', '#353a2e']\n",
      "images/Atv2885.jpg\n",
      "['#573934', '#d2c0b1']\n",
      "images/au%20Las%20Vegas%20signage.jpg\n",
      "['#90acd8', '#585f55']\n",
      "images/Ballys%20Las%20Vegas.jpg\n",
      "['#bebcb8', '#3e475b']\n",
      "images/Bellagio%20outside.jpg\n",
      "['#cddee8', '#67726e']\n",
      "images/Billscasino.jpg\n",
      "['#a6ac9d', '#303632']\n",
      "images/Binion%27s.jpg\n",
      "['#2f241d', '#9bb9af']\n",
      "images/Binions%20horseshoe%201986.jpg\n",
      "['#210c07', '#d6b87a']\n",
      "images/Borgata%20ac.jpg\n",
      "['#c0bfbb', '#5e5438']\n",
      "images/C%20France%20-%20panoramio.jpg\n",
      "['#85888e', '#342e2a']\n",
      "images/C%20France%2C%20ca.%201895.jpg\n",
      "['#c5c1d1', '#5b4f31']\n",
      "images/Carrasco%20en%20la%20noche.jpg\n",
      "['#1e1727', '#b08f9a']\n",
      "images/Casa%20Rosso%203.jpg\n",
      "['#b0a5a9', '#413e45']\n",
      "images/Casino%20arica.JPG\n",
      "['#1d181a', '#c1ba8d']\n",
      "images/Casino%20at%20night%202004.jpg\n",
      "['#e0c2af', '#1c1009']\n",
      "images/Casino%20Barri%C3%A8re.jpg\n",
      "['#565144', '#99a9bd']\n",
      "images/Casino%20de%20Toledo.jpg\n",
      "['#423e56', '#d1a487']\n",
      "images/Casino%20Estoril.jpg\n",
      "['#a0b0cc', '#3f3d28']\n",
      "images/Casino%20Figueira.jpg\n",
      "['#84a7c6', '#2f343e']\n",
      "images/Casino%20Knokke.JPG\n",
      "['#3f555e', '#6e9dc0']\n",
      "images/Casino%20Kursaal.jpg\n",
      "['#c3cdc0', '#5c7177']\n",
      "images/Casino%20Montbenon.jpg\n",
      "['#c1c0bc', '#656261']\n",
      "images/Casino%20Rama.JPG\n",
      "['#f4fafc', '#5c564a']\n",
      "images/Casino%20Regina.jpg\n",
      "['#535551', '#b4bec9']\n",
      "images/Casino%20Travemuende.jpg\n",
      "['#4e4b49', '#92a3b5']\n",
      "images/Casino-de-Saint-Denis.JPG\n",
      "['#231c16', '#7c97be']\n",
      "images/Casino-Funchal.jpg\n",
      "['#211615', '#daa4cf']\n",
      "images/Casinoclubdecomodoro.JPG\n",
      "['#637b9e', '#343734']\n",
      "images/CasinoCultura002.jpg\n",
      "['#7b6c56', '#25221c']\n",
      "images/CasinoduLiban.jpg\n",
      "['#202022', '#807986']\n",
      "images/CASSINO-ALADIM.JPG\n",
      "['#3e3934', '#8d9cb4']\n",
      "images/ChristchurchCasinoC2239.JPG\n",
      "['#2f3637', '#92c1e8']\n",
      "images/Circus%20Circus%20P4220697.jpg\n",
      "['#89a3b4', '#534d4b']\n",
      "images/Club%20Cal%20Neva.jpg\n",
      "['#453336', '#a99da6']\n",
      "images/Commerce%20Casino.jpg\n",
      "['#445446', '#8fb0be']\n",
      "images/Crown%20Casino%20complex.jpg\n",
      "['#566484', '#809fd9']\n",
      "images/d%20%28Espa%C3%B1a%29%2005.jpg\n",
      "['#96acbd', '#3d3e3c']\n",
      "images/Deauville-Casino-20120915.jpg\n",
      "['#d6d0cc', '#424c59']\n",
      "images/den%20Kursaal%20Stirnfront.jpg\n",
      "['#383c25', '#839db5']\n",
      "images/dge%20Hotel%20%26%20Casino.jpg\n",
      "['#8d99ae', '#554e4b']\n",
      "images/Diamond%20Jo%20Casino.JPG\n",
      "['#b5bfc9', '#4a4e53']\n",
      "images/did%20et%20Atrium%20Casino.jpg\n",
      "['#5b5a56', '#eaf1f4']\n",
      "images/DoverDownsSportsbook.jpg\n",
      "['#8c97a3', '#30201a']\n",
      "images/Dunes%20Hotel.jpg\n",
      "['#ebe7e2', '#4f534c']\n",
      "images/e%20hotel%20The%20Bellagio.jpg\n",
      "['#b5ab9a', '#3d4c54']\n",
      "images/egas%20-%20November%202003.jpg\n",
      "['#5e5d59', '#c7d4d3']\n",
      "images/Eldorado%20Casino.jpg\n",
      "['#50493f', '#6bb0d2']\n",
      "images/ePelton%40theBicycleCasino.jpg\n",
      "['#483e35', '#c6ac94']\n",
      "images/er%2C%20Hard%20Rock%20Cafe.jpg\n",
      "['#2d3237', '#bcc3d1']\n",
      "images/Fa%C3%A7ade%20fleurie.jpg\n",
      "['#3d3829', '#b9baaf']\n",
      "images/ffs%20Casino%20-%20Natchez.jpg\n",
      "['#2c2732', '#9b9ac4']\n",
      "images/FireKeepers.JPG\n",
      "['#b6d8f2', '#3b4248']\n",
      "images/Flamingohotelyay.jpg\n",
      "['#b5a9a3', '#323246']\n",
      "images/Fremont%20street%201983.jpg\n",
      "['#828c8d', '#3a1f15']\n",
      "images/gas%20Excalibur%20P4230727.jpg\n",
      "['#9bbacf', '#4c4f53']\n",
      "images/gas%20Tropicana%20P4230726.jpg\n",
      "['#d3d9d8', '#52718d']\n",
      "images/Golden%20Nugget%202008.jpg\n",
      "['#a27957', '#271f1b']\n",
      "images/Golden%20Nugget.jpg\n",
      "['#575c60', '#ccd2da']\n",
      "images/GrandCasinoBasel.JPG\n",
      "['#69453a', '#7993bb']\n",
      "images/h%20Lick%20Springs%20Hotel.jpg\n",
      "['#c6e0f6', '#4f544f']\n",
      "images/Hard%20rock%20las%20vegas.jpg\n",
      "['#b8c2ce', '#3d3931']\n",
      "images/Hooters%20Casino%20HotelLV.jpg\n",
      "['#bcd5e6', '#4b5255']\n",
      "images/Hotel%20argentino.JPG\n",
      "['#464543', '#c2bdbd']\n",
      "images/HPIM1957.sized.jpg\n",
      "['#e6e4e1', '#6f493e']\n",
      "images/Huesca%20Casino%20817.jpg\n",
      "['#3b4652', '#b0afa8']\n",
      "images/ino%20de%20Charlevoix%2001.jpg\n",
      "['#c2d8e1', '#606d42']\n",
      "images/ino%20mauresque%20arcachon.jpg\n",
      "['#4b4c40', '#d2d3c8']\n",
      "images/Interlaken%20Kursaal%2009.jpg\n",
      "['#3d4d43', '#9eb981']\n",
      "images/is%2C%20Duisburg%2C%202012.JPG\n",
      "['#565441', '#b8c0c8']\n",
      "images/ity%20of%20Dreams%20200907.jpg\n",
      "['#333e43', '#9bc5ef']\n",
      "images/JACKCincinnatiCasio%202017.jpg\n",
      "['#c2a774', '#2f2b3e']\n",
      "images/Jerry%27sNuggetSunset.jpg\n",
      "['#1e1410', '#505870']\n",
      "images/JerrysTower.jpg\n",
      "['#69a0be', '#504435']\n",
      "images/k%20Casino%20-%20panoramio.jpg\n",
      "['#77b7c0', '#515d34']\n",
      "images/ke%20Casino%20Nevada%20USA.jpg\n",
      "['#909086', '#353526']\n",
      "images/Kurpark-hg-spielbank-005.jpg\n",
      "['#3b3d32', '#b7bab2']\n",
      "images/kwesasne%20Mohawk%20Casino.jpg\n",
      "['#d9e1eb', '#292e25']\n",
      "images/La%20Mediterranee.jpg\n",
      "['#3e5572', '#b0ad9e']\n",
      "images/land%20Hotel%20Las%20Vegas.jpg\n",
      "['#3f3b34', '#96a3b5']\n",
      "images/Las%20vegas%20club-edit1.jpg\n",
      "['#4a4640', '#a5b5bd']\n",
      "images/Las%20Vegas%2C%20Nevada%29.jpg\n",
      "['#1b1b22', '#838ea6']\n",
      "images/LasVegas-MGMgrand.jpg\n",
      "['#1a2511', '#ad8c71']\n",
      "images/ld%20Mountain%20Casino%201.jpg\n",
      "['#f3f3f5', '#826e57']\n",
      "images/Leamy%20Casino.JPG\n",
      "['#c6cddd', '#5b5e6c']\n",
      "images/Little%20Six%20Casino.jpg\n",
      "['#075eaf', '#6b533e']\n",
      "images/London%20Hippodrome%202011.jpg\n",
      "['#58534d', '#f2f9fb']\n",
      "images/M-408116720.jpg\n",
      "['#1c0902', '#e4a46b']\n",
      "images/Marinalarge.jpg\n",
      "['#7ca5c3', '#555449']\n",
      "images/Mirage%20Volcano.jpg\n",
      "['#deb48a', '#47291a']\n",
      "images/Neues%20Kurhaus%20II.jpg\n",
      "['#d5dadc', '#514b42']\n",
      "images/neyard%20%2826082727467%29.jpg\n",
      "['#0c0702', '#bca86e']\n",
      "images/no%20Lakeside%20California.jpg\n",
      "['#cfd8d6', '#4d4e2f']\n",
      "images/o%20Grand%20Opening%202014.jpg\n",
      "['#bab5b2', '#423e3d']\n",
      "images/O%27Sheas%20Casino.jpg\n",
      "['#57584f', '#bebdb4']\n",
      "images/o%2C%20casin%C3%B2%2C%2001.jpg\n",
      "['#a5bedf', '#4a4643']\n",
      "images/ontainebleau%20Las%20Vegas.JPG\n",
      "['#c1d6df', '#384a5e']\n",
      "images/Orleans2-LV.JPG\n",
      "['#aeb5b9', '#424239']\n",
      "images/Palms%20Casino%20Resort.jpg\n",
      "['#352d31', '#5b7b9c']\n",
      "images/Park%20MGM%20exterior.jpg\n",
      "['#b2c0d2', '#2d3437']\n",
      "images/r%20City%20Casino%20Length.png\n",
      "['#434b4c', '#acc2d4']\n",
      "images/Rio%20hotel%20vegas.jpg\n",
      "['#b2c1d0', '#5a453a']\n",
      "images/Rio%20Vegas%20Nima.JPG\n",
      "['#3e495e', '#ced8d5']\n",
      "images/Riverwind%20Casino.jpg\n",
      "['#292c32', '#5b648d']\n",
      "images/Royan%20pont%20cas.JPG\n",
      "['#b8baab', '#676e67']\n",
      "images/rto%20Rico%20Roof%20Sunset.jpg\n",
      "['#624e3c', '#c5d0df']\n",
      "images/s%20%28July%2015%202008%29.jpg\n",
      "['#a7bbd1', '#6d664b']\n",
      "images/s%2095%20%2828276862784%29.jpg\n",
      "['#2f3a7d', '#979ec8']\n",
      "images/s%20Vegas%20October%202012.jpg\n",
      "['#413b3c', '#b4b1ad']\n",
      "images/Samstown-01.jpg\n",
      "['#a2b0e1', '#7f410f']\n",
      "images/San%20Juan%2C%20casino.jpg\n",
      "['#a9b6d3', '#4e4f49']\n",
      "images/sholm%20Trail%20Casino%202.jpg\n",
      "['#cacccc', '#6c6452']\n",
      "images/Southcoastcasinovegas.jpg\n",
      "['#a1bec4', '#5b5d56']\n",
      "images/Spa%20Casino%20R02.jpg\n",
      "['#a6acb0', '#4c4a42']\n",
      "images/Spielbank%20Hohensyburg.JPG\n",
      "['#d4ddda', '#333a3f']\n",
      "images/Sunshine%20Millions%202006.jpg\n",
      "['#383830', '#93a0aa']\n",
      "images/sVegas%20-%20ParisLasVegas.jpg\n",
      "['#c0bfc8', '#463d34']\n",
      "images/Terminal%20tower.jpg\n",
      "['#d7af76', '#1d170f']\n",
      "images/Texas%20Station%20entrance.jpg\n",
      "['#a9c5db', '#4d4f4b']\n",
      "images/th%20East%20-%202010-12-12.jpg\n",
      "['#939eac', '#47382d']\n",
      "images/The%20Cal.jpg\n",
      "['#1e2222', '#91897f']\n",
      "images/tian%20Las%20Vegas%2C%20NV.jpg\n",
      "['#50524c', '#f5f9fc']\n",
      "images/tion%2C%20Las%20Vegas%20NV.jpg\n",
      "['#403c3c', '#c0cdd8']\n",
      "images/train%2C%20December%202020.jpg\n",
      "['#383730', '#c4c6c7']\n",
      "images/tre%20par%20Emile%20Ledoux.jpg\n",
      "['#4a502c', '#d8b59d']\n",
      "images/un%2C%20Uncasville%2C%20CT.jpg\n",
      "['#92b8e6', '#40576c']\n",
      "images/urhaus-Wiesbaden-bei-Nacht.jpg\n",
      "['#473b2c', '#d3a363']\n",
      "images/ust%20Hotel%20And%20Casino.jpg\n",
      "['#345472', '#d3d8cb']\n",
      "images/Vegas%20-%20October%202021.jpg\n",
      "['#2b3644', '#91abcc']\n",
      "images/Venetian%20Macau.jpg\n",
      "['#1a150e', '#a78e65']\n",
      "images/y%20Nevada%20-%20panoramio.jpg\n",
      "['#bcc1c1', '#343023']\n",
      "{'%20Casino%2C%20Las%20Vagas.jpg': {'exif': {'CustomRendered': 0, 'ExposureMode': 0, 'WhiteBalance': 0, 'SceneCaptureType': 0, 'Contrast': 0, 'Saturation': 0, 'Sharpness': 0, 'ImageDescription': '                               ', 'Make': 'SONY', 'Model': 'DSC-H3', 'Orientation': 1, 'YCbCrPositioning': 2, 'XResolution': '72.0', 'YResolution': '72.0', 'ResolutionUnit': 2, 'Software': 'Adobe Photoshop CS2 Windows', 'DateTime': '2008:03:16 20:23:43', 'ExifOffset': 380, 'CompressedBitsPerPixel': '3.0', 'DateTimeOriginal': '2008:03:07 22:55:14', 'DateTimeDigitized': '2008:03:07 22:55:14', 'ExposureBiasValue': '0.0', 'MaxApertureValue': '3.625', 'MeteringMode': 5, 'LightSource': 0, 'Flash': 24, 'FocalLength': '6.3', 'ColorSpace': 1, 'ExifImageWidth': 584, 'ExifImageHeight': 778, 'ExposureTime': '0.002', 'FNumber': '8.0', 'ExposureProgram': 2, 'ISOSpeedRatings': 125}, 'color': ['#4a4747', '#92a0b0'], 'tags': []}, '%20Casino%2C%20Las%20Vegas.jpg': {'exif': {'GPSInfo': \"{0: b'\\\\x02\\\\x03\\\\x00\\\\x00'}\", 'ResolutionUnit': 2, 'ExifOffset': 228, 'Make': 'NIKON CORPORATION', 'Model': 'NIKON D3300', 'Software': 'Ver.1.00 ', 'Orientation': 1, 'DateTime': '2018:06:01 12:55:12', 'YCbCrPositioning': 1, 'XResolution': '300.0', 'YResolution': '300.0', 'CompressedBitsPerPixel': '2.0', 'DateTimeOriginal': '2018:06:01 12:55:12', 'DateTimeDigitized': '2018:06:01 12:55:12', 'ExposureBiasValue': '0.0', 'MaxApertureValue': '3.9', 'MeteringMode': 5, 'LightSource': 0, 'Flash': 24, 'FocalLength': '22.0', 'ColorSpace': 1, 'ExifImageWidth': 6000, 'ExifInteroperabilityOffset': 15236, 'SceneCaptureType': 0, 'SubsecTime': '80', 'SubsecTimeOriginal': '80', 'SubsecTimeDigitized': '80', 'ExifImageHeight': 4000, 'SubjectDistanceRange': 0, 'SensingMethod': 2, 'ExposureTime': '0.0025', 'FNumber': '10.0', 'ExposureProgram': 0, 'CustomRendered': 0, 'ISOSpeedRatings': 200, 'ExposureMode': 0, 'SensitivityType': 2, 'WhiteBalance': 0, 'DigitalZoomRatio': '1.0', 'FocalLengthIn35mmFilm': 33, 'GainControl': 0, 'Contrast': 0, 'Saturation': 0, 'Sharpness': 0}, 'color': ['#565254', '#b2cae5'], 'tags': ['nature', 'architecture']}, '%20Foto%20postcard%201940s.jpg': {'exif': {}, 'color': ['#d4d5d6', '#4a4b4d'], 'tags': ['nature', 'old']}, '%20Montbenon%2C%20Lausanne.jpg': {'exif': {'ResolutionUnit': 2, 'ExifOffset': 242, 'ImageDescription': 'OLYMPUS DIGITAL CAMERA', 'Make': 'OLYMPUS IMAGING CORP.', 'Model': 'E-500', 'Software': 'Adobe Photoshop Lightroom 3.4.1', 'DateTime': '2011:09:29 21:07:19', 'XResolution': '240.0', 'YResolution': '240.0', 'ShutterSpeedValue': '6.321928', 'ApertureValue': '4.643856', 'ExposureBiasValue': '0.0', 'MaxApertureValue': '3.61328125', 'CustomRendered': 0, 'MeteringMode': 5, 'LightSource': 9, 'Flash': 24, 'FocalLength': '23.0', 'ExposureMode': 0, 'WhiteBalance': 1, 'DigitalZoomRatio': '1.0', 'SceneCaptureType': 1, 'GainControl': 0, 'Contrast': 2, 'Saturation': 2, 'Sharpness': 2, 'ExposureTime': '0.0125', 'FNumber': '5.0', 'ExposureProgram': 5, 'ISOSpeedRatings': 100}, 'color': ['#1e1b19', '#939da4'], 'tags': []}, '%20Neuenahr%20Kurhaus%2030.JPG': {'exif': {'ResolutionUnit': 2, 'ExifOffset': 136, 'Make': 'Canon', 'Model': 'Canon EOS 1000D', 'Software': 'Digital Photo Professional', 'Orientation': 1, 'DateTime': '2011:09:28 15:37:34', 'YCbCrPositioning': 1, 'XResolution': '350.0', 'YResolution': '350.0', 'ShutterSpeedValue': '9.0', 'DateTimeOriginal': '2011:09:28 15:37:34', 'DateTimeDigitized': '2011:09:28 15:37:34', 'ApertureValue': '6.0', 'ExposureBiasValue': '-0.3333333333333333', 'Flash': 16, 'FocalLength': '22.0', 'ColorSpace': 1, 'ExifImageWidth': 3572, 'SceneCaptureType': 0, 'FocalPlaneXResolution': '4438.356164383562', 'FocalPlaneYResolution': '4445.969125214408', 'SubsecTime': '83', 'SubsecTimeOriginal': '83', 'SubsecTimeDigitized': '83', 'ExifImageHeight': 2469, 'FocalPlaneResolutionUnit': 2, 'ExposureTime': '0.002', 'FNumber': '8.0', 'ExposureProgram': 3, 'CustomRendered': 0, 'ISOSpeedRatings': 100, 'ExposureMode': 0, 'WhiteBalance': 0}, 'color': ['#beb8b0', '#313b57'], 'tags': []}, '%20Rico%20%28IMG%202934%29.jpg': {'exif': {}, 'color': ['#daded8', '#6f7565'], 'tags': ['architecture']}, '%20Savoie%20-Aix-les-Bains.JPG': {'exif': {'ResolutionUnit': 2, 'ExifOffset': 2294, 'Make': 'EASTMAN KODAK COMPANY', 'Model': 'KODAK EASYSHARE ZD710 ZOOM DIGITAL CAMERA', 'Orientation': 1, 'DateTime': '2012:09:22 18:05:50', 'YCbCrPositioning': 1, 'XResolution': '480.0', 'YResolution': '480.0', 'ShutterSpeedValue': '9.333333333333334', 'DateTimeOriginal': '2012:09:22 15:02:02', 'DateTimeDigitized': '2012:09:22 15:02:02', 'ApertureValue': '4.0', 'ExposureBiasValue': '0.0', 'MaxApertureValue': '3.0', 'MeteringMode': 5, 'LightSource': 0, 'Flash': 16, 'FocalLength': '6.3', 'ColorSpace': 1, 'ExifImageWidth': 2972, 'ExifInteroperabilityOffset': 14322, 'SceneCaptureType': 0, 'ExifImageHeight': 2164, 'Contrast': 0, 'Saturation': 0, 'Sharpness': 0, 'SubjectDistanceRange': 0, 'ExposureIndex': '80.0', 'SensingMethod': 2, 'ExposureTime': '0.0015625', 'FNumber': '4.0', 'ImageUniqueID': 'AA9C5182F97C4B75BE1C934B789DB227', 'ExposureProgram': 0, 'CustomRendered': 0, 'ISOSpeedRatings': 80, 'ExposureMode': 0, 'WhiteBalance': 0, 'DigitalZoomRatio': '0.0', 'FocalLengthIn35mmFilm': 38, 'GainControl': 1}, 'color': ['#455548', '#a2bed1'], 'tags': []}, '%20Station%20hotel%20tower.jpg': {'exif': {'ResolutionUnit': 2, 'ExifOffset': 204, 'Make': 'M6550B-SMAARZ-4.4.80  ', 'Model': 'Samsung SCH-U900', 'Software': 'M6550B-SMAARZ-4.4.80  ', 'Orientation': 1, 'YCbCrPositioning': 1, 'XResolution': '72.0', 'YResolution': '72.0', 'DateTimeOriginal': '2009:08:20 16:19:11', 'DateTimeDigitized': '2009:08:20 16:19:11', 'BrightnessValue': '0.0', 'ColorSpace': 1, 'MeteringMode': 0, 'ExifImageWidth': 1024, 'ExifImageHeight': 768, 'ExifInteroperabilityOffset': 518, 'ExposureMode': 0, 'WhiteBalance': 0, 'DigitalZoomRatio': 'nan', 'Contrast': 0, 'Saturation': 0, 'Sharpness': 0, 'ExposureProgram': 2, 'CustomRendered': 1}, 'color': ['#554c4b', '#b6b7d7'], 'tags': ['nature', 'architecture']}, '%20Vegas%20December%202013.jpg': {'exif': {'ResolutionUnit': 2, 'ExifOffset': 220, 'Make': 'NIKON CORPORATION', 'Model': 'NIKON D7000', 'Software': 'Adobe Photoshop Camera Raw 6.7.1 (Windows)', 'DateTime': '2015:05:24 22:18:35', 'XResolution': '300.0', 'YResolution': '300.0', 'ShutterSpeedValue': '-1.321928', 'ApertureValue': '6.0', 'DateTimeOriginal': '2013:12:25 16:44:36', 'DateTimeDigitized': '2013:12:25 16:44:36', 'ExposureBiasValue': '-0.6666666666666666', 'MaxApertureValue': '3.0', 'MeteringMode': 5, 'LightSource': 0, 'Flash': 16, 'FocalLength': '16.0', 'WhiteBalance': 0, 'DigitalZoomRatio': '1.0', 'FocalLengthIn35mmFilm': 24, 'SceneCaptureType': 0, 'GainControl': 0, 'SubsecTimeOriginal': '90', 'SubsecTimeDigitized': '90', 'Sharpness': 0, 'SubjectDistanceRange': 0, 'SensingMethod': 2, 'ExposureTime': '2.5', 'FNumber': '8.0', 'ExposureProgram': 3, 'CustomRendered': 0, 'ISOSpeedRatings': 100, 'ExposureMode': 0, 'SensitivityType': 2, 'BodySerialNumber': '3392989', 'LensSpecification': '(11.0, 16.0, 2.8, 2.8)', 'LensModel': '11.0-16.0 mm f/2.8', 'Contrast': 0, 'Saturation': 0}, 'color': ['#5f5548', '#b9bec2'], 'tags': ['modern']}, '%20Vegas%20Wynn%20P4220706.jpg': {'exif': {'DateTimeOriginal': '2018:04:22 22:03:21', 'Rating': 1, 'ResolutionUnit': 2, 'RatingPercent': 20, 'ExifOffset': 1018, 'ImageDescription': 'OLYMPUS DIGITAL CAMERA         ', 'Make': 'OLYMPUS IMAGING CORP.  ', 'Model': 'SZ-20                  ', 'Software': 'darktable 2.0', 'Orientation': 1, 'DateTime': '2018:05:27 17:31:08', 'YCbCrPositioning': 2, 'XResolution': 300, 'YResolution': 300, 'CompressedBitsPerPixel': '2.0', 'DateTimeDigitized': '2018:04:22 22:03:21', 'ExposureBiasValue': '0.0', 'MaxApertureValue': '3.26', 'MeteringMode': 5, 'LightSource': 0, 'Flash': 16, 'FocalLength': '4.2', 'ColorSpace': 1, 'ExifImageWidth': 3996, 'ExifInteroperabilityOffset': 2658, 'SceneCaptureType': 1, 'ExifImageHeight': 2990, 'Contrast': 0, 'Saturation': 0, 'Sharpness': 0, 'ExposureTime': '0.001', 'FNumber': '3.0', 'ExposureProgram': 5, 'CustomRendered': 0, 'ISOSpeedRatings': 80, 'ExposureMode': 0, 'WhiteBalance': 0, 'DigitalZoomRatio': '0.0', 'FocalLengthIn35mmFilm': 24, 'GainControl': 0}, 'color': ['#4c5248', '#b0c4d6'], 'tags': ['nature', 'modern']}, '%2C%20NV%20HAER%20NV-14-12.tif': {'exif': {}, 'color': ['#00000', '#00000'], 'tags': ['old']}, '%C3%A1rkert%20kaszin%C3%B3.jpg': {'exif': {'ResolutionUnit': 2, 'ExifOffset': 240, 'ImageDescription': '          ', 'Make': 'NIKON', 'Model': 'COOLPIX P530', 'Software': 'ACD Systems Digital Imaging', 'Orientation': 1, 'DateTime': '2017:02:02 09:29:07', 'YCbCrPositioning': 1, 'XResolution': '300.0', 'YResolution': '300.0', 'CompressedBitsPerPixel': '2.0', 'DateTimeOriginal': '2017:01:28 12:01:44', 'DateTimeDigitized': '2017:01:28 12:01:44', 'ExposureBiasValue': '0.0', 'MaxApertureValue': '3.2', 'MeteringMode': 5, 'LightSource': 0, 'Flash': 16, 'FocalLength': '25.9', 'ColorSpace': 1, 'ExifImageWidth': 4608, 'ExifInteroperabilityOffset': 3710, 'SceneCaptureType': 0, 'SubsecTime': '546', 'ExifImageHeight': 3456, 'Saturation': 2, 'Sharpness': 2, 'SubjectDistanceRange': 0, 'ExposureTime': '0.008', 'FNumber': '4.4', 'ExposureProgram': 2, 'CustomRendered': 0, 'ISOSpeedRatings': 100, 'ExposureMode': 0, 'WhiteBalance': 0, 'DigitalZoomRatio': '0.0', 'FocalLengthIn35mmFilm': 145, 'GainControl': 0, 'Contrast': 2}, 'color': ['#423f3e', '#a9afb1'], 'tags': []}, '-%20en%20Cultuurpaleis%201.jpg': {'exif': {'CustomRendered': 0, 'ExposureMode': 0, 'WhiteBalance': 0, 'SceneCaptureType': 0, 'ResolutionUnit': 2, 'Contrast': 0, 'ExifOffset': 328, 'Saturation': 0, 'Sharpness': 0, 'ImageDescription': '                               ', 'Make': 'SONY', 'Model': 'DSC-S60', 'DateTime': '2007:09:30 15:59:46', 'YCbCrPositioning': 2, 'XResolution': '72.0', 'YResolution': '72.0', 'CompressedBitsPerPixel': '8.0', 'DateTimeOriginal': '2007:09:30 15:59:46', 'DateTimeDigitized': '2007:09:30 15:59:46', 'ExposureBiasValue': '0.0', 'MaxApertureValue': '3.0', 'MeteringMode': 5, 'LightSource': 0, 'Flash': 16, 'FocalLength': '6.0', 'ColorSpace': 1, 'ExifImageWidth': 1728, 'ExifImageHeight': 2304, 'ExposureTime': '0.002', 'FNumber': '5.6', 'ExposureProgram': 2, 'ISOSpeedRatings': 80}, 'color': ['#869bbb', '#403f43'], 'tags': []}, '-%20North%20-%202011-06-04.jpg': {'exif': {'ResolutionUnit': 2, 'ExifOffset': 196, 'Make': 'Canon', 'Model': 'Canon EOS DIGITAL REBEL', 'Orientation': 1, 'DateTime': '2011:06:04 07:44:20', 'YCbCrPositioning': 1, 'XResolution': '180.0', 'YResolution': '180.0', 'CompressedBitsPerPixel': '3.0', 'DateTimeOriginal': '2011:06:04 07:44:20', 'DateTimeDigitized': '2011:06:04 07:44:20', 'ShutterSpeedValue': '7.321929931640625', 'ApertureValue': '6.33984375', 'ExposureBiasValue': '0.0', 'MaxApertureValue': '4.0', 'MeteringMode': 5, 'Flash': 24, 'FocalLength': '30.0', 'ColorSpace': 1, 'ExifImageWidth': 3072, 'FocalPlaneXResolution': '3443.946188340807', 'ExifImageHeight': 2048, 'FocalPlaneYResolution': '3442.016806722689', 'FocalPlaneResolutionUnit': 2, 'SensingMethod': 2, 'ExposureTime': '0.00625', 'ExifInteroperabilityOffset': 2366, 'FNumber': '9.0', 'CustomRendered': 0, 'ISOSpeedRatings': 100, 'ExposureMode': 0, 'WhiteBalance': 0, 'SceneCaptureType': 0}, 'color': ['#c9d1e2', '#505451'], 'tags': []}, '.%20Casino%20Gran%20Madrid.jpg': {'exif': {'ResolutionUnit': 2, 'ExifOffset': 283, 'ImageDescription': 'OLYMPUS DIGITAL CAMERA         ', 'Make': 'OLYMPUS IMAGING CORP.  ', 'Model': 'u1010,S1010     ', 'Software': 'ACD Systems Digital Imaging', 'Orientation': 1, 'DateTime': '2009:05:26 23:54:36', 'YCbCrPositioning': 1, 'XResolution': '314.0', 'YResolution': '314.0', 'DateTimeOriginal': '2009:05:25 16:42:07', 'DateTimeDigitized': '2009:05:25 16:42:07', 'ExposureBiasValue': '0.0', 'MaxApertureValue': '3.44', 'MeteringMode': 5, 'LightSource': 0, 'Flash': 24, 'FocalLength': '6.6', 'ColorSpace': 1, 'ExifImageWidth': 2044, 'ExifInteroperabilityOffset': 7818, 'SceneCaptureType': 0, 'SubsecTime': '828', 'ExifImageHeight': 1292, 'Saturation': 0, 'Sharpness': 0, 'ExposureTime': '0.00625', 'FNumber': '10.0', 'ExposureProgram': 2, 'CustomRendered': 0, 'ISOSpeedRatings': 80, 'ExposureMode': 0, 'WhiteBalance': 0, 'DigitalZoomRatio': '1.0', 'GainControl': 0, 'Contrast': 0}, 'color': ['#3d3e38', '#b5cae7'], 'tags': ['nature']}, '.%20Lema%C3%AEtre%20Jobard.jpg': {'exif': {'ExifOffset': 2130, 'Artist': 'Philip', 'SubsecTimeOriginal': '34', 'SubsecTimeDigitized': '34', 'DateTimeOriginal': '2019:06:27 21:35:30', 'DateTimeDigitized': '2019:06:27 21:35:30'}, 'color': ['#c0b6a1', '#6e634a'], 'tags': ['nature', 'old']}, '0-%20Camuy%20Puerto%20Rico.jpg': {'exif': {'ResolutionUnit': 2, 'ExifOffset': 642, 'Make': 'Panasonic', 'Model': 'DMC-FZ47', 'Software': 'Ver.1.0  ', 'DateTime': '2017:04:16 17:32:20', 'YCbCrPositioning': 2, 'YResolution': '180.0', 'XResolution': '180.0', 'Artist': 'Picasa', 'CompressedBitsPerPixel': '4.0', 'DateTimeOriginal': '2017:04:10 09:09:43', 'DateTimeDigitized': '2017:04:10 09:09:43', 'ExposureBiasValue': '0.0', 'MaxApertureValue': '3.171875', 'MeteringMode': 5, 'LightSource': 0, 'Flash': 16, 'FocalLength': '5.7', 'ColorSpace': 1, 'ExifImageWidth': 3540, 'ExifInteroperabilityOffset': 2594, 'FocalLengthIn35mmFilm': 32, 'SceneCaptureType': 0, 'ExifImageHeight': 2896, 'Contrast': 0, 'Saturation': 0, 'Sharpness': 0, 'SensingMethod': 2, 'ExposureTime': '0.003125', 'FNumber': '5.6', 'ImageUniqueID': '9b6498ca50339a389c2fd0c3ced9e687', 'ExposureProgram': 8, 'CustomRendered': 1, 'ISOSpeedRatings': 100, 'ExposureMode': 0, 'SensitivityType': 1, 'WhiteBalance': 0, 'DigitalZoomRatio': '0.0', 'GainControl': 0}, 'color': ['#5d544d', '#93b6ca'], 'tags': ['architecture']}, '0-%20Vivid%20Sydney%202015.jpg': {'exif': {'GPSInfo': \"{0: b'\\\\x02\\\\x02\\\\x00\\\\x00', 1: 'S', 2: (33.0, 52.0548, 0.0), 3: 'E', 4: (151.0, 11.7652, 0.0), 6: 6.0198}\", 'ResolutionUnit': 2, 'ExifOffset': 276, 'Make': 'Canon', 'Model': 'Canon EOS 7D', 'Software': 'Adobe Photoshop Lightroom 6.0 (Macintosh)', 'Orientation': 1, 'DateTime': '2015:06:02 12:50:54', 'YResolution': '240.0', 'Copyright': 'Maksym Kozlenko', 'XResolution': '240.0', 'Artist': 'Maksym Kozlenko', 'ShutterSpeedValue': '-0.678072', 'ApertureValue': '2.970854', 'DateTimeOriginal': '2015:05:25 18:47:13', 'DateTimeDigitized': '2015:05:25 18:47:13', 'ExposureBiasValue': '-1.0', 'MaxApertureValue': '3.0', 'MeteringMode': 5, 'ColorSpace': 1, 'Flash': 16, 'FocalLength': '17.0', 'ExposureMode': 0, 'WhiteBalance': 0, 'SceneCaptureType': 0, 'FocalPlaneXResolution': '5715.545755237045', 'FocalPlaneYResolution': '5808.403361344538', 'FocalPlaneResolutionUnit': 2, 'SubsecTimeOriginal': '11', 'SubsecTimeDigitized': '11', 'ExposureTime': '1.6', 'FNumber': '2.8', 'ExposureProgram': 2, 'CustomRendered': 0, 'ISOSpeedRatings': 200, 'SensitivityType': 2, 'BodySerialNumber': '0261710792', 'RecommendedExposureIndex': 200, 'LensSpecification': '(17.0, 50.0, nan, nan)', 'LensModel': '17-50mm'}, 'color': ['#84757e', '#232736'], 'tags': ['nature', 'modern', 'classy']}, '02017%2003%20%28cropped%29.jpg': {'exif': {'GPSInfo': \"{0: b'\\\\x02\\\\x03\\\\x00\\\\x00', 1: 'S', 2: (31.0, 57.6295, 0.0), 3: 'E', 4: (115.0, 53.977, 0.0), 5: b'\\\\x01', 6: 11.0, 10: '3', 18: 'WGS-84'}\", 'ResolutionUnit': 2, 'ExifOffset': 228, 'Make': 'Canon', 'Model': 'Canon EOS 700D', 'Software': 'Adobe Photoshop Lightroom Classic 7.1 (Windows)', 'DateTime': '2018:01:07 18:14:59', 'XResolution': '72.0', 'YResolution': '72.0', 'ShutterSpeedValue': '7.965784', 'ApertureValue': '6.643856', 'DateTimeOriginal': '2017:12:15 09:56:41', 'DateTimeDigitized': '2017:12:15 09:56:41', 'ExposureBiasValue': '0.0', 'MaxApertureValue': '4.125', 'MeteringMode': 5, 'ColorSpace': 1, 'Flash': 16, 'FocalLength': '31.0', 'ExposureMode': 0, 'WhiteBalance': 0, 'SceneCaptureType': 0, 'FocalPlaneXResolution': '5798.657718120805', 'FocalPlaneYResolution': '5788.94472361809', 'FocalPlaneResolutionUnit': 2, 'SubsecTimeOriginal': '00', 'SubsecTimeDigitized': '00', 'ExposureTime': '0.004', 'FNumber': '10.0', 'ExposureProgram': 0, 'CustomRendered': 0, 'ISOSpeedRatings': 100, 'SensitivityType': 2, 'BodySerialNumber': '125032002867', 'RecommendedExposureIndex': 100, 'LensSpecification': '(18.0, 55.0, nan, nan)', 'LensModel': 'EF-S18-55mm f/3.5-5.6 IS STM', 'LensSerialNumber': '0000139ee2'}, 'color': ['#444342', '#97acc5'], 'tags': ['nature', 'modern']}, '0Charlie%27s%20Decatur%201.jpg': {'exif': {'GPSInfo': \"{0: b'\\\\x02\\\\x02\\\\x00\\\\x00', 1: 'N', 2: (36.0, 9.0, 49.9434), 3: 'W', 4: (115.0, 12.0, 23.6881), 5: b'\\\\x00', 6: 640.0, 7: (16.0, 59.0, 41.0), 18: 'WGS-84', 27: 'ASCII\\\\x00\\\\x00\\\\x00gps', 29: '2017:12:31'}\", 'ResolutionUnit': 2, 'ExifOffset': 238, 'Make': 'Motorola', 'Model': 'Moto G (4)', 'Software': 'athene-user 7.0 NPJ25.93-14.7 7 release-keys', 'DateTime': '2017:12:31 08:59:41', 'YCbCrPositioning': 1, 'XResolution': '72.0', 'YResolution': '72.0', 'ShutterSpeedValue': '9.14', 'DateTimeOriginal': '2017:12:31 08:59:41', 'DateTimeDigitized': '2017:12:31 08:59:41', 'ApertureValue': '2.0', 'BrightnessValue': '-1.0', 'ExposureBiasValue': '0.0', 'MaxApertureValue': '2.0', 'MeteringMode': 1, 'Flash': 16, 'FocalLength': '3.64', 'ColorSpace': 1, 'ExifImageWidth': 3120, 'ExifInteroperabilityOffset': 3184, 'SceneCaptureType': 0, 'ExifImageHeight': 2092, 'Contrast': 0, 'Saturation': 0, 'Sharpness': 1, 'ExposureTime': '0.0017667844522968198', 'FNumber': '2.0', 'ExposureProgram': 2, 'CustomRendered': 0, 'ISOSpeedRatings': 50, 'ExposureMode': 0, 'WhiteBalance': 0, 'DigitalZoomRatio': '1.0'}, 'color': ['#4a4137', '#ecedec'], 'tags': []}, '0Hotel%20Casino%20Carrasco.jpg': {'exif': {'ResolutionUnit': 2, 'ExifOffset': 252, 'Make': 'SONY', 'Model': 'DSC-W120', 'Software': 'Adobe Photoshop CS5 Windows', 'Orientation': 1, 'DateTime': '2013:03:02 12:57:36', 'YCbCrPositioning': 1, 'XResolution': '72.0', 'YResolution': '72.0', 'DateTimeOriginal': '2013:03:02 04:24:56', 'DateTimeDigitized': '2013:03:02 04:24:56', 'ExposureBiasValue': '0.0', 'MaxApertureValue': '3.0', 'MeteringMode': 5, 'LightSource': 0, 'Flash': 16, 'FocalLength': '5.35', 'ColorSpace': 1, 'ExifImageWidth': 2048, 'SceneCaptureType': 0, 'Contrast': 0, 'Saturation': 0, 'ExifImageHeight': 1536, 'Sharpness': 0, 'ExposureTime': '0.25', 'FNumber': '2.8', 'ExposureProgram': 2, 'CustomRendered': 0, 'ISOSpeedRatings': 800, 'ExposureMode': 0, 'WhiteBalance': 0}, 'color': ['#29231a', '#b6a684'], 'tags': ['old']}, '2%20di%20Campione%2C%20day.jpg': {'exif': {'ResolutionUnit': 2, 'ExifOffset': 230, 'Make': 'NIKON CORPORATION', 'Model': 'NIKON D700', 'Software': 'Ver.1.02 ', 'DateTime': '2011:04:28 12:10:23', 'YResolution': '72.0', 'Copyright': '@carlo pozzoni-como', 'XResolution': '72.0', 'Artist': 'POZ', 'ShutterSpeedValue': '7.643856', 'ApertureValue': '7.61471', 'DateTimeOriginal': '2011:04:20 16:42:35', 'DateTimeDigitized': '2011:04:20 16:42:35', 'ExposureBiasValue': '0.0', 'MaxApertureValue': '3.0', 'SubjectDistance': '4294967295.0', 'MeteringMode': 5, 'LightSource': 0, 'Flash': 0, 'FocalLength': '95.0', 'WhiteBalance': 0, 'DigitalZoomRatio': '1.0', 'FocalLengthIn35mmFilm': 95, 'SceneCaptureType': 0, 'GainControl': 0, 'SubsecTimeOriginal': '00', 'SubsecTimeDigitized': '00', 'Sharpness': 0, 'SubjectDistanceRange': 0, 'SensingMethod': 2, 'ExposureTime': '0.005', 'FNumber': '14.0', 'ExposureProgram': 1, 'CustomRendered': 0, 'ISOSpeedRatings': 320, 'ExposureMode': 1, 'SensitivityType': 0, 'BodySerialNumber': '2328341', 'LensSpecification': '(70.0, 200.0, 2.8, 2.8)', 'LensModel': '70.0-200.0 mm f/2.8', 'Contrast': 0, 'Saturation': 0}, 'color': ['#414531', '#dacab6'], 'tags': ['modern', 'architecture']}, '2015%20img38%20Spa%20house.jpg': {'exif': {'ImageWidth': 5472, 'ImageLength': 3648, 'BitsPerSample': '(8, 8, 8)', 'PhotometricInterpretation': 2, 'ResolutionUnit': 2, 'ExifOffset': 336, 'Make': 'Canon', 'Model': 'Canon EOS 7D Mark II', 'Software': 'Adobe Photoshop CC (Windows)', 'Orientation': 1, 'DateTime': '2015:10:12 20:34:13', 'YResolution': '300.0', 'SamplesPerPixel': 3, 'Copyright': 'time of exposure is UTC', 'XResolution': '300.0', 'Artist': 'A.Savin', 'ShutterSpeedValue': '7.643856', 'ApertureValue': '6.918863', 'DateTimeOriginal': '2015:10:03 09:45:07', 'DateTimeDigitized': '2015:10:03 09:45:07', 'ExposureBiasValue': '0.0', 'MaxApertureValue': '4.375', 'MeteringMode': 5, 'ColorSpace': 1, 'Flash': 16, 'FocalLength': '8.0', 'ExifImageWidth': 4850, 'ExifImageHeight': 2728, 'SceneCaptureType': 0, 'FocalPlaneXResolution': '6086.7630700778645', 'FocalPlaneYResolution': '6090.150250417362', 'FocalPlaneResolutionUnit': 2, 'SubsecTimeOriginal': '57', 'SubsecTimeDigitized': '57', 'ExposureTime': '0.005', 'FNumber': '11.0', 'ExposureProgram': 2, 'CustomRendered': 0, 'ISOSpeedRatings': 100, 'ExposureMode': 0, 'SensitivityType': 2, 'WhiteBalance': 0, 'RecommendedExposureIndex': 100, 'BodySerialNumber': '033021000431', 'LensSpecification': '(8.0, 16.0, nan, nan)', 'LensModel': '8-16mm', 'LensSerialNumber': '0000000000'}, 'color': ['#98a6ae', '#385b7c'], 'tags': ['nature', 'architecture']}, '20Autopista%20Panamericana.JPG': {'exif': {'ResolutionUnit': 2, 'ExifOffset': 258, 'ImageDescription': '                               ', 'Make': 'SONY', 'Model': 'DSC-W220', 'Orientation': 1, 'DateTime': '2010:06:20 16:21:54', 'YCbCrPositioning': 2, 'XResolution': '72.0', 'YResolution': '72.0', 'CompressedBitsPerPixel': '4.0', 'DateTimeOriginal': '2010:06:20 16:21:54', 'DateTimeDigitized': '2010:06:20 16:21:54', 'ExposureBiasValue': '0.0', 'MaxApertureValue': '3.0', 'MeteringMode': 5, 'LightSource': 0, 'Flash': 16, 'FocalLength': '5.35', 'ColorSpace': 1, 'ExifImageWidth': 2592, 'ExifInteroperabilityOffset': 9560, 'SceneCaptureType': 0, 'Contrast': 0, 'ExifImageHeight': 1944, 'Saturation': 0, 'Sharpness': 0, 'ExposureTime': '0.003125', 'FNumber': '7.1', 'ExposureProgram': 2, 'CustomRendered': 0, 'ISOSpeedRatings': 125, 'ExposureMode': 0, 'WhiteBalance': 0}, 'color': ['#435144', '#4f8cb9'], 'tags': ['nature']}, '20election%20advertisement.jpg': {'exif': {'ImageWidth': 3134, 'ImageLength': 4640, 'GPSInfo': \"{1: 'N', 2: (51.0, 8.0, 54.5136), 3: 'E', 4: (71.0, 28.0, 28.2648), 5: b'\\\\x00', 6: 325.799, 7: (14.0, 21.0, 2.0), 27: b'ASCII\\\\x00\\\\x00\\\\x00CELLID\\\\x00', 29: '2022:11:19'}\", 'ResolutionUnit': 2, 'ExifOffset': 244, 'Make': 'Xiaomi', 'Model': '2109119DG', 'DateTime': '2022:11:19 20:21:23', 'Orientation': 1, 'YCbCrPositioning': 1, 'XResolution': '72.0', 'YResolution': '72.0', 'ExifImageWidth': 3472, 'ExifImageHeight': 4640, 'DateTimeDigitized': '2022:11:19 20:21:23', 'ExifInteroperabilityOffset': 5429, 'SceneCaptureType': 0, 'MeteringMode': 2, 'LightSource': 21, 'Flash': 16, 'FocalLength': '4.695', 'FocalLengthIn35mmFilm': 0, 'MaxApertureValue': '1.67', 'ExposureBiasValue': '0.0', 'ColorSpace': 1, 'SubsecTime': '15', 'SubsecTimeOriginal': '15', 'SubsecTimeDigitized': '15', 'OffsetTimeOriginal': '+06:00', 'OffsetTime': '+06:00', 'DateTimeOriginal': '2022:11:19 20:21:23', 'SensingMethod': 0, 'ShutterSpeedValue': '6.643', 'ExposureTime': '0.01', 'ApertureValue': '1.67', 'FNumber': '1.79', 'BrightnessValue': '0.0', 'ExposureProgram': 0, 'ISOSpeedRatings': 435, 'ExposureMode': 0, 'WhiteBalance': 0}, 'color': ['#a3acb8', '#58575c'], 'tags': []}, '20expansion%20april%202008.jpg': {'exif': {}, 'color': ['#dfe9ef', '#58686f'], 'tags': ['modern']}, '20Grand%20River%20Detroit1.jpg': {'exif': {'ResolutionUnit': 2, 'ExifOffset': 182, 'Make': 'Hewlett-Packard', 'Model': 'Photosmart M425', 'Software': 'Picasa 3.0', 'Orientation': 0, 'YCbCrPositioning': 2, 'XResolution': '230.0', 'YResolution': '230.0', 'CompressedBitsPerPixel': '3.2', 'DateTimeOriginal': '2008:11:07 17:54:43', 'DateTimeDigitized': '2008:11:07 17:54:43', 'ShutterSpeedValue': '10.92', 'ApertureValue': '4.46', 'BrightnessValue': '10.222', 'ExposureBiasValue': '0.0', 'MaxApertureValue': '2.97', 'MeteringMode': 2, 'LightSource': 20, 'Flash': 24, 'FocalLength': '6.0', 'ColorSpace': 65535, 'ExifImageWidth': 1744, 'ExifImageHeight': 1035, 'Contrast': 0, 'Saturation': 0, 'Sharpness': 0, 'SubjectDistanceRange': 3, 'ExposureIndex': '100.0', 'SensingMethod': 2, 'ExposureTime': '0.000516', 'ExifInteroperabilityOffset': 2174, 'FNumber': '4.7', 'ImageUniqueID': '1f36816822642475a287e33232ee4d64', 'ExposureProgram': 2, 'CustomRendered': 0, 'ISOSpeedRatings': 100, 'ExposureMode': 0, 'WhiteBalance': 0, 'DigitalZoomRatio': '0.0', 'FocalLengthIn35mmFilm': 36, 'SceneCaptureType': 0, 'GainControl': 0}, 'color': ['#3e4d51', '#c9dbdf'], 'tags': ['modern']}, '20in%20Nassau%2C%20Bahamas.jpg': {'exif': {'ResolutionUnit': 2, 'ExifOffset': 192, 'Make': 'Apple', 'Model': 'iPhone 6', 'Software': '9.3.2', 'Orientation': 1, 'DateTime': '2016:06:24 14:28:54', 'YCbCrPositioning': 1, 'XResolution': '72.0', 'YResolution': '72.0', 'ShutterSpeedValue': '9.316858496953284', 'DateTimeOriginal': '2016:06:24 14:28:54', 'DateTimeDigitized': '2016:06:24 14:28:54', 'ApertureValue': '2.2750071245369052', 'BrightnessValue': '8.741319444444445', 'ExposureBiasValue': '0.0', 'MeteringMode': 5, 'Flash': 16, 'FocalLength': '4.15', 'ColorSpace': 1, 'ExifImageWidth': 3264, 'FocalLengthIn35mmFilm': 29, 'SceneCaptureType': 0, 'ExifImageHeight': 2448, 'SubsecTimeOriginal': '902', 'SubsecTimeDigitized': '902', 'SubjectLocation': '(1631, 1223, 1795, 1077)', 'SensingMethod': 2, 'ExposureTime': '0.001567398119122257', 'FNumber': '2.2', 'ExposureProgram': 2, 'ISOSpeedRatings': 32, 'ExposureMode': 0, 'WhiteBalance': 0, 'LensSpecification': '(4.15, 4.15, 2.2, 2.2)', 'LensMake': 'Apple', 'LensModel': 'iPhone 6 back camera 4.15mm f/2.2'}, 'color': ['#7c9bb5', '#454c46'], 'tags': ['nature', 'architecture']}, '20Nugget%20Casino%20Resort.jpg': {'exif': {'ResolutionUnit': 2, 'ExifOffset': 164, 'Software': 'Adobe Photoshop CS2 Windows', 'Orientation': 1, 'DateTime': '2007:01:04 01:04:33', 'XResolution': '300.0', 'YResolution': '300.0', 'ColorSpace': 65535, 'ExifImageWidth': 600, 'ExifImageHeight': 600}, 'color': ['#393d41', '#a5cbe5'], 'tags': ['modern']}, '20Palais%20de%20l%27Europe.jpg': {'exif': {}, 'color': ['#57524d', '#8da8d5'], 'tags': []}, '4%20queens.JPG': {'exif': {'ResolutionUnit': 2, 'ExifOffset': 506, 'Make': 'EASTMAN KODAK COMPANY', 'Model': 'KODAK DX7440 ZOOM DIGITAL CAMERA', 'Orientation': 1, 'YCbCrPositioning': 1, 'XResolution': '230.0', 'YResolution': '230.0', 'ShutterSpeedValue': '6.0', 'DateTimeOriginal': '2006:06:21 20:16:56', 'DateTimeDigitized': '2006:06:21 20:16:56', 'ApertureValue': '3.6', 'ExposureBiasValue': '0.0', 'MaxApertureValue': '3.6', 'MeteringMode': 5, 'LightSource': 0, 'Flash': 25, 'FocalLength': '8.2', 'ColorSpace': 1, 'ExifImageWidth': 2304, 'ExifInteroperabilityOffset': 2748, 'SceneCaptureType': 0, 'ExifImageHeight': 1728, 'Contrast': 0, 'Saturation': 0, 'Sharpness': 0, 'SubjectDistanceRange': 0, 'ExposureIndex': '140.0', 'SensingMethod': 2, 'ExposureTime': '0.016666666666666666', 'FNumber': '3.4', 'ExposureProgram': 2, 'CustomRendered': 0, 'ISOSpeedRatings': 140, 'ExposureMode': 0, 'WhiteBalance': 0, 'DigitalZoomRatio': '0.0', 'FocalLengthIn35mmFilm': 49, 'GainControl': 1}, 'color': ['#341a13', '#d9b97d'], 'tags': ['classy']}, '7Entr%C3%A9e%20du%20Casino.jpg': {'exif': {}, 'color': ['#d5c2b2', '#6f6865'], 'tags': []}, 'Aachen%20Casino.JPG': {'exif': {'GPSInfo': \"{0: b'\\\\x02\\\\x03\\\\x00\\\\x00'}\", 'ResolutionUnit': 2, 'ExifOffset': 348, 'Make': 'NIKON CORPORATION', 'Model': 'NIKON D7000', 'Software': 'Ver.1.03 ', 'Orientation': 1, 'DateTime': '2014:01:19 20:39:47', 'YCbCrPositioning': 2, 'YResolution': '300.0', 'Copyright': '                                                      ', 'XResolution': '300.0', 'Artist': '                                    ', 'CompressedBitsPerPixel': '2.0', 'DateTimeOriginal': '2014:01:19 20:39:47', 'DateTimeDigitized': '2014:01:19 20:39:47', 'ExposureBiasValue': '0.0', 'MaxApertureValue': '3.6', 'MeteringMode': 5, 'LightSource': 0, 'Flash': 16, 'FocalLength': '18.0', 'ColorSpace': 1, 'ExifImageWidth': 4928, 'ExifInteroperabilityOffset': 36942, 'SceneCaptureType': 0, 'SubsecTime': '00', 'SubsecTimeOriginal': '00', 'SubsecTimeDigitized': '00', 'ExifImageHeight': 3264, 'SubjectDistanceRange': 0, 'SensingMethod': 2, 'ExposureTime': '0.125', 'FNumber': '3.5', 'ExposureProgram': 1, 'CustomRendered': 0, 'ISOSpeedRatings': 800, 'ExposureMode': 1, 'SensitivityType': 2, 'WhiteBalance': 0, 'DigitalZoomRatio': '1.0', 'FocalLengthIn35mmFilm': 27, 'GainControl': 1, 'Contrast': 0, 'Saturation': 0, 'Sharpness': 0}, 'color': ['#170d04', '#bf884b'], 'tags': ['classy', 'architecture']}, 'Ada%20Gaming%20Center.jpg': {'exif': {}, 'color': ['#ccc7be', '#675a38'], 'tags': []}, 'aden%20baden%202016%200010.jpg': {'exif': {'GPSInfo': \"{0: b'\\\\x02\\\\x02\\\\x00\\\\x00', 1: 'N', 2: (48.0, 45.0, 37.008), 3: 'E', 4: (8.0, 14.0, 15.169), 5: b'\\\\x00', 6: 175.0, 7: (11.0, 5.0, 46.0), 9: 'A', 18: 'WGS-84', 29: '2016:04:21'}\", 'ResolutionUnit': 2, 'ExifOffset': 218, 'Make': 'Sony', 'Model': 'D5503', 'Software': '14.6.A.1.236_6_f1000010', 'Orientation': 1, 'DateTime': '2016:04:21 13:06:01', 'YCbCrPositioning': 1, 'XResolution': '72.0', 'YResolution': '72.0', 'ShutterSpeedValue': '10.64', 'DateTimeOriginal': '2016:04:21 13:06:01', 'DateTimeDigitized': '2016:04:21 13:06:01', 'ExposureBiasValue': '0.0', 'MeteringMode': 5, 'LightSource': 0, 'Flash': 24, 'FocalLength': '4.9', 'ColorSpace': 1, 'ExifImageWidth': 3840, 'ExifInteroperabilityOffset': 11904, 'SceneCaptureType': 0, 'SubjectDistanceRange': 0, 'SubsecTime': '375024', 'SubsecTimeOriginal': '375024', 'SubsecTimeDigitized': '375024', 'ExifImageHeight': 2160, 'ExposureTime': '0.000625', 'FNumber': '2.0', 'CustomRendered': 0, 'ISOSpeedRatings': 50, 'ExposureMode': 0, 'WhiteBalance': 0, 'DigitalZoomRatio': '1.0'}, 'color': ['#575a44', '#9eb2c9'], 'tags': ['architecture']}, 'ahs%20Rincon%20San%20Diego.jpg': {'exif': {'RelatedImageWidth': 2272, 'RelatedImageLength': 1704, 'CustomRendered': 0, 'ExposureMode': 0, 'WhiteBalance': 1, 'DigitalZoomRatio': '1.0', 'SceneCaptureType': 0, 'ResolutionUnit': 2, 'ExifOffset': 264, 'Make': 'Canon', 'Model': 'Canon PowerShot A80', 'DateTime': '2005:03:05 23:12:15', 'YCbCrPositioning': 1, 'XResolution': '180.0', 'YResolution': '180.0', 'CompressedBitsPerPixel': '3.0', 'DateTimeOriginal': '2005:03:05 23:12:15', 'DateTimeDigitized': '2005:03:05 23:12:15', 'ShutterSpeedValue': '8.96875', 'ApertureValue': '5.3125', 'ExposureBiasValue': '0.0', 'MaxApertureValue': '2.96875', 'MeteringMode': 5, 'Flash': 24, 'FocalLength': '7.8125', 'ColorSpace': 1, 'ExifImageWidth': 1704, 'FocalPlaneXResolution': '8114.285714285715', 'ExifImageHeight': 2272, 'FocalPlaneYResolution': '8114.285714285715', 'FocalPlaneResolutionUnit': 2, 'SensingMethod': 2, 'ExposureTime': '0.002', 'FNumber': '6.3'}, 'color': ['#3e546d', '#d2ccc1'], 'tags': ['nature']}, 'aideRailwayStationAdelaide.jpg': {'exif': {'ResolutionUnit': 2, 'ExifOffset': 314, 'ImageDescription': 'OLYMPUS DIGITAL CAMERA         ', 'Make': 'OLYMPUS IMAGING CORP.  ', 'Model': 'FE170,X760', 'Software': 'Microsoft Windows Live Photo Gallery12.0.1308.1023', 'Orientation': 1, 'DateTime': '2007:12:19 19:04:50', 'YCbCrPositioning': 2, 'XResolution': '314.0', 'YResolution': '314.0', 'DateTimeOriginal': '2007:10:12 20:13:41', 'DateTimeDigitized': '2007:10:12 20:13:41', 'ExposureBiasValue': '0.0', 'MaxApertureValue': '3.26', 'MeteringMode': 2, 'LightSource': 0, 'Flash': 16, 'FocalLength': '6.3', 'ColorSpace': 1, 'ExifImageWidth': 2112, 'ExifInteroperabilityOffset': 3310, 'SceneCaptureType': 0, 'ExifImageHeight': 2816, 'Contrast': 0, 'Saturation': 0, 'Sharpness': 0, 'ExposureTime': '0.01', 'FNumber': '3.1', 'ExposureProgram': 2, 'CustomRendered': 0, 'ISOSpeedRatings': 64, 'ExposureMode': 0, 'WhiteBalance': 0, 'DigitalZoomRatio': '1.0', 'GainControl': 0}, 'color': ['#dfe5e7', '#5b5950'], 'tags': []}, 'alacio%20del%20Condestable.jpg': {'exif': {'ResolutionUnit': 2, 'ExifOffset': 258, 'ImageDescription': '                               ', 'Make': 'SONY', 'Model': 'DSC-S500', 'Orientation': 1, 'DateTime': '2006:01:02 11:53:45', 'YCbCrPositioning': 2, 'XResolution': '314.0', 'YResolution': '314.0', 'CompressedBitsPerPixel': '8.0', 'DateTimeOriginal': '2006:01:02 11:53:45', 'DateTimeDigitized': '2006:01:02 11:53:45', 'ExposureBiasValue': '0.0', 'MaxApertureValue': '3.0', 'MeteringMode': 5, 'LightSource': 0, 'Flash': 24, 'FocalLength': '5.4', 'ColorSpace': 1, 'ExifImageWidth': 2112, 'ExifInteroperabilityOffset': 14700, 'SceneCaptureType': 0, 'Saturation': 0, 'ExifImageHeight': 2816, 'Sharpness': 0, 'ExposureTime': '0.008', 'FNumber': '5.6', 'ExposureProgram': 2, 'CustomRendered': 0, 'ISOSpeedRatings': 80, 'ExposureMode': 0, 'WhiteBalance': 0}, 'color': ['#63554d', '#edecee'], 'tags': ['architecture']}, 'Aliante%20Casino%202.jpg': {'exif': {'ResolutionUnit': 2, 'ExifOffset': 228, 'ImageDescription': '                               ', 'Make': 'SONY', 'Model': 'DSC-P10', 'Orientation': 1, 'DateTime': '2018:10:20 14:00:38', 'YCbCrPositioning': 2, 'XResolution': '72.0', 'YResolution': '72.0', 'CompressedBitsPerPixel': '4.0', 'DateTimeOriginal': '2018:10:20 14:00:38', 'DateTimeDigitized': '2018:10:20 14:00:38', 'ExposureBiasValue': '0.0', 'MaxApertureValue': '3.0', 'MeteringMode': 5, 'LightSource': 0, 'Flash': 0, 'FocalLength': '7.9', 'ColorSpace': 1, 'ExifImageWidth': 2592, 'ExifInteroperabilityOffset': 2162, 'SceneCaptureType': 0, 'ExifImageHeight': 1944, 'ExposureTime': '0.01', 'FNumber': '5.6', 'ExposureProgram': 2, 'CustomRendered': 0, 'ISOSpeedRatings': 100, 'ExposureMode': 0, 'WhiteBalance': 0}, 'color': ['#87a8bf', '#4a5953'], 'tags': ['nature']}, 'Annecy%2020120101%20-%2019.JPG': {'exif': {'ResolutionUnit': 2, 'ExifOffset': 264, 'Make': 'Canon', 'Model': 'Canon EOS 550D\\x00\\x00\\x00\\x00\\x00\\x00\\x00\\x00\\x00\\x00\\x00\\x00\\x00\\x00\\x00\\x00\\x00', 'Software': 'Digital Photo Professional\\x00\\x00\\x00\\x00\\x00', 'Orientation': 1, 'DateTime': '2012:01:01 14:23:35', 'YCbCrPositioning': 1, 'YResolution': '350.0', 'Copyright': '\\x00', 'XResolution': '350.0', 'Artist': '\\x00', 'ShutterSpeedValue': '8.625', 'DateTimeOriginal': '2012:01:01 14:23:35', 'DateTimeDigitized': '2012:01:01 14:23:35', 'ApertureValue': '6.0', 'ExposureBiasValue': '0.0', 'Flash': 16, 'FocalLength': '24.0', 'ColorSpace': 1, 'ExifImageWidth': 5184, 'ExifInteroperabilityOffset': 5250, 'FocalPlaneXResolution': '5728.176795580111', 'FocalPlaneYResolution': '5808.403361344538', 'ExifImageHeight': 3456, 'FocalPlaneResolutionUnit': 2, 'ExposureTime': '0.0025', 'FNumber': '8.0', 'CustomRendered': 0, 'ISOSpeedRatings': 100, 'ExposureMode': 0, 'WhiteBalance': 0, 'SceneCaptureType': 0}, 'color': ['#3c3d2b', '#b4b7c1'], 'tags': []}, 'ano.%20Figueira%20da%20Foz.jpg': {'exif': {'ResolutionUnit': 2, 'ExifOffset': 634, 'Make': 'Panasonic', 'Model': 'DMC-TZ8', 'Software': 'Ver.1.0  ', 'Orientation': 1, 'DateTime': '2011:09:10 10:13:15', 'YCbCrPositioning': 2, 'XResolution': '180.0', 'YResolution': '180.0', 'CompressedBitsPerPixel': '4.0', 'DateTimeOriginal': '2011:09:10 10:13:15', 'DateTimeDigitized': '2011:09:10 10:13:15', 'ExposureBiasValue': '0.0', 'MaxApertureValue': '3.44', 'MeteringMode': 5, 'LightSource': 0, 'Flash': 16, 'FocalLength': '4.7', 'ColorSpace': 1, 'ExifImageWidth': 4000, 'ExifInteroperabilityOffset': 10652, 'FocalLengthIn35mmFilm': 29, 'SceneCaptureType': 0, 'ExifImageHeight': 3000, 'Contrast': 0, 'Saturation': 0, 'Sharpness': 0, 'SensingMethod': 2, 'ExposureTime': '0.005', 'FNumber': '4.0', 'ExposureProgram': 8, 'CustomRendered': 0, 'ISOSpeedRatings': 80, 'ExposureMode': 0, 'WhiteBalance': 0, 'DigitalZoomRatio': '0.0', 'GainControl': 0}, 'color': ['#6d6c64', '#ebf3f6'], 'tags': []}, 'Arcachon%20Casino%20R01.jpg': {'exif': {'GPSInfo': \"{0: b'\\\\x02\\\\x02\\\\x00\\\\x00'}\", 'ResolutionUnit': 2, 'ExifOffset': 252, 'Make': 'NIKON CORPORATION', 'Model': 'NIKON D90', 'Software': 'Adobe Photoshop Elements 6.0 Macintosh', 'Orientation': 1, 'DateTime': '2012:10:03 17:26:50', 'YCbCrPositioning': 2, 'XResolution': '300.0', 'YResolution': '300.0', 'CompressedBitsPerPixel': '4.0', 'DateTimeOriginal': '2012:09:16 11:56:49', 'DateTimeDigitized': '2012:09:16 11:56:49', 'ExposureBiasValue': '0.0', 'MaxApertureValue': '4.0', 'MeteringMode': 5, 'LightSource': 0, 'Flash': 0, 'FocalLength': '27.0', 'ColorSpace': 1, 'ExifImageWidth': 3852, 'ExifInteroperabilityOffset': 876, 'SceneCaptureType': 0, 'SubsecTime': '00', 'SubsecTimeOriginal': '00', 'SubsecTimeDigitized': '00', 'ExifImageHeight': 2559, 'SubjectDistanceRange': 0, 'SensingMethod': 2, 'ExposureTime': '0.0025', 'FNumber': '13.0', 'ExposureProgram': 3, 'CustomRendered': 0, 'ISOSpeedRatings': 200, 'ExposureMode': 0, 'WhiteBalance': 0, 'DigitalZoomRatio': '1.0', 'FocalLengthIn35mmFilm': 40, 'GainControl': 0, 'Contrast': 0, 'Saturation': 0, 'Sharpness': 0}, 'color': ['#51647e', '#c6c3bd'], 'tags': []}, 'as%2C%20Nevada%201989%2049.jpg': {'exif': {'ResolutionUnit': 2, 'ExifOffset': 232, 'Make': 'Nikon', 'Model': 'Nikon SUPER COOLSCAN 5000 ED', 'Software': 'Adobe Photoshop CS Windows', 'Orientation': 1, 'DateTime': '2021:10:05 10:11:41', 'YCbCrPositioning': 1, 'XResolution': '800.0', 'YResolution': '800.0', 'ColorSpace': 1, 'ExifImageWidth': 965, 'ExifImageHeight': 695}, 'color': ['#c5d0ce', '#101317'], 'tags': ['classy']}, 'asino%20Canberra%20Sign%20.jpg': {'exif': {'ResolutionUnit': 2, 'ExifOffset': 218, 'Make': 'Canon', 'Model': 'Canon EOS 5D Mark III', 'Software': 'Adobe Photoshop Camera Raw 9.6 (Macintosh)', 'DateTime': '2016:07:27 09:40:26', 'XResolution': '999.0', 'YResolution': '999.0', 'ShutterSpeedValue': '-1.321928', 'ApertureValue': '6.643856', 'DateTimeOriginal': '2016:06:18 17:24:57', 'DateTimeDigitized': '2016:06:18 17:24:57', 'ExposureBiasValue': '0.3333333333333333', 'MaxApertureValue': '4.0', 'MeteringMode': 5, 'ColorSpace': 65535, 'Flash': 16, 'FocalLength': '20.0', 'ExposureMode': 0, 'WhiteBalance': 0, 'SceneCaptureType': 0, 'FocalPlaneXResolution': '1100.0', 'FocalPlaneYResolution': '1100.0', 'FocalPlaneResolutionUnit': 3, 'SubsecTimeOriginal': '19', 'SubsecTimeDigitized': '19', 'ExposureTime': '2.5', 'FNumber': '10.0', 'ExposureProgram': 3, 'CustomRendered': 0, 'ISOSpeedRatings': 100, 'SensitivityType': 2, 'BodySerialNumber': '055023000078', 'RecommendedExposureIndex': 100, 'LensSpecification': '(17.0, 40.0, nan, nan)', 'LensModel': 'EF17-40mm f/4L USM', 'LensSerialNumber': '0000000000'}, 'color': ['#1e2725', '#c3b898'], 'tags': ['classy']}, 'asino%20de%20Montr%C3%A9al.JPG': {'exif': {'ResolutionUnit': 2, 'ExifOffset': 338, 'Make': 'EASTMAN KODAK COMPANY', 'Model': 'KODAK CX4300 DIGITAL CAMERA', 'Software': 'Version 1.0000 ', 'Orientation': 1, 'YCbCrPositioning': 2, 'XResolution': '230.0', 'YResolution': '230.0', 'CompressedBitsPerPixel': '2.28', 'DateTimeOriginal': '2005:04:10 07:01:32', 'DateTimeDigitized': '2005:04:10 07:01:32', 'ShutterSpeedValue': '8.78', 'ApertureValue': '3.61', 'ExposureBiasValue': '0.0', 'MaxApertureValue': '3.61', 'MeteringMode': 2, 'Flash': 0, 'FocalLength': '7.63', 'ColorSpace': 1, 'ExifImageWidth': 2080, 'ExifInteroperabilityOffset': 1750, 'SceneCaptureType': 0, 'ExifImageHeight': 1544, 'Contrast': 0, 'Saturation': 0, 'Sharpness': 0, 'SubjectDistanceRange': 0, 'ExposureIndex': '100.0', 'SensingMethod': 2, 'ExposureTime': '0.00226', 'FNumber': '3.5', 'ExposureProgram': 2, 'CustomRendered': 0, 'ISOSpeedRatings': 100, 'ExposureMode': 0, 'WhiteBalance': 0, 'DigitalZoomRatio': '0.0', 'FocalLengthIn35mmFilm': 36, 'GainControl': 0}, 'color': ['#44445a', '#d8dbe9'], 'tags': ['modern']}, 'asino%20on%20empty%20night.jpg': {'exif': {'ResolutionUnit': 2, 'ExifOffset': 246, 'Make': 'Canon', 'Model': 'Canon PowerShot SD790 IS', 'Software': 'Paint Shop Pro Photo 12.01\\x00\\x00\\x00\\x00\\x00\\x00\\x00\\x00\\x00\\x00\\x00\\x00\\x00\\x00', 'Orientation': 1, 'DateTime': '2009:03:16 13:15:07\\x00', 'YCbCrPositioning': 1, 'XResolution': '180.0', 'YResolution': '180.0', 'CompressedBitsPerPixel': '3.0', 'DateTimeOriginal': '2008:02:19 18:14:21\\x00', 'DateTimeDigitized': '2008:02:19 18:14:21\\x00', 'ShutterSpeedValue': '6.3125', 'ApertureValue': '2.96875', 'ExposureBiasValue': '0.0', 'MaxApertureValue': '2.96875', 'MeteringMode': 5, 'Flash': 24, 'FocalLength': '6.2', 'ColorSpace': 1, 'ExifImageWidth': 2000, 'FocalPlaneXResolution': '15136.929460580914', 'ExifImageHeight': 1500, 'FocalPlaneYResolution': '15116.022099447513', 'FocalPlaneResolutionUnit': 2, 'SensingMethod': 2, 'ExposureTime': '0.0125', 'ExifInteroperabilityOffset': 1020, 'FNumber': '2.8', 'CustomRendered': 0, 'ISOSpeedRatings': 125, 'ExposureMode': 0, 'WhiteBalance': 0, 'DigitalZoomRatio': '1.0', 'SceneCaptureType': 0}, 'color': ['#22100a', '#d6745d'], 'tags': ['classy']}, 'asino%2C%20Dunedin%2C%20NZ.jpg': {'exif': {'ResolutionUnit': 2, 'ExifOffset': 220, 'ImageDescription': '                               ', 'Make': 'Canon', 'Model': 'Canon PowerShot SX50 HS', 'Orientation': 1, 'DateTime': '2018:12:03 16:30:01', 'XResolution': '180.0', 'YResolution': '180.0', 'CompressedBitsPerPixel': '3.0', 'DateTimeOriginal': '2018:12:03 16:30:01', 'DateTimeDigitized': '2018:12:03 16:30:01', 'ShutterSpeedValue': '6.96875', 'ApertureValue': '4.0', 'ExposureBiasValue': '0.0', 'MaxApertureValue': '3.53125', 'MeteringMode': 5, 'Flash': 16, 'FocalLength': '4.3', 'ColorSpace': 1, 'ExifImageWidth': 3109, 'FocalPlaneXResolution': '16393.44262295082', 'FocalPlaneYResolution': '16393.44262295082', 'ExifImageHeight': 2371, 'FocalPlaneResolutionUnit': 2, 'SensingMethod': 2, 'ExposureTime': '0.008', 'FNumber': '4.0', 'CustomRendered': 0, 'ISOSpeedRatings': 160, 'ExposureMode': 0, 'SensitivityType': 4, 'WhiteBalance': 0, 'CameraOwnerName': 'James Dignan', 'DigitalZoomRatio': '1.0', 'SceneCaptureType': 0}, 'color': ['#aeb1b7', '#353a2e'], 'tags': ['architecture']}, 'Atv2885.jpg': {'exif': {}, 'color': ['#573934', '#d2c0b1'], 'tags': ['old']}, 'au%20Las%20Vegas%20signage.jpg': {'exif': {'GPSInfo': \"{0: b'\\\\x02\\\\x02\\\\x00\\\\x00', 1: 'N', 2: (36.0, 7.0, 58.34), 3: 'W', 4: (115.0, 9.0, 53.78), 5: b'\\\\x00', 6: 630.89662027833, 12: 'K', 13: 0.0, 16: 'T', 17: 45.799186737566465, 23: 'T', 24: 45.799186737566465, 29: '2022:03:21', 31: 21.88508593067288}\", 'ResolutionUnit': 2, 'ExifOffset': 240, 'Make': 'Apple', 'Model': 'iPhone 11', 'Software': '15.3.1', 'Orientation': 6, 'DateTime': '2022:03:21 15:55:41', 'YCbCrSubSampling': '(2, 2)', 'YCbCrPositioning': 1, 'XResolution': '72.0', 'YResolution': '72.0', 'HostComputer': 'iPhone 11', 'ShutterSpeedValue': '11.609640476860978', 'DateTimeOriginal': '2022:03:21 15:55:41', 'DateTimeDigitized': '2022:03:21 15:55:41', 'ApertureValue': '1.6959938128383605', 'BrightnessValue': '10.159811764705882', 'ExposureBiasValue': '0.0', 'MeteringMode': 5, 'Flash': 16, 'FocalLength': '4.25', 'ColorSpace': 65535, 'ExifImageWidth': 4032, 'DigitalZoomRatio': '2.511627906976744', 'FocalLengthIn35mmFilm': 65, 'SceneCaptureType': 0, 'OffsetTime': '-07:00', 'OffsetTimeOriginal': '-07:00', 'OffsetTimeDigitized': '-07:00', 'SubsecTimeOriginal': '910', 'SubjectLocation': '(2006, 1512, 2322, 1392)', 'SubsecTimeDigitized': '910', 'ExifImageHeight': 3024, 'SensingMethod': 2, 'ExposureTime': '0.00032', 'FNumber': '1.8', 'ImageUniqueID': '4c5a90cb6d3a2a290000000000000000', 'ExposureProgram': 2, 'ISOSpeedRatings': 32, 'ExposureMode': 0, 'WhiteBalance': 0, 'LensSpecification': '(1.5399999618512084, 4.25, 1.8, 2.4)', 'LensMake': 'Apple', 'LensModel': 'iPhone 11 back dual wide camera 4.25mm f/1.8', 'CompositeImage': 2}, 'color': ['#90acd8', '#585f55'], 'tags': ['modern']}, 'Ballys%20Las%20Vegas.jpg': {'exif': {'ResolutionUnit': 2, 'ExifOffset': 191, 'Make': 'Canon', 'Model': 'Canon EOS DIGITAL REBEL XT', 'Orientation': 0, 'DateTime': '2006:12:11 14:16:01', 'YCbCrPositioning': 2, 'XResolution': '72.0', 'YResolution': '72.0', 'ShutterSpeedValue': '4126470.0', 'DateTimeOriginal': '2006:12:11 14:16:01', 'DateTimeDigitized': '2006:12:11 14:16:01', 'ApertureValue': '8.918869018554688', 'ExposureBiasValue': '0.0', 'MeteringMode': 5, 'Flash': 16, 'FocalLength': '18.0', 'ColorSpace': 65535, 'ExifImageWidth': 1600, 'ExifInteroperabilityOffset': 9229, 'FocalPlaneXResolution': '1977.116704805492', 'FocalPlaneYResolution': '1979.381443298969', 'ExifImageHeight': 1067, 'FocalPlaneResolutionUnit': 2, 'ExposureTime': '0.008', 'FNumber': '22.0', 'ExposureProgram': 1, 'CustomRendered': 0, 'ISOSpeedRatings': 200, 'ExposureMode': 1, 'WhiteBalance': 0, 'SceneCaptureType': 0}, 'color': ['#bebcb8', '#3e475b'], 'tags': ['modern']}, 'Bellagio%20outside.jpg': {'exif': {'ResolutionUnit': 2, 'ExifOffset': 39761, 'ImageDescription': '                               ', 'Make': 'NIKON                  ', 'Model': 'COOLPIX P5000', 'Software': 'COOLPIX P5000V1.0              ', 'Orientation': 1, 'DateTime': '2009:10:30 02:25:40', 'YCbCrPositioning': 2, 'XResolution': '300.0', 'YResolution': '300.0', 'CompressedBitsPerPixel': '4.0', 'DateTimeOriginal': '2009:07:07 23:49:31', 'DateTimeDigitized': '2009:07:07 23:49:31', 'ExposureBiasValue': '0.0', 'MaxApertureValue': '2.9', 'MeteringMode': 5, 'LightSource': 0, 'Flash': 24, 'FocalLength': '7.5', 'ColorSpace': 1, 'ExifImageWidth': 1159, 'FocalLengthIn35mmFilm': 36, 'SceneCaptureType': 0, 'ExifImageHeight': 882, 'Contrast': 0, 'Saturation': 0, 'Sharpness': 0, 'SubjectDistanceRange': 0, 'ExposureTime': '0.0053705692803437165', 'ExifInteroperabilityOffset': 40409, 'FNumber': '4.8', 'ExposureProgram': 2, 'CustomRendered': 0, 'ISOSpeedRatings': 64, 'ExposureMode': 0, 'WhiteBalance': 0, 'DigitalZoomRatio': '0.0', 'GainControl': 0}, 'color': ['#cddee8', '#67726e'], 'tags': ['classy', 'architecture']}, 'Billscasino.jpg': {'exif': {}, 'color': ['#a6ac9d', '#303632'], 'tags': []}, 'Binion%27s.jpg': {'exif': {'ResolutionUnit': 2, 'ExifOffset': 240, 'ImageDescription': '                               ', 'Make': 'Canon', 'Model': 'Canon PowerShot A1000 IS', 'Orientation': 1, 'DateTime': '2009:10:13 22:20:41', 'YCbCrPositioning': 2, 'XResolution': '180.0', 'YResolution': '180.0', 'CompressedBitsPerPixel': '3.0', 'DateTimeOriginal': '2009:10:13 22:20:41', 'DateTimeDigitized': '2009:10:13 22:20:41', 'ShutterSpeedValue': '6.65625', 'ApertureValue': '6.0', 'ExposureBiasValue': '0.0', 'MaxApertureValue': '2.875', 'MeteringMode': 5, 'Flash': 16, 'FocalLength': '6.2', 'ColorSpace': 1, 'ExifImageWidth': 3648, 'FocalPlaneXResolution': '15136.929460580914', 'ExifImageHeight': 2736, 'FocalPlaneYResolution': '15116.022099447513', 'FocalPlaneResolutionUnit': 2, 'SensingMethod': 2, 'ExposureTime': '0.01', 'ExifInteroperabilityOffset': 3208, 'FNumber': '8.0', 'CustomRendered': 0, 'ISOSpeedRatings': 1600, 'ExposureMode': 0, 'WhiteBalance': 0, 'DigitalZoomRatio': '1.0', 'SceneCaptureType': 0}, 'color': ['#2f241d', '#9bb9af'], 'tags': ['classy']}, 'Binions%20horseshoe%201986.jpg': {'exif': {}, 'color': ['#210c07', '#d6b87a'], 'tags': ['classy']}, 'Borgata%20ac.jpg': {'exif': {'GPSInfo': \"{0: b'\\\\x02\\\\x02\\\\x00\\\\x00', 1: 'N', 2: (39.0, 22.0, 57.87447601304145), 3: 'W', 4: (74.0, 26.0, 8.748096074985355), 7: (11.0, 11.0, 33.0), 8: '0', 18: 'WGS-84', 29: '2010:08:01'}\", 'ResolutionUnit': 2, 'ExifOffset': 176, 'Make': 'Canon', 'Model': 'Canon PowerShot SX20 IS', 'DateTime': '2010:08:21 10:34:00', 'XResolution': '240.0', 'YResolution': '240.0', 'ShutterSpeedValue': '10.287712', 'ApertureValue': '4.970854', 'DateTimeOriginal': '2010:08:01 11:11:33', 'DateTimeDigitized': '2010:08:01 11:11:33', 'ExposureBiasValue': '0.0', 'MaxApertureValue': '3.34375', 'SubjectDistance': '1.47', 'MeteringMode': 5, 'Flash': 16, 'FocalLength': '6.439', 'ExposureMode': 0, 'WhiteBalance': 0, 'DigitalZoomRatio': '1.0', 'FocalPlaneXResolution': '16393.44262295082', 'FocalPlaneYResolution': '16393.44262295082', 'FocalPlaneResolutionUnit': 2, 'SensingMethod': 2, 'ExposureTime': '0.0008', 'FNumber': '5.6', 'CustomRendered': 0, 'ISOSpeedRatings': 125, 'SceneCaptureType': 0}, 'color': ['#c0bfbb', '#5e5438'], 'tags': []}, 'C%20France%20-%20panoramio.jpg': {'exif': {'GPSInfo': \"{0: b'\\\\x02\\\\x02\\\\x00\\\\x00'}\", 'ResolutionUnit': 2, 'ExifOffset': 256, 'Make': 'NIKON CORPORATION', 'Model': 'NIKON D200', 'Software': 'Paint Shop Pro Photo 12,01\\x00\\x00\\x00\\x00\\x00\\x00\\x00\\x00\\x00\\x00\\x00\\x00\\x00\\x00', 'Orientation': 1, 'DateTime': '2011:01:03 20:09:56\\x00', 'YCbCrPositioning': 2, 'XResolution': '300.0', 'YResolution': '300.0', 'CompressedBitsPerPixel': '4.0', 'DateTimeOriginal': '2007:09:16 16:44:17\\x00', 'DateTimeDigitized': '2007:09:16 16:44:17\\x00', 'ExposureBiasValue': '0.0', 'MaxApertureValue': '4.1', 'MeteringMode': 5, 'LightSource': 0, 'Flash': 0, 'FocalLength': '38.0', 'ColorSpace': 1, 'ExifImageWidth': 1500, 'ExifInteroperabilityOffset': 882, 'SceneCaptureType': 0, 'SubsecTime': '49', 'SubsecTimeOriginal': '49', 'SubsecTimeDigitized': '49', 'ExifImageHeight': 1004, 'SubjectDistanceRange': 0, 'SensingMethod': 2, 'ExposureTime': '0.0015625', 'FNumber': '13.0', 'ExposureProgram': 2, 'CustomRendered': 0, 'ISOSpeedRatings': 500, 'ExposureMode': 0, 'WhiteBalance': 0, 'DigitalZoomRatio': '1.0', 'FocalLengthIn35mmFilm': 57, 'GainControl': 1, 'Contrast': 0, 'Saturation': 0, 'Sharpness': 0}, 'color': ['#85888e', '#342e2a'], 'tags': []}, 'C%20France%2C%20ca.%201895.jpg': {'exif': {'ImageWidth': 3379, 'ImageLength': 2470, 'BitsPerSample': '(8, 8, 8)', 'Compression': 1, 'PhotometricInterpretation': 2, 'ResolutionUnit': 2, 'ExifOffset': 252, 'Software': 'Adobe Photoshop CS2 Windows', 'Orientation': 1, 'DateTime': '2010:01:13 10:41:41', 'SamplesPerPixel': 3, 'XResolution': '400.0', 'YResolution': '400.0', 'PlanarConfiguration': 1, 'ColorSpace': 65535, 'ExifImageWidth': 3286, 'ExifImageHeight': 2384}, 'color': ['#c5c1d1', '#5b4f31'], 'tags': []}, 'Carrasco%20en%20la%20noche.jpg': {'exif': {'GPSInfo': \"{0: b'\\\\x02\\\\x03\\\\x00\\\\x00'}\", 'ExifOffset': 2266, 'Make': 'NIKON CORPORATION', 'Model': 'NIKON D5100', 'Software': 'Ver.1.00 ', 'Orientation': 1, 'DateTime': '2013:07:01 21:07:13', 'YCbCrPositioning': 2, 'SensitivityType': 2, 'CompressedBitsPerPixel': '4.0', 'DateTimeOriginal': '2013:07:01 21:07:13', 'DateTimeDigitized': '2013:07:01 21:07:13', 'ExposureBiasValue': '0.0', 'MaxApertureValue': '3.9', 'MeteringMode': 2, 'LightSource': 0, 'Flash': 0, 'FocalLength': '24.0', 'ColorSpace': 1, 'ExifImageWidth': 4928, 'DigitalZoomRatio': '1.0', 'FocalLengthIn35mmFilm': 36, 'SceneCaptureType': 0, 'SubsecTime': '20', 'SubsecTimeOriginal': '20', 'SubsecTimeDigitized': '20', 'ExifImageHeight': 3264, 'SubjectDistanceRange': 0, 'SensingMethod': 2, 'ExposureTime': '15.0', 'FNumber': '11.0', 'ExposureProgram': 1, 'CustomRendered': 0, 'ISOSpeedRatings': 100, 'ExposureMode': 1, 'WhiteBalance': 0, 'GainControl': 0, 'Contrast': 0, 'Saturation': 0, 'Sharpness': 0}, 'color': ['#1e1727', '#b08f9a'], 'tags': ['classy', 'architecture']}, 'Casa%20Rosso%203.jpg': {'exif': {'ImageWidth': 3264, 'ImageLength': 2448, 'ResolutionUnit': 2, 'ExifOffset': 224, 'Make': 'SAMSUNG', 'Model': 'GT-I9100', 'Software': 'I9100XWMS2', 'Orientation': 1, 'DateTime': '2015:05:02 21:09:01', 'YCbCrPositioning': 1, 'XResolution': '72.0', 'YResolution': '72.0', 'ShutterSpeedValue': '4.05', 'ApertureValue': '2.81', 'DateTimeOriginal': '2015:05:02 21:09:01', 'DateTimeDigitized': '2015:05:02 21:09:01', 'BrightnessValue': '1.42', 'ExposureBiasValue': '0.0', 'MaxApertureValue': '2.81', 'MeteringMode': 2, 'Flash': 16, 'FocalLength': '4.03', 'ColorSpace': 1, 'ExifImageWidth': 3264, 'SceneCaptureType': 0, 'ExifImageHeight': 2448, 'ExposureTime': '0.058823529411764705', 'FNumber': '2.65', 'ImageUniqueID': 'SCEF02', 'ExposureProgram': 3, 'ISOSpeedRatings': 125, 'ExposureMode': 0, 'WhiteBalance': 0}, 'color': ['#b0a5a9', '#413e45'], 'tags': []}, 'Casino%20arica.JPG': {'exif': {'ResolutionUnit': 2, 'ExifOffset': 634, 'Make': 'Panasonic', 'Model': 'DMC-FH1', 'Software': 'Ver.1.0  ', 'Orientation': 1, 'DateTime': '2011:08:09 18:54:21', 'YCbCrPositioning': 2, 'XResolution': '180.0', 'YResolution': '180.0', 'CompressedBitsPerPixel': '4.0', 'DateTimeOriginal': '2011:08:09 18:54:21', 'DateTimeDigitized': '2011:08:09 18:54:21', 'ExposureBiasValue': '0.0', 'MaxApertureValue': '3.0', 'MeteringMode': 5, 'LightSource': 4, 'Flash': 25, 'FocalLength': '5.4', 'ColorSpace': 1, 'ExifImageWidth': 4000, 'ExifInteroperabilityOffset': 10396, 'FocalLengthIn35mmFilm': 30, 'SceneCaptureType': 0, 'ExifImageHeight': 3000, 'Contrast': 0, 'Saturation': 0, 'Sharpness': 0, 'SensingMethod': 2, 'ExposureTime': '0.03333333333333333', 'FNumber': '2.9', 'ExposureProgram': 2, 'CustomRendered': 0, 'ISOSpeedRatings': 400, 'ExposureMode': 0, 'WhiteBalance': 0, 'DigitalZoomRatio': '0.0', 'GainControl': 2}, 'color': ['#1d181a', '#c1ba8d'], 'tags': ['classy']}, 'Casino%20at%20night%202004.jpg': {'exif': {'ResolutionUnit': 2, 'ExifOffset': 232, 'ImageDescription': '          ', 'Make': 'NIKON', 'Model': 'E990', 'Software': 'ACD Systems Digital Imaging', 'Orientation': 1, 'DateTime': '2008:09:21 20:58:10', 'YCbCrPositioning': 1, 'XResolution': '300.0', 'YResolution': '300.0', 'CompressedBitsPerPixel': '1.0', 'DateTimeOriginal': '2004:08:09 00:17:21', 'DateTimeDigitized': '2004:08:09 00:17:21', 'ExposureBiasValue': '0.0', 'MaxApertureValue': '3.5', 'MeteringMode': 5, 'LightSource': 0, 'Flash': 0, 'FocalLength': '10.9', 'ColorSpace': 1, 'ExifImageWidth': 1280, 'ExifInteroperabilityOffset': 1235, 'SubsecTime': '234', 'ExifImageHeight': 960, 'ExposureTime': '0.11235955056179775', 'FNumber': '2.7', 'ExposureProgram': 2, 'ISOSpeedRatings': 100}, 'color': ['#e0c2af', '#1c1009'], 'tags': ['classy']}, 'Casino%20Barri%C3%A8re.jpg': {'exif': {'GPSInfo': \"{0: b'\\\\x02\\\\x03\\\\x00\\\\x00'}\", 'ResolutionUnit': 2, 'ExifOffset': 2526, 'ProcessingSoftware': 'Windows Photo Editor 10.0.10011.16384', 'Make': 'NIKON CORPORATION', 'Model': 'NIKON D800', 'YCbCrCoefficients': '(0.299, 0.587, 0.114)', 'Orientation': 1, 'YCbCrPositioning': 2, 'Software': 'Windows Photo Editor 10.0.10011.16384', 'DateTime': '2020:08:22 07:25:36', 'Artist': '                                    ', 'Copyright': '                                                      ', 'XResolution': '300.0', 'YResolution': '300.0', 'CompressedBitsPerPixel': '4.0', 'DateTimeOriginal': '2020:08:04 13:05:07', 'DateTimeDigitized': '2020:08:04 13:05:07', 'ExposureBiasValue': '0.3333333333333333', 'MaxApertureValue': '1.6', 'MeteringMode': 5, 'LightSource': 9, 'Flash': 16, 'FocalLength': '50.0', 'ColorSpace': 1, 'ExifImageWidth': 7360, 'ExifInteroperabilityOffset': 18368, 'SceneCaptureType': 0, 'SubsecTime': '90', 'SubsecTimeOriginal': '90', 'SubsecTimeDigitized': '90', 'ExifImageHeight': 4912, 'SubjectDistanceRange': 0, 'SensingMethod': 2, 'ExposureTime': '0.0015625', 'FNumber': '13.0', 'ExposureProgram': 2, 'CustomRendered': 0, 'ISOSpeedRatings': 400, 'ExposureMode': 0, 'SensitivityType': 2, 'WhiteBalance': 1, 'DigitalZoomRatio': '1.0', 'FocalLengthIn35mmFilm': 50, 'GainControl': 1, 'Contrast': 0, 'Saturation': 0, 'Sharpness': 0}, 'color': ['#565144', '#99a9bd'], 'tags': []}, 'Casino%20de%20Toledo.jpg': {'exif': {'ResolutionUnit': 2, 'ExifOffset': 280, 'ImageDescription': '                               ', 'Make': 'SONY', 'Model': 'DSC-H20', 'Software': 'Picasa 3.0', 'Orientation': 0, 'DateTime': '2009:08:21 17:47:21', 'YCbCrPositioning': 2, 'XResolution': '72.0', 'YResolution': '72.0', 'CompressedBitsPerPixel': '5.0', 'DateTimeOriginal': '2009:08:21 17:47:21', 'DateTimeDigitized': '2009:08:21 17:47:21', 'ExposureBiasValue': '0.0', 'MaxApertureValue': '3.625', 'MeteringMode': 5, 'LightSource': 1, 'Flash': 16, 'FocalLength': '10.4', 'ColorSpace': 65535, 'ExifImageWidth': 2048, 'ExifInteroperabilityOffset': 10688, 'SceneCaptureType': 0, 'Contrast': 0, 'ExifImageHeight': 1154, 'Saturation': 0, 'Sharpness': 0, 'ExposureTime': '0.005', 'FNumber': '8.0', 'ImageUniqueID': '3b7b8a40675abf01872a7d2117b049ad', 'ExposureProgram': 2, 'CustomRendered': 0, 'ISOSpeedRatings': 80, 'ExposureMode': 0, 'WhiteBalance': 1}, 'color': ['#423e56', '#d1a487'], 'tags': ['architecture']}, 'Casino%20Estoril.jpg': {'exif': {'ResolutionUnit': 2, 'ExifOffset': 300, 'ImageDescription': 'OLYMPUS DIGITAL CAMERA         ', 'Make': 'Eastman Kodak Company', 'Model': 'Picture Maker G3', 'Software': 'Adobe Photoshop 7.0', 'Orientation': 1, 'DateTime': '2007:06:29 21:38:02', 'YCbCrPositioning': 1, 'YResolution': '72.0', 'XResolution': '72.0', 'Artist': 'Mathias Stang', 'CompressedBitsPerPixel': '2.0', 'DateTimeOriginal': '0000:00:00 00:00:00', 'DateTimeDigitized': '0000:00:00 00:00:00', 'ExposureBiasValue': '0.0', 'MaxApertureValue': '2.0', 'MeteringMode': 5, 'LightSource': 0, 'Flash': 0, 'FocalLength': '6.6', 'ColorSpace': 1, 'ExifImageWidth': 1602, 'ExifImageHeight': 730, 'ExposureTime': '0.00125', 'FNumber': '5.0', 'ExposureProgram': 4, 'ISOSpeedRatings': 100}, 'color': ['#a0b0cc', '#3f3d28'], 'tags': ['nature', 'architecture']}, 'Casino%20Figueira.jpg': {'exif': {'ImageWidth': 4640, 'ImageLength': 3472, 'GPSInfo': \"{1: 'N', 2: (40.0, 8.0, 59.7875), 3: 'W', 4: (8.0, 51.0, 49.9283), 5: b'\\\\x00', 6: 82.287, 7: (16.0, 38.0, 12.0), 27: b'ASCII\\\\x00\\\\x00\\\\x00GPS\\\\x00', 29: '2022:08:25'}\", 'ResolutionUnit': 2, 'ExifOffset': 170, 'Orientation': 1, 'YCbCrPositioning': 1, 'DateTime': '2022:08:25 17:38:13', 'XResolution': '72.0', 'YResolution': '72.0', 'ExifVersion': '0220', 'ColorSpace': 1, 'ApertureValue': '1.69', 'ExifImageHeight': 3472, 'ExposureBiasValue': '0.0', 'MaxApertureValue': '1.69', 'DateTimeOriginal': '2022:08:25 17:38:13', 'WhiteBalance': 0, 'ExifInteroperabilityOffset': 1409, 'Flash': 16, 'ExifImageWidth': 4640, 'FocalLengthIn35mmFilm': 0, 'DigitalZoomRatio': '1.0', 'FocalLength': '5.53', 'SubsecTime': '173122', 'SubsecTimeOriginal': '173122', 'SubsecTimeDigitized': '173122', 'DateTimeDigitized': '2022:08:25 17:38:13', 'ShutterSpeedValue': '9.456', 'SensingMethod': 0, 'ExposureTime': '0.001422475106685633', 'FNumber': '1.8', 'ISOSpeedRatings': 100, 'LightSource': 21}, 'color': ['#84a7c6', '#2f343e'], 'tags': ['modern']}, 'Casino%20Knokke.JPG': {'exif': {'ResolutionUnit': 2, 'ExifOffset': 284, 'ImageDescription': '  MEDION DIGITAL CAMERA        ', 'Make': '  MEDION OPTICAL CO,LTD', 'Model': 'MD411Z3     ', 'Software': 'M305292', 'Orientation': 1, 'DateTime': '2001:12:00 00:00:00', 'YCbCrPositioning': 2, 'XResolution': '72.0', 'YResolution': '72.0', 'CompressedBitsPerPixel': '0.9322916666666666', 'DateTimeOriginal': '2069:01:05 04:29:11', 'DateTimeDigitized': '2069:01:05 04:29:11', 'ShutterSpeedValue': '11.6', 'ApertureValue': '4.4658', 'ExposureBiasValue': '0.0', 'SubjectDistance': 'nan', 'MeteringMode': 0, 'Flash': 0, 'FocalLength': '7.64', 'ColorSpace': 1, 'ExifImageWidth': 2272, 'ExifInteroperabilityOffset': 886, 'ExifImageHeight': 1704, 'ISOSpeedRatings': 100}, 'color': ['#3f555e', '#6e9dc0'], 'tags': ['architecture']}, 'Casino%20Kursaal.jpg': {'exif': {'ResolutionUnit': 2, 'ExifOffset': 284, 'ImageDescription': 'Medion   DIGITAL CAMERA        ', 'Make': 'Medion   OPTICAL CO,LTD', 'Model': 'MD9700', 'Software': 'Ver 1.0', 'Orientation': 1, 'DateTime': '2001:12:00 00:00:00', 'YCbCrPositioning': 2, 'XResolution': '72.0', 'YResolution': '72.0', 'CompressedBitsPerPixel': '0.2734375', 'DateTimeOriginal': '2001:01:14 17:26:24', 'DateTimeDigitized': '2001:01:14 17:26:24', 'ShutterSpeedValue': '7.125', 'ApertureValue': '7.8138', 'ExposureBiasValue': '0.0', 'SubjectDistance': 'nan', 'MeteringMode': 0, 'Flash': 0, 'FocalLength': '8.24', 'ColorSpace': 1, 'ExifImageWidth': 1600, 'ExifInteroperabilityOffset': 886, 'ExifImageHeight': 1200, 'ISOSpeedRatings': 100}, 'color': ['#c3cdc0', '#5c7177'], 'tags': []}, 'Casino%20Montbenon.jpg': {'exif': {'ResolutionUnit': 2, 'ExifOffset': 494, 'Make': 'Panasonic', 'Model': 'DMC-TZ5', 'Software': 'Ver.1.0  ', 'Orientation': 1, 'DateTime': '2009:11:14 15:49:59', 'YCbCrPositioning': 2, 'XResolution': '180.0', 'YResolution': '180.0', 'CompressedBitsPerPixel': '4.0', 'DateTimeOriginal': '2009:11:14 15:49:59', 'DateTimeDigitized': '2009:11:14 15:49:59', 'ExposureBiasValue': '0.0', 'MaxApertureValue': '3.44', 'MeteringMode': 5, 'LightSource': 4, 'Flash': 25, 'FocalLength': '4.7', 'ColorSpace': 1, 'ExifImageWidth': 3456, 'ExifInteroperabilityOffset': 9968, 'FocalLengthIn35mmFilm': 28, 'SceneCaptureType': 0, 'ExifImageHeight': 2592, 'Contrast': 0, 'Saturation': 0, 'Sharpness': 0, 'SensingMethod': 2, 'ExposureTime': '0.03333333333333333', 'FNumber': '3.3', 'ExposureProgram': 2, 'CustomRendered': 0, 'ISOSpeedRatings': 160, 'ExposureMode': 0, 'WhiteBalance': 0, 'DigitalZoomRatio': '0.0', 'GainControl': 1}, 'color': ['#c1c0bc', '#656261'], 'tags': []}, 'Casino%20Rama.JPG': {'exif': {}, 'color': ['#f4fafc', '#5c564a'], 'tags': ['nature']}, 'Casino%20Regina.jpg': {'exif': {}, 'color': ['#535551', '#b4bec9'], 'tags': []}, 'Casino%20Travemuende.jpg': {'exif': {'ResolutionUnit': 2, 'ExifOffset': 196, 'Make': 'Canon', 'Model': 'Canon PowerShot A710 IS', 'Orientation': 1, 'DateTime': '2011:03:23 14:01:24', 'YCbCrPositioning': 1, 'XResolution': '180.0', 'YResolution': '180.0', 'CompressedBitsPerPixel': '5.0', 'DateTimeOriginal': '2011:03:23 14:01:24', 'DateTimeDigitized': '2011:03:23 14:01:24', 'ShutterSpeedValue': '10.28125', 'ApertureValue': '4.0', 'ExposureBiasValue': '0.0', 'MaxApertureValue': '2.96875', 'MeteringMode': 5, 'Flash': 16, 'FocalLength': '5.8', 'ColorSpace': 1, 'ExifImageWidth': 3072, 'FocalPlaneXResolution': '13653.333333333334', 'ExifImageHeight': 2304, 'FocalPlaneYResolution': '13633.136094674555', 'FocalPlaneResolutionUnit': 2, 'SensingMethod': 2, 'ExposureTime': '0.0008', 'ExifInteroperabilityOffset': 3080, 'FNumber': '4.0', 'CustomRendered': 0, 'ExposureMode': 0, 'WhiteBalance': 0, 'DigitalZoomRatio': '1.0', 'SceneCaptureType': 0}, 'color': ['#4e4b49', '#92a3b5'], 'tags': ['architecture']}, 'Casino-de-Saint-Denis.JPG': {'exif': {'ExifOffset': 2220, 'Make': 'Canon', 'Model': 'Canon EOS 400D DIGITAL', 'Orientation': 1, 'DateTime': '2011:05:02 16:22:36', 'YCbCrPositioning': 2, 'ShutterSpeedValue': '8.965789794921875', 'DateTimeOriginal': '2011:05:02 16:22:36', 'DateTimeDigitized': '2011:05:02 16:22:36', 'ApertureValue': '7.614715576171875', 'ExposureBiasValue': '0.0', 'MeteringMode': 5, 'Flash': 16, 'FocalLength': '18.0', 'ColorSpace': 1, 'ExifImageWidth': 3888, 'SceneCaptureType': 0, 'FocalPlaneXResolution': '4433.295324971494', 'FocalPlaneYResolution': '4453.6082474226805', 'ExifImageHeight': 2592, 'SubsecTimeOriginal': '00', 'SubsecTimeDigitized': '00', 'FocalPlaneResolutionUnit': 2, 'ExposureTime': '0.002', 'FNumber': '14.0', 'ExposureProgram': 0, 'CustomRendered': 0, 'ISOSpeedRatings': 400, 'ExposureMode': 0, 'WhiteBalance': 0}, 'color': ['#231c16', '#7c97be'], 'tags': []}, 'Casino-Funchal.jpg': {'exif': {'ResolutionUnit': 2, 'ExifOffset': 344, 'ImageDescription': 'Casino in Funchal, Madeira, Portugal', 'Make': 'Canon', 'Model': 'Canon EOS 20D', 'Software': 'Adobe Photoshop CS2 Windows', 'Orientation': 1, 'DateTime': '2006:10:02 15:29:18', 'YCbCrPositioning': 2, 'YResolution': '72.0', 'Copyright': 'Â© 2006 JÃ¶rg Schmalenberger', 'XResolution': '72.0', 'Artist': 'JÃ¶rg Schmalenberger', 'ShutterSpeedValue': '2.5849609375', 'DateTimeOriginal': '2006:09:22 22:20:22', 'DateTimeDigitized': '2006:09:22 22:20:22', 'ApertureValue': '4.0', 'ExposureBiasValue': '1.3333333333333333', 'MeteringMode': 5, 'Flash': 16, 'FocalLength': '17.0', 'ColorSpace': 1, 'ExifImageWidth': 3504, 'ExifInteroperabilityOffset': 1044, 'FocalPlaneXResolution': '3959.322033898305', 'FocalPlaneYResolution': '3959.322033898305', 'ExifImageHeight': 2336, 'FocalPlaneResolutionUnit': 2, 'ExposureTime': '0.16666666666666666', 'FNumber': '4.0', 'ExposureProgram': 2, 'CustomRendered': 0, 'ISOSpeedRatings': 400, 'ExposureMode': 0, 'WhiteBalance': 0, 'SceneCaptureType': 0}, 'color': ['#211615', '#daa4cf'], 'tags': ['classy']}, 'Casinoclubdecomodoro.JPG': {'exif': {'Rating': 0, 'ResolutionUnit': 2, 'ExifOffset': 246, 'Make': 'EASTMAN KODAK COMPANY', 'Model': 'KODAK EASYSHARE C610 Digital Camera', 'Software': 'KC610', 'Orientation': 1, 'DateTime': '2010:08:25 22:19:36', 'YCbCrPositioning': 1, 'XResolution': '480.0', 'YResolution': '480.0', 'ShutterSpeedValue': '8.7', 'DateTimeOriginal': '2010:08:25 22:19:36', 'DateTimeDigitized': '2010:08:25 22:19:36', 'ApertureValue': '5.7', 'BrightnessValue': '10.0', 'ExposureBiasValue': '0.0', 'MaxApertureValue': '4.34', 'MeteringMode': 2, 'LightSource': 0, 'Flash': 24, 'FocalLength': '6.45', 'ColorSpace': 1, 'ExifImageWidth': 2848, 'ExifImageHeight': 2134, 'SubsecTimeOriginal': '08', 'Saturation': 0, 'Sharpness': 0, 'SubjectDistanceRange': 0, 'ExposureIndex': '80.0', 'SensingMethod': 2, 'ExposureTime': '0.0025', 'ExifInteroperabilityOffset': 21396, 'FNumber': '7.2', 'ExposureProgram': 2, 'CustomRendered': 0, 'ISOSpeedRatings': 80, 'ExposureMode': 0, 'WhiteBalance': 0, 'DigitalZoomRatio': '1.0', 'FocalLengthIn35mmFilm': 0, 'SceneCaptureType': 0, 'GainControl': 1, 'Contrast': 0}, 'color': ['#637b9e', '#343734'], 'tags': []}, 'CasinoCultura002.jpg': {'exif': {'ResolutionUnit': 2, 'ExifOffset': 216, 'Make': 'NIKON CORPORATION', 'Model': 'NIKON D7000', 'Software': 'Adobe Photoshop Lightroom 5.0 (Windows)', 'DateTime': '2015:05:07 16:10:05', 'XResolution': '240.0', 'YResolution': '240.0', 'ShutterSpeedValue': '7.321928', 'ApertureValue': '5.310704', 'DateTimeOriginal': '2015:04:30 19:39:02', 'DateTimeDigitized': '2015:04:30 19:39:02', 'ExposureBiasValue': '0.0', 'MaxApertureValue': '1.6', 'MeteringMode': 3, 'LightSource': 9, 'Flash': 16, 'FocalLength': '50.0', 'WhiteBalance': 1, 'DigitalZoomRatio': '1.0', 'FocalLengthIn35mmFilm': 75, 'SceneCaptureType': 0, 'GainControl': 0, 'SubsecTimeOriginal': '00', 'SubsecTimeDigitized': '00', 'Sharpness': 0, 'SubjectDistanceRange': 0, 'SensingMethod': 2, 'ExposureTime': '0.00625', 'FNumber': '6.3', 'ExposureProgram': 1, 'CustomRendered': 0, 'ISOSpeedRatings': 100, 'ExposureMode': 1, 'SensitivityType': 2, 'BodySerialNumber': '2222919', 'LensSpecification': '(50.0, 50.0, 1.8, 1.8)', 'LensModel': '50.0 mm f/1.8', 'Contrast': 0, 'Saturation': 0}, 'color': ['#7b6c56', '#25221c'], 'tags': ['old']}, 'CasinoduLiban.jpg': {'exif': {'ResolutionUnit': 2, 'ExifOffset': 192, 'ImageDescription': 'IslBG', 'Software': 'ACD Systems Digital Imaging', 'Orientation': 1, 'DateTime': '2005:03:27 14:39:55', 'YCbCrPositioning': 1, 'XResolution': '300.0', 'YResolution': '300.0', 'SubsecTime': '0', 'ColorSpace': 1, 'ExifImageWidth': 800, 'ExifImageHeight': 594, 'ExifInteroperabilityOffset': 270}, 'color': ['#202022', '#807986'], 'tags': []}, 'CASSINO-ALADIM.JPG': {'exif': {'ResolutionUnit': 2, 'ExifOffset': 284, 'ImageDescription': 'OLYMPUS DIGITAL CAMERA         ', 'Make': 'OLYMPUS OPTICAL CO.,LTD', 'Model': 'C3100Z,C3020Z', 'Software': 'v374-75', 'Orientation': 1, 'DateTime': '0000:00:00 00:00:00', 'YCbCrPositioning': 2, 'XResolution': '72.0', 'YResolution': '72.0', 'CompressedBitsPerPixel': '1.0', 'DateTimeOriginal': '0000:00:00 00:00:00', 'DateTimeDigitized': '0000:00:00 00:00:00', 'ExposureBiasValue': '0.0', 'MaxApertureValue': '3.0', 'MeteringMode': 5, 'LightSource': 0, 'Flash': 0, 'FocalLength': '6.6', 'ColorSpace': 1, 'ExifImageWidth': 2048, 'ExifInteroperabilityOffset': 886, 'ExifImageHeight': 1536, 'ExposureTime': '0.0025', 'FNumber': '5.6', 'ExposureProgram': 2, 'ISOSpeedRatings': 100}, 'color': ['#3e3934', '#8d9cb4'], 'tags': []}, 'ChristchurchCasinoC2239.JPG': {'exif': {'PhotometricInterpretation': 2, 'ResolutionUnit': 2, 'ExifOffset': 102, 'Orientation': 1, 'XResolution': '72.0', 'YResolution': '72.0', 'ColorSpace': 1, 'ExifImageWidth': 1294, 'ExifImageHeight': 1783}, 'color': ['#2f3637', '#92c1e8'], 'tags': ['modern']}, 'Circus%20Circus%20P4220697.jpg': {'exif': {'DateTimeOriginal': '2018:04:22 21:41:52', 'Rating': 1, 'ResolutionUnit': 2, 'RatingPercent': 20, 'ExifOffset': 1018, 'ImageDescription': 'OLYMPUS DIGITAL CAMERA         ', 'Make': 'OLYMPUS IMAGING CORP.  ', 'Model': 'SZ-20                  ', 'Software': 'darktable 2.0', 'Orientation': 1, 'DateTime': '2018:05:28 19:56:41', 'YCbCrPositioning': 2, 'XResolution': 300, 'YResolution': 300, 'CompressedBitsPerPixel': '2.0', 'DateTimeDigitized': '2018:04:22 21:41:52', 'ExposureBiasValue': '0.0', 'MaxApertureValue': '3.26', 'MeteringMode': 5, 'LightSource': 0, 'Flash': 16, 'FocalLength': '5.9', 'ColorSpace': 1, 'ExifImageWidth': 4526, 'ExifInteroperabilityOffset': 2658, 'SceneCaptureType': 0, 'ExifImageHeight': 3386, 'Contrast': 0, 'Saturation': 0, 'Sharpness': 0, 'ExposureTime': '0.00625', 'FNumber': '9.4', 'ExposureProgram': 5, 'CustomRendered': 0, 'ISOSpeedRatings': 80, 'ExposureMode': 0, 'WhiteBalance': 0, 'DigitalZoomRatio': '0.0', 'FocalLengthIn35mmFilm': 33, 'GainControl': 0}, 'color': ['#89a3b4', '#534d4b'], 'tags': ['architecture']}, 'Club%20Cal%20Neva.jpg': {'exif': {'GPSInfo': \"{0: b'\\\\x02\\\\x02\\\\x00\\\\x00', 1: 'N', 2: (39.0, 31.0, 36.74), 3: 'W', 4: (119.0, 48.0, 47.89), 5: b'\\\\x00', 6: 1349.59, 7: (15.0, 8.0, 40.0), 16: 'M', 17: 338.0, 29: '2024:01:26'}\", 'ResolutionUnit': 2, 'ExifOffset': 219, 'Make': 'Google', 'Model': 'Pixel 6a', 'Software': 'HDR+ 1.0.585804401zd', 'Orientation': 1, 'DateTime': '2024:01:26 07:08:41', 'YCbCrPositioning': 1, 'XResolution': '72.0', 'YResolution': '72.0', 'ShutterSpeedValue': '8.68', 'DateTimeOriginal': '2024:01:26 07:08:41', 'DateTimeDigitized': '2024:01:26 07:08:41', 'ApertureValue': '1.58', 'BrightnessValue': '6.26', 'ExposureBiasValue': '0.0', 'MaxApertureValue': '1.58', 'SubjectDistance': '2.991', 'MeteringMode': 2, 'Flash': 16, 'FocalLength': '4.38', 'ColorSpace': 1, 'ExifImageWidth': 4032, 'SceneCaptureType': 0, 'OffsetTime': '-08:00', 'OffsetTimeOriginal': '-08:00', 'OffsetTimeDigitized': '-08:00', 'SubsecTime': '784', 'SubsecTimeOriginal': '784', 'SubsecTimeDigitized': '784', 'ExifImageHeight': 3024, 'SensingMethod': 2, 'ExposureTime': '0.002437', 'ExifInteroperabilityOffset': 924, 'FNumber': '1.73', 'ExposureProgram': 2, 'CustomRendered': 1, 'ISOSpeedRatings': 50, 'ExposureMode': 0, 'WhiteBalance': 0, 'LensMake': 'Google', 'LensModel': 'Pixel 6a back camera 4.38mm f/1.73', 'DigitalZoomRatio': '0.0', 'FocalLengthIn35mmFilm': 27, 'Contrast': 0, 'Saturation': 0, 'Sharpness': 0, 'SubjectDistanceRange': 2, 'CompositeImage': 3}, 'color': ['#453336', '#a99da6'], 'tags': ['classy']}, 'Commerce%20Casino.jpg': {'exif': {}, 'color': ['#445446', '#8fb0be'], 'tags': ['nature', 'architecture']}, 'Crown%20Casino%20complex.jpg': {'exif': {'CustomRendered': 0, 'ExposureMode': 0, 'WhiteBalance': 0, 'DigitalZoomRatio': '0.0', 'SceneCaptureType': 1, 'GainControl': 0, 'Contrast': 0, 'Saturation': 0, 'Sharpness': 0, 'ImageDescription': 'OLYMPUS DIGITAL CAMERA         ', 'Make': 'OLYMPUS OPTICAL CO.,LTD', 'Model': 'C750UZ', 'Orientation': 1, 'YCbCrPositioning': 2, 'XResolution': '72.0', 'YResolution': '72.0', 'ResolutionUnit': 2, 'Software': 'v753g-79', 'DateTime': '0000:00:00 00:00:00', 'ExifOffset': 644, 'CompressedBitsPerPixel': '2.0', 'DateTimeOriginal': '0000:00:00 00:00:00', 'DateTimeDigitized': '0000:00:00 00:00:00', 'ExposureBiasValue': '0.0', 'MaxApertureValue': '3.0', 'MeteringMode': 5, 'LightSource': 0, 'Flash': 16, 'FocalLength': '6.3', 'ColorSpace': 1, 'ExifImageWidth': 2288, 'ExifImageHeight': 1712, 'ExposureTime': '0.0025', 'FNumber': '5.6', 'ExposureProgram': 5, 'ISOSpeedRatings': 50}, 'color': ['#566484', '#809fd9'], 'tags': ['modern']}, 'd%20%28Espa%C3%B1a%29%2005.jpg': {'exif': {'ResolutionUnit': 2, 'ExifOffset': 603, 'ImageDescription': \"'Casino de Madrid' (Spain), at 15 Calle de Alcala (street) in Centro district. Built in 1910.\", 'Make': 'Panasonic', 'Model': 'DMC-ZX3', 'Software': 'Adobe Photoshop CS2 Windows', 'Orientation': 1, 'DateTime': '2011:02:27 22:46:33', 'YCbCrPositioning': 2, 'YResolution': '180.0', 'Copyright': 'Luis Garcia ([[User:Zaqarbal|Zaqarbal]]) publishes this photo in Wikimedia Commons under [[:Commons:GNU Free Documentation License|GFDL]] and [[:Category:CC-BY-SA-3.0,2.5,2.0,1.0|Cc-by-sa-3.0,2.5,2.0,1.0]] licenses.', 'XResolution': '180.0', 'Artist': 'Luis Garcia ([[User:Zaqarbal|Zaqarbal]])', 'CompressedBitsPerPixel': '4.0', 'DateTimeOriginal': '2011:02:27 09:38:22', 'DateTimeDigitized': '2011:02:27 09:38:22', 'ExposureBiasValue': '0.0', 'MaxApertureValue': '3.44', 'MeteringMode': 5, 'LightSource': 0, 'Flash': 16, 'FocalLength': '4.5', 'ColorSpace': 1, 'ExifImageWidth': 3147, 'FocalLengthIn35mmFilm': 25, 'SceneCaptureType': 0, 'ExifImageHeight': 3058, 'Contrast': 0, 'Saturation': 0, 'Sharpness': 0, 'SensingMethod': 2, 'ExposureTime': '0.003125', 'FNumber': '3.3', 'ExposureProgram': 8, 'CustomRendered': 0, 'ISOSpeedRatings': 125, 'ExposureMode': 0, 'WhiteBalance': 0, 'DigitalZoomRatio': '0.0', 'GainControl': 1}, 'color': ['#96acbd', '#3d3e3c'], 'tags': ['architecture']}, 'Deauville-Casino-20120915.jpg': {'exif': {'ResolutionUnit': 2, 'ExifOffset': 284, 'Make': 'Canon', 'Model': 'Canon EOS 450D', 'Software': 'Adobe Photoshop CS5.1 Macintosh', 'Orientation': 1, 'DateTime': '2012:10:05 14:52:02', 'YResolution': '240.0', 'Copyright': 'Creatice commons (CC BY 3.0)', 'XResolution': '240.0', 'Artist': 'Daniel VILLAFRUELA', 'ShutterSpeedValue': '8.965784', 'ApertureValue': '8.0', 'DateTimeOriginal': '2012:09:15 12:14:54', 'DateTimeDigitized': '2012:09:15 12:14:54', 'ExposureBiasValue': '0.0', 'MaxApertureValue': '3.625', 'SubjectDistance': '3.49', 'MeteringMode': 6, 'Flash': 16, 'FocalLength': '18.0', 'ExposureMode': 0, 'WhiteBalance': 0, 'SceneCaptureType': 0, 'FocalPlaneXResolution': '4865.603644646925', 'FocalPlaneYResolution': '4876.712328767123', 'FocalPlaneResolutionUnit': 2, 'SubsecTimeOriginal': '03', 'SubsecTimeDigitized': '03', 'ExposureTime': '0.002', 'FNumber': '16.0', 'ExposureProgram': 2, 'CustomRendered': 0, 'ISOSpeedRatings': 200, 'CameraOwnerName': 'Daniel VILLAFRUELA', 'BodySerialNumber': '1380331676', 'LensSpecification': '(18.0, 55.0, nan, nan)', 'LensModel': 'EF-S18-55mm f/3.5-5.6 IS'}, 'color': ['#d6d0cc', '#424c59'], 'tags': []}, 'den%20Kursaal%20Stirnfront.jpg': {'exif': {}, 'color': ['#383c25', '#839db5'], 'tags': []}, 'dge%20Hotel%20%26%20Casino.jpg': {'exif': {'ImageWidth': 4000, 'ImageLength': 3000, 'BitsPerSample': '(8, 8, 8)', 'PhotometricInterpretation': 2, 'ImageDescription': 'DCIM\\\\100MEDIA\\\\DJI_0004.JPG', 'Make': 'DJI\\x00\\x00\\x00\\x00\\x00\\x00\\x00\\x00\\x00\\x00\\x00\\x00\\x00\\x00\\x00\\x00\\x00\\x00\\x00\\x00\\x00\\x00\\x00\\x00\\x00\\x00', 'Model': 'FC300C\\x00\\x00\\x00\\x00\\x00\\x00\\x00\\x00\\x00\\x00\\x00\\x00\\x00\\x00\\x00\\x00\\x00\\x00\\x00\\x00\\x00\\x00\\x00', 'Orientation': 1, 'YCbCrPositioning': 1, 'SamplesPerPixel': 3, 'XResolution': '72.0', 'YResolution': '72.0', 'GPSInfo': \"{0: b'\\\\x03\\\\x02\\\\x00\\\\x00', 1: 'N', 2: (36.0, 0.0, 28.3727), 3: 'W', 4: (114.0, 47.0, 5.3875), 5: b'\\\\x00', 6: 35.0}\", 'ResolutionUnit': 2, 'Software': 'Adobe Photoshop CC 2014 (Windows)', 'DateTime': '2015:12:05 12:50:07', 'ExifOffset': 552, 'CompressedBitsPerPixel': '3.118970666666667', 'DateTimeOriginal': '2015:12:05 11:21:53', 'DateTimeDigitized': '2015:12:05 11:21:53', 'ShutterSpeedValue': '11.414', 'ApertureValue': '2.0', 'ExposureBiasValue': '0.0', 'MaxApertureValue': '2.0', 'SubjectDistance': '0.0', 'MeteringMode': 2, 'LightSource': 0, 'Flash': 32, 'FocalLength': '3.61', 'ColorSpace': 1, 'ExifImageWidth': 4000, 'ExifImageHeight': 1152, 'Contrast': 0, 'Saturation': 0, 'Sharpness': 0, 'ExposureIndex': 'nan', 'ExposureTime': '0.000366', 'ExifInteroperabilityOffset': 1144, 'FNumber': '2.8', 'ExposureProgram': 2, 'CustomRendered': 0, 'ISOSpeedRatings': 100, 'ExposureMode': 0, 'WhiteBalance': 0, 'DigitalZoomRatio': 'nan', 'FocalLengthIn35mmFilm': 20, 'SceneCaptureType': 0, 'GainControl': 0, 'SubjectDistanceRange': 0}, 'color': ['#8d99ae', '#554e4b'], 'tags': ['nature']}, 'Diamond%20Jo%20Casino.JPG': {'exif': {'ImageWidth': 7360, 'ImageLength': 4912, 'BitsPerSample': '(8, 8, 8)', 'GPSInfo': \"{0: b'\\\\x02\\\\x03\\\\x00\\\\x00'}\", 'PhotometricInterpretation': 2, 'ResolutionUnit': 2, 'ExifOffset': 356, 'Make': 'NIKON CORPORATION', 'Model': 'NIKON D800', 'Software': 'Adobe Photoshop CS6 (Windows)', 'Orientation': 1, 'DateTime': '2013:01:22 17:51:31', 'YCbCrPositioning': 2, 'SamplesPerPixel': 3, 'YResolution': '300.0', 'XResolution': '300.0', 'Artist': 'DIRK HANSEN       dirksandiego@gmail', 'CompressedBitsPerPixel': '1.0', 'DateTimeOriginal': '2012:09:26 10:21:05', 'DateTimeDigitized': '2012:09:26 10:21:05', 'ShutterSpeedValue': '7.643856', 'ApertureValue': '5.310704', 'ExposureBiasValue': '0.0', 'MaxApertureValue': '4.0', 'MeteringMode': 2, 'LightSource': 0, 'Flash': 16, 'FocalLength': '120.0', 'ColorSpace': 1, 'ExifImageWidth': 4614, 'SceneCaptureType': 0, 'SubsecTime': '1', 'SubsecTimeOriginal': '1', 'SubsecTimeDigitized': '1', 'ExifImageHeight': 2448, 'SubjectDistanceRange': 0, 'SensingMethod': 2, 'ExposureTime': '0.005', 'ExifInteroperabilityOffset': 988, 'FNumber': '6.3', 'ExposureProgram': 3, 'CustomRendered': 0, 'ISOSpeedRatings': 100, 'ExposureMode': 0, 'SensitivityType': 2, 'WhiteBalance': 0, 'DigitalZoomRatio': '1.0', 'FocalLengthIn35mmFilm': 120, 'GainControl': 0, 'Contrast': 0, 'Saturation': 0, 'Sharpness': 0}, 'color': ['#b5bfc9', '#4a4e53'], 'tags': []}, 'did%20et%20Atrium%20Casino.jpg': {'exif': {'ImageWidth': 2560, 'ImageLength': 1920, 'GPSInfo': \"{0: b'\\\\x02\\\\x02\\\\x00\\\\x00', 1: 'N', 2: (43.7107507, 0.0, 0.0), 3: 'W', 4: (1.0558943, 0.0, 0.0), 5: b'\\\\x00', 6: 38.0, 7: (10.0, 4.0, 52.0), 27: b'ASCII\\\\x00\\\\x00\\\\x00GPS', 29: '2012:09:11'}\", 'ExifOffset': 176, 'Make': 'google', 'Model': 'Nexus S', 'Software': 'JRO03E', 'Orientation': 1, 'DateTime': '2012:09:11 12:04:52', 'YCbCrPositioning': 1, 'ShutterSpeedValue': '9.0', 'ApertureValue': '3.0', 'DateTimeOriginal': '2012:09:11 12:04:52', 'DateTimeDigitized': '2012:09:11 12:04:52', 'BrightnessValue': '8.0', 'ExposureBiasValue': 'nan', 'MaxApertureValue': '3.0', 'MeteringMode': 2, 'Flash': 0, 'FocalLength': '3.43', 'ColorSpace': 1, 'ExifImageWidth': 2560, 'SceneCaptureType': 0, 'ExifImageHeight': 1920, 'ExposureTime': '0.0015772870662460567', 'FNumber': '2.6', 'ExposureProgram': 3, 'ISOSpeedRatings': 50, 'ExposureMode': 0, 'WhiteBalance': 0}, 'color': ['#5b5a56', '#eaf1f4'], 'tags': []}, 'DoverDownsSportsbook.jpg': {'exif': {'GPSInfo': \"{0: b'\\\\x02\\\\x02\\\\x00\\\\x00', 1: 'N', 2: (39.0, 11.0, 23.0), 3: 'W', 4: (75.0, 32.0, 8.0), 5: b'\\\\x00', 6: 0.0, 7: (21.0, 55.0, 50.0), 18: 'Unknown', 27: b'ASCII\\\\x00\\\\x00\\\\x00Unknown\\\\x00', 29: '2011:12:17'}\", 'ResolutionUnit': 2, 'ExifOffset': 686, 'Make': 'Motorola\\x00\\x00\\x00\\x00\\x00\\x00\\x00\\x00\\x00\\x00\\x00\\x00\\x00\\x00\\x00\\x00\\x00\\x00\\x00\\x00\\x00\\x00\\x00\\x00\\x00\\x00\\x00\\x00\\x00\\x00\\x00\\x00\\x00\\x00\\x00\\x00\\x00\\x00\\x00\\x00\\x00\\x00\\x00\\x00\\x00\\x00\\x00\\x00\\x00\\x00\\x00\\x00\\x00\\x00\\x00', 'Model': 'DROID2\\x00\\x00\\x00\\x00\\x00\\x00\\x00\\x00\\x00\\x00\\x00\\x00\\x00\\x00\\x00\\x00\\x00\\x00\\x00\\x00\\x00\\x00\\x00\\x00\\x00\\x00\\x00\\x00\\x00\\x00\\x00\\x00\\x00\\x00\\x00\\x00\\x00\\x00\\x00\\x00\\x00\\x00\\x00\\x00\\x00\\x00\\x00\\x00\\x00\\x00\\x00\\x00\\x00\\x00\\x00\\x00\\x00', 'Software': '2.3.3\\x00\\x00\\x00\\x00\\x00\\x00\\x00\\x00\\x00\\x00\\x00\\x00\\x00\\x00\\x00\\x00\\x00\\x00\\x00\\x00\\x00\\x00\\x00\\x00\\x00\\x00\\x00\\x00\\x00\\x00\\x00\\x00\\x00\\x00\\x00\\x00\\x00\\x00\\x00\\x00\\x00\\x00\\x00\\x00\\x00\\x00\\x00\\x00\\x00\\x00\\x00\\x00\\x00\\x00\\x00\\x00\\x00\\x00', 'Orientation': 1, 'DateTime': '2011:12:17 16:55:51', 'YCbCrPositioning': 1, 'XResolution': '300.0', 'YResolution': '300.0', 'CompressedBitsPerPixel': '4.0', 'DateTimeOriginal': '2011:12:17 16:55:51', 'DateTimeDigitized': '2011:12:17 16:55:51', 'ShutterSpeedValue': '3.90625', 'ApertureValue': '2.96875', 'BrightnessValue': '-2.29296875', 'ExposureBiasValue': '0.0', 'MaxApertureValue': '2.96875', 'SubjectDistance': '0.0', 'MeteringMode': 2, 'LightSource': 23, 'Flash': 31, 'FocalLength': '4.0', 'ExifImageWidth': 2592, 'ExifImageHeight': 1456, 'FlashEnergy': '100.0', 'Sharpness': 0, 'SubjectDistanceRange': 0, 'ExposureIndex': '199.0', 'SensingMethod': 2, 'ExposureTime': '0.066667', 'ExifInteroperabilityOffset': 1480, 'FNumber': '2.8', 'ImageUniqueID': '\\x00\\x00\\x00\\x00\\x00\\x00\\x00\\x00\\x00\\x00\\x00\\x00\\x00\\x00\\x00\\x00\\x00\\x00\\x00\\x00\\x00\\x00\\x00\\x00\\x00\\x00\\x00\\x00\\x00\\x00\\x00\\x00\\x00', 'ExposureProgram': 2, 'ISOSpeedRatings': 199, 'ExposureMode': 0, 'WhiteBalance': 0, 'DigitalZoomRatio': '0.0', 'FocalLengthIn35mmFilm': 30, 'SceneCaptureType': 0, 'GainControl': 1, 'ColorSpace': 1, 'Contrast': 0, 'Saturation': 0}, 'color': ['#8c97a3', '#30201a'], 'tags': []}, 'Dunes%20Hotel.jpg': {'exif': {}, 'color': ['#ebe7e2', '#4f534c'], 'tags': ['modern', 'classy']}, 'e%20hotel%20The%20Bellagio.jpg': {'exif': {'GPSInfo': \"{0: b'\\\\x02\\\\x02\\\\x00\\\\x00', 1: 'N', 2: (36.0, 6.824, 0.0), 3: 'W', 4: (115.0, 10.5856, 0.0), 5: b'\\\\x00', 6: 663.0, 7: (23.0, 56.0, 40.0), 8: '0', 16: 'T', 17: 111.46, 18: 'WGS-84', 19: 'N', 20: (36.0, 6.0, 43.441380002005815), 21: 'W', 22: (115.0, 10.0, 16.170312044327794), 29: '2010:05:18'}\", 'ResolutionUnit': 2, 'ExifOffset': 368, 'ImageDescription': 'Paris Las Vegas as seen from the Bellagio on a sunny summer day in the afternoon.', 'Make': 'SONY', 'Model': 'DSLR-A900', 'Software': 'Adobe Photoshop CS5 Windows', 'Orientation': 1, 'DateTime': '2010:05:18 15:56:40', 'YResolution': '360.0', 'Copyright': 'Â©2010 JÃ¼rgen Matern', 'XResolution': '360.0', 'Artist': 'JÃ¼rgen Matern', 'ShutterSpeedValue': '7.643856', 'ApertureValue': '4.970854', 'DateTimeOriginal': '2010:05:18 15:56:40', 'DateTimeDigitized': '2010:05:18 16:56:40', 'BrightnessValue': '6.25', 'ExposureBiasValue': '-0.3', 'MaxApertureValue': '3.0', 'MeteringMode': 2, 'LightSource': 0, 'Flash': 16, 'FocalLength': '45.0', 'ColorSpace': 1, 'ExifImageWidth': 4536, 'FocalLengthIn35mmFilm': 45, 'SceneCaptureType': 0, 'ExifImageHeight': 3914, 'Contrast': 0, 'Saturation': 0, 'Sharpness': 0, 'ExposureTime': '0.005', 'FNumber': '5.6', 'ExposureProgram': 3, 'CustomRendered': 0, 'ISOSpeedRatings': 200, 'ExposureMode': 0, 'SensitivityType': 0, 'WhiteBalance': 0, 'LensSpecification': '(28.0, 70.0, 2.8, 2.8)', 'LensModel': '28-70mm F2.8'}, 'color': ['#b5ab9a', '#3d4c54'], 'tags': ['modern', 'architecture']}, 'egas%20-%20November%202003.jpg': {'exif': {'ResolutionUnit': 2, 'ExifOffset': 260, 'ImageDescription': '                               ', 'Make': 'SONY', 'Model': 'CYBERSHOT', 'Software': 'Adobe Photoshop CS2 Windows', 'Orientation': 1, 'DateTime': '2007:10:07 15:52:03', 'YCbCrPositioning': 2, 'XResolution': '72.0', 'YResolution': '72.0', 'CompressedBitsPerPixel': '2.0', 'DateTimeOriginal': '2003:11:14 20:28:32', 'DateTimeDigitized': '2003:11:14 20:28:32', 'ExposureBiasValue': '0.0', 'MaxApertureValue': '3.0', 'MeteringMode': 3, 'LightSource': 0, 'Flash': 0, 'FocalLength': '8.0', 'ColorSpace': 1, 'ExifImageWidth': 687, 'ExifImageHeight': 963, 'ExposureTime': '0.0008', 'FNumber': '5.6', 'ExposureProgram': 8, 'ISOSpeedRatings': 100}, 'color': ['#5e5d59', '#c7d4d3'], 'tags': ['modern', 'architecture']}, 'Eldorado%20Casino.jpg': {'exif': {'ImageWidth': 1280, 'ImageLength': 720, 'GPSInfo': \"{0: b'\\\\x02\\\\x02\\\\x00\\\\x00', 1: 'N', 2: (36.0, 1.0, 57.3614), 3: 'W', 4: (114.0, 58.0, 59.1906), 5: b'\\\\x00', 6: 590.0, 7: (22.0, 28.0, 1.0), 29: '2017:09:04'}\", 'ResolutionUnit': 2, 'ExifOffset': 238, 'Make': 'samsung', 'Model': 'SM-G530T', 'Software': 'G530TUVS2AQE3', 'Orientation': 6, 'DateTime': '2017:09:04 15:28:09', 'YCbCrPositioning': 1, 'XResolution': '72.0', 'YResolution': '72.0', 'ShutterSpeedValue': '9.58', 'DateTimeOriginal': '2017:09:04 15:28:09', 'DateTimeDigitized': '2017:09:04 15:28:09', 'ApertureValue': '2.28', 'BrightnessValue': '7.81', 'ExposureBiasValue': '0.0', 'MaxApertureValue': '2.28', 'MeteringMode': 2, 'LightSource': 0, 'Flash': 0, 'FocalLength': '3.3', 'ColorSpace': 1, 'ExifImageWidth': 1280, 'ExifImageHeight': 720, 'SensingMethod': 2, 'ExposureTime': '0.001303780964797914', 'ExifInteroperabilityOffset': 2984, 'FNumber': '2.2', 'ImageUniqueID': 'H08QLHL03AY\\x00\\x00\\x00\\x00\\x00\\x00\\x00\\x00\\x00\\x00\\x00\\x00\\x00\\x00\\x00\\x00\\x00\\x00\\x00\\x00\\x00', 'ExposureProgram': 2, 'ISOSpeedRatings': 50, 'ExposureMode': 0, 'WhiteBalance': 0, 'FocalLengthIn35mmFilm': 31, 'SceneCaptureType': 0}, 'color': ['#50493f', '#6bb0d2'], 'tags': []}, 'ePelton%40theBicycleCasino.jpg': {'exif': {}, 'color': ['#483e35', '#c6ac94'], 'tags': []}, 'er%2C%20Hard%20Rock%20Cafe.jpg': {'exif': {'ResolutionUnit': 2, 'ExifOffset': 2368, 'Make': 'SAMSUNG TECHWIN CO., LTD.', 'Model': 'Samsung S85', 'Software': 'Microsoft Windows Photo Gallery 6.0.6001.18000', 'Orientation': 1, 'DateTime': '2009:03:31 22:05:57', 'YCbCrPositioning': 2, 'Copyright': 'Copyright 2007', 'XResolution': '96.0', 'YResolution': '96.0', 'CompressedBitsPerPixel': '2.6025899251302085', 'DateTimeOriginal': '2009:03:08 14:16:41', 'DateTimeDigitized': '2009:03:08 14:16:41', 'ShutterSpeedValue': '9.409', 'ApertureValue': '4.586', 'ExposureBiasValue': '0.0', 'MaxApertureValue': '2.971', 'MeteringMode': 4, 'LightSource': 0, 'Flash': 0, 'FocalLength': '6.3', 'ColorSpace': 1, 'ExifImageWidth': 768, 'SceneCaptureType': 0, 'ExifImageHeight': 1024, 'Contrast': 0, 'Sharpness': 0, 'SensingMethod': 2, 'ExposureTime': '0.0014792899408284023', 'ExifInteroperabilityOffset': 41822, 'FNumber': '4.9', 'ExposureProgram': 2, 'ISOSpeedRatings': 50, 'ExposureMode': 0, 'WhiteBalance': 0, 'DigitalZoomRatio': '1.0', 'FocalLengthIn35mmFilm': 38}, 'color': ['#2d3237', '#bcc3d1'], 'tags': ['modern']}, 'Fa%C3%A7ade%20fleurie.jpg': {'exif': {}, 'color': ['#3d3829', '#b9baaf'], 'tags': []}, 'ffs%20Casino%20-%20Natchez.jpg': {'exif': {'ImageWidth': 1500, 'ImageLength': 836, 'BitsPerSample': '(8, 8, 8, 8)', 'Compression': 1, 'PhotometricInterpretation': 2, 'ResolutionUnit': 2, 'ExifOffset': 256, 'Software': 'Adobe Photoshop CS5 Windows', 'Orientation': 1, 'DateTime': '2013:07:15 11:37:02', 'SamplesPerPixel': 4, 'XResolution': '300.0', 'YResolution': '300.0', 'PlanarConfiguration': 1, 'ColorSpace': 65535, 'ExifImageWidth': 3000, 'ExifImageHeight': 1672}, 'color': ['#2c2732', '#9b9ac4'], 'tags': ['nature', 'modern', 'classy']}, 'FireKeepers.JPG': {'exif': {'ResolutionUnit': 2, 'ExifOffset': 504, 'Make': 'EASTMAN KODAK COMPANY', 'Model': 'KODAK C875 ZOOM DIGITAL CAMERA', 'Orientation': 1, 'YCbCrPositioning': 1, 'XResolution': '480.0', 'YResolution': '480.0', 'ShutterSpeedValue': '9.333333333333334', 'DateTimeOriginal': '2009:09:21 17:30:45', 'DateTimeDigitized': '2009:09:21 17:30:45', 'ApertureValue': '3.0', 'ExposureBiasValue': '0.0', 'MaxApertureValue': '3.0', 'MeteringMode': 5, 'LightSource': 1, 'Flash': 16, 'FocalLength': '7.8', 'ColorSpace': 1, 'ExifImageWidth': 3264, 'ExifInteroperabilityOffset': 12750, 'SceneCaptureType': 1, 'ExifImageHeight': 2448, 'Contrast': 0, 'Saturation': 0, 'Sharpness': 2, 'SubjectDistanceRange': 0, 'ExposureIndex': '64.0', 'SensingMethod': 2, 'ExposureTime': '0.0015625', 'FNumber': '2.8', 'ExposureProgram': 2, 'CustomRendered': 0, 'ISOSpeedRatings': 64, 'ExposureMode': 0, 'WhiteBalance': 1, 'DigitalZoomRatio': '0.0', 'FocalLengthIn35mmFilm': 37, 'GainControl': 0}, 'color': ['#b6d8f2', '#3b4248'], 'tags': []}, 'Flamingohotelyay.jpg': {'exif': {'ResolutionUnit': 2, 'ExifOffset': 338, 'Make': 'EASTMAN KODAK COMPANY', 'Model': 'KODAK EASYSHARE CX7300 DIGITAL CAMERA', 'Software': 'Version 1.0000 ', 'Orientation': 1, 'YCbCrPositioning': 2, 'XResolution': '230.0', 'YResolution': '230.0', 'CompressedBitsPerPixel': '1.65', 'DateTimeOriginal': '2005:08:18 05:58:53', 'DateTimeDigitized': '2005:08:18 05:58:53', 'ShutterSpeedValue': '10.81', 'ApertureValue': '4.33', 'ExposureBiasValue': '0.0', 'MaxApertureValue': '4.33', 'MeteringMode': 2, 'Flash': 24, 'FocalLength': '5.9', 'ColorSpace': 1, 'ExifImageWidth': 2080, 'ExifInteroperabilityOffset': 2518, 'SceneCaptureType': 0, 'ExifImageHeight': 1544, 'Contrast': 0, 'Saturation': 0, 'Sharpness': 0, 'SubjectDistanceRange': 0, 'ExposureIndex': '100.0', 'SensingMethod': 2, 'ExposureTime': '0.000555', 'FNumber': '4.5', 'ExposureProgram': 2, 'CustomRendered': 0, 'ISOSpeedRatings': 100, 'ExposureMode': 0, 'WhiteBalance': 0, 'DigitalZoomRatio': '0.0', 'FocalLengthIn35mmFilm': 37, 'GainControl': 0}, 'color': ['#b5a9a3', '#323246'], 'tags': []}, 'Fremont%20street%201983.jpg': {'exif': {}, 'color': ['#828c8d', '#3a1f15'], 'tags': []}, 'gas%20Excalibur%20P4230727.jpg': {'exif': {'DateTimeOriginal': '2018:04:23 00:33:43', 'Rating': 1, 'ResolutionUnit': 2, 'RatingPercent': 20, 'ExifOffset': 1018, 'ImageDescription': 'OLYMPUS DIGITAL CAMERA         ', 'Make': 'OLYMPUS IMAGING CORP.  ', 'Model': 'SZ-20                  ', 'Software': 'darktable 2.0', 'Orientation': 1, 'DateTime': '2018:05:27 11:58:40', 'YCbCrPositioning': 2, 'XResolution': 300, 'YResolution': 300, 'CompressedBitsPerPixel': '2.0', 'DateTimeDigitized': '2018:04:23 00:33:43', 'ExposureBiasValue': '0.0', 'MaxApertureValue': '3.26', 'MeteringMode': 5, 'LightSource': 0, 'Flash': 16, 'FocalLength': '4.9', 'ColorSpace': 1, 'ExifImageWidth': 4541, 'ExifInteroperabilityOffset': 2658, 'SceneCaptureType': 1, 'ExifImageHeight': 3398, 'Contrast': 0, 'Saturation': 0, 'Sharpness': 0, 'ExposureTime': '0.00125', 'FNumber': '3.3', 'ExposureProgram': 5, 'CustomRendered': 0, 'ISOSpeedRatings': 80, 'ExposureMode': 0, 'WhiteBalance': 0, 'DigitalZoomRatio': '0.0', 'FocalLengthIn35mmFilm': 27, 'GainControl': 0}, 'color': ['#9bbacf', '#4c4f53'], 'tags': ['nature', 'architecture']}, 'gas%20Tropicana%20P4230726.jpg': {'exif': {'DateTimeOriginal': '2018:04:23 00:32:17', 'Rating': 1, 'ResolutionUnit': 2, 'RatingPercent': 20, 'ExifOffset': 1018, 'ImageDescription': 'OLYMPUS DIGITAL CAMERA         ', 'Make': 'OLYMPUS IMAGING CORP.  ', 'Model': 'SZ-20                  ', 'Software': 'darktable 2.0', 'Orientation': 1, 'DateTime': '2018:05:27 12:00:36', 'YCbCrPositioning': 2, 'XResolution': 300, 'YResolution': 300, 'CompressedBitsPerPixel': '2.0', 'DateTimeDigitized': '2018:04:23 00:32:17', 'ExposureBiasValue': '0.0', 'MaxApertureValue': '3.26', 'MeteringMode': 5, 'LightSource': 0, 'Flash': 16, 'FocalLength': '10.1', 'ColorSpace': 1, 'ExifImageWidth': 2392, 'ExifInteroperabilityOffset': 2658, 'SceneCaptureType': 0, 'ExifImageHeight': 3197, 'Contrast': 0, 'Saturation': 0, 'Sharpness': 0, 'ExposureTime': '0.001', 'FNumber': '4.5', 'ExposureProgram': 5, 'CustomRendered': 0, 'ISOSpeedRatings': 80, 'ExposureMode': 0, 'WhiteBalance': 0, 'DigitalZoomRatio': '0.0', 'FocalLengthIn35mmFilm': 57, 'GainControl': 0}, 'color': ['#d3d9d8', '#52718d'], 'tags': ['modern']}, 'Golden%20Nugget%202008.jpg': {'exif': {'ResolutionUnit': 2, 'ExifOffset': 240, 'Make': 'Canon', 'Model': 'Canon EOS DIGITAL REBEL XT', 'Software': 'Adobe Photoshop Elements 5.0 Windows', 'Orientation': 1, 'DateTime': '2008:09:22 20:33:42', 'YCbCrPositioning': 1, 'XResolution': '350.0', 'YResolution': '350.0', 'ShutterSpeedValue': '6.64385986328125', 'DateTimeOriginal': '2008:09:19 23:29:31', 'DateTimeDigitized': '2008:09:19 23:29:31', 'ApertureValue': '3.614715576171875', 'ExposureBiasValue': '0.0', 'Flash': 16, 'FocalLength': '18.0', 'ColorSpace': 1, 'ExifImageWidth': 1000, 'SceneCaptureType': 0, 'FocalPlaneXResolution': '3954.233409610984', 'FocalPlaneYResolution': '3958.762886597938', 'ExifImageHeight': 513, 'FocalPlaneResolutionUnit': 2, 'ExposureTime': '0.01', 'FNumber': '3.5', 'ExposureProgram': 1, 'CustomRendered': 0, 'ISOSpeedRatings': 200, 'ExposureMode': 1, 'WhiteBalance': 0}, 'color': ['#a27957', '#271f1b'], 'tags': []}, 'Golden%20Nugget.jpg': {'exif': {}, 'color': ['#575c60', '#ccd2da'], 'tags': []}, 'GrandCasinoBasel.JPG': {'exif': {'GPSInfo': \"{0: b'\\\\x02\\\\x02\\\\x00\\\\x00'}\", 'ResolutionUnit': 2, 'ExifOffset': 360, 'Make': 'Canon', 'Model': 'Canon EOS 500D', 'YResolution': '72.0', 'Orientation': 1, 'DateTime': '2013:06:08 16:32:18', 'YCbCrPositioning': 2, 'Copyright': '', 'XResolution': '72.0', 'Artist': '', 'ShutterSpeedValue': '7.625', 'DateTimeOriginal': '2013:06:08 16:32:18', 'DateTimeDigitized': '2013:06:08 16:32:18', 'ApertureValue': '6.0', 'ExposureBiasValue': '-1.0', 'MeteringMode': 5, 'Flash': 16, 'FocalLength': '18.0', 'ColorSpace': 1, 'ExifImageWidth': 3456, 'ExifInteroperabilityOffset': 8380, 'FocalPlaneXResolution': '3865.771812080537', 'FocalPlaneYResolution': '3885.328836424958', 'SubsecTime': '04', 'SubsecTimeOriginal': '04', 'SubsecTimeDigitized': '04', 'ExifImageHeight': 2304, 'FocalPlaneResolutionUnit': 2, 'ExposureTime': '0.005', 'FNumber': '8.0', 'ExposureProgram': 2, 'CustomRendered': 0, 'ISOSpeedRatings': 100, 'ExposureMode': 0, 'WhiteBalance': 0, 'SceneCaptureType': 0}, 'color': ['#69453a', '#7993bb'], 'tags': []}, 'h%20Lick%20Springs%20Hotel.jpg': {'exif': {'ResolutionUnit': 2, 'ExifOffset': 196, 'Make': 'Canon', 'Model': 'Canon PowerShot A540', 'Orientation': 1, 'DateTime': '2011:11:05 17:43:04', 'YCbCrPositioning': 1, 'XResolution': '180.0', 'YResolution': '180.0', 'CompressedBitsPerPixel': '5.0', 'DateTimeOriginal': '2011:11:05 17:43:04', 'DateTimeDigitized': '2011:11:05 17:43:04', 'ShutterSpeedValue': '7.3125', 'ApertureValue': '4.0', 'ExposureBiasValue': '0.0', 'MaxApertureValue': '2.75', 'MeteringMode': 5, 'Flash': 88, 'FocalLength': '5.8', 'ColorSpace': 1, 'ExifImageWidth': 2816, 'FocalPlaneXResolution': '12515.555555555555', 'ExifImageHeight': 1584, 'FocalPlaneYResolution': '9372.781065088757', 'FocalPlaneResolutionUnit': 2, 'SensingMethod': 2, 'ExposureTime': '0.00625', 'ExifInteroperabilityOffset': 2824, 'FNumber': '4.0', 'CustomRendered': 0, 'ExposureMode': 0, 'WhiteBalance': 0, 'DigitalZoomRatio': '1.0', 'SceneCaptureType': 0}, 'color': ['#c6e0f6', '#4f544f'], 'tags': ['architecture']}, 'Hard%20rock%20las%20vegas.jpg': {'exif': {'Model': 'KODAK CX6330 ZOOM DIGITAL CAMERA', 'ExifOffset': 118, 'YCbCrPositioning': 1, 'Make': 'EASTMAN KODAK COMPANY', 'ShutterSpeedValue': '9.0', 'DateTimeOriginal': '2005:03:22 09:21:42', 'DateTimeDigitized': '2005:03:22 09:21:42', 'ApertureValue': '5.0', 'ExposureBiasValue': '0.0', 'MaxApertureValue': '2.9', 'MeteringMode': 5, 'LightSource': 0, 'Flash': 24, 'FocalLength': '5.6', 'ColorSpace': 1, 'ExifImageWidth': 2032, 'FocalLengthIn35mmFilm': 37, 'SceneCaptureType': 0, 'ExifImageHeight': 1524, 'Contrast': 0, 'Saturation': 0, 'Sharpness': 0, 'SubjectDistanceRange': 0, 'ExposureIndex': '100.0', 'SensingMethod': 2, 'ExposureTime': '0.002', 'FNumber': '5.6', 'ExposureProgram': 2, 'CustomRendered': 0, 'ExposureMode': 0, 'WhiteBalance': 0, 'DigitalZoomRatio': '0.0', 'GainControl': 0}, 'color': ['#b8c2ce', '#3d3931'], 'tags': []}, 'Hooters%20Casino%20HotelLV.jpg': {'exif': {'ResolutionUnit': 2, 'ExifOffset': 504, 'Make': 'EASTMAN KODAK COMPANY', 'Model': 'KODAK Z612 ZOOM DIGITAL CAMERA', 'Orientation': 1, 'YCbCrPositioning': 1, 'XResolution': '230.0', 'YResolution': '230.0', 'ShutterSpeedValue': '10.0', 'DateTimeOriginal': '2007:08:23 15:50:51', 'DateTimeDigitized': '2007:08:23 15:50:51', 'ApertureValue': '3.4', 'ExposureBiasValue': '0.0', 'MaxApertureValue': '3.4', 'MeteringMode': 5, 'LightSource': 0, 'Flash': 24, 'FocalLength': '14.6', 'ColorSpace': 1, 'ExifImageWidth': 2832, 'ExifInteroperabilityOffset': 11148, 'SceneCaptureType': 0, 'ExifImageHeight': 2128, 'Contrast': 0, 'Saturation': 0, 'Sharpness': 0, 'SubjectDistanceRange': 0, 'ExposureIndex': '80.0', 'SensingMethod': 2, 'ExposureTime': '0.001', 'FNumber': '3.2', 'ExposureProgram': 2, 'CustomRendered': 0, 'ISOSpeedRatings': 80, 'ExposureMode': 0, 'WhiteBalance': 0, 'DigitalZoomRatio': '0.0', 'FocalLengthIn35mmFilm': 87, 'GainControl': 0}, 'color': ['#bcd5e6', '#4b5255'], 'tags': ['nature', 'modern']}, 'Hotel%20argentino.JPG': {'exif': {'ResolutionUnit': 2, 'ExifOffset': 274, 'ImageDescription': '                               ', 'Make': 'NIKON', 'Model': 'COOLPIX P90  ', 'Software': 'COOLPIX P90V1.0                ', 'DateTime': '2013:09:07 22:37:31', 'YCbCrPositioning': 2, 'YResolution': '300.0', 'XResolution': '300.0', 'Artist': 'Picasa', 'CompressedBitsPerPixel': '4.0', 'DateTimeOriginal': '2011:10:31 15:07:00', 'DateTimeDigitized': '2011:10:31 15:07:00', 'ExposureBiasValue': '0.0', 'MaxApertureValue': '3.0', 'MeteringMode': 5, 'LightSource': 9, 'Flash': 16, 'FocalLength': '28.8', 'ColorSpace': 1, 'ExifImageWidth': 1834, 'ExifInteroperabilityOffset': 4474, 'SceneCaptureType': 0, 'ExifImageHeight': 1226, 'Contrast': 0, 'Saturation': 0, 'Sharpness': 0, 'SubjectDistanceRange': 0, 'ExposureTime': '0.003125', 'FNumber': '6.3', 'ImageUniqueID': '8e78ed6faceb21263655342235c67e7b', 'ExposureProgram': 4, 'CustomRendered': 0, 'ISOSpeedRatings': 100, 'ExposureMode': 0, 'WhiteBalance': 1, 'DigitalZoomRatio': '0.0', 'FocalLengthIn35mmFilm': 162, 'GainControl': 1}, 'color': ['#464543', '#c2bdbd'], 'tags': ['nature', 'architecture']}, 'HPIM1957.sized.jpg': {'exif': {}, 'color': ['#e6e4e1', '#6f493e'], 'tags': []}, 'Huesca%20Casino%20817.jpg': {'exif': {'ResolutionUnit': 2, 'ExifOffset': 256, 'Make': 'FUJIFILM ', 'Model': 'X-E1', 'Software': 'RAW FILE CONVERTER EX powered by SILKYPIX 3.2.12.0', 'Orientation': 1, 'DateTime': '2017:01:18 15:08:24', 'YCbCrPositioning': 2, 'Copyright': '    ', 'XResolution': '300.0', 'YResolution': '300.0', 'CompressedBitsPerPixel': '2.0', 'DateTimeOriginal': '2016:05:02 12:02:32', 'DateTimeDigitized': '2016:05:02 12:02:32', 'ShutterSpeedValue': '10.37', 'ApertureValue': '6.3', 'BrightnessValue': '10.75', 'ExposureBiasValue': '0.0', 'MaxApertureValue': '3.0', 'MeteringMode': 3, 'LightSource': 0, 'Flash': 16, 'FocalLength': '18.0', 'ColorSpace': 1, 'ExifImageWidth': 4896, 'ExifImageHeight': 3264, 'FocalPlaneXResolution': '820.0', 'FocalPlaneYResolution': '820.0', 'FocalPlaneResolutionUnit': 3, 'SubjectDistanceRange': 0, 'SensingMethod': 2, 'ExposureTime': '0.0007692307692307692', 'ExifInteroperabilityOffset': 13494, 'FNumber': '9.0', 'ExposureProgram': 3, 'CustomRendered': 1, 'ISOSpeedRatings': 200, 'ExposureMode': 0, 'SensitivityType': 1, 'LensSpecification': '(18.0, 55.0, 2.8, 4.0)', 'LensMake': 'FUJIFILM\\x00\\x00\\x00\\x00', 'LensModel': 'XF18-55mmF2.8-4 R LM OIS\\x00\\x00\\x00\\x00\\x00\\x00\\x00\\x00\\x00\\x00\\x00\\x00\\x00\\x00\\x00\\x00\\x00\\x00\\x00\\x00\\x00\\x00\\x00\\x00\\x00\\x00\\x00\\x00\\x00\\x00\\x00\\x00\\x00\\x00\\x00\\x00\\x00\\x00\\x00', 'LensSerialNumber': '24A55054\\x00\\x00', 'FocalLengthIn35mmFilm': 27, 'SceneCaptureType': 0}, 'color': ['#3b4652', '#b0afa8'], 'tags': ['architecture']}, 'ino%20de%20Charlevoix%2001.jpg': {'exif': {'ResolutionUnit': 2, 'ExifOffset': 218, 'ImageDescription': '          ', 'Make': 'NIKON', 'Model': 'E4100', 'Software': 'Picasa 3.0', 'Orientation': 0, 'DateTime': '2006:06:04 09:21:28', 'YCbCrPositioning': 2, 'XResolution': '300.0', 'YResolution': '300.0', 'CompressedBitsPerPixel': '2.0', 'DateTimeOriginal': '2006:06:04 09:21:28', 'DateTimeDigitized': '2006:06:04 09:21:28', 'ExposureBiasValue': '0.0', 'MaxApertureValue': '3.0', 'MeteringMode': 5, 'LightSource': 0, 'Flash': 24, 'FocalLength': '5.8', 'ColorSpace': 65535, 'ExifImageWidth': 2288, 'ExifInteroperabilityOffset': 2092, 'SceneCaptureType': 0, 'ExifImageHeight': 1531, 'Contrast': 0, 'Saturation': 0, 'Sharpness': 0, 'SubjectDistanceRange': 0, 'ExposureTime': '0.004721435316336166', 'FNumber': '5.6', 'ImageUniqueID': '51d9b1b98ef016b48c4c76f7fbd037f0', 'ExposureProgram': 2, 'CustomRendered': 0, 'ISOSpeedRatings': 50, 'ExposureMode': 0, 'WhiteBalance': 0, 'DigitalZoomRatio': '0.0', 'FocalLengthIn35mmFilm': 35, 'GainControl': 0}, 'color': ['#c2d8e1', '#606d42'], 'tags': []}, 'ino%20mauresque%20arcachon.jpg': {'exif': {}, 'color': ['#4b4c40', '#d2d3c8'], 'tags': []}, 'Interlaken%20Kursaal%2009.jpg': {'exif': {'ResolutionUnit': 2, 'ExifOffset': 2294, 'Make': 'NIKON CORPORATION', 'Model': 'NIKON D40X', 'Software': 'Ver.1.00 ', 'Orientation': 1, 'DateTime': '2011:07:22 17:55:46', 'YCbCrPositioning': 2, 'XResolution': '300.0', 'YResolution': '300.0', 'CompressedBitsPerPixel': '4.0', 'DateTimeOriginal': '2011:07:22 17:55:46', 'DateTimeDigitized': '2011:07:22 17:55:46', 'ExposureBiasValue': '0.0', 'MaxApertureValue': '3.6', 'MeteringMode': 5, 'LightSource': 0, 'Flash': 0, 'FocalLength': '18.0', 'ColorSpace': 1, 'ExifImageWidth': 3872, 'ExifInteroperabilityOffset': 32858, 'SceneCaptureType': 0, 'SubsecTime': '40', 'SubsecTimeOriginal': '40', 'SubsecTimeDigitized': '40', 'ExifImageHeight': 2592, 'SubjectDistanceRange': 0, 'SensingMethod': 2, 'ExposureTime': '0.01', 'FNumber': '5.0', 'ExposureProgram': 0, 'CustomRendered': 0, 'ISOSpeedRatings': 200, 'ExposureMode': 0, 'WhiteBalance': 0, 'DigitalZoomRatio': '1.0', 'FocalLengthIn35mmFilm': 27, 'GainControl': 0, 'Contrast': 0, 'Saturation': 0, 'Sharpness': 0}, 'color': ['#3d4d43', '#9eb981'], 'tags': ['nature']}, 'is%2C%20Duisburg%2C%202012.JPG': {'exif': {'GPSInfo': \"{0: b'\\\\x02\\\\x02\\\\x00\\\\x00', 1: 'N', 2: (51.0, 25.0, 55.00037993920973), 3: 'E', 4: (6.0, 45.0, 37.794347974123255), 5: b'\\\\x00', 6: 36.0, 7: (15.0, 16.0, 40.0), 18: 'WGS-84', 29: '2012:12:02'}\", 'ResolutionUnit': 2, 'ExifOffset': 292, 'Make': 'Canon', 'Model': 'Canon EOS 600D', 'YResolution': '72.0', 'Orientation': 1, 'DateTime': '2012:12:02 16:16:40', 'YCbCrPositioning': 2, 'Copyright': '2012 - BlackIceNRW - Wikipedia - Wikimedia Commons', 'XResolution': '72.0', 'Artist': 'BlackIceNRW - Wikipedia', 'ShutterSpeedValue': '6.0', 'DateTimeOriginal': '2012:12:02 16:16:40', 'DateTimeDigitized': '2012:12:02 16:16:40', 'ApertureValue': '4.0', 'ExposureBiasValue': '0.0', 'MeteringMode': 5, 'Flash': 9, 'FocalLength': '18.0', 'ColorSpace': 1, 'ExifImageWidth': 5184, 'ExifInteroperabilityOffset': 8186, 'FocalPlaneXResolution': '5728.176795580111', 'FocalPlaneYResolution': '5808.403361344538', 'SubsecTime': '00', 'SubsecTimeOriginal': '00', 'SubsecTimeDigitized': '00', 'ExifImageHeight': 3456, 'FocalPlaneResolutionUnit': 2, 'ExposureTime': '0.016666666666666666', 'FNumber': '4.0', 'ExposureProgram': 2, 'CustomRendered': 0, 'ISOSpeedRatings': 400, 'ExposureMode': 0, 'SensitivityType': 2, 'WhiteBalance': 0, 'RecommendedExposureIndex': 400, 'CameraOwnerName': '\\x00\\x00\\x00\\x00\\x00\\x00\\x00\\x00\\x00\\x00\\x00\\x00\\x00\\x00\\x00\\x00\\x00\\x00\\x00\\x00\\x00\\x00\\x00\\x00\\x00\\x00\\x00\\x00\\x00\\x00\\x00', 'BodySerialNumber': '073023033031', 'LensSpecification': '(18.0, 55.0, nan, nan)', 'LensModel': 'EF-S18-55mm f/3.5-5.6 IS II\\x00\\x00\\x00\\x00\\x00\\x00\\x00\\x00\\x00\\x00\\x00\\x00\\x00\\x00\\x00\\x00\\x00\\x00\\x00\\x00\\x00\\x00\\x00\\x00\\x00\\x00\\x00\\x00\\x00\\x00\\x00\\x00\\x00\\x00\\x00\\x00\\x00\\x00\\x00\\x00\\x00\\x00', 'LensSerialNumber': '0000038f03\\x00', 'SceneCaptureType': 0}, 'color': ['#565441', '#b8c0c8'], 'tags': ['modern']}, 'ity%20of%20Dreams%20200907.jpg': {'exif': {'ResolutionUnit': 2, 'ExifOffset': 190, 'Make': 'Canon', 'Model': 'Canon DIGITAL IXUS 860 IS', 'Orientation': 1, 'DateTime': '2009:07:07 17:38:07', 'YCbCrPositioning': 1, 'XResolution': '180.0', 'YResolution': '180.0', 'CompressedBitsPerPixel': '5.0', 'DateTimeOriginal': '2009:07:07 17:38:07', 'DateTimeDigitized': '2009:07:07 17:38:07', 'ShutterSpeedValue': '7.3125', 'ApertureValue': '6.0', 'ExposureBiasValue': '0.0', 'MaxApertureValue': '2.96875', 'MeteringMode': 5, 'Flash': 16, 'FocalLength': '4.6', 'ColorSpace': 1, 'ExifImageWidth': 1600, 'FocalPlaneXResolution': '7111.111111111111', 'ExifImageHeight': 1200, 'FocalPlaneYResolution': '7100.591715976331', 'FocalPlaneResolutionUnit': 2, 'SensingMethod': 2, 'ExposureTime': '0.00625', 'ExifInteroperabilityOffset': 3380, 'FNumber': '8.0', 'CustomRendered': 0, 'ISOSpeedRatings': 100, 'ExposureMode': 0, 'WhiteBalance': 0, 'DigitalZoomRatio': '1.0', 'SceneCaptureType': 0}, 'color': ['#333e43', '#9bc5ef'], 'tags': ['nature', 'modern']}, 'JACKCincinnatiCasio%202017.jpg': {'exif': {'ImageWidth': 5184, 'ImageLength': 3456, 'BitsPerSample': '(16, 16, 16)', 'Compression': 1, 'PhotometricInterpretation': 2, 'ResolutionUnit': 2, 'ExifOffset': 312, 'Make': 'Canon', 'Model': 'Canon EOS REBEL T5', 'Software': 'Adobe Photoshop CC 2017 (Macintosh)', 'Orientation': 1, 'DateTime': '2017:10:02 09:50:50', 'SamplesPerPixel': 3, 'XResolution': '100.0', 'YResolution': '100.0', 'PlanarConfiguration': 1, 'ShutterSpeedValue': '6.965784', 'ApertureValue': '6.0', 'DateTimeOriginal': '2000:01:01 00:00:21', 'DateTimeDigitized': '2000:01:01 00:00:21', 'ExposureBiasValue': '0.0', 'MaxApertureValue': '3.625', 'MeteringMode': 5, 'ColorSpace': 65535, 'Flash': 16, 'FocalLength': '18.0', 'ExifImageWidth': 540, 'ExifImageHeight': 360, 'SceneCaptureType': 0, 'FocalPlaneXResolution': '5728.176795580111', 'FocalPlaneYResolution': '5808.403361344538', 'FocalPlaneResolutionUnit': 2, 'SubsecTimeOriginal': '79', 'ExposureTime': '0.008', 'FNumber': '8.0', 'ExposureProgram': 1, 'CustomRendered': 0, 'ISOSpeedRatings': 3200, 'ExposureMode': 1, 'SensitivityType': 2, 'WhiteBalance': 1, 'RecommendedExposureIndex': 3200, 'BodySerialNumber': '232074079812', 'LensSpecification': '(18.0, 55.0, nan, nan)', 'LensModel': 'EF-S18-55mm f/3.5-5.6 IS II', 'LensSerialNumber': '00002f1c75'}, 'color': ['#c2a774', '#2f2b3e'], 'tags': ['nature', 'classy']}, 'Jerry%27sNuggetSunset.jpg': {'exif': {'ResolutionUnit': 2, 'ExifOffset': 2374, 'ProcessingSoftware': 'Windows Photo Editor 10.0.10011.16384', 'Make': 'Canon', 'Model': 'Canon EOS 60D', 'Software': 'Windows Photo Editor 10.0.10011.16384', 'Orientation': 1, 'DateTime': '2017:12:26 15:43:06', 'YCbCrPositioning': 2, 'YResolution': '72.0', 'Copyright': '', 'XResolution': '72.0', 'Artist': '', 'ShutterSpeedValue': '6.375', 'DateTimeOriginal': '2017:03:05 04:31:07', 'DateTimeDigitized': '2017:03:05 04:31:07', 'ApertureValue': '4.625', 'ExposureBiasValue': '0.0', 'MeteringMode': 5, 'Flash': 16, 'FocalLength': '59.0', 'ColorSpace': 1, 'ExifImageWidth': 3456, 'ExifInteroperabilityOffset': 12968, 'FocalPlaneXResolution': '5728.176795580111', 'FocalPlaneYResolution': '5808.403361344538', 'SubsecTime': '93', 'SubsecTimeOriginal': '93', 'SubsecTimeDigitized': '93', 'ExifImageHeight': 5184, 'FocalPlaneResolutionUnit': 2, 'ExposureTime': '0.0125', 'FNumber': '5.0', 'ExposureProgram': 6, 'CustomRendered': 0, 'ISOSpeedRatings': 3200, 'ExposureMode': 0, 'SensitivityType': 2, 'WhiteBalance': 0, 'RecommendedExposureIndex': 3200, 'CameraOwnerName': '\\x00\\x00\\x00\\x00\\x00\\x00\\x00\\x00\\x00\\x00\\x00\\x00\\x00\\x00\\x00\\x00\\x00\\x00\\x00\\x00\\x00\\x00\\x00\\x00\\x00\\x00\\x00\\x00\\x00\\x00\\x00', 'BodySerialNumber': '-211375064', 'LensSpecification': '(18.0, 270.0, nan, nan)', 'LensModel': '18-270mm\\x00\\x00\\x00\\x00\\x00\\x00\\x00\\x00\\x00\\x00\\x00\\x00\\x00\\x00\\x00\\x00\\x00\\x00\\x00\\x00\\x00\\x00\\x00\\x00\\x00\\x00\\x00\\x00\\x00\\x00\\x00\\x00\\x00\\x00\\x00\\x00\\x00\\x00\\x00\\x00\\x00\\x00\\x00\\x00\\x00\\x00\\x00\\x00\\x00\\x00\\x00\\x00\\x00\\x00\\x00\\x00\\x00\\x00\\x00\\x00\\x00', 'LensSerialNumber': '0000000000\\x00', 'SceneCaptureType': 0}, 'color': ['#1e1410', '#505870'], 'tags': ['classy']}, 'JerrysTower.jpg': {'exif': {}, 'color': ['#69a0be', '#504435'], 'tags': ['classy']}, 'k%20Casino%20-%20panoramio.jpg': {'exif': {'ResolutionUnit': 2, 'ExifOffset': 986, 'ImageDescription': 'OLYMPUS DIGITAL CAMERA         ', 'Make': 'OLYMPUS IMAGING CORP.  ', 'Model': 'u5010,S5010            ', 'Software': 'FinePixViewer Ver.5.5', 'Orientation': 1, 'DateTime': '2010:10:02 15:34:23', 'YCbCrPositioning': 2, 'XResolution': '72.0', 'YResolution': '72.0', 'DateTimeOriginal': '2010:09:30 14:18:22', 'DateTimeDigitized': '2010:09:30 14:18:22', 'ExposureBiasValue': '0.0', 'MaxApertureValue': '2.97', 'MeteringMode': 5, 'LightSource': 0, 'Flash': 16, 'FocalLength': '15.4', 'ColorSpace': 1, 'ExifImageWidth': 4288, 'ExifInteroperabilityOffset': 1698, 'SceneCaptureType': 0, 'ExifImageHeight': 3216, 'Contrast': 0, 'Saturation': 0, 'Sharpness': 0, 'ExposureTime': '0.004', 'FNumber': '4.9', 'ExposureProgram': 2, 'CustomRendered': 0, 'ISOSpeedRatings': 160, 'ExposureMode': 0, 'WhiteBalance': 0, 'DigitalZoomRatio': '0.0', 'FocalLengthIn35mmFilm': 87, 'GainControl': 1}, 'color': ['#77b7c0', '#515d34'], 'tags': ['nature']}, 'ke%20Casino%20Nevada%20USA.jpg': {'exif': {'Software': 'Adobe Photoshop Elements 2.0', 'DateTime': '2003:11:16 16:07:15', 'Make': 'Nikon', 'ExifOffset': 118, 'ColorSpace': 65535, 'ExifImageWidth': 3930, 'ExifImageHeight': 2498}, 'color': ['#909086', '#353526'], 'tags': ['nature', 'architecture']}, 'Kurpark-hg-spielbank-005.jpg': {'exif': {'ResolutionUnit': 2, 'ExifOffset': 420, 'Make': 'Panasonic', 'Model': 'DMC-FZ50', 'Software': 'Ver.1.0  ', 'Orientation': 1, 'DateTime': '2009:08:26 13:42:03', 'YCbCrPositioning': 2, 'XResolution': '72.0', 'YResolution': '72.0', 'CompressedBitsPerPixel': '4.0', 'DateTimeOriginal': '2009:08:26 13:42:03', 'DateTimeDigitized': '2009:08:26 13:42:03', 'ExposureBiasValue': '0.0', 'MaxApertureValue': '3.0', 'MeteringMode': 5, 'LightSource': 0, 'Flash': 16, 'FocalLength': '7.4', 'ColorSpace': 1, 'ExifImageWidth': 3648, 'ExifInteroperabilityOffset': 7692, 'FocalLengthIn35mmFilm': 35, 'SceneCaptureType': 0, 'ExifImageHeight': 2736, 'Contrast': 0, 'Saturation': 0, 'Sharpness': 0, 'SensingMethod': 2, 'ExposureTime': '0.004', 'FNumber': '5.0', 'ExposureProgram': 2, 'CustomRendered': 0, 'ISOSpeedRatings': 100, 'ExposureMode': 0, 'WhiteBalance': 0, 'DigitalZoomRatio': '0.0', 'GainControl': 0}, 'color': ['#3b3d32', '#b7bab2'], 'tags': []}, 'kwesasne%20Mohawk%20Casino.jpg': {'exif': {'ResolutionUnit': 2, 'ExifOffset': 202, 'Make': 'Canon', 'Model': 'Canon EOS 60D', 'YResolution': '72.0', 'Orientation': 1, 'DateTime': '2017:12:07 10:04:15', 'YCbCrPositioning': 2, 'Copyright': '', 'XResolution': '72.0', 'Artist': '', 'ShutterSpeedValue': '9.375', 'DateTimeOriginal': '2014:08:22 08:10:17', 'DateTimeDigitized': '2014:08:22 08:10:17', 'ApertureValue': '3.375', 'ExposureBiasValue': '0.0', 'MeteringMode': 5, 'Flash': 16, 'FocalLength': '55.0', 'ColorSpace': 1, 'ExifImageWidth': 5048, 'ExifInteroperabilityOffset': 8106, 'FocalPlaneXResolution': '5728.176795580111', 'FocalPlaneYResolution': '5808.403361344538', 'SubsecTime': '35', 'SubsecTimeOriginal': '35', 'SubsecTimeDigitized': '35', 'ExifImageHeight': 3032, 'FocalPlaneResolutionUnit': 2, 'ExposureTime': '0.0015625', 'FNumber': '3.2', 'ExposureProgram': 6, 'CustomRendered': 0, 'ISOSpeedRatings': 100, 'ExposureMode': 0, 'WhiteBalance': 0, 'SceneCaptureType': 0}, 'color': ['#d9e1eb', '#292e25'], 'tags': []}, 'La%20Mediterranee.jpg': {'exif': {'GPSInfo': \"{0: b'\\\\x02\\\\x03\\\\x00\\\\x00'}\", 'ResolutionUnit': 2, 'ExifOffset': 264, 'ImageDescription': '                               ', 'Make': 'Canon', 'Model': 'Canon PowerShot G16', 'YResolution': '180.0', 'Orientation': 1, 'DateTime': '2016:08:14 20:19:16', 'YCbCrPositioning': 2, 'Copyright': '', 'XResolution': '180.0', 'Artist': '', 'CompressedBitsPerPixel': '3.0', 'DateTimeOriginal': '2016:08:14 20:19:16', 'DateTimeDigitized': '2016:08:14 20:19:16', 'ShutterSpeedValue': '5.90625', 'ApertureValue': '1.6875', 'ExposureBiasValue': '0.0', 'MaxApertureValue': '1.6875', 'MeteringMode': 5, 'Flash': 16, 'FocalLength': '6.1', 'ColorSpace': 1, 'ExifImageWidth': 4000, 'FocalPlaneXResolution': '13745.704467353951', 'ExifImageHeight': 3000, 'FocalPlaneYResolution': '13698.630136986301', 'FocalPlaneResolutionUnit': 2, 'SensingMethod': 2, 'ExposureTime': '0.016666666666666666', 'ExifInteroperabilityOffset': 5036, 'FNumber': '1.8', 'CustomRendered': 0, 'ISOSpeedRatings': 640, 'ExposureMode': 0, 'SensitivityType': 4, 'WhiteBalance': 0, 'CameraOwnerName': '', 'DigitalZoomRatio': '1.0', 'SceneCaptureType': 0}, 'color': ['#3e5572', '#b0ad9e'], 'tags': ['nature', 'classy', 'architecture']}, 'land%20Hotel%20Las%20Vegas.jpg': {'exif': {'ResolutionUnit': 2, 'ExifOffset': 228, 'Make': 'Canon', 'Model': 'Canon DIGITAL IXUS 50', 'Software': 'Adobe Photoshop CS Windows', 'Orientation': 1, 'DateTime': '2006:11:09 21:10:55', 'YCbCrPositioning': 1, 'XResolution': '180.0', 'YResolution': '180.0', 'CompressedBitsPerPixel': '5.0', 'DateTimeOriginal': '2006:09:11 23:44:45', 'DateTimeDigitized': '2006:09:11 23:44:45', 'ShutterSpeedValue': '7.96875', 'ApertureValue': '6.0', 'ExposureBiasValue': '0.0', 'MaxApertureValue': '4.0', 'MeteringMode': 5, 'Flash': 24, 'FocalLength': '12.12', 'ColorSpace': 1, 'ExifImageWidth': 1924, 'FocalPlaneXResolution': '11520.0', 'ExifImageHeight': 1561, 'FocalPlaneYResolution': '11571.42857142857', 'FocalPlaneResolutionUnit': 2, 'SensingMethod': 2, 'ExposureTime': '0.004', 'ExifInteroperabilityOffset': 988, 'FNumber': '8.0', 'CustomRendered': 0, 'ExposureMode': 0, 'WhiteBalance': 0, 'DigitalZoomRatio': '1.0', 'SceneCaptureType': 0}, 'color': ['#3f3b34', '#96a3b5'], 'tags': []}, 'Las%20vegas%20club-edit1.jpg': {'exif': {'ResolutionUnit': 2, 'ExifOffset': 2300, 'Make': 'Canon', 'Model': 'Canon PowerShot A540', 'Software': 'Adobe Photoshop CS3 Macintosh', 'Orientation': 1, 'DateTime': '2008:12:04 14:42:21', 'YCbCrPositioning': 1, 'XResolution': '180.0', 'YResolution': '180.0', 'CompressedBitsPerPixel': '5.0', 'DateTimeOriginal': '2008:07:01 19:08:09', 'DateTimeDigitized': '2008:07:01 19:08:09', 'ShutterSpeedValue': '7.65625', 'ApertureValue': '4.0', 'ExposureBiasValue': '-0.3333333333333333', 'MaxApertureValue': '2.75', 'MeteringMode': 5, 'Flash': 80, 'FocalLength': '5.8', 'ColorSpace': 1, 'ExifImageWidth': 1600, 'FocalPlaneXResolution': '10097.777777777777', 'ExifImageHeight': 1200, 'FocalPlaneYResolution': '10082.84023668639', 'FocalPlaneResolutionUnit': 2, 'SensingMethod': 2, 'ExposureTime': '0.005', 'ExifInteroperabilityOffset': 5144, 'FNumber': '4.0', 'CustomRendered': 0, 'ExposureMode': 1, 'WhiteBalance': 0, 'DigitalZoomRatio': '1.0', 'SceneCaptureType': 1}, 'color': ['#4a4640', '#a5b5bd'], 'tags': ['classy', 'architecture']}, 'Las%20Vegas%2C%20Nevada%29.jpg': {'exif': {'ResolutionUnit': 2, 'ExifOffset': 218, 'YResolution': '72.0', 'Software': 'Photos 3.0', 'Orientation': 1, 'DateTime': '2018:10:18 16:01:38', 'Copyright': 'Attribution-ShareAlike (CC BY-SA) \\n', 'XResolution': '72.0', 'Artist': 'Raul Jusinto', 'ShutterSpeedValue': '11.55218876125427', 'DateTimeOriginal': '2018:10:18 16:01:38', 'ApertureValue': '1.695993816823393', 'BrightnessValue': '10.845281862745098', 'ExposureBiasValue': '0.0', 'MeteringMode': 3, 'ColorSpace': 65535, 'Flash': 16, 'FocalLength': '4.0', 'ExifImageWidth': 4032, 'ExifImageHeight': 3024, 'DigitalZoomRatio': '2.2072992700729928', 'FocalLengthIn35mmFilm': 62, 'SceneCaptureType': 0, 'SensingMethod': 2, 'ExposureTime': '0.000333000333000333', 'FNumber': '1.8', 'ExposureProgram': 2, 'ISOSpeedRatings': 20, 'ExposureMode': 0, 'WhiteBalance': 0, 'LensSpecification': '(3.99, 3.99, 1.8, 1.8)', 'LensMake': 'Apple', 'LensModel': 'iPhone 8 back camera 3.99mm f/1.8'}, 'color': ['#1b1b22', '#838ea6'], 'tags': ['modern']}, 'LasVegas-MGMgrand.jpg': {'exif': {'CustomRendered': 0, 'ExposureMode': 1, 'WhiteBalance': 1, 'SceneCaptureType': 0, 'ResolutionUnit': 2, 'ExifOffset': 264, 'Make': 'Canon', 'Model': 'Canon EOS 10D', 'Software': 'Adobe Photoshop Album 2.0', 'DateTime': '2004:10:10 19:07:32', 'YCbCrPositioning': 1, 'XResolution': '133.25', 'YResolution': '133.25', 'ShutterSpeedValue': '-0.5849456787109375', 'DateTimeOriginal': '2003:12:26 23:31:03', 'DateTimeDigitized': '2003:12:26 23:31:03', 'ApertureValue': '6.9188690185546875', 'ExposureBiasValue': '0.0', 'ColorSpace': 65535, 'Flash': 0, 'FocalLength': '40.0', 'ExifImageWidth': 800, 'ExifImageHeight': 533, 'FocalPlaneXResolution': '3443.946188340807', 'FocalPlaneYResolution': '3442.016806722689', 'FocalPlaneResolutionUnit': 2, 'ExposureTime': '1.5', 'FNumber': '11.0', 'ISOSpeedRatings': 400}, 'color': ['#1a2511', '#ad8c71'], 'tags': ['modern', 'classy']}, 'ld%20Mountain%20Casino%201.jpg': {'exif': {}, 'color': ['#f3f3f5', '#826e57'], 'tags': []}, 'Leamy%20Casino.JPG': {'exif': {'ResolutionUnit': 2, 'ExifOffset': 543, 'ImageDescription': 'OLYMPUS DIGITAL CAMERA         ', 'Make': 'OLYMPUS CORPORATION    ', 'Model': 'u10D,S300D,u300D', 'Software': '22-1014                        ', 'Orientation': 1, 'DateTime': '2005:10:20 14:49:23', 'YCbCrPositioning': 2, 'XResolution': '144.0', 'YResolution': '144.0', 'DateTimeOriginal': '2005:10:20 14:49:23', 'DateTimeDigitized': '2005:10:20 14:49:23', 'ExposureBiasValue': '0.0', 'MaxApertureValue': '3.26', 'MeteringMode': 5, 'LightSource': 0, 'Flash': 24, 'FocalLength': '5.8', 'ColorSpace': 1, 'ExifImageWidth': 2048, 'SceneCaptureType': 0, 'GainControl': 0, 'ExifImageHeight': 1536, 'Contrast': 0, 'Saturation': 0, 'Sharpness': 0, 'ExposureTime': '0.016666666666666666', 'ExifInteroperabilityOffset': 1892, 'FNumber': '8.8', 'ExposureProgram': 2, 'CustomRendered': 0, 'ISOSpeedRatings': 80, 'ExposureMode': 0, 'WhiteBalance': 0, 'DigitalZoomRatio': '1.0'}, 'color': ['#c6cddd', '#5b5e6c'], 'tags': ['architecture']}, 'Little%20Six%20Casino.jpg': {'exif': {'ImageWidth': 3072, 'ImageLength': 2048, 'BitsPerSample': '(8, 8, 8)', 'Compression': 5, 'PhotometricInterpretation': 2, 'ResolutionUnit': 2, 'ExifOffset': 312, 'Make': 'Canon', 'Model': 'Canon EOS DIGITAL REBEL', 'Software': 'Adobe Photoshop CS6 (Macintosh)', 'Orientation': 1, 'DateTime': '2013:10:23 15:54:05', 'SamplesPerPixel': 3, 'XResolution': '72.0', 'YResolution': '72.0', 'PlanarConfiguration': 1, 'CompressedBitsPerPixel': '3.0', 'DateTimeOriginal': '2006:06:08 20:10:59', 'DateTimeDigitized': '2006:06:08 20:10:59', 'ShutterSpeedValue': '-0.9999847412109375', 'ApertureValue': '6.0', 'ExposureBiasValue': '0.0', 'MaxApertureValue': '4.33984375', 'MeteringMode': 1, 'Flash': 0, 'FocalLength': '34.0', 'ColorSpace': 1, 'ExifImageWidth': 800, 'FocalPlaneXResolution': '3443.946188340807', 'ExifImageHeight': 533, 'FocalPlaneYResolution': '3442.016806722689', 'FocalPlaneResolutionUnit': 2, 'SensingMethod': 2, 'ExposureTime': '2.0', 'ExifInteroperabilityOffset': 1064, 'FNumber': '8.0', 'CustomRendered': 0, 'ISOSpeedRatings': 100, 'ExposureMode': 1, 'WhiteBalance': 1, 'SceneCaptureType': 0}, 'color': ['#075eaf', '#6b533e'], 'tags': ['nature', 'modern', 'classy']}, 'London%20Hippodrome%202011.jpg': {'exif': {'ResolutionUnit': 2, 'ExifOffset': 196, 'Make': 'NIKON CORPORATION', 'Model': 'NIKON D90', 'Software': 'Ver.1.00', 'DateTime': '2011:06:15 14:36:09', 'YCbCrPositioning': 1, 'XResolution': '300.0', 'YResolution': '300.0', 'ColorSpace': 1, 'DateTimeOriginal': '2011:06:15 14:36:09', 'DateTimeDigitized': '2011:06:15 14:36:09', 'ExposureBiasValue': '0.0', 'MaxApertureValue': '3.614709851551957', 'MeteringMode': 5, 'LightSource': 0, 'Flash': 24, 'FocalLength': '18.0', 'ExifImageWidth': 4288, 'DigitalZoomRatio': '1.0', 'FocalLengthIn35mmFilm': 27, 'SceneCaptureType': 0, 'ExifImageHeight': 2848, 'Contrast': 0, 'Saturation': 0, 'Sharpness': 0, 'SubjectDistanceRange': 0, 'SensingMethod': 2, 'ExposureTime': '0.005', 'FNumber': '7.1', 'ExposureProgram': 0, 'CustomRendered': 0, 'ISOSpeedRatings': 200, 'ExposureMode': 0, 'WhiteBalance': 0, 'GainControl': 0}, 'color': ['#58534d', '#f2f9fb'], 'tags': ['architecture']}, 'M-408116720.jpg': {'exif': {'CustomRendered': 0, 'ExposureMode': 0, 'WhiteBalance': 0, 'SceneCaptureType': 0, 'ResolutionUnit': 2, 'ExifOffset': 224, 'Make': 'Canon', 'Model': 'Canon EOS 350D DIGITAL', 'DateTime': '2006:07:03 07:47:50', 'YCbCrPositioning': 2, 'XResolution': '72.0', 'YResolution': '72.0', 'ShutterSpeedValue': '6.321929931640625', 'DateTimeOriginal': '2006:07:03 07:47:50', 'DateTimeDigitized': '2006:07:03 07:47:50', 'ApertureValue': '4.970855712890625', 'ExposureBiasValue': '0.0', 'MeteringMode': 5, 'Flash': 16, 'FocalLength': '18.0', 'ColorSpace': 1, 'ExifImageWidth': 2304, 'FocalPlaneXResolution': '3958.762886597938', 'FocalPlaneYResolution': '3954.233409610984', 'ExifImageHeight': 3456, 'FocalPlaneResolutionUnit': 2, 'ExposureTime': '0.0125', 'FNumber': '5.6', 'ExposureProgram': 2, 'ISOSpeedRatings': 400}, 'color': ['#1c0902', '#e4a46b'], 'tags': ['classy']}, 'Marinalarge.jpg': {'exif': {}, 'color': ['#7ca5c3', '#555449'], 'tags': []}, 'Mirage%20Volcano.jpg': {'exif': {'ImageWidth': 10500, 'ImageLength': 7001, 'BitsPerSample': '(8, 8, 8)', 'Compression': 1, 'PhotometricInterpretation': 2, 'ResolutionUnit': 2, 'ExifOffset': 308, 'Make': 'Canon', 'Model': 'Canon EOS-1Ds Mark II', 'Software': 'Adobe Photoshop CS2 Macintosh', 'Orientation': 1, 'DateTime': '2008:12:30 12:44:16', 'SamplesPerPixel': 3, 'XResolution': '200.0', 'YResolution': '200.0', 'PlanarConfiguration': 1, 'ShutterSpeedValue': '2.321928', 'ApertureValue': '6.33985', 'DateTimeOriginal': '2008:12:03 20:26:41', 'DateTimeDigitized': '2008:12:03 20:26:41', 'ExposureBiasValue': '0.0', 'MaxApertureValue': '4.0', 'MeteringMode': 5, 'ColorSpace': 65535, 'Flash': 16, 'FocalLength': '26.0', 'ExifImageWidth': 2000, 'ExifImageHeight': 1334, 'SceneCaptureType': 0, 'FocalPlaneXResolution': '3526.760563380282', 'FocalPlaneYResolution': '3528.042328042328', 'FocalPlaneResolutionUnit': 2, 'ExposureTime': '0.2', 'FNumber': '9.0', 'ExposureProgram': 1, 'CustomRendered': 0, 'ISOSpeedRatings': 800, 'ExposureMode': 1, 'WhiteBalance': 1}, 'color': ['#deb48a', '#47291a'], 'tags': ['nature', 'modern', 'classy']}, 'Neues%20Kurhaus%20II.jpg': {'exif': {'ResolutionUnit': 2, 'ExifOffset': 224, 'Make': 'NIKON CORPORATION', 'Model': 'NIKON D50', 'Software': 'Adobe Photoshop Elements 9.0 Windows', 'Orientation': 1, 'DateTime': '2012:01:12 22:09:23', 'XResolution': '240.0', 'YResolution': '240.0', 'ShutterSpeedValue': '5.906891', 'ApertureValue': '4.811985', 'DateTimeOriginal': '2012:01:12 16:43:41', 'DateTimeDigitized': '2012:01:12 16:43:41', 'ExposureBiasValue': '0.0', 'MaxApertureValue': '4.7', 'SubjectDistance': '4294967295.0', 'MeteringMode': 5, 'LightSource': 0, 'Flash': 0, 'FocalLength': '42.0', 'ColorSpace': 1, 'ExifImageWidth': 2994, 'SceneCaptureType': 0, 'SubsecTime': '60', 'SubsecTimeOriginal': '60', 'SubsecTimeDigitized': '60', 'ExifImageHeight': 1991, 'SubjectDistanceRange': 0, 'SensingMethod': 2, 'ExposureTime': '0.016666666666666666', 'FNumber': '5.3', 'ExposureProgram': 3, 'CustomRendered': 0, 'ISOSpeedRatings': 400, 'ExposureMode': 0, 'WhiteBalance': 0, 'LensSpecification': '(18.0, 55.0, 3.5, 5.6)', 'LensModel': '18.0-55.0 mm f/3.5-5.6', 'DigitalZoomRatio': '1.0', 'FocalLengthIn35mmFilm': 63, 'GainControl': 0, 'Contrast': 0, 'Saturation': 0, 'Sharpness': 0}, 'color': ['#d5dadc', '#514b42'], 'tags': ['architecture']}, 'neyard%20%2826082727467%29.jpg': {'exif': {'ResolutionUnit': 2, 'ExifOffset': 212, 'Make': 'SONY', 'Model': 'ILCE-7M2', 'Software': 'Adobe Photoshop Lightroom Classic 7.2 (Macintosh)', 'DateTime': '2018:03:21 10:20:03', 'XResolution': '240.0', 'YResolution': '240.0', 'ShutterSpeedValue': '5.906891', 'ApertureValue': '4.33985', 'DateTimeOriginal': '2018:03:20 20:15:32', 'DateTimeDigitized': '2018:03:20 20:15:32', 'BrightnessValue': '3.68125', 'ExposureBiasValue': '0.0', 'MaxApertureValue': '3.6171875', 'MeteringMode': 5, 'LightSource': 0, 'Flash': 16, 'FocalLength': '28.0', 'ColorSpace': 1, 'DigitalZoomRatio': '1.0', 'FocalPlaneXResolution': '1675.2573852539062', 'FocalPlaneYResolution': '1675.2573852539062', 'FocalPlaneResolutionUnit': 3, 'Contrast': 0, 'Saturation': 0, 'Sharpness': 0, 'ExposureTime': '0.016666666666666666', 'FNumber': '4.5', 'ExposureProgram': 2, 'CustomRendered': 0, 'ISOSpeedRatings': 100, 'ExposureMode': 0, 'SensitivityType': 2, 'WhiteBalance': 0, 'RecommendedExposureIndex': 100, 'LensSpecification': '(28.0, 70.0, 3.5, 5.6)', 'LensModel': 'FE 28-70mm F3.5-5.6 OSS', 'FocalLengthIn35mmFilm': 28, 'SceneCaptureType': 0}, 'color': ['#0c0702', '#bca86e'], 'tags': ['classy']}, 'no%20Lakeside%20California.jpg': {'exif': {'ResolutionUnit': 2, 'ExifOffset': 320, 'Make': 'Canon', 'Model': 'Canon EOS 40D', 'Software': 'Adobe Photoshop CS5 Windows', 'Orientation': 1, 'DateTime': '2013:03:22 19:48:51', 'YResolution': '300.0', 'Copyright': 'Â© Instinct Images - Creative Commons Attributionâ\\x80\\x93ShareAlike License\\n', 'XResolution': '300.0', 'Artist': 'Instinct Images', 'ShutterSpeedValue': '6.965784', 'ApertureValue': '6.918863', 'DateTimeOriginal': '2013:03:21 11:03:27', 'DateTimeDigitized': '2013:03:21 11:03:27', 'ExposureBiasValue': '0.0', 'MaxApertureValue': '4.0', 'SubjectDistance': '4294967295.0', 'MeteringMode': 6, 'Flash': 16, 'FocalLength': '25.0', 'ColorSpace': 1, 'ExifImageWidth': 900, 'SceneCaptureType': 0, 'FocalPlaneXResolution': '4438.356164383562', 'FocalPlaneYResolution': '4445.969125214408', 'SubsecTime': '00', 'SubsecTimeOriginal': '00', 'SubsecTimeDigitized': '00', 'ExifImageHeight': 600, 'FocalPlaneResolutionUnit': 2, 'ExposureTime': '0.008', 'FNumber': '11.0', 'ExposureProgram': 3, 'CustomRendered': 0, 'ISOSpeedRatings': 100, 'ExposureMode': 0, 'WhiteBalance': 1, 'BodySerialNumber': '1921100444', 'LensSpecification': '(18.0, 55.0, nan, nan)', 'LensModel': 'EF-S18-55mm f/3.5-5.6 IS'}, 'color': ['#cfd8d6', '#4d4e2f'], 'tags': ['nature']}, 'o%20Grand%20Opening%202014.jpg': {'exif': {'ResolutionUnit': 2, 'ExifOffset': 244, 'Make': 'NIKON CORPORATION', 'Model': 'NIKON D4', 'Software': 'Adobe Photoshop Camera Raw 8.3 (Macintosh)', 'DateTime': '2014:08:28 08:00:03', 'Copyright': ' JAY L BAKER', 'XResolution': '300.0', 'YResolution': '300.0', 'ShutterSpeedValue': '6.965784', 'ApertureValue': '5.310704', 'DateTimeOriginal': '2014:08:26 19:27:16', 'DateTimeDigitized': '2014:08:26 19:27:16', 'ExposureBiasValue': '0.0', 'MaxApertureValue': '3.0', 'MeteringMode': 5, 'LightSource': 0, 'Flash': 0, 'FocalLength': '24.0', 'WhiteBalance': 0, 'DigitalZoomRatio': '1.0', 'FocalPlaneXResolution': '1368.8888854980469', 'FocalPlaneYResolution': '1368.8888854980469', 'FocalPlaneResolutionUnit': 3, 'SubsecTimeOriginal': '40', 'SubsecTimeDigitized': '40', 'Sharpness': 0, 'SubjectDistanceRange': 0, 'SensingMethod': 2, 'ExposureTime': '0.008', 'FNumber': '6.3', 'ExposureProgram': 1, 'CustomRendered': 0, 'ISOSpeedRatings': 800, 'ExposureMode': 1, 'SensitivityType': 2, 'BodySerialNumber': '2017797', 'LensSpecification': '(24.0, 70.0, 2.8, 2.8)', 'LensModel': '24.0-70.0 mm f/2.8', 'FocalLengthIn35mmFilm': 24, 'SceneCaptureType': 0, 'GainControl': 1, 'Contrast': 0, 'Saturation': 0}, 'color': ['#bab5b2', '#423e3d'], 'tags': ['architecture']}, 'O%27Sheas%20Casino.jpg': {'exif': {}, 'color': ['#57584f', '#bebdb4'], 'tags': ['nature']}, 'o%2C%20casin%C3%B2%2C%2001.jpg': {'exif': {'ImageWidth': 5472, 'ImageLength': 3648, 'BitsPerSample': '(8, 8, 8)', 'GPSInfo': \"{0: b'\\\\x02\\\\x03\\\\x00\\\\x00'}\", 'PhotometricInterpretation': 2, 'ResolutionUnit': 2, 'ExifOffset': 304, 'Make': 'Canon', 'Model': 'Canon EOS 6D', 'Software': 'Adobe Photoshop CC 2017 (Windows)', 'Orientation': 1, 'DateTime': '2019:07:01 23:21:52', 'YCbCrPositioning': 2, 'SamplesPerPixel': 3, 'XResolution': '72.0', 'YResolution': '72.0', 'ShutterSpeedValue': '8.0', 'DateTimeOriginal': '2018:08:19 13:42:25', 'DateTimeDigitized': '2018:08:19 13:42:25', 'ApertureValue': '6.625', 'ExposureBiasValue': '0.0', 'MaxApertureValue': '3.75', 'MeteringMode': 5, 'Flash': 16, 'FocalLength': '24.0', 'ColorSpace': 1, 'ExifImageWidth': 4074, 'ExifInteroperabilityOffset': 1228, 'FocalPlaneXResolution': '3810.58495821727', 'SubsecTime': '92', 'SubsecTimeOriginal': '92', 'SubsecTimeDigitized': '92', 'ExifImageHeight': 3462, 'FocalPlaneYResolution': '3815.899581589958', 'FocalPlaneResolutionUnit': 2, 'ExposureTime': '0.004', 'FNumber': '10.0', 'ExposureProgram': 2, 'CustomRendered': 0, 'ISOSpeedRatings': 100, 'ExposureMode': 0, 'SensitivityType': 2, 'WhiteBalance': 0, 'RecommendedExposureIndex': 100, 'CameraOwnerName': '', 'BodySerialNumber': '055052000338', 'LensSpecification': '(24.0, 105.0, 0.0, 0.0)', 'LensModel': 'EF24-105mm f/3.5-5.6 IS STM', 'LensSerialNumber': '000000ccc4', 'SceneCaptureType': 0}, 'color': ['#a5bedf', '#4a4643'], 'tags': []}, 'ontainebleau%20Las%20Vegas.JPG': {'exif': {'ResolutionUnit': 2, 'ExifOffset': 2362, 'ImageDescription': '                               ', 'Make': 'SONY', 'Model': 'DSC-W80', 'Software': 'Microsoft Windows Live Photo Gallery14.0.8064.206', 'Orientation': 1, 'DateTime': '2009:07:16 10:11:34', 'YCbCrPositioning': 2, 'XResolution': '72.0', 'YResolution': '72.0', 'CompressedBitsPerPixel': '4.0', 'DateTimeOriginal': '2009:07:16 09:04:22', 'DateTimeDigitized': '2009:07:16 09:04:22', 'ExposureBiasValue': '0.0', 'MaxApertureValue': '3.0', 'MeteringMode': 5, 'LightSource': 0, 'Flash': 16, 'FocalLength': '8.7', 'ColorSpace': 1, 'ExifImageWidth': 1536, 'ExifInteroperabilityOffset': 13368, 'SceneCaptureType': 0, 'Contrast': 0, 'ExifImageHeight': 2048, 'Saturation': 0, 'Sharpness': 0, 'ExposureTime': '0.008', 'FNumber': '10.0', 'ImageUniqueID': '4BA0D9801FA443929EA71B7366D59966', 'ExposureProgram': 2, 'CustomRendered': 0, 'ISOSpeedRatings': 125, 'ExposureMode': 0, 'WhiteBalance': 0}, 'color': ['#c1d6df', '#384a5e'], 'tags': ['modern']}, 'Orleans2-LV.JPG': {'exif': {'ResolutionUnit': 2, 'ExifOffset': 996, 'ImageDescription': 'OLYMPUS DIGITAL CAMERA         ', 'Make': 'OLYMPUS IMAGING CORP.', 'Model': 'C180,D435', 'Software': 'Version 1.0', 'Orientation': 1, 'DateTime': '0000:00:00 00:00:00', 'YCbCrPositioning': 2, 'XResolution': '72.0', 'YResolution': '72.0', 'CompressedBitsPerPixel': '2.0', 'DateTimeOriginal': '0000:00:00 00:00:00', 'DateTimeDigitized': '0000:00:00 00:00:00', 'ExposureBiasValue': '0.0', 'MaxApertureValue': '3.0', 'MeteringMode': 5, 'LightSource': 0, 'Flash': 24, 'FocalLength': '6.1', 'ColorSpace': 1, 'ExifImageWidth': 2592, 'ExifInteroperabilityOffset': 1714, 'SceneCaptureType': 0, 'ExifImageHeight': 1944, 'Contrast': 0, 'Saturation': 0, 'Sharpness': 0, 'ExposureTime': '0.0025', 'FNumber': '2.8', 'ExposureProgram': 5, 'CustomRendered': 0, 'ISOSpeedRatings': 250, 'ExposureMode': 0, 'WhiteBalance': 0, 'DigitalZoomRatio': '1.85', 'GainControl': 2}, 'color': ['#aeb5b9', '#424239'], 'tags': []}, 'Palms%20Casino%20Resort.jpg': {'exif': {'ResolutionUnit': 2, 'Software': 'Paint.NET v3.10', 'XResolution': '200.0', 'YResolution': '200.0'}, 'color': ['#352d31', '#5b7b9c'], 'tags': []}, 'Park%20MGM%20exterior.jpg': {'exif': {'GPSInfo': \"{1: 'N', 2: (36.0, 6.0, 13.37), 3: 'W', 4: (115.0, 10.0, 25.2), 5: b'\\\\x00', 6: 647.5966162065895, 7: (18.0, 55.0, 27.01), 12: 'K', 13: 0.0, 16: 'T', 17: 332.27140783744557, 23: 'T', 24: 332.27140783744557, 29: '2019:02:04', 31: 30.0}\", 'ResolutionUnit': 2, 'ExifOffset': 206, 'Make': 'Apple', 'Model': 'iPhone SE', 'Software': '12.1.2', 'Orientation': 3, 'DateTime': '2019:02:04 10:55:27', 'YCbCrPositioning': 1, 'XResolution': '72.0', 'YResolution': '72.0', 'ShutterSpeedValue': '10.80486409155937', 'DateTimeOriginal': '2019:02:04 10:55:27', 'DateTimeDigitized': '2019:02:04 10:55:27', 'ApertureValue': '2.2750070475474535', 'BrightnessValue': '10.949874130016289', 'ExposureBiasValue': '0.0', 'MeteringMode': 5, 'Flash': 24, 'FocalLength': '4.15', 'ColorSpace': 1, 'ExifImageWidth': 4032, 'FocalLengthIn35mmFilm': 29, 'SceneCaptureType': 0, 'ExifImageHeight': 3024, 'SubsecTimeOriginal': '820', 'SubsecTimeDigitized': '820', 'SubjectLocation': '(2015, 1511, 2217, 1330)', 'SensingMethod': 2, 'ExposureTime': '0.0005589714924538849', 'FNumber': '2.2', 'ExposureProgram': 2, 'ISOSpeedRatings': 25, 'ExposureMode': 0, 'WhiteBalance': 0, 'LensSpecification': '(4.15, 4.15, 2.2, 2.2)', 'LensMake': 'Apple', 'LensModel': 'iPhone SE back camera 4.15mm f/2.2'}, 'color': ['#b2c0d2', '#2d3437'], 'tags': []}, 'r%20City%20Casino%20Length.png': {'exif': {}, 'color': ['#434b4c', '#acc2d4'], 'tags': ['nature', 'modern']}, 'Rio%20hotel%20vegas.jpg': {'exif': {}, 'color': ['#b2c1d0', '#5a453a'], 'tags': ['modern']}, 'Rio%20Vegas%20Nima.JPG': {'exif': {'ExifOffset': 2272, 'ImageDescription': '                               ', 'Make': 'SONY', 'Model': 'DSC-H3', 'Orientation': 1, 'DateTime': '2008:11:04 10:43:33', 'YCbCrPositioning': 2, 'CompressedBitsPerPixel': '3.0', 'DateTimeOriginal': '2008:11:04 10:43:33', 'DateTimeDigitized': '2008:11:04 10:43:33', 'ExposureBiasValue': '0.0', 'MaxApertureValue': '3.625', 'MeteringMode': 5, 'LightSource': 0, 'Flash': 16, 'FocalLength': '30.4', 'ColorSpace': 1, 'ExifImageWidth': 3264, 'SceneCaptureType': 0, 'Contrast': 0, 'Saturation': 0, 'ExifImageHeight': 2448, 'SubsecTimeOriginal': '00', 'SubsecTimeDigitized': '00', 'Sharpness': 0, 'ExposureTime': '0.002', 'FNumber': '4.0', 'ExposureProgram': 2, 'CustomRendered': 0, 'ISOSpeedRatings': 125, 'ExposureMode': 0, 'WhiteBalance': 0}, 'color': ['#3e495e', '#ced8d5'], 'tags': ['modern', 'classy']}, 'Riverwind%20Casino.jpg': {'exif': {}, 'color': ['#292c32', '#5b648d'], 'tags': ['classy']}, 'Royan%20pont%20cas.JPG': {'exif': {'ResolutionUnit': 2, 'ExifOffset': 636, 'Make': 'Panasonic', 'Model': 'DMC-FZ28', 'Software': 'Ver.1.0  ', 'Orientation': 1, 'DateTime': '2009:08:27 17:53:49', 'YCbCrPositioning': 2, 'XResolution': '180.0', 'YResolution': '180.0', 'CompressedBitsPerPixel': '4.0', 'DateTimeOriginal': '2009:08:27 17:53:49', 'DateTimeDigitized': '2009:08:27 17:53:49', 'ExposureBiasValue': '0.0', 'MaxApertureValue': '3.0', 'MeteringMode': 5, 'LightSource': 0, 'Flash': 16, 'FocalLength': '7.1', 'ColorSpace': 1, 'ExifImageWidth': 1600, 'ExifInteroperabilityOffset': 10242, 'FocalLengthIn35mmFilm': 71, 'SceneCaptureType': 0, 'ExifImageHeight': 1200, 'Contrast': 0, 'Saturation': 0, 'Sharpness': 0, 'SensingMethod': 2, 'ExposureTime': '0.00125', 'FNumber': '8.0', 'ExposureProgram': 2, 'CustomRendered': 0, 'ISOSpeedRatings': 100, 'ExposureMode': 0, 'WhiteBalance': 0, 'DigitalZoomRatio': '0.0', 'GainControl': 0}, 'color': ['#b8baab', '#676e67'], 'tags': []}, 'rto%20Rico%20Roof%20Sunset.jpg': {'exif': {'ResolutionUnit': 2, 'ExifOffset': 154, 'Make': 'Canon', 'Model': 'Canon EOS 7D', 'DateTime': '2012:09:12 22:22:15', 'XResolution': '240.0', 'YResolution': '240.0', 'ShutterSpeedValue': '8.965784', 'ApertureValue': '5.310704', 'DateTimeOriginal': '2012:09:02 18:15:16', 'DateTimeDigitized': '2012:09:02 18:15:16', 'ExposureBiasValue': '0.0', 'MaxApertureValue': '3.0', 'SubjectDistance': '4294967295.0', 'MeteringMode': 5, 'Flash': 16, 'FocalLength': '100.0', 'ExposureMode': 1, 'WhiteBalance': 0, 'SceneCaptureType': 0, 'FocalPlaneXResolution': '5715.545755237045', 'FocalPlaneYResolution': '5808.403361344538', 'FocalPlaneResolutionUnit': 2, 'SubsecTimeOriginal': '00', 'SubsecTimeDigitized': '00', 'ExposureTime': '0.002', 'FNumber': '6.3', 'ExposureProgram': 1, 'CustomRendered': 0, 'ISOSpeedRatings': 500}, 'color': ['#624e3c', '#c5d0df'], 'tags': ['architecture']}, 's%20%28July%2015%202008%29.jpg': {'exif': {'ImageWidth': 3072, 'ImageLength': 2048, 'BitsPerSample': '(8, 8, 8)', 'PhotometricInterpretation': 2, 'ResolutionUnit': 2, 'ExifOffset': 300, 'Make': 'Canon', 'Model': 'Canon EOS 300D DIGITAL', 'Software': 'Adobe Photoshop CC 2015 (Windows)', 'Orientation': 1, 'DateTime': '2017:10:15 07:07:51', 'YCbCrPositioning': 1, 'SamplesPerPixel': 3, 'XResolution': '180.0', 'YResolution': '180.0', 'CompressedBitsPerPixel': '3.0', 'DateTimeOriginal': '2008:07:15 07:33:18', 'DateTimeDigitized': '2008:07:15 07:33:18', 'ShutterSpeedValue': '9.321929931640625', 'ApertureValue': '5.310699462890625', 'ExposureBiasValue': '0.0', 'MaxApertureValue': '0.970855712890625', 'MeteringMode': 5, 'Flash': 0, 'FocalLength': '30.0', 'ColorSpace': 1, 'ExifImageWidth': 3000, 'FocalPlaneXResolution': '3443.946188340807', 'ExifImageHeight': 2000, 'FocalPlaneYResolution': '3442.016806722689', 'FocalPlaneResolutionUnit': 2, 'SensingMethod': 2, 'ExposureTime': '0.0015625', 'FNumber': '6.3', 'CustomRendered': 0, 'ISOSpeedRatings': 100, 'ExposureMode': 0, 'WhiteBalance': 0, 'SceneCaptureType': 0}, 'color': ['#a7bbd1', '#6d664b'], 'tags': []}, 's%2095%20%2828276862784%29.jpg': {'exif': {'ImageWidth': 4035, 'ImageLength': 2596, 'BitsPerSample': '(8, 8, 8)', 'GPSInfo': \"{0: b'\\\\x02\\\\x03\\\\x00\\\\x00', 1: 'N', 2: (36.0, 7.0, 15.441858121725112), 3: 'W', 4: (115.0, 10.0, 10.871213872832369), 53248: 10.387902064330293, 53249: 0.0, 16: 'T', 17: 359.98237885462555, 23: 'T', 24: 0.0, 25: 'K', 26: 4.597162997128187}\", 'PhotometricInterpretation': 2, 'ResolutionUnit': 2, 'ExifOffset': 246, 'Software': 'Adobe Photoshop CC 2015 (Windows)', 'Orientation': 1, 'DateTime': '2016:07:25 16:00:03', 'SamplesPerPixel': 3, 'XResolution': '96.0', 'YResolution': '96.0', 'ColorSpace': 65535, 'ExifImageWidth': 4035, 'ExifImageHeight': 2596}, 'color': ['#2f3a7d', '#979ec8'], 'tags': ['classy', 'architecture']}, 's%20Vegas%20October%202012.jpg': {'exif': {'ImageWidth': 1600, 'ImageLength': 1200, 'ExifOffset': 147, 'Make': 'SAMSUNG', 'Model': 'SCH-R910', 'Orientation': 1, 'DateTime': '2012:10:06 12:05:22', 'YCbCrPositioning': 1, 'ColorSpace': 1, 'ExifImageWidth': 1600, 'DateTimeOriginal': '2012:10:06 12:05:22', 'DateTimeDigitized': '2012:10:06 12:05:22', 'ExposureBiasValue': '0.0', 'MaxApertureValue': '2.76', 'MeteringMode': 2, 'Flash': 0, 'FocalLength': '2.78', 'ExifImageHeight': 1200, 'WhiteBalance': 0, 'SceneCaptureType': 0, 'ExposureTime': '0.008333333333333333', 'FNumber': '2.6', 'ExposureProgram': 3, 'ISOSpeedRatings': 50, 'ExposureMode': 0}, 'color': ['#413b3c', '#b4b1ad'], 'tags': ['classy']}, 'Samstown-01.jpg': {'exif': {'ResolutionUnit': 2, 'ExifOffset': 266, 'Make': 'FUJIFILM', 'Model': 'FinePix F470', 'Software': 'QuickTime 7.5', 'Orientation': 1, 'DateTime': '2008:08:26 11:50:49', 'YCbCrPositioning': 2, 'Copyright': '    ', 'XResolution': '72.0', 'YResolution': '72.0', 'HostComputer': 'Mac OS X 10.5.4', 'CompressedBitsPerPixel': '4.0', 'DateTimeOriginal': '2008:08:24 16:17:17', 'DateTimeDigitized': '2008:08:24 16:17:17', 'ShutterSpeedValue': '8.6', 'ApertureValue': '4.3', 'BrightnessValue': '7.6', 'ExposureBiasValue': '0.0', 'MaxApertureValue': '3.0', 'MeteringMode': 5, 'LightSource': 0, 'Flash': 24, 'FocalLength': '13.4', 'ColorSpace': 1, 'ExifImageWidth': 2816, 'ExifImageHeight': 2112, 'FocalPlaneXResolution': '4926.0', 'FocalPlaneYResolution': '4926.0', 'FocalPlaneResolutionUnit': 3, 'SubjectDistanceRange': 0, 'SensingMethod': 2, 'ExposureTime': '0.0025', 'FNumber': '4.4', 'ExposureProgram': 2, 'CustomRendered': 0, 'ISOSpeedRatings': 64, 'ExposureMode': 0, 'WhiteBalance': 0, 'SceneCaptureType': 0, 'Sharpness': 0}, 'color': ['#a2b0e1', '#7f410f'], 'tags': ['classy']}, 'San%20Juan%2C%20casino.jpg': {'exif': {'GPSInfo': \"{0: b'\\\\x02\\\\x02\\\\x00\\\\x00'}\", 'ResolutionUnit': 2, 'ExifOffset': 364, 'Make': 'NIKON CORPORATION', 'Model': 'NIKON D300', 'Software': 'Adobe Photoshop CS Windows', 'Orientation': 1, 'DateTime': '2019:07:11 11:16:55', 'YCbCrCoefficients': '(0.299, 0.587, 0.114)', 'YCbCrPositioning': 2, 'XResolution': '300.0', 'YResolution': '300.0', 'WhitePoint': '(0.313, 0.329)', 'PrimaryChromaticities': '(0.64, 0.33, 0.21, 0.71, 0.15, 0.06)', 'CompressedBitsPerPixel': '4.0', 'DateTimeOriginal': '2013:10:28 16:00:56', 'DateTimeDigitized': '2013:10:28 16:00:56', 'ExposureBiasValue': '0.0', 'MaxApertureValue': '3.0', 'MeteringMode': 2, 'LightSource': 9, 'Flash': 0, 'FocalLength': '28.0', 'ColorSpace': 65535, 'ExifImageWidth': 3923, 'ExifInteroperabilityOffset': 1008, 'SceneCaptureType': 0, 'SubsecTime': '32', 'SubsecTimeOriginal': '32', 'SubsecTimeDigitized': '32', 'ExifImageHeight': 2604, 'SubjectDistanceRange': 0, 'SensingMethod': 2, 'ExposureTime': '0.00625', 'FNumber': '22.0', 'ExposureProgram': 4, 'CustomRendered': 0, 'ISOSpeedRatings': 200, 'Gamma': '2.2', 'ExposureMode': 0, 'WhiteBalance': 1, 'DigitalZoomRatio': '1.0', 'FocalLengthIn35mmFilm': 42, 'GainControl': 0, 'Contrast': 0, 'Saturation': 0, 'Sharpness': 2}, 'color': ['#a9b6d3', '#4e4f49'], 'tags': ['architecture']}, 'sholm%20Trail%20Casino%202.jpg': {'exif': {}, 'color': ['#cacccc', '#6c6452'], 'tags': ['architecture']}, 'Southcoastcasinovegas.jpg': {'exif': {'ResolutionUnit': 2, 'ExifOffset': 156, 'Software': 'Adobe Photoshop 7.0', 'Orientation': 1, 'DateTime': '2006:02:13 18:09:58', 'XResolution': '72.0', 'YResolution': '72.0', 'ColorSpace': 65535, 'ExifImageWidth': 500, 'ExifImageHeight': 354}, 'color': ['#a1bec4', '#5b5d56'], 'tags': []}, 'Spa%20Casino%20R02.jpg': {'exif': {'ResolutionUnit': 2, 'ExifOffset': 196, 'Make': 'Canon', 'Model': 'Canon PowerShot A620', 'Orientation': 1, 'DateTime': '2008:09:18 14:31:43', 'YCbCrPositioning': 1, 'XResolution': '180.0', 'YResolution': '180.0', 'CompressedBitsPerPixel': '5.0', 'DateTimeOriginal': '2008:09:18 14:31:43', 'DateTimeDigitized': '2008:09:18 14:31:43', 'ShutterSpeedValue': '8.96875', 'ApertureValue': '5.3125', 'ExposureBiasValue': '0.0', 'MaxApertureValue': '3.34375', 'MeteringMode': 5, 'Flash': 80, 'FocalLength': '9.565', 'ColorSpace': 1, 'ExifImageWidth': 3072, 'FocalPlaneXResolution': '10816.901408450703', 'ExifImageHeight': 2304, 'FocalPlaneYResolution': '10816.901408450703', 'FocalPlaneResolutionUnit': 2, 'SensingMethod': 2, 'ExposureTime': '0.002', 'ExifInteroperabilityOffset': 2206, 'FNumber': '6.3', 'CustomRendered': 0, 'ExposureMode': 0, 'WhiteBalance': 0, 'DigitalZoomRatio': '1.0', 'SceneCaptureType': 0}, 'color': ['#a6acb0', '#4c4a42'], 'tags': ['architecture']}, 'Spielbank%20Hohensyburg.JPG': {'exif': {'ResolutionUnit': 2, 'ExifOffset': 288, 'Make': 'FUJIFILM', 'Model': 'FinePix F650', 'Software': 'Digital Camera FinePix F650 Ver1.00', 'Orientation': 1, 'DateTime': '2007:03:11 12:19:07', 'YCbCrPositioning': 2, 'Copyright': '    ', 'XResolution': '72.0', 'YResolution': '72.0', 'CompressedBitsPerPixel': '4.0', 'DateTimeOriginal': '2007:03:11 12:19:07', 'DateTimeDigitized': '2007:03:11 12:19:07', 'ShutterSpeedValue': '8.3', 'ApertureValue': '3.4', 'BrightnessValue': '7.2', 'ExposureBiasValue': '0.0', 'MaxApertureValue': '2.8', 'MeteringMode': 5, 'LightSource': 0, 'Flash': 9, 'FocalLength': '5.8', 'ColorSpace': 1, 'ExifImageWidth': 2816, 'ExifImageHeight': 2112, 'FocalPlaneXResolution': '4926.0', 'FocalPlaneYResolution': '4926.0', 'FocalPlaneResolutionUnit': 3, 'SubjectDistanceRange': 0, 'SensingMethod': 2, 'ExposureTime': '0.003125', 'ExifInteroperabilityOffset': 972, 'FNumber': '3.2', 'ExposureProgram': 2, 'CustomRendered': 0, 'ISOSpeedRatings': 64, 'ExposureMode': 0, 'WhiteBalance': 0, 'SceneCaptureType': 0, 'Sharpness': 0}, 'color': ['#d4ddda', '#333a3f'], 'tags': []}, 'Sunshine%20Millions%202006.jpg': {'exif': {'ResolutionUnit': 2, 'ExifOffset': 418, 'Make': 'Panasonic', 'Model': 'DMC-FZ5', 'Software': 'Ver.1.0  ', 'Orientation': 1, 'DateTime': '2006:01:28 16:56:14', 'YCbCrPositioning': 2, 'XResolution': '72.0', 'YResolution': '72.0', 'CompressedBitsPerPixel': '4.0', 'DateTimeOriginal': '2006:01:28 16:56:14', 'DateTimeDigitized': '2006:01:28 16:56:14', 'ExposureBiasValue': '0.0', 'MaxApertureValue': '3.0', 'MeteringMode': 5, 'LightSource': 0, 'Flash': 16, 'FocalLength': '6.0', 'ColorSpace': 1, 'ExifImageWidth': 2560, 'ExifInteroperabilityOffset': 6652, 'FocalLengthIn35mmFilm': 36, 'SceneCaptureType': 0, 'ExifImageHeight': 1920, 'Contrast': 0, 'Saturation': 0, 'Sharpness': 0, 'SensingMethod': 2, 'ExposureTime': '0.0025', 'FNumber': '5.6', 'ExposureProgram': 2, 'CustomRendered': 0, 'ISOSpeedRatings': 80, 'ExposureMode': 0, 'WhiteBalance': 0, 'DigitalZoomRatio': '0.0', 'GainControl': 0}, 'color': ['#383830', '#93a0aa'], 'tags': ['nature', 'architecture']}, 'sVegas%20-%20ParisLasVegas.jpg': {'exif': {'ResolutionUnit': 2, 'ExifOffset': 224, 'ImageDescription': 'SONY DSC', 'Make': 'SONY', 'Model': 'DSLR-A700', 'Software': 'Adobe Photoshop CS4 Windows', 'Orientation': 1, 'DateTime': '2010:04:24 21:54:46', 'XResolution': '240.0', 'YResolution': '240.0', 'ShutterSpeedValue': '7.643856', 'ApertureValue': '6.918863', 'DateTimeOriginal': '2010:04:11 23:47:28', 'DateTimeDigitized': '2010:04:11 23:47:28', 'BrightnessValue': '8.62', 'ExposureBiasValue': '0.0', 'MaxApertureValue': '3.61', 'MeteringMode': 5, 'LightSource': 0, 'Flash': 24, 'FocalLength': '20.0', 'ColorSpace': 65535, 'ExifImageWidth': 4272, 'FocalLengthIn35mmFilm': 30, 'SceneCaptureType': 1, 'ExifImageHeight': 2848, 'Contrast': 0, 'Saturation': 0, 'Sharpness': 0, 'ExposureTime': '0.005', 'FNumber': '11.0', 'ExposureProgram': 8, 'CustomRendered': 0, 'ISOSpeedRatings': 200, 'ExposureMode': 0, 'WhiteBalance': 0, 'DigitalZoomRatio': '0.0'}, 'color': ['#c0bfc8', '#463d34'], 'tags': ['architecture']}, 'Terminal%20tower.jpg': {'exif': {'ResolutionUnit': 2, 'ExifOffset': 228, 'Make': 'Canon', 'Model': 'Canon EOS DIGITAL REBEL', 'Software': 'Adobe Photoshop CS4 Windows', 'Orientation': 1, 'DateTime': '2012:09:01 18:49:44', 'YCbCrPositioning': 1, 'XResolution': '180.0', 'YResolution': '180.0', 'CompressedBitsPerPixel': '3.0', 'DateTimeOriginal': '2012:08:29 21:28:50', 'DateTimeDigitized': '2012:08:29 21:28:50', 'ShutterSpeedValue': '1.736968994140625', 'ApertureValue': '3.614715576171875', 'ExposureBiasValue': '0.0', 'MaxApertureValue': '3.614715576171875', 'MeteringMode': 5, 'Flash': 16, 'FocalLength': '10.0', 'ColorSpace': 1, 'ExifImageWidth': 2964, 'FocalPlaneXResolution': '3443.946188340807', 'ExifImageHeight': 1785, 'FocalPlaneYResolution': '3442.016806722689', 'FocalPlaneResolutionUnit': 2, 'SensingMethod': 2, 'ExposureTime': '0.3', 'ExifInteroperabilityOffset': 980, 'FNumber': '3.5', 'CustomRendered': 0, 'ISOSpeedRatings': 400, 'ExposureMode': 0, 'WhiteBalance': 0, 'SceneCaptureType': 0}, 'color': ['#d7af76', '#1d170f'], 'tags': ['classy', 'architecture']}, 'Texas%20Station%20entrance.jpg': {'exif': {'ResolutionUnit': 2, 'ExifOffset': 256, 'ImageDescription': '                               ', 'Make': 'SONY', 'Model': 'DSC-P10', 'Orientation': 1, 'DateTime': '2010:12:29 14:19:50', 'YCbCrPositioning': 2, 'XResolution': '72.0', 'YResolution': '72.0', 'CompressedBitsPerPixel': '4.0', 'DateTimeOriginal': '2010:12:29 14:19:50', 'DateTimeDigitized': '2010:12:29 14:19:50', 'ExposureBiasValue': '0.0', 'MaxApertureValue': '3.0', 'MeteringMode': 5, 'LightSource': 0, 'Flash': 0, 'FocalLength': '7.9', 'ColorSpace': 1, 'ExifImageWidth': 2592, 'ExifInteroperabilityOffset': 2178, 'SceneCaptureType': 0, 'ExifImageHeight': 1944, 'ExposureTime': '0.0025', 'FNumber': '5.6', 'ExposureProgram': 2, 'CustomRendered': 0, 'ISOSpeedRatings': 100, 'ExposureMode': 0, 'WhiteBalance': 0}, 'color': ['#a9c5db', '#4d4f4b'], 'tags': []}, 'th%20East%20-%202010-12-12.jpg': {'exif': {'ResolutionUnit': 2, 'ExifOffset': 296, 'ImageDescription': '                               ', 'Make': 'SONY', 'Model': 'DSC-T90', 'Software': 'Adobe Photoshop CS2 Windows', 'Orientation': 1, 'DateTime': '2014:09:29 13:28:49', 'YCbCrPositioning': 2, 'XResolution': '72.0', 'YResolution': '72.0', 'CompressedBitsPerPixel': '4.0', 'DateTimeOriginal': '2010:12:12 11:16:34', 'DateTimeDigitized': '2010:12:12 11:16:34', 'ExposureBiasValue': '0.0', 'MaxApertureValue': '3.625', 'MeteringMode': 5, 'LightSource': 0, 'Flash': 24, 'FocalLength': '6.18', 'ColorSpace': 1, 'ExifImageWidth': 3885, 'ExifInteroperabilityOffset': 740, 'SceneCaptureType': 1, 'Contrast': 0, 'ExifImageHeight': 2844, 'Saturation': 0, 'Sharpness': 0, 'ExposureTime': '0.001', 'FNumber': '5.6', 'ExposureProgram': 2, 'CustomRendered': 0, 'ISOSpeedRatings': 80, 'ExposureMode': 0, 'WhiteBalance': 0}, 'color': ['#939eac', '#47382d'], 'tags': ['architecture']}, 'The%20Cal.jpg': {'exif': {'PhotometricInterpretation': 32803, 'ResolutionUnit': 2, 'ExifOffset': 209, 'Make': 'NIKON CORPORATION', 'Model': 'NIKON D700', 'Software': 'Ver.1.00 ', 'Orientation': 1, 'DateTime': '2009:09:27 07:36:07', 'XResolution': '72.0', 'YResolution': '72.0', 'ColorSpace': 1, 'ExifImageWidth': 3978, 'DateTimeOriginal': '2009:09:27 07:36:07', 'DateTimeDigitized': '2009:09:27 07:36:07', 'ExposureBiasValue': '0.0', 'MaxApertureValue': '3.0', 'MeteringMode': 5, 'LightSource': 0, 'Flash': 0, 'FocalLength': '28.0', 'ExifImageHeight': 2642, 'DigitalZoomRatio': '1.0', 'FocalLengthIn35mmFilm': 28, 'SceneCaptureType': 0, 'SubsecTime': '50', 'SubsecTimeOriginal': '50', 'SubsecTimeDigitized': '50', 'Saturation': 0, 'Sharpness': 0, 'SubjectDistanceRange': 0, 'SensingMethod': 2, 'Contrast': 0, 'ExposureTime': '1.3', 'FNumber': '10.0', 'ExposureProgram': 3, 'CustomRendered': 1, 'ISOSpeedRatings': 100, 'ExposureMode': 0, 'WhiteBalance': 0, 'GainControl': 0}, 'color': ['#1e2222', '#91897f'], 'tags': ['modern', 'classy']}, 'tian%20Las%20Vegas%2C%20NV.jpg': {'exif': {'ResolutionUnit': 2, 'ExifOffset': 282, 'Make': 'CASIO COMPUTER CO.,LTD.', 'Model': 'EX-S500', 'Software': '1.02                 ', 'Orientation': 1, 'DateTime': '2007:07:26 12:01:58', 'YCbCrPositioning': 1, 'XResolution': '72.0', 'YResolution': '72.0', 'CompressedBitsPerPixel': '4.270833333333333', 'DateTimeOriginal': '2007:07:26 12:01:58', 'DateTimeDigitized': '2007:07:26 12:01:58', 'ExposureBiasValue': '0.0', 'MaxApertureValue': '2.8', 'MeteringMode': 5, 'LightSource': 0, 'Flash': 16, 'FocalLength': '7.6', 'ColorSpace': 1, 'ExifImageWidth': 2048, 'ExifInteroperabilityOffset': 30632, 'FocalLengthIn35mmFilm': 47, 'SceneCaptureType': 0, 'ExifImageHeight': 1536, 'Contrast': 0, 'Saturation': 0, 'Sharpness': 2, 'ExposureTime': '0.0015625', 'FNumber': '4.8', 'ExposureProgram': 2, 'CustomRendered': 0, 'ExposureMode': 0, 'WhiteBalance': 0, 'DigitalZoomRatio': 'nan', 'GainControl': 0}, 'color': ['#50524c', '#f5f9fc'], 'tags': ['architecture']}, 'tion%2C%20Las%20Vegas%20NV.jpg': {'exif': {'ResolutionUnit': 2, 'ExifOffset': 234, 'ImageDescription': '                               ', 'Make': 'Canon', 'Model': 'Canon PowerShot SX150 IS', 'Orientation': 1, 'DateTime': '2012:01:29 17:26:10', 'YCbCrPositioning': 2, 'XResolution': '180.0', 'YResolution': '180.0', 'CompressedBitsPerPixel': '3.0', 'DateTimeOriginal': '2012:01:29 17:26:10', 'DateTimeDigitized': '2012:01:29 17:26:10', 'ShutterSpeedValue': '9.96875', 'ApertureValue': '3.53125', 'ExposureBiasValue': '0.0', 'MaxApertureValue': '3.53125', 'MeteringMode': 5, 'Flash': 16, 'FocalLength': '5.0', 'ColorSpace': 1, 'ExifImageWidth': 3072, 'FocalPlaneXResolution': '12641.975308641975', 'ExifImageHeight': 2304, 'FocalPlaneYResolution': '12659.34065934066', 'FocalPlaneResolutionUnit': 2, 'SensingMethod': 2, 'ExposureTime': '0.001', 'ExifInteroperabilityOffset': 4760, 'FNumber': '3.4', 'CustomRendered': 0, 'ISOSpeedRatings': 80, 'ExposureMode': 0, 'SensitivityType': 4, 'WhiteBalance': 0, 'CameraOwnerName': '', 'DigitalZoomRatio': '1.0', 'SceneCaptureType': 0}, 'color': ['#403c3c', '#c0cdd8'], 'tags': []}, 'train%2C%20December%202020.jpg': {'exif': {'ImageWidth': 4032, 'ImageLength': 3024, 'GPSInfo': \"{0: b'\\\\x02\\\\x02\\\\x00\\\\x00', 5: b'\\\\x00', 6: 0.0, 7: (0.0, 0.0, 0.0), 29: '1970:01:01'}\", 'ResolutionUnit': 2, 'ExifOffset': 244, 'Make': 'samsung', 'Model': 'SM-G973U', 'Software': 'G973USQS4ETJ2', 'DateTime': '2020:12:21 20:49:57', 'YCbCrPositioning': 1, 'YResolution': '72.0', 'XResolution': '72.0', 'Artist': 'Picasa', 'ShutterSpeedValue': '7.774', 'DateTimeOriginal': '2020:12:12 11:30:54', 'DateTimeDigitized': '2020:12:12 11:30:54', 'ApertureValue': '2.52', 'BrightnessValue': '6.26', 'ExposureBiasValue': 'nan', 'MaxApertureValue': '1.16', 'MeteringMode': 2, 'Flash': 0, 'FocalLength': '4.3', 'ColorSpace': 1, 'ExifImageWidth': 3801, 'ExifInteroperabilityOffset': 890, 'SceneCaptureType': 0, 'SubsecTime': '734506', 'SubsecTimeOriginal': '734506', 'SubsecTimeDigitized': '734506', 'ExifImageHeight': 2599, 'SensingMethod': 1, 'ExposureTime': '0.0045662100456621', 'FNumber': '2.4', 'ImageUniqueID': '4f0fbe273765af1dcdc3f3e9e1473a6c', 'ExposureProgram': 2, 'ISOSpeedRatings': 50, 'ExposureMode': 0, 'WhiteBalance': 0, 'FocalLengthIn35mmFilm': 26}, 'color': ['#383730', '#c4c6c7'], 'tags': ['nature', 'architecture']}, 'tre%20par%20Emile%20Ledoux.jpg': {'exif': {'ResolutionUnit': 2, 'ExifOffset': 188, 'Make': 'Apple', 'Model': 'iPad', 'Software': '7.0.4', 'Orientation': 1, 'DateTime': '2014:09:17 14:13:25', 'YCbCrPositioning': 1, 'XResolution': '72.0', 'YResolution': '72.0', 'ShutterSpeedValue': '8.141626794258373', 'DateTimeOriginal': '2014:09:17 14:13:25', 'DateTimeDigitized': '2014:09:17 14:13:25', 'ApertureValue': '2.5260688216892597', 'BrightnessValue': '7.337752525252525', 'MeteringMode': 3, 'Flash': 32, 'FocalLength': '4.28', 'ColorSpace': 1, 'ExifImageWidth': 905, 'FocalLengthIn35mmFilm': 35, 'SceneCaptureType': 0, 'ExifImageHeight': 752, 'SubsecTimeOriginal': '255', 'SubsecTimeDigitized': '255', 'SensingMethod': 2, 'ExposureTime': '0.0035460992907801418', 'FNumber': '2.4', 'ExposureProgram': 2, 'ISOSpeedRatings': 50, 'ExposureMode': 0, 'WhiteBalance': 0, 'LensSpecification': '(4.28, 4.28, 2.4, 2.4)', 'LensMake': 'Apple', 'LensModel': 'iPad back camera 4.28mm f/2.4'}, 'color': ['#4a502c', '#d8b59d'], 'tags': []}, 'un%2C%20Uncasville%2C%20CT.jpg': {'exif': {'ResolutionUnit': 2, 'ExifOffset': 316, 'ImageDescription': '                               ', 'Make': 'SONY', 'Model': 'DSC-H300', 'Software': 'PlayMemories Home', 'Orientation': 1, 'DateTime': '2018:04:18 20:55:38', 'YCbCrPositioning': 2, 'Copyright': 'Copyright 2009', 'XResolution': '350.0', 'YResolution': '350.0', 'CompressedBitsPerPixel': '2.784254449811421', 'DateTimeOriginal': '2018:04:18 11:52:48', 'DateTimeDigitized': '2018:04:18 11:52:48', 'ShutterSpeedValue': '8.344', 'ApertureValue': '6.34', 'ExposureBiasValue': '0.0', 'MaxApertureValue': '3.17', 'MeteringMode': 4, 'LightSource': 0, 'Flash': 0, 'FocalLength': '9.0', 'ColorSpace': 1, 'ExifImageWidth': 5152, 'SceneCaptureType': 0, 'ExifImageHeight': 3864, 'Contrast': 0, 'Sharpness': 0, 'SensingMethod': 2, 'ExposureTime': '0.003125', 'ExifInteroperabilityOffset': 816, 'FNumber': '9.0', 'ExposureProgram': 2, 'CustomRendered': 0, 'ISOSpeedRatings': 80, 'ExposureMode': 0, 'WhiteBalance': 0, 'FocalLengthIn35mmFilm': 50}, 'color': ['#92b8e6', '#40576c'], 'tags': ['modern']}, 'urhaus-Wiesbaden-bei-Nacht.jpg': {'exif': {'ResolutionUnit': 2, 'ExifOffset': 216, 'Make': 'NIKON CORPORATION', 'Model': 'NIKON D70', 'Software': 'Adobe Photoshop CS2 Windows', 'Orientation': 1, 'DateTime': '2008:07:29 17:54:39', 'XResolution': '609.0', 'YResolution': '609.0', 'ShutterSpeedValue': '-1.0', 'ApertureValue': '5.310704', 'DateTimeOriginal': '2006:11:16 17:25:09', 'DateTimeDigitized': '2006:11:16 17:25:09', 'ExposureBiasValue': '1.0', 'MaxApertureValue': '3.6', 'MeteringMode': 5, 'LightSource': 0, 'Flash': 0, 'FocalLength': '18.0', 'ColorSpace': 65535, 'ExifImageWidth': 3008, 'DigitalZoomRatio': '1.0', 'FocalLengthIn35mmFilm': 27, 'SceneCaptureType': 0, 'ExifImageHeight': 2009, 'SubsecTimeOriginal': '70', 'SubsecTimeDigitized': '70', 'Sharpness': 0, 'SubjectDistanceRange': 0, 'SensingMethod': 2, 'ExposureTime': '2.0', 'FNumber': '6.3', 'ExposureProgram': 3, 'CustomRendered': 0, 'ISOSpeedRatings': 200, 'ExposureMode': 0, 'WhiteBalance': 0, 'GainControl': 0, 'Contrast': 1, 'Saturation': 0}, 'color': ['#473b2c', '#d3a363'], 'tags': ['architecture']}, 'ust%20Hotel%20And%20Casino.jpg': {'exif': {'ResolutionUnit': 2, 'ExifOffset': 196, 'Make': 'Canon', 'Model': 'Canon DIGITAL IXUS 40', 'Orientation': 1, 'DateTime': '2006:01:04 20:45:11', 'YCbCrPositioning': 1, 'XResolution': '180.0', 'YResolution': '180.0', 'CompressedBitsPerPixel': '5.0', 'DateTimeOriginal': '2006:01:04 20:45:11', 'DateTimeDigitized': '2006:01:04 20:45:11', 'ShutterSpeedValue': '9.3125', 'ApertureValue': '4.96875', 'ExposureBiasValue': '0.0', 'MaxApertureValue': '2.96875', 'MeteringMode': 5, 'Flash': 24, 'FocalLength': '5.8', 'ColorSpace': 1, 'ExifImageWidth': 2272, 'FocalPlaneXResolution': '10142.857142857143', 'ExifImageHeight': 1704, 'FocalPlaneYResolution': '10142.857142857143', 'FocalPlaneResolutionUnit': 2, 'SensingMethod': 2, 'ExposureTime': '0.0015625', 'ExifInteroperabilityOffset': 2142, 'FNumber': '5.6', 'CustomRendered': 0, 'ExposureMode': 0, 'WhiteBalance': 0, 'DigitalZoomRatio': '1.0', 'SceneCaptureType': 0}, 'color': ['#345472', '#d3d8cb'], 'tags': ['nature', 'architecture']}, 'Vegas%20-%20October%202021.jpg': {'exif': {'TileWidth': 1024, 'TileLength': 1024, 'GPSInfo': \"{0: b'\\\\x02\\\\x02\\\\x00\\\\x00', 1: 'N', 2: (36.0, 8.0, 11.79), 3: 'W', 4: (115.0, 9.0, 43.95), 5: b'\\\\x00', 6: 628.9519343493553, 12: 'K', 13: 0.04121705515661201, 16: 'T', 17: 132.42110453648914, 23: 'T', 24: 132.42110453648914, 31: 10.21801948051948}\", 'ResolutionUnit': 2, 'ExifOffset': 234, 'Make': 'Apple', 'Model': 'iPhone XR', 'Software': '14.8', 'DateTime': '2022:02:27 10:50:34', 'YCbCrPositioning': 1, 'YResolution': '72.0', 'XResolution': '72.0', 'Artist': 'Picasa', 'ShutterSpeedValue': '10.697948894236278', 'DateTimeOriginal': '2021:10:06 11:31:59', 'DateTimeDigitized': '2021:10:06 11:31:59', 'ApertureValue': '1.6959938128383605', 'BrightnessValue': '9.461922748872913', 'ExposureBiasValue': '0.0', 'MeteringMode': 5, 'Flash': 0, 'FocalLength': '4.25', 'ColorSpace': 65535, 'ExifImageWidth': 2054, 'ExifInteroperabilityOffset': 1134, 'FocalLengthIn35mmFilm': 26, 'SceneCaptureType': 0, 'OffsetTime': '-07:00', 'OffsetTimeOriginal': '-07:00', 'OffsetTimeDigitized': '-07:00', 'SubsecTimeOriginal': '210', 'SubsecTimeDigitized': '210', 'ExifImageHeight': 1530, 'SensingMethod': 2, 'ExposureTime': '0.0006020469596628537', 'FNumber': '1.8', 'ImageUniqueID': 'ec087e530292e8e664d6d81df24a429d', 'CustomRendered': 6, 'ISOSpeedRatings': 25, 'WhiteBalance': 0, 'LensSpecification': '(4.25, 4.25, 1.8, 1.8)', 'LensMake': 'Apple', 'LensModel': 'iPhone XR back camera 4.25mm f/1.8'}, 'color': ['#2b3644', '#91abcc'], 'tags': ['modern']}, 'Venetian%20Macau.jpg': {'exif': {'ResolutionUnit': 2, 'ExifOffset': 238, 'Make': 'Canon ', 'Model': 'Canon EOS 20D', 'Software': 'SILKYPIX(R) Developer Studio Version 3.0.15.1', 'Orientation': 1, 'DateTime': '2007:12:07 14:24:11', 'YCbCrPositioning': 2, 'XResolution': '300.0', 'YResolution': '300.0', 'ShutterSpeedValue': '0.321929931640625', 'DateTimeOriginal': '2007:11:29 21:04:35', 'DateTimeDigitized': '2007:11:29 21:04:35', 'ApertureValue': '6.33984375', 'ExposureBiasValue': '0.6666666666666666', 'MeteringMode': 5, 'Flash': 16, 'FocalLength': '16.0', 'ColorSpace': 1, 'ExifImageWidth': 1200, 'ExifInteroperabilityOffset': 12924, 'FocalPlaneXResolution': '3959.322033898305', 'FocalPlaneYResolution': '3959.322033898305', 'ExifImageHeight': 1800, 'FocalPlaneResolutionUnit': 2, 'ExposureTime': '0.8', 'FNumber': '9.0', 'ExposureProgram': 3, 'CustomRendered': 1, 'ISOSpeedRatings': 800, 'ExposureMode': 0, 'SceneCaptureType': 0}, 'color': ['#1a150e', '#a78e65'], 'tags': ['architecture']}, 'y%20Nevada%20-%20panoramio.jpg': {'exif': {'GPSInfo': \"{1: 'N', 2: (39.0, 7.0, 51.41), 3: 'W', 4: (119.0, 46.0, 12.73), 5: b'\\\\x00', 6: 1453.6776315789473, 7: (0.0, 31.0, 52.71), 16: 'T', 17: 327.89086859688194}\", 'ResolutionUnit': 2, 'ExifOffset': 204, 'Make': 'Apple', 'Model': 'iPhone 4', 'Software': '7.1.2', 'Orientation': 1, 'DateTime': '2014:07:10 17:31:54', 'YCbCrPositioning': 1, 'XResolution': '72.0', 'YResolution': '72.0', 'ShutterSpeedValue': '9.488269794721408', 'DateTimeOriginal': '2014:07:10 17:31:54', 'DateTimeDigitized': '2014:07:10 17:31:54', 'ApertureValue': '2.970853573907009', 'BrightnessValue': '8.338662790697674', 'MeteringMode': 5, 'Flash': 24, 'FocalLength': '3.85', 'ColorSpace': 1, 'ExifImageWidth': 2592, 'FocalLengthIn35mmFilm': 35, 'SceneCaptureType': 0, 'ExifImageHeight': 1936, 'SubsecTimeOriginal': '186', 'SubsecTimeDigitized': '186', 'SubjectLocation': '(1294, 965, 469, 468)', 'SensingMethod': 2, 'ExposureTime': '0.001392757660167131', 'FNumber': '2.8', 'ExposureProgram': 2, 'ISOSpeedRatings': 80, 'ExposureMode': 0, 'WhiteBalance': 0, 'LensSpecification': '(3.85, 3.85, 2.8, 2.8)', 'LensMake': 'Apple', 'LensModel': 'iPhone 4 back camera 3.85mm f/2.8'}, 'color': ['#bcc1c1', '#343023'], 'tags': []}}\n"
     ]
    }
   ],
   "source": [
    "json_dat = {}\n",
    "for filename in os.listdir(\"images\"):\n",
    "    json_dat[filename] = {\n",
    "        'exif': extraire_donnees(\"images/\"+filename),\n",
    "        'color': extraire_couleurs(\"images/\"+filename)\n",
    "    }\n",
    "    json_dat = lire_entree(json_dat, filename)\n",
    "print(json_dat)\n",
    "json.dump(json_dat, open(\"img_data.json\", \"w\"), indent=2)"
   ]
  },
  {
   "cell_type": "markdown",
   "source": [
    "## Analyses de données"
   ],
   "metadata": {
    "collapsed": false
   },
   "id": "e1f7aa7dde4072cd"
  },
  {
   "cell_type": "markdown",
   "id": "b0ed09be8fd0b946",
   "metadata": {
    "collapsed": false
   },
   "source": [
    "Maintenant, on a les données à l'état brut. On va les transformer pour garder des données traitables pour l'analyse. Il faut qu'on convertisse chaque donnée en une valeur traitable pour faire des vecteurs. On commence par une fonction de transformation de la première couleur dominante en tag"
   ]
  },
  {
   "cell_type": "code",
   "outputs": [
    {
     "name": "stdout",
     "output_type": "stream",
     "text": [
      "Defaulting to user installation because normal site-packages is not writeable\n",
      "Requirement already satisfied: colorsysx in c:\\users\\dojos\\appdata\\local\\packages\\pythonsoftwarefoundation.python.3.12_qbz5n2kfra8p0\\localcache\\local-packages\\python312\\site-packages (1.1)\n"
     ]
    }
   ],
   "source": [
    "!pip install colorsysx"
   ],
   "metadata": {
    "collapsed": false,
    "ExecuteTime": {
     "end_time": "2024-03-25T10:22:00.381736Z",
     "start_time": "2024-03-25T10:21:57.862007Z"
    }
   },
   "id": "ac0c18eb04a0a5b0",
   "execution_count": 135
  },
  {
   "cell_type": "code",
   "outputs": [],
   "source": [
    "import numpy as np\n",
    "from sklearn.neighbors import NearestNeighbors\n",
    "import colorsysx as colorsys\n",
    "\n",
    "couleurs_tags_possibles = {\n",
    "    'red': [255, 0, 0],\n",
    "    'green': [0, 255, 0],\n",
    "    'blue': [0, 0, 255],\n",
    "    'yellow': [255, 255, 0],\n",
    "    'cyan': [0, 255, 255],\n",
    "    'magenta': [255, 0, 255],\n",
    "    'black': [0, 0, 0],\n",
    "    'white': [255, 255, 255]\n",
    "}\n",
    "\n",
    "tags_keys = couleurs_tags_possibles.keys()\n",
    "def rgb_to_hls(color_rgb):\n",
    "    return colorsys.rgb_to_hls(*[v/255 for v in color_rgb[:3]])\n",
    "\n",
    "colors_lab = {k: rgb_to_hls(couleurs_tags_possibles[k]) for k in tags_keys}\n",
    "color_voisins = NearestNeighbors(n_neighbors=1, algorithm='ball_tree').fit(np.array([colors_lab[k] for k in tags_keys]))\n",
    "\n",
    "def tag_de_couleur(colorhex):\n",
    "    # hex to rgb: #xxxxxx -> [ x, x, x ]\n",
    "    hex = colorhex.lstrip('#')\n",
    "    color = tuple(int(hex[i:i+2], 16) for i in (0, 2, 4))\n",
    "    \n",
    "    color_lab = rgb_to_hls(color)\n",
    "    distances, indices = color_voisins.kneighbors([color_lab])\n",
    "    nearest_color = list(tags_keys)[indices[0][0]]\n",
    "    return nearest_color"
   ],
   "metadata": {
    "collapsed": false,
    "ExecuteTime": {
     "end_time": "2024-03-25T10:22:00.398403Z",
     "start_time": "2024-03-25T10:22:00.384742Z"
    }
   },
   "id": "a071e92db4dba2f4",
   "execution_count": 136
  },
  {
   "cell_type": "code",
   "execution_count": 137,
   "id": "7478a4a3220cd88f",
   "metadata": {
    "collapsed": false,
    "ExecuteTime": {
     "end_time": "2024-03-25T10:22:00.409013Z",
     "start_time": "2024-03-25T10:22:00.399414Z"
    }
   },
   "outputs": [],
   "source": [
    "\"\"\"\n",
    " single_picdata peut être un dictionnaire {exif, color, tags} ou {}\n",
    " La sortie doit être un tableau (ou vecteur) traitable pour l'analyse\n",
    "\"\"\"\n",
    "def transform_data(single_picdata):\n",
    "    keys = single_picdata.keys()\n",
    "    exifs = single_picdata[\"exif\"] if \"exif\" in keys else {}\n",
    "    exifkeys = exifs.keys()\n",
    "    tags = single_picdata[\"tags\"]\n",
    "    orientation = \"unknown\"\n",
    "    if \"ExifImageWidth\" in exifs and \"ExifImageheight\" in exifs:\n",
    "        orientation = \"landscape\" if exifs[\"ExifImageWidth\"] > exifs[\"ExifImageHeight\"] else \"portrait\"\n",
    "    return [\n",
    "        orientation,\n",
    "        tag_de_couleur(single_picdata[\"color\"][0]),\n",
    "        \"old\" in tags,\n",
    "        \"modern\" in tags,\n",
    "        \"architecture\" in tags,\n",
    "        \"classy\" in tags, \n",
    "        \"nature\" in tags\n",
    "    ]"
   ]
  },
  {
   "cell_type": "markdown",
   "id": "33dd4aa45d9878c3",
   "metadata": {
    "collapsed": false
   },
   "source": [
    "On initialise ensuite un tableau avec nos données traitables pour 10 images aléatoires"
   ]
  },
  {
   "cell_type": "code",
   "execution_count": 138,
   "id": "55197942-214e-4116-979f-a598257dfa0b",
   "metadata": {
    "ExecuteTime": {
     "end_time": "2024-03-25T10:22:00.824567Z",
     "start_time": "2024-03-25T10:22:00.801124Z"
    }
   },
   "outputs": [],
   "source": [
    "from random import sample\n",
    "import json, os\n",
    "\n",
    "def read_pic_datas(picnames):\n",
    "    with open('img_data.json', 'r') as f:\n",
    "        pic_json_data = json.load(f)\n",
    "    pic_json_keys = pic_json_data.keys()\n",
    "    res_dat = []\n",
    "    for picname in picnames:\n",
    "        single_picdat = pic_json_data[picname] if picname in pic_json_keys else {}\n",
    "        res_dat.append(transform_data(single_picdat))\n",
    "    return res_dat\n",
    "\n",
    "pics = sample(os.listdir(\"images\"), 10)\n",
    "picdata_matrix = read_pic_datas(pics)"
   ]
  },
  {
   "cell_type": "markdown",
   "id": "90a6525fc94a6755",
   "metadata": {
    "collapsed": false
   },
   "source": [
    "On demande les préférences utilisateur sur ces 10 images"
   ]
  },
  {
   "cell_type": "code",
   "execution_count": 139,
   "id": "46d01fc0029a430a",
   "metadata": {
    "collapsed": false,
    "ExecuteTime": {
     "end_time": "2024-03-25T10:22:05.560915Z",
     "start_time": "2024-03-25T10:22:02.931411Z"
    }
   },
   "outputs": [
    {
     "name": "stdout",
     "output_type": "stream",
     "text": [
      "Defaulting to user installation because normal site-packages is not writeable\n",
      "Requirement already satisfied: ipywidgets in c:\\users\\dojos\\appdata\\local\\packages\\pythonsoftwarefoundation.python.3.12_qbz5n2kfra8p0\\localcache\\local-packages\\python312\\site-packages (8.1.2)\n",
      "Requirement already satisfied: comm>=0.1.3 in c:\\users\\dojos\\appdata\\local\\packages\\pythonsoftwarefoundation.python.3.12_qbz5n2kfra8p0\\localcache\\local-packages\\python312\\site-packages (from ipywidgets) (0.2.1)\n",
      "Requirement already satisfied: ipython>=6.1.0 in c:\\users\\dojos\\appdata\\local\\packages\\pythonsoftwarefoundation.python.3.12_qbz5n2kfra8p0\\localcache\\local-packages\\python312\\site-packages (from ipywidgets) (8.22.1)\n",
      "Requirement already satisfied: traitlets>=4.3.1 in c:\\users\\dojos\\appdata\\local\\packages\\pythonsoftwarefoundation.python.3.12_qbz5n2kfra8p0\\localcache\\local-packages\\python312\\site-packages (from ipywidgets) (5.14.1)\n",
      "Requirement already satisfied: widgetsnbextension~=4.0.10 in c:\\users\\dojos\\appdata\\local\\packages\\pythonsoftwarefoundation.python.3.12_qbz5n2kfra8p0\\localcache\\local-packages\\python312\\site-packages (from ipywidgets) (4.0.10)\n",
      "Requirement already satisfied: jupyterlab-widgets~=3.0.10 in c:\\users\\dojos\\appdata\\local\\packages\\pythonsoftwarefoundation.python.3.12_qbz5n2kfra8p0\\localcache\\local-packages\\python312\\site-packages (from ipywidgets) (3.0.10)\n",
      "Requirement already satisfied: decorator in c:\\users\\dojos\\appdata\\local\\packages\\pythonsoftwarefoundation.python.3.12_qbz5n2kfra8p0\\localcache\\local-packages\\python312\\site-packages (from ipython>=6.1.0->ipywidgets) (5.1.1)\n",
      "Requirement already satisfied: jedi>=0.16 in c:\\users\\dojos\\appdata\\local\\packages\\pythonsoftwarefoundation.python.3.12_qbz5n2kfra8p0\\localcache\\local-packages\\python312\\site-packages (from ipython>=6.1.0->ipywidgets) (0.19.1)\n",
      "Requirement already satisfied: matplotlib-inline in c:\\users\\dojos\\appdata\\local\\packages\\pythonsoftwarefoundation.python.3.12_qbz5n2kfra8p0\\localcache\\local-packages\\python312\\site-packages (from ipython>=6.1.0->ipywidgets) (0.1.6)\n",
      "Requirement already satisfied: prompt-toolkit<3.1.0,>=3.0.41 in c:\\users\\dojos\\appdata\\local\\packages\\pythonsoftwarefoundation.python.3.12_qbz5n2kfra8p0\\localcache\\local-packages\\python312\\site-packages (from ipython>=6.1.0->ipywidgets) (3.0.43)\n",
      "Requirement already satisfied: pygments>=2.4.0 in c:\\users\\dojos\\appdata\\local\\packages\\pythonsoftwarefoundation.python.3.12_qbz5n2kfra8p0\\localcache\\local-packages\\python312\\site-packages (from ipython>=6.1.0->ipywidgets) (2.17.2)\n",
      "Requirement already satisfied: stack-data in c:\\users\\dojos\\appdata\\local\\packages\\pythonsoftwarefoundation.python.3.12_qbz5n2kfra8p0\\localcache\\local-packages\\python312\\site-packages (from ipython>=6.1.0->ipywidgets) (0.6.3)\n",
      "Requirement already satisfied: colorama in c:\\users\\dojos\\appdata\\local\\packages\\pythonsoftwarefoundation.python.3.12_qbz5n2kfra8p0\\localcache\\local-packages\\python312\\site-packages (from ipython>=6.1.0->ipywidgets) (0.4.6)\n",
      "Requirement already satisfied: parso<0.9.0,>=0.8.3 in c:\\users\\dojos\\appdata\\local\\packages\\pythonsoftwarefoundation.python.3.12_qbz5n2kfra8p0\\localcache\\local-packages\\python312\\site-packages (from jedi>=0.16->ipython>=6.1.0->ipywidgets) (0.8.3)\n",
      "Requirement already satisfied: wcwidth in c:\\users\\dojos\\appdata\\local\\packages\\pythonsoftwarefoundation.python.3.12_qbz5n2kfra8p0\\localcache\\local-packages\\python312\\site-packages (from prompt-toolkit<3.1.0,>=3.0.41->ipython>=6.1.0->ipywidgets) (0.2.13)\n",
      "Requirement already satisfied: executing>=1.2.0 in c:\\users\\dojos\\appdata\\local\\packages\\pythonsoftwarefoundation.python.3.12_qbz5n2kfra8p0\\localcache\\local-packages\\python312\\site-packages (from stack-data->ipython>=6.1.0->ipywidgets) (2.0.1)\n",
      "Requirement already satisfied: asttokens>=2.1.0 in c:\\users\\dojos\\appdata\\local\\packages\\pythonsoftwarefoundation.python.3.12_qbz5n2kfra8p0\\localcache\\local-packages\\python312\\site-packages (from stack-data->ipython>=6.1.0->ipywidgets) (2.4.1)\n",
      "Requirement already satisfied: pure-eval in c:\\users\\dojos\\appdata\\local\\packages\\pythonsoftwarefoundation.python.3.12_qbz5n2kfra8p0\\localcache\\local-packages\\python312\\site-packages (from stack-data->ipython>=6.1.0->ipywidgets) (0.2.2)\n",
      "Requirement already satisfied: six>=1.12.0 in c:\\users\\dojos\\appdata\\local\\packages\\pythonsoftwarefoundation.python.3.12_qbz5n2kfra8p0\\localcache\\local-packages\\python312\\site-packages (from asttokens>=2.1.0->stack-data->ipython>=6.1.0->ipywidgets) (1.16.0)\n"
     ]
    }
   ],
   "source": [
    "!pip install ipywidgets"
   ]
  },
  {
   "cell_type": "code",
   "outputs": [
    {
     "data": {
      "text/plain": "HBox(children=(Button(icon='heart', style=ButtonStyle(button_color='#ff4757'), tooltip='Like'), Button(icon='t…",
      "application/vnd.jupyter.widget-view+json": {
       "version_major": 2,
       "version_minor": 0,
       "model_id": "934a17d6976941149df975ef0ebf724e"
      }
     },
     "metadata": {},
     "output_type": "display_data"
    },
    {
     "data": {
      "text/plain": "Output()",
      "application/vnd.jupyter.widget-view+json": {
       "version_major": 2,
       "version_minor": 0,
       "model_id": "4682835ff87144efbf71cca6e3055160"
      }
     },
     "metadata": {},
     "output_type": "display_data"
    }
   ],
   "source": [
    "import ipywidgets as widgets\n",
    "from IPython.display import clear_output\n",
    "\n",
    "pic_output = widgets.Output()\n",
    "\n",
    "shown_image_idx = 0\n",
    "likes = [None] * len(pics)\n",
    "\n",
    "def show(nomfichier):\n",
    "    global pic_output\n",
    "    with open(\"images/\"+nomfichier, 'rb') as f:\n",
    "        shown_image = f.read()\n",
    "    picwidget = widgets.Image(\n",
    "        value=shown_image,\n",
    "    )\n",
    "    picwidget.layout.height= '150px'\n",
    "    with pic_output:\n",
    "        clear_output()\n",
    "        display(picwidget)\n",
    "\n",
    "def clear_if_maxed():\n",
    "    global shown_image_idx\n",
    "    if shown_image_idx >= len(pics):\n",
    "        with pic_output:\n",
    "            clear_output()\n",
    "            print(\"Fin de la navigation\")\n",
    "def likeit(_b):\n",
    "    global shown_image_idx\n",
    "    clear_if_maxed()\n",
    "    likes[shown_image_idx] = True\n",
    "    shown_image_idx += 1\n",
    "    clear_if_maxed()\n",
    "    show(pics[shown_image_idx])\n",
    "\n",
    "def hateit(_b):\n",
    "    global shown_image_idx, liked\n",
    "    print(\"Hate\")\n",
    "    clear_if_maxed()\n",
    "    likes[shown_image_idx] = False\n",
    "    shown_image_idx += 1\n",
    "    clear_if_maxed()\n",
    "    show(pics[shown_image_idx])\n",
    "\n",
    "like_button = widgets.Button(\n",
    "    description='',\n",
    "    disabled=False,\n",
    "    button_style='',\n",
    "    tooltip='Like',\n",
    "    icon='heart'\n",
    ")\n",
    "like_button.style = {'button_color': '#ff4757'}\n",
    "like_button.on_click(likeit)\n",
    "\n",
    "hate_button = widgets.Button(\n",
    "    description='',\n",
    "    disabled=False,\n",
    "    button_style='',\n",
    "    tooltip='Dislike',\n",
    "    icon='thumbs-down'\n",
    ")\n",
    "hate_button.style = {'button_color': '#5352ed'}\n",
    "hate_button.on_click(hateit)\n",
    "buttons = widgets.HBox([like_button, hate_button])\n",
    "\n",
    "display(buttons,pic_output)\n",
    "show(pics[shown_image_idx])"
   ],
   "metadata": {
    "collapsed": false,
    "ExecuteTime": {
     "end_time": "2024-03-25T10:51:38.890012Z",
     "start_time": "2024-03-25T10:51:38.854654Z"
    }
   },
   "id": "e57a711ab9a173fd",
   "execution_count": 155
  },
  {
   "cell_type": "code",
   "execution_count": 41,
   "id": "1af564ac-5593-4edf-9257-b2f1a4945571",
   "metadata": {
    "ExecuteTime": {
     "end_time": "2024-03-21T20:13:06.854017Z",
     "start_time": "2024-03-21T20:13:06.847699Z"
    }
   },
   "outputs": [
    {
     "name": "stdout",
     "output_type": "stream",
     "text": [
      "[False, False, False, False, False, False, False, True, False, False]\n"
     ]
    }
   ],
   "source": [
    "print(likes)"
   ]
  },
  {
   "cell_type": "markdown",
   "source": [
    "On a donc les données d'un seul utilisateur"
   ],
   "metadata": {
    "collapsed": false
   },
   "id": "6a3383313040396a"
  },
  {
   "cell_type": "markdown",
   "source": [
    "## Visualisation des données"
   ],
   "metadata": {
    "collapsed": false
   },
   "id": "c0878531459bef9a"
  },
  {
   "cell_type": "code",
   "outputs": [
    {
     "name": "stdout",
     "output_type": "stream",
     "text": [
      "Defaulting to user installation because normal site-packages is not writeable\n",
      "Requirement already satisfied: pandas in c:\\users\\dojos\\appdata\\local\\packages\\pythonsoftwarefoundation.python.3.12_qbz5n2kfra8p0\\localcache\\local-packages\\python312\\site-packages (2.2.1)\n",
      "Requirement already satisfied: numpy<2,>=1.26.0 in c:\\users\\dojos\\appdata\\local\\packages\\pythonsoftwarefoundation.python.3.12_qbz5n2kfra8p0\\localcache\\local-packages\\python312\\site-packages (from pandas) (1.26.4)\n",
      "Requirement already satisfied: python-dateutil>=2.8.2 in c:\\users\\dojos\\appdata\\local\\packages\\pythonsoftwarefoundation.python.3.12_qbz5n2kfra8p0\\localcache\\local-packages\\python312\\site-packages (from pandas) (2.9.0.post0)\n",
      "Requirement already satisfied: pytz>=2020.1 in c:\\users\\dojos\\appdata\\local\\packages\\pythonsoftwarefoundation.python.3.12_qbz5n2kfra8p0\\localcache\\local-packages\\python312\\site-packages (from pandas) (2024.1)\n",
      "Requirement already satisfied: tzdata>=2022.7 in c:\\users\\dojos\\appdata\\local\\packages\\pythonsoftwarefoundation.python.3.12_qbz5n2kfra8p0\\localcache\\local-packages\\python312\\site-packages (from pandas) (2024.1)\n",
      "Requirement already satisfied: six>=1.5 in c:\\users\\dojos\\appdata\\local\\packages\\pythonsoftwarefoundation.python.3.12_qbz5n2kfra8p0\\localcache\\local-packages\\python312\\site-packages (from python-dateutil>=2.8.2->pandas) (1.16.0)\n",
      "Defaulting to user installation because normal site-packages is not writeable\n",
      "Requirement already satisfied: matplotlib in c:\\users\\dojos\\appdata\\local\\packages\\pythonsoftwarefoundation.python.3.12_qbz5n2kfra8p0\\localcache\\local-packages\\python312\\site-packages (3.8.3)\n",
      "Requirement already satisfied: contourpy>=1.0.1 in c:\\users\\dojos\\appdata\\local\\packages\\pythonsoftwarefoundation.python.3.12_qbz5n2kfra8p0\\localcache\\local-packages\\python312\\site-packages (from matplotlib) (1.2.0)\n",
      "Requirement already satisfied: cycler>=0.10 in c:\\users\\dojos\\appdata\\local\\packages\\pythonsoftwarefoundation.python.3.12_qbz5n2kfra8p0\\localcache\\local-packages\\python312\\site-packages (from matplotlib) (0.12.1)\n",
      "Requirement already satisfied: fonttools>=4.22.0 in c:\\users\\dojos\\appdata\\local\\packages\\pythonsoftwarefoundation.python.3.12_qbz5n2kfra8p0\\localcache\\local-packages\\python312\\site-packages (from matplotlib) (4.50.0)\n",
      "Requirement already satisfied: kiwisolver>=1.3.1 in c:\\users\\dojos\\appdata\\local\\packages\\pythonsoftwarefoundation.python.3.12_qbz5n2kfra8p0\\localcache\\local-packages\\python312\\site-packages (from matplotlib) (1.4.5)\n",
      "Requirement already satisfied: numpy<2,>=1.21 in c:\\users\\dojos\\appdata\\local\\packages\\pythonsoftwarefoundation.python.3.12_qbz5n2kfra8p0\\localcache\\local-packages\\python312\\site-packages (from matplotlib) (1.26.4)\n",
      "Requirement already satisfied: packaging>=20.0 in c:\\users\\dojos\\appdata\\local\\packages\\pythonsoftwarefoundation.python.3.12_qbz5n2kfra8p0\\localcache\\local-packages\\python312\\site-packages (from matplotlib) (23.2)\n",
      "Requirement already satisfied: pillow>=8 in c:\\users\\dojos\\appdata\\local\\packages\\pythonsoftwarefoundation.python.3.12_qbz5n2kfra8p0\\localcache\\local-packages\\python312\\site-packages (from matplotlib) (10.2.0)\n",
      "Requirement already satisfied: pyparsing>=2.3.1 in c:\\users\\dojos\\appdata\\local\\packages\\pythonsoftwarefoundation.python.3.12_qbz5n2kfra8p0\\localcache\\local-packages\\python312\\site-packages (from matplotlib) (3.1.1)\n",
      "Requirement already satisfied: python-dateutil>=2.7 in c:\\users\\dojos\\appdata\\local\\packages\\pythonsoftwarefoundation.python.3.12_qbz5n2kfra8p0\\localcache\\local-packages\\python312\\site-packages (from matplotlib) (2.9.0.post0)\n",
      "Requirement already satisfied: six>=1.5 in c:\\users\\dojos\\appdata\\local\\packages\\pythonsoftwarefoundation.python.3.12_qbz5n2kfra8p0\\localcache\\local-packages\\python312\\site-packages (from python-dateutil>=2.7->matplotlib) (1.16.0)\n",
      "Defaulting to user installation because normal site-packages is not writeable\n",
      "Requirement already satisfied: ipywidgets in c:\\users\\dojos\\appdata\\local\\packages\\pythonsoftwarefoundation.python.3.12_qbz5n2kfra8p0\\localcache\\local-packages\\python312\\site-packages (8.1.2)\n",
      "Requirement already satisfied: comm>=0.1.3 in c:\\users\\dojos\\appdata\\local\\packages\\pythonsoftwarefoundation.python.3.12_qbz5n2kfra8p0\\localcache\\local-packages\\python312\\site-packages (from ipywidgets) (0.2.1)\n",
      "Requirement already satisfied: ipython>=6.1.0 in c:\\users\\dojos\\appdata\\local\\packages\\pythonsoftwarefoundation.python.3.12_qbz5n2kfra8p0\\localcache\\local-packages\\python312\\site-packages (from ipywidgets) (8.22.1)\n",
      "Requirement already satisfied: traitlets>=4.3.1 in c:\\users\\dojos\\appdata\\local\\packages\\pythonsoftwarefoundation.python.3.12_qbz5n2kfra8p0\\localcache\\local-packages\\python312\\site-packages (from ipywidgets) (5.14.1)\n",
      "Requirement already satisfied: widgetsnbextension~=4.0.10 in c:\\users\\dojos\\appdata\\local\\packages\\pythonsoftwarefoundation.python.3.12_qbz5n2kfra8p0\\localcache\\local-packages\\python312\\site-packages (from ipywidgets) (4.0.10)\n",
      "Requirement already satisfied: jupyterlab-widgets~=3.0.10 in c:\\users\\dojos\\appdata\\local\\packages\\pythonsoftwarefoundation.python.3.12_qbz5n2kfra8p0\\localcache\\local-packages\\python312\\site-packages (from ipywidgets) (3.0.10)\n",
      "Requirement already satisfied: decorator in c:\\users\\dojos\\appdata\\local\\packages\\pythonsoftwarefoundation.python.3.12_qbz5n2kfra8p0\\localcache\\local-packages\\python312\\site-packages (from ipython>=6.1.0->ipywidgets) (5.1.1)\n",
      "Requirement already satisfied: jedi>=0.16 in c:\\users\\dojos\\appdata\\local\\packages\\pythonsoftwarefoundation.python.3.12_qbz5n2kfra8p0\\localcache\\local-packages\\python312\\site-packages (from ipython>=6.1.0->ipywidgets) (0.19.1)\n",
      "Requirement already satisfied: matplotlib-inline in c:\\users\\dojos\\appdata\\local\\packages\\pythonsoftwarefoundation.python.3.12_qbz5n2kfra8p0\\localcache\\local-packages\\python312\\site-packages (from ipython>=6.1.0->ipywidgets) (0.1.6)\n",
      "Requirement already satisfied: prompt-toolkit<3.1.0,>=3.0.41 in c:\\users\\dojos\\appdata\\local\\packages\\pythonsoftwarefoundation.python.3.12_qbz5n2kfra8p0\\localcache\\local-packages\\python312\\site-packages (from ipython>=6.1.0->ipywidgets) (3.0.43)\n",
      "Requirement already satisfied: pygments>=2.4.0 in c:\\users\\dojos\\appdata\\local\\packages\\pythonsoftwarefoundation.python.3.12_qbz5n2kfra8p0\\localcache\\local-packages\\python312\\site-packages (from ipython>=6.1.0->ipywidgets) (2.17.2)\n",
      "Requirement already satisfied: stack-data in c:\\users\\dojos\\appdata\\local\\packages\\pythonsoftwarefoundation.python.3.12_qbz5n2kfra8p0\\localcache\\local-packages\\python312\\site-packages (from ipython>=6.1.0->ipywidgets) (0.6.3)\n",
      "Requirement already satisfied: colorama in c:\\users\\dojos\\appdata\\local\\packages\\pythonsoftwarefoundation.python.3.12_qbz5n2kfra8p0\\localcache\\local-packages\\python312\\site-packages (from ipython>=6.1.0->ipywidgets) (0.4.6)\n",
      "Requirement already satisfied: parso<0.9.0,>=0.8.3 in c:\\users\\dojos\\appdata\\local\\packages\\pythonsoftwarefoundation.python.3.12_qbz5n2kfra8p0\\localcache\\local-packages\\python312\\site-packages (from jedi>=0.16->ipython>=6.1.0->ipywidgets) (0.8.3)\n",
      "Requirement already satisfied: wcwidth in c:\\users\\dojos\\appdata\\local\\packages\\pythonsoftwarefoundation.python.3.12_qbz5n2kfra8p0\\localcache\\local-packages\\python312\\site-packages (from prompt-toolkit<3.1.0,>=3.0.41->ipython>=6.1.0->ipywidgets) (0.2.13)\n",
      "Requirement already satisfied: executing>=1.2.0 in c:\\users\\dojos\\appdata\\local\\packages\\pythonsoftwarefoundation.python.3.12_qbz5n2kfra8p0\\localcache\\local-packages\\python312\\site-packages (from stack-data->ipython>=6.1.0->ipywidgets) (2.0.1)\n",
      "Requirement already satisfied: asttokens>=2.1.0 in c:\\users\\dojos\\appdata\\local\\packages\\pythonsoftwarefoundation.python.3.12_qbz5n2kfra8p0\\localcache\\local-packages\\python312\\site-packages (from stack-data->ipython>=6.1.0->ipywidgets) (2.4.1)\n",
      "Requirement already satisfied: pure-eval in c:\\users\\dojos\\appdata\\local\\packages\\pythonsoftwarefoundation.python.3.12_qbz5n2kfra8p0\\localcache\\local-packages\\python312\\site-packages (from stack-data->ipython>=6.1.0->ipywidgets) (0.2.2)\n",
      "Requirement already satisfied: six>=1.12.0 in c:\\users\\dojos\\appdata\\local\\packages\\pythonsoftwarefoundation.python.3.12_qbz5n2kfra8p0\\localcache\\local-packages\\python312\\site-packages (from asttokens>=2.1.0->stack-data->ipython>=6.1.0->ipywidgets) (1.16.0)\n"
     ]
    }
   ],
   "source": [
    "!pip install pandas\n",
    "!pip install matplotlib\n",
    "!pip install ipywidgets"
   ],
   "metadata": {
    "collapsed": false,
    "ExecuteTime": {
     "end_time": "2024-03-25T10:57:44.643938Z",
     "start_time": "2024-03-25T10:57:39.157754Z"
    }
   },
   "id": "ec151856057a5e99",
   "execution_count": 156
  },
  {
   "cell_type": "markdown",
   "source": [
    "On commence par coder une visualisation des images par année"
   ],
   "metadata": {
    "collapsed": false
   },
   "id": "f5a922477681e1ce"
  },
  {
   "cell_type": "code",
   "outputs": [],
   "source": [
    "import pandas as pd\n",
    "import matplotlib.pyplot as plt\n",
    "import matplotlib\n",
    "import json\n",
    "import datetime\n",
    "\n",
    "annee_actuelle = datetime.datetime.now().year\n",
    "def get_annee(exif):\n",
    "    annee = exif[\"DateTimeOriginal\"].split(\":\")[0] if \"DateTimeOriginal\" in exif.keys() else '0'\n",
    "    if int(annee) == 0 or int(annee) > annee_actuelle:\n",
    "        annee = \"Unknown\"\n",
    "    return annee\n",
    "\n",
    "def images_par_date(exifs, subplot):\n",
    "    dates = [get_annee(i) for i in exifs]\n",
    "    int_dates = [int(d) for d in dates if d != \"Unknown\"]\n",
    "    annees_idx = [str(i) for i in range(min(int_dates), max(int_dates))]\n",
    "    frequences_annees = {k: dates.count(k) for k in annees_idx}\n",
    "    subplot.plot(frequences_annees.keys(), frequences_annees.values())\n",
    "    subplot.set_xlabel('Années')\n",
    "    subplot.set_ylabel('Fréquence')\n",
    "    subplot.set_xticks(annees_idx, [i if int(i) % 5 == 0 else '' for i in annees_idx])\n",
    "    subplot.set_title(f'Fréquence des années\\n(Inconnues: {dates.count(\"Unknown\")})')"
   ],
   "metadata": {
    "collapsed": false,
    "ExecuteTime": {
     "end_time": "2024-03-25T10:57:44.651415Z",
     "start_time": "2024-03-25T10:57:44.644943Z"
    }
   },
   "id": "7850d3224dee9c15",
   "execution_count": 157
  },
  {
   "cell_type": "markdown",
   "source": [
    "On récupère l'orientation des images"
   ],
   "metadata": {
    "collapsed": false
   },
   "id": "e89555f795fcd523"
  },
  {
   "cell_type": "code",
   "outputs": [],
   "source": [
    "def get_orientation(exifs):\n",
    "    orientation = \"unknown\"\n",
    "    if \"ExifImageWidth\" in exifs and \"ExifImageHeight\" in exifs:\n",
    "        orientation = \"landscape\" if exifs[\"ExifImageWidth\"] > exifs[\"ExifImageHeight\"] else \"portrait\"\n",
    "    return orientation\n",
    "\n",
    "def images_par_orientation(list_exifs, subplot):\n",
    "    orientations = [get_orientation(exifs) for exifs in list_exifs]\n",
    "    frequences = {k: orientations.count(k) for k in [\"landscape\", \"portrait\", \"unknown\"]}\n",
    "    subplot.pie(frequences.values(), labels=frequences.keys(), colors=['r','g','b'], autopct='%1.1f%%')\n",
    "    subplot.axis('equal')\n",
    "    subplot.set_title('Fréquence des orientations')        "
   ],
   "metadata": {
    "collapsed": false,
    "ExecuteTime": {
     "end_time": "2024-03-25T10:57:44.662458Z",
     "start_time": "2024-03-25T10:57:44.652429Z"
    }
   },
   "id": "6d7a0cd1c146b315",
   "execution_count": 158
  },
  {
   "cell_type": "markdown",
   "source": [
    "On récupère les couleurs ou tags dominants"
   ],
   "metadata": {
    "collapsed": false
   },
   "id": "312396420da7b6ce"
  },
  {
   "cell_type": "code",
   "outputs": [],
   "source": [
    "def tag_columns(tags, subplot, title, colorlambda= None):\n",
    "    frequences = {}\n",
    "    for tag in tags:\n",
    "        if tag not in frequences:\n",
    "            frequences[tag] = 0\n",
    "        frequences[tag] += 1\n",
    "    colors = None\n",
    "    if colorlambda is not None:\n",
    "        colors = [colorlambda(k) for k in frequences.keys()]\n",
    "    subplot.bar(frequences.keys(), frequences.values(), color=colors, edgecolor=\"black\")\n",
    "    subplot.set_title(title)"
   ],
   "metadata": {
    "collapsed": false,
    "ExecuteTime": {
     "end_time": "2024-03-25T10:57:44.670066Z",
     "start_time": "2024-03-25T10:57:44.664464Z"
    }
   },
   "id": "41ccff974e8fe4e5",
   "execution_count": 159
  },
  {
   "cell_type": "code",
   "outputs": [
    {
     "data": {
      "text/plain": "<Figure size 640x480 with 4 Axes>",
      "image/png": "[encoded data removed]"
     },
     "metadata": {},
     "output_type": "display_data"
    }
   ],
   "source": [
    "with open('img_data.json', 'r') as f:\n",
    "    pic_json_data = json.load(f)\n",
    "pic_exifs = [i[\"exif\"] if i is not None else {} for i in pic_json_data.values()]\n",
    "\n",
    "font = {'size' : 8}\n",
    "matplotlib.rc('font', **font)\n",
    "\n",
    "fig, ((sp1, sp2), (sp3, sp4)) = plt.subplots(2, 2)\n",
    "images_par_date(pic_exifs, sp1)\n",
    "images_par_orientation(pic_exifs, sp2)\n",
    "colortags = [tag_de_couleur(c) for i in pic_json_data.values() for c in i[\"color\"]]\n",
    "tag_columns(colortags, sp3, \"Fréquence des couleurs\", lambda c: c)\n",
    "sp3.set(xticklabels=[])\n",
    "tag_columns([t for i in pic_json_data.values() for t in i[\"tags\"]], sp4, \"Fréquence des tags\")\n",
    "fig.tight_layout()\n",
    "plt.show()"
   ],
   "metadata": {
    "collapsed": false,
    "ExecuteTime": {
     "end_time": "2024-03-25T10:57:45.287230Z",
     "start_time": "2024-03-25T10:57:44.671074Z"
    }
   },
   "id": "eb8343a07f80226a",
   "execution_count": 160
  },
  {
   "cell_type": "code",
   "outputs": [],
   "source": [
    "import ipywidgets as widgets\n",
    "import os\n",
    "from IPython.display import clear_output\n",
    "\n",
    "pics = os.listdir(\"images\")\n",
    "picslen = len(pics)\n",
    "shown_image_idx = 0\n",
    "pic_output = widgets.Output()\n",
    "pic_data = widgets.Output()\n",
    "\n",
    "def show_metadata(name):\n",
    "    global pic_json_data, pic_data\n",
    "    data = pic_json_data[name] if name in pic_json_data.keys() else None\n",
    "    with pic_data:\n",
    "        clear_output()\n",
    "        print(f\"{name}:\")\n",
    "        if data is None:\n",
    "            print(\"No data available\")\n",
    "        else:\n",
    "            print(f\"colors: {' '.join(data['color'])}\")\n",
    "            print(f\"tags: {' '.join(data['tags'])}\")\n",
    "            print(f\"annee: {get_annee(data['exif'])}\")\n",
    "\n",
    "def plus(val):\n",
    "    global shown_image_idx, pics, picslen\n",
    "    shown_image_idx = (picslen + shown_image_idx + val ) % picslen \n",
    "    name = pics[shown_image_idx]\n",
    "    show(name)\n",
    "    show_metadata(name)\n",
    "\n",
    "pic_output = widgets.Output()\n",
    "next_button = widgets.Button(\n",
    "    description='',\n",
    "    disabled=False,\n",
    "    button_style='',\n",
    "    tooltip='Next',\n",
    "    icon='arrow-right'\n",
    ")\n",
    "next_button.style = {'button_color': '#003f17'}\n",
    "next_button.on_click(lambda _b: plus(1))\n",
    "\n",
    "prev_button = widgets.Button(\n",
    "    description='',\n",
    "    disabled=False,\n",
    "    button_style='',\n",
    "    tooltip='Next',\n",
    "    icon='arrow-left'\n",
    ")\n",
    "prev_button.style = {'button_color': '#003f17'}\n",
    "prev_button.on_click(lambda _b: plus(-1))\n",
    "\n",
    "buttons = widgets.HBox([prev_button, next_button])\n",
    "\n",
    "display(buttons,pic_data,pic_output)\n",
    "show(pics[shown_image_idx])\n",
    "show_metadata(pics[shown_image_idx])"
   ],
   "metadata": {
    "collapsed": false,
    "is_executing": true
   },
   "id": "ab7343f5c558245d",
   "execution_count": null
  },
  {
   "cell_type": "code",
   "outputs": [
    {
     "name": "stdout",
     "output_type": "stream",
     "text": [
      "Defaulting to user installation because normal site-packages is not writeable"
     ]
    },
    {
     "name": "stderr",
     "output_type": "stream",
     "text": [
      "  error: subprocess-exited-with-error\n",
      "  \n",
      "  Getting requirements to build wheel did not run successfully.\n",
      "  exit code: 1\n",
      "  \n",
      "  [15 lines of output]\n",
      "  The 'sklearn' PyPI package is deprecated, use 'scikit-learn'\n",
      "  rather than 'sklearn' for pip commands.\n",
      "  \n",
      "  Here is how to fix this error in the main use cases:\n",
      "  - use 'pip install scikit-learn' rather than 'pip install sklearn'\n",
      "  - replace 'sklearn' by 'scikit-learn' in your pip requirements files\n",
      "    (requirements.txt, setup.py, setup.cfg, Pipfile, etc ...)\n",
      "  - if the 'sklearn' package is used by one of your dependencies,\n",
      "    it would be great if you take some time to track which package uses\n",
      "    'sklearn' instead of 'scikit-learn' and report it to their issue tracker\n",
      "  - as a last resort, set the environment variable\n",
      "    SKLEARN_ALLOW_DEPRECATED_SKLEARN_PACKAGE_INSTALL=True to avoid this error\n",
      "  \n",
      "  More information is available at\n",
      "  https://github.com/scikit-learn/sklearn-pypi-package\n",
      "  [end of output]\n",
      "  \n",
      "  note: This error originates from a subprocess, and is likely not a problem with pip.\n",
      "error: subprocess-exited-with-error\n",
      "\n",
      "Getting requirements to build wheel did not run successfully.\n",
      "exit code: 1\n",
      "\n",
      "See above for output.\n",
      "\n",
      "note: This error originates from a subprocess, and is likely not a problem with pip.\n"
     ]
    },
    {
     "name": "stdout",
     "output_type": "stream",
     "text": [
      "\n",
      "Collecting sklearn\n",
      "  Using cached sklearn-0.0.post12.tar.gz (2.6 kB)\n",
      "  Installing build dependencies: started\n",
      "  Installing build dependencies: finished with status 'done'\n",
      "  Getting requirements to build wheel: started\n",
      "  Getting requirements to build wheel: finished with status 'error'\n"
     ]
    }
   ],
   "source": [
    "!pip install sklearn"
   ],
   "metadata": {
    "collapsed": false,
    "ExecuteTime": {
     "end_time": "2024-03-25T11:07:47.857485Z",
     "start_time": "2024-03-25T11:07:37.304950Z"
    }
   },
   "id": "c28ba7a1a9daab59",
   "execution_count": 162
  }
 ],
 "metadata": {
  "kernelspec": {
   "display_name": "Python 3 (ipykernel)",
   "language": "python",
   "name": "python3"
  },
  "language_info": {
   "codemirror_mode": {
    "name": "ipython",
    "version": 3
   },
   "file_extension": ".py",
   "mimetype": "text/x-python",
   "name": "python",
   "nbconvert_exporter": "python",
   "pygments_lexer": "ipython3",
   "version": "3.12.2"
  }
 },
 "nbformat": 4,
 "nbformat_minor": 5
}
