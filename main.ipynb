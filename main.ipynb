{
 "cells": [
  {
   "cell_type": "markdown",
   "id": "6170a8fca255ca05",
   "metadata": {
    "collapsed": false
   },
   "source": [
    "# Projet"
   ]
  },
  {
   "cell_type": "markdown",
   "id": "9e51117bb9f37dde",
   "metadata": {
    "collapsed": false
   },
   "source": [
    "## Collecte de données"
   ]
  },
  {
   "cell_type": "code",
   "execution_count": 1,
   "id": "13c0d01e502c7f5",
   "metadata": {
    "ExecuteTime": {
     "end_time": "2024-03-21T18:16:31.266129Z",
     "start_time": "2024-03-21T18:16:25.346007Z"
    }
   },
   "outputs": [
    {
     "name": "stdout",
     "output_type": "stream",
     "text": [
      "Defaulting to user installation because normal site-packages is not writeable\n",
      "Requirement already satisfied: sparqlwrapper in c:\\users\\dojos\\appdata\\local\\packages\\pythonsoftwarefoundation.python.3.12_qbz5n2kfra8p0\\localcache\\local-packages\\python312\\site-packages (2.0.0)\n",
      "Requirement already satisfied: rdflib>=6.1.1 in c:\\users\\dojos\\appdata\\local\\packages\\pythonsoftwarefoundation.python.3.12_qbz5n2kfra8p0\\localcache\\local-packages\\python312\\site-packages (from sparqlwrapper) (7.0.0)\n",
      "Requirement already satisfied: isodate<0.7.0,>=0.6.0 in c:\\users\\dojos\\appdata\\local\\packages\\pythonsoftwarefoundation.python.3.12_qbz5n2kfra8p0\\localcache\\local-packages\\python312\\site-packages (from rdflib>=6.1.1->sparqlwrapper) (0.6.1)\n",
      "Requirement already satisfied: pyparsing<4,>=2.1.0 in c:\\users\\dojos\\appdata\\local\\packages\\pythonsoftwarefoundation.python.3.12_qbz5n2kfra8p0\\localcache\\local-packages\\python312\\site-packages (from rdflib>=6.1.1->sparqlwrapper) (3.1.1)\n",
      "Requirement already satisfied: six in c:\\users\\dojos\\appdata\\local\\packages\\pythonsoftwarefoundation.python.3.12_qbz5n2kfra8p0\\localcache\\local-packages\\python312\\site-packages (from isodate<0.7.0,>=0.6.0->rdflib>=6.1.1->sparqlwrapper) (1.16.0)\n",
      "Defaulting to user installation because normal site-packages is not writeable\n",
      "Requirement already satisfied: pandas in c:\\users\\dojos\\appdata\\local\\packages\\pythonsoftwarefoundation.python.3.12_qbz5n2kfra8p0\\localcache\\local-packages\\python312\\site-packages (2.2.1)\n",
      "Requirement already satisfied: numpy<2,>=1.26.0 in c:\\users\\dojos\\appdata\\local\\packages\\pythonsoftwarefoundation.python.3.12_qbz5n2kfra8p0\\localcache\\local-packages\\python312\\site-packages (from pandas) (1.26.4)\n",
      "Requirement already satisfied: python-dateutil>=2.8.2 in c:\\users\\dojos\\appdata\\local\\packages\\pythonsoftwarefoundation.python.3.12_qbz5n2kfra8p0\\localcache\\local-packages\\python312\\site-packages (from pandas) (2.9.0.post0)\n",
      "Requirement already satisfied: pytz>=2020.1 in c:\\users\\dojos\\appdata\\local\\packages\\pythonsoftwarefoundation.python.3.12_qbz5n2kfra8p0\\localcache\\local-packages\\python312\\site-packages (from pandas) (2024.1)\n",
      "Requirement already satisfied: tzdata>=2022.7 in c:\\users\\dojos\\appdata\\local\\packages\\pythonsoftwarefoundation.python.3.12_qbz5n2kfra8p0\\localcache\\local-packages\\python312\\site-packages (from pandas) (2024.1)\n",
      "Requirement already satisfied: six>=1.5 in c:\\users\\dojos\\appdata\\local\\packages\\pythonsoftwarefoundation.python.3.12_qbz5n2kfra8p0\\localcache\\local-packages\\python312\\site-packages (from python-dateutil>=2.8.2->pandas) (1.16.0)\n"
     ]
    }
   ],
   "source": [
    "!pip install sparqlwrapper\n",
    "!pip install pandas"
   ]
  },
  {
   "cell_type": "code",
   "execution_count": 27,
   "id": "cbcc901a-1e44-44b8-bf22-135e6b00ecd6",
   "metadata": {
    "ExecuteTime": {
     "end_time": "2024-03-21T18:16:31.984212Z",
     "start_time": "2024-03-21T18:16:31.268147Z"
    }
   },
   "outputs": [],
   "source": [
    "import sys\n",
    "from SPARQLWrapper import SPARQLWrapper, JSON\n",
    "\n",
    "endpoint_url = \"https://query.wikidata.org/sparql\"\n",
    "\n",
    "# Get casino image\n",
    "query = \"\"\"SELECT ?image {\n",
    "  ?data wdt:P31 wd:Q133215;\n",
    "        wdt:P18 ?image\n",
    "}\n",
    "LIMIT 128\"\"\"\n",
    "\n",
    "\n",
    "def get_results(endpoint_url, query):\n",
    "    user_agent = \"WDQS-example Python/%s.%s\" % (\n",
    "        sys.version_info[0],\n",
    "        sys.version_info[1],\n",
    "    )\n",
    "    sparql = SPARQLWrapper(endpoint_url, agent=user_agent)\n",
    "    sparql.setQuery(query)\n",
    "    sparql.setReturnFormat(JSON)\n",
    "    return sparql.query().convert()\n",
    "\n",
    "\n",
    "array = []\n",
    "results = get_results(endpoint_url, query)\n",
    "\n",
    "for result in results[\"results\"][\"bindings\"]:\n",
    "    array.append(\n",
    "        (\n",
    "            result[\"image\"][\"value\"],\n",
    "        )\n",
    "    )"
   ]
  },
  {
   "cell_type": "code",
   "execution_count": 28,
   "id": "42f6d72d-ae1e-4e59-a38f-c0ed356ba85f",
   "metadata": {
    "ExecuteTime": {
     "end_time": "2024-03-21T18:16:38.887300Z",
     "start_time": "2024-03-21T18:16:31.986766Z"
    }
   },
   "outputs": [
    {
     "data": {
      "text/plain": "                                                 image\n0    http://commons.wikimedia.org/wiki/Special:File...\n1    http://commons.wikimedia.org/wiki/Special:File...\n2    http://commons.wikimedia.org/wiki/Special:File...\n3    http://commons.wikimedia.org/wiki/Special:File...\n4    http://commons.wikimedia.org/wiki/Special:File...\n..                                                 ...\n123  http://commons.wikimedia.org/wiki/Special:File...\n124  http://commons.wikimedia.org/wiki/Special:File...\n125  http://commons.wikimedia.org/wiki/Special:File...\n126  http://commons.wikimedia.org/wiki/Special:File...\n127  http://commons.wikimedia.org/wiki/Special:File...\n\n[128 rows x 1 columns]",
      "text/html": "<div>\n<style scoped>\n    .dataframe tbody tr th:only-of-type {\n        vertical-align: middle;\n    }\n\n    .dataframe tbody tr th {\n        vertical-align: top;\n    }\n\n    .dataframe thead th {\n        text-align: right;\n    }\n</style>\n<table border=\"1\" class=\"dataframe\">\n  <thead>\n    <tr style=\"text-align: right;\">\n      <th></th>\n      <th>image</th>\n    </tr>\n  </thead>\n  <tbody>\n    <tr>\n      <th>0</th>\n      <td>http://commons.wikimedia.org/wiki/Special:File...</td>\n    </tr>\n    <tr>\n      <th>1</th>\n      <td>http://commons.wikimedia.org/wiki/Special:File...</td>\n    </tr>\n    <tr>\n      <th>2</th>\n      <td>http://commons.wikimedia.org/wiki/Special:File...</td>\n    </tr>\n    <tr>\n      <th>3</th>\n      <td>http://commons.wikimedia.org/wiki/Special:File...</td>\n    </tr>\n    <tr>\n      <th>4</th>\n      <td>http://commons.wikimedia.org/wiki/Special:File...</td>\n    </tr>\n    <tr>\n      <th>...</th>\n      <td>...</td>\n    </tr>\n    <tr>\n      <th>123</th>\n      <td>http://commons.wikimedia.org/wiki/Special:File...</td>\n    </tr>\n    <tr>\n      <th>124</th>\n      <td>http://commons.wikimedia.org/wiki/Special:File...</td>\n    </tr>\n    <tr>\n      <th>125</th>\n      <td>http://commons.wikimedia.org/wiki/Special:File...</td>\n    </tr>\n    <tr>\n      <th>126</th>\n      <td>http://commons.wikimedia.org/wiki/Special:File...</td>\n    </tr>\n    <tr>\n      <th>127</th>\n      <td>http://commons.wikimedia.org/wiki/Special:File...</td>\n    </tr>\n  </tbody>\n</table>\n<p>128 rows × 1 columns</p>\n</div>"
     },
     "execution_count": 28,
     "metadata": {},
     "output_type": "execute_result"
    }
   ],
   "source": [
    "import pandas as pd\n",
    "dataframe = pd.DataFrame(array, columns=[\"image\"])\n",
    "dataframe = dataframe.astype(\n",
    "    dtype={\"image\": \"<U200\"}\n",
    ")\n",
    "dataframe"
   ]
  },
  {
   "cell_type": "code",
   "execution_count": 29,
   "id": "ea19f1335276aa9a",
   "metadata": {
    "collapsed": false,
    "ExecuteTime": {
     "end_time": "2024-03-21T18:16:38.911237Z",
     "start_time": "2024-03-21T18:16:38.898121Z"
    }
   },
   "outputs": [],
   "source": [
    "import os\n",
    "try:\n",
    "    os.mkdir('images')\n",
    "except:\n",
    "    pass"
   ]
  },
  {
   "cell_type": "markdown",
   "id": "9ba0fe6414a8d0d4",
   "metadata": {
    "collapsed": false
   },
   "source": [
    "Nous allons écrire une méthode pour extraire les exifs"
   ]
  },
  {
   "cell_type": "markdown",
   "id": "9791aaf0725d6db5",
   "metadata": {
    "collapsed": false
   },
   "source": [
    "Nous allons maintenant télécharger les images"
   ]
  },
  {
   "cell_type": "code",
   "execution_count": 30,
   "id": "307c6bcd-24e1-4040-b7de-a62456d4c377",
   "metadata": {
    "ExecuteTime": {
     "end_time": "2024-03-21T18:16:39.112120Z",
     "start_time": "2024-03-21T18:16:38.914997Z"
    }
   },
   "outputs": [],
   "source": [
    "import requests\n",
    "import shutil\n",
    "import os\n",
    "import json\n",
    "\n",
    "count = 0\n",
    "def download_image(url):\n",
    "    global metadata, count\n",
    "    if count % 10 == 0:\n",
    "        print(\"Téléchargé \", count, \" images\") \n",
    "    count += 1\n",
    "\n",
    "    headers = {\"User-Agent\": \"Mozilla/5.0\"}\n",
    "    request = requests.get(url, allow_redirects=True, headers=headers, stream=True)\n",
    "    if request.status_code == 200:\n",
    "        nom = os.path.basename(url)[-30:]\n",
    "        chemin = \"images/\"+nom\n",
    "        with open(chemin, \"wb\") as image:\n",
    "            request.raw.decode_content = True\n",
    "            shutil.copyfileobj(request.raw, image)\n",
    "    return request.status_code"
   ]
  },
  {
   "cell_type": "code",
   "execution_count": 31,
   "id": "93bc8514-6631-4283-8c20-ea3ab34a54b6",
   "metadata": {
    "ExecuteTime": {
     "end_time": "2024-03-21T18:23:22.074975Z",
     "start_time": "2024-03-21T18:16:39.114907Z"
    }
   },
   "outputs": [
    {
     "name": "stdout",
     "output_type": "stream",
     "text": [
      "Début du téléchargement\n",
      "Téléchargé  0  images\n",
      "Téléchargé  10  images\n",
      "Téléchargé  20  images\n",
      "Téléchargé  30  images\n",
      "Téléchargé  40  images\n",
      "Téléchargé  50  images\n",
      "Téléchargé  60  images\n",
      "Téléchargé  70  images\n",
      "Téléchargé  80  images\n",
      "Téléchargé  90  images\n",
      "Téléchargé  100  images\n",
      "Téléchargé  110  images\n",
      "Téléchargé  120  images\n"
     ]
    },
    {
     "data": {
      "text/plain": "0      200\n1      200\n2      200\n3      200\n4      200\n      ... \n123    200\n124    200\n125    200\n126    200\n127    200\nName: image, Length: 128, dtype: int64"
     },
     "execution_count": 31,
     "metadata": {},
     "output_type": "execute_result"
    }
   ],
   "source": [
    "print(\"Début du téléchargement\")\n",
    "dataframe.image.apply(download_image)"
   ]
  },
  {
   "cell_type": "markdown",
   "id": "585aa84c15d81e16",
   "metadata": {
    "collapsed": false
   },
   "source": [
    "On enregistre les exifs"
   ]
  },
  {
   "cell_type": "code",
   "execution_count": 32,
   "id": "4dbb92f046f1f710",
   "metadata": {
    "collapsed": false,
    "ExecuteTime": {
     "end_time": "2024-03-21T18:23:39.340807Z",
     "start_time": "2024-03-21T18:23:22.077993Z"
    }
   },
   "outputs": [
    {
     "name": "stdout",
     "output_type": "stream",
     "text": [
      "Requirement already satisfied: scikit-learn in c:\\users\\leo-b\\onedrive - cpe.fr\\cpe\\s9\\machine_learning\\venv\\lib\\site-packages (1.4.1.post1)\n",
      "Requirement already satisfied: joblib>=1.2.0 in c:\\users\\leo-b\\onedrive - cpe.fr\\cpe\\s9\\machine_learning\\venv\\lib\\site-packages (from scikit-learn) (1.3.2)\n",
      "Requirement already satisfied: scipy>=1.6.0 in c:\\users\\leo-b\\onedrive - cpe.fr\\cpe\\s9\\machine_learning\\venv\\lib\\site-packages (from scikit-learn) (1.12.0)\n",
      "Requirement already satisfied: threadpoolctl>=2.0.0 in c:\\users\\leo-b\\onedrive - cpe.fr\\cpe\\s9\\machine_learning\\venv\\lib\\site-packages (from scikit-learn) (3.3.0)\n",
      "Requirement already satisfied: numpy<2.0,>=1.19.5 in c:\\users\\leo-b\\onedrive - cpe.fr\\cpe\\s9\\machine_learning\\venv\\lib\\site-packages (from scikit-learn) (1.26.4)\n",
      "Fonction extraction OK\n"
     ]
    },
    {
     "name": "stderr",
     "output_type": "stream",
     "text": [
      "\n",
      "[notice] A new release of pip available: 22.3.1 -> 24.0\n",
      "[notice] To update, run: python.exe -m pip install --upgrade pip\n"
     ]
    }
   ],
   "source": [
    "!pip install scikit-learn\n",
    "import os, sys, json\n",
    "from PIL import Image\n",
    "from PIL.ExifTags import TAGS\n",
    "import numpy\n",
    "import math\n",
    "from sklearn.cluster import KMeans\n",
    "\n",
    "\n",
    "def extraire_donnees(image_chemin):\n",
    "    imgfile = Image.open(image_chemin)\n",
    "    try:\n",
    "        exif_data = imgfile._getexif()\n",
    "    except:\n",
    "        print(f\"les EXIFs n'ont pas pu être extraits depuis {image_chemin}\")\n",
    "        exif_data = {}\n",
    "    image_metadata = dict()\n",
    "    if exif_data:\n",
    "        for tag, value in exif_data.items():\n",
    "            if(isinstance(value, bytes)):\n",
    "                continue\n",
    "            if (not isinstance(value, int)) and (not isinstance(value, float)):\n",
    "                value = f\"{value}\"\n",
    "            if tag in TAGS:\n",
    "                image_metadata[TAGS[tag]] = value\n",
    "    return image_metadata\n",
    "print(\"Fonction extraction OK\")"
   ]
  },
  {
   "cell_type": "markdown",
   "id": "c624fb4963fbe0d4",
   "metadata": {
    "collapsed": false
   },
   "source": [
    "Extraction des couleurs"
   ]
  },
  {
   "cell_type": "code",
   "execution_count": 33,
   "id": "961ff0e6632d80f5",
   "metadata": {
    "collapsed": false,
    "ExecuteTime": {
     "end_time": "2024-03-21T18:23:39.378266Z",
     "start_time": "2024-03-21T18:23:39.349839Z"
    }
   },
   "outputs": [],
   "source": [
    "def extraire_couleurs(image_chemin):\n",
    "    imgfile = Image.open(image_chemin)\n",
    "    numarray = numpy.array(imgfile.getdata(), numpy.uint8)\n",
    "    print(image_chemin)\n",
    "    clusters = KMeans(n_clusters=2, n_init=2)\n",
    "    couleurs = []\n",
    "    try :\n",
    "        clusters.fit(numarray)\n",
    "        for i in range(2):\n",
    "            couleur = (\"#%02x%02x%02x\"\n",
    "                % (\n",
    "                    math.ceil(clusters.cluster_centers_[i][0]),\n",
    "                    math.ceil(clusters.cluster_centers_[i][1]),\n",
    "                    math.ceil(clusters.cluster_centers_[i][2]),\n",
    "                ))\n",
    "            couleurs.append(couleur)\n",
    "    except:\n",
    "        print(f\"les couleurs n'ont pas pu être extraits depuis {image_chemin}\")\n",
    "        couleur = \"#00000\"\n",
    "        for i in range(2):\n",
    "            couleurs.append(couleur)\n",
    "    print(couleurs)\n",
    "    return couleurs"
   ]
  },
  {
   "cell_type": "code",
   "execution_count": 34,
   "id": "b141cb6f46e2ee94",
   "metadata": {
    "collapsed": false,
    "ExecuteTime": {
     "end_time": "2024-03-21T18:23:39.397807Z",
     "start_time": "2024-03-21T18:23:39.383283Z"
    }
   },
   "outputs": [],
   "source": [
    "def ajout_tag(dat, filename, tags):\n",
    "    dat[filename]['tags'] = tags\n",
    "    return dat\n",
    "\n",
    "def lire_entree(dat, filename):\n",
    "    input_file = \"user_input/\"+filename+\".txt\"\n",
    "    tagstr = \"\"\n",
    "    if os.path.exists(input_file):\n",
    "        with open(input_file, 'r') as fichier:\n",
    "            tagstr = fichier.read()\n",
    "    tags = [partie for partie in tagstr.split() if partie]\n",
    "    return ajout_tag(dat, filename, tags)"
   ]
  },
  {
   "cell_type": "markdown",
   "id": "448e67b571c50465",
   "metadata": {
    "collapsed": false
   },
   "source": [
    "Construction du JSON"
   ]
  },
  {
   "cell_type": "code",
   "execution_count": 35,
   "id": "ba3b844e4b5cdb4e",
   "metadata": {
    "collapsed": false,
    "ExecuteTime": {
     "end_time": "2024-03-21T19:41:14.291987Z",
     "start_time": "2024-03-21T19:25:29.577958Z"
    }
   },
   "outputs": [
    {
     "name": "stdout",
     "output_type": "stream",
     "text": [
      "images/%20Casino%2C%20Las%20Vagas.jpg\n",
      "['#92a0b0', '#4a4747']\n",
      "images/%20Casino%2C%20Scarborough.jpg\n",
      "['#d8d8db', '#42403f']\n",
      "images/%20Montbenon%2C%20Lausanne.jpg\n",
      "['#1e1b19', '#939da4']\n",
      "images/%20Neuenahr%20Kurhaus%2030.JPG\n",
      "['#313b57', '#beb8b0']\n",
      "images/%20Pablo%20Lytton%20Casino.jpg\n",
      "['#d9e3d9', '#545352']\n",
      "images/%20Savoie%20-Aix-les-Bains.JPG\n",
      "['#455549', '#a2bed1']\n",
      "images/%20Vegas%20December%202013.jpg\n",
      "['#b9bec2', '#5f5448']\n",
      "images/%20Vegas%20Wynn%20P4220706.jpg\n",
      "['#4c5248', '#b0c4d6']\n",
      "images/%C3%A1rkert%20kaszin%C3%B3.jpg\n",
      "['#a9afb1', '#423f3e']\n",
      "images/-%20en%20Cultuurpaleis%201.jpg\n",
      "['#3f3e41', '#869aba']\n",
      "images/-%20North%20-%202011-06-04.jpg\n",
      "['#505551', '#c9d1e2']\n",
      "images/02017%2003%20%28cropped%29.jpg\n",
      "['#97acc5', '#444342']\n",
      "images/0Casino%20main%20entrance.jpeg\n",
      "['#86a7dc', '#5c5446']\n",
      "images/0Santa%20Ana%20Pueblo%20NM.jpg\n",
      "['#a8b6c7', '#624b3e']\n",
      "images/2015%20img38%20Spa%20house.jpg\n",
      "['#7b7b70', '#227ee6']\n",
      "images/20expansion%20april%202008.jpg\n",
      "['#58686f', '#dfe9ef']\n",
      "images/20Grand%20River%20Detroit1.jpg\n",
      "['#3e4d51', '#c9dbdf']\n",
      "images/20Niagara%20Casino%20Tower.jpg\n",
      "['#466382', '#a2bcdb']\n",
      "images/20Palais%20de%20l%27Europe.jpg\n",
      "['#57524d', '#8da8d6']\n",
      "images/29%20-%20Brantford%2C%20ON.jpg\n",
      "['#353843', '#a8bce2']\n",
      "images/4%20queens.JPG\n",
      "['#341a13', '#d9b97d']\n",
      "images/7Entr%C3%A9e%20du%20Casino.jpg\n",
      "['#d5c2b2', '#6e6864']\n",
      "images/8893445036%29%28cropped%29.jpg\n",
      "['#6b6052', '#f7f9f8']\n",
      "images/Aachen%20Casino.JPG\n",
      "['#bf894b', '#170e04']\n",
      "images/aden%20baden%202016%200010.jpg\n",
      "['#585a44', '#9eb2ca']\n",
      "images/Annecy%2020120101%20-%2019.JPG\n",
      "['#b4b6c1', '#3c3d2b']\n",
      "images/ano.%20Figueira%20da%20Foz.jpg\n",
      "['#ebf3f6', '#6d6c64']\n",
      "images/Arcachon%20Casino%20R01.jpg\n",
      "['#879ab9', '#45453d']\n",
      "images/asino%20Canberra%20Sign%20.jpg\n",
      "['#1e2725', '#c3b899']\n",
      "images/asino%20de%20Montr%C3%A9al.JPG\n",
      "['#d8dbe9', '#44445a']\n",
      "images/asino%20on%20empty%20night.jpg\n",
      "['#d6745d', '#22100a']\n",
      "images/au%20Las%20Vegas%20signage.jpg\n",
      "['#585f55', '#90acd8']\n",
      "images/Ballys%20Las%20Vegas.jpg\n",
      "['#3e475b', '#bebcb8']\n",
      "images/Bellagio%20outside.jpg\n",
      "['#cedee9', '#67736e']\n",
      "images/Binion%27s.jpg\n",
      "['#2f241d', '#9bb9af']\n",
      "images/Binions%20horseshoe%201986.jpg\n",
      "['#d6b97b', '#210c07']\n",
      "images/Borgata%20ac.jpg\n",
      "['#c0bfbb', '#5e5438']\n",
      "images/C%20France%20-%20panoramio.jpg\n",
      "['#85888e', '#342e2a']\n",
      "images/C%20France%2C%20ca.%201895.jpg\n",
      "['#c5c1d1', '#5b4f31']\n",
      "images/Casa%20Rosso%203.jpg\n",
      "['#413e45', '#b0a5a9']\n",
      "images/Casino%20at%20night%202004.jpg\n",
      "['#1c1009', '#e0c2af']\n",
      "images/Casino%20Barri%C3%A8re.jpg\n",
      "['#c2beb1', '#596f8e']\n",
      "images/Casino%20Estoril.jpg\n",
      "['#a0b0cc', '#3f3d28']\n",
      "images/Casino%20Figueira.jpg\n",
      "['#2f343d', '#84a7c6']\n",
      "images/Casino%20Kursaal.jpg\n",
      "['#5d7379', '#cad0c1']\n",
      "images/Casino%20Montbenon.jpg\n",
      "['#c1c0bc', '#656261']\n",
      "images/Casino%20Travemuende.jpg\n",
      "['#92a3b5', '#4e4b49']\n",
      "images/Casino-de-Saint-Denis.JPG\n",
      "['#7c97be', '#231c16']\n",
      "images/CasinoduLiban.jpg\n",
      "['#212023', '#807a86']\n",
      "images/CASSINO-ALADIM.JPG\n",
      "['#3e3934', '#8d9cb4']\n",
      "images/Circus%20Circus%20P4220697.jpg\n",
      "['#89a3b4', '#534d4b']\n",
      "images/Crown%20Casino%20complex.jpg\n",
      "['#7491cb', '#515457']\n",
      "images/Deauville-Casino-20120915.jpg\n",
      "['#424c59', '#d6d0cc']\n",
      "images/den%20Kursaal%20Stirnfront.jpg\n",
      "['#839db5', '#383c25']\n",
      "images/did%20et%20Atrium%20Casino.jpg\n",
      "['#5b5a56', '#eaf1f4']\n",
      "images/Dunes%20Hotel.jpg\n",
      "['#ebe7e2', '#4f534c']\n",
      "images/e%20hotel%20The%20Bellagio.jpg\n",
      "['#3d4c54', '#b5ab9a']\n",
      "images/egas%20-%20November%202003.jpg\n",
      "['#5f5d59', '#c7d4d3']\n",
      "images/eux%20Casino%20-%20Closeup.jpg\n",
      "['#3f4e46', '#b6bbba']\n",
      "images/Fa%C3%A7ade%20fleurie.jpg\n",
      "['#3d3829', '#b9baaf']\n",
      "images/Flamingohotelyay.jpg\n",
      "['#323246', '#b5a9a3']\n",
      "images/Fremont%20street%201983.jpg\n",
      "['#3a1f15', '#828c8d']\n",
      "images/gas%20Excalibur%20P4230727.jpg\n",
      "['#4c4f53', '#9bbacf']\n",
      "images/gas%20Tropicana%20P4230726.jpg\n",
      "['#52718d', '#d3d9d7']\n",
      "images/Golden%20Nugget%202008.jpg\n",
      "['#a27957', '#271f1b']\n",
      "images/Golden%20Nugget.jpg\n",
      "['#585d60', '#ccd3db']\n",
      "images/GrandCasinoBasel.JPG\n",
      "['#69453a', '#7993bb']\n",
      "images/Hard%20rock%20las%20vegas.jpg\n",
      "['#3d3931', '#b8c2ce']\n",
      "images/Hooters%20Casino%20HotelLV.jpg\n",
      "['#4b5256', '#bcd5e6']\n",
      "images/HPIM1957.sized.jpg\n",
      "['#e6e4e1', '#6f493e']\n",
      "images/ino%20de%20Charlevoix%2001.jpg\n",
      "['#606d42', '#c2d8e1']\n",
      "images/ino%20helium%20balloon-002.jpg\n",
      "['#97abc5', '#585442']\n",
      "images/ino%20mauresque%20arcachon.jpg\n",
      "['#4b4c40', '#d2d3c8']\n",
      "images/Interlaken%20Kursaal%2009.jpg\n",
      "['#9fba81', '#3d4d43']\n",
      "images/is%2C%20Duisburg%2C%202012.JPG\n",
      "['#565441', '#b8c0c8']\n",
      "images/Kurpark-hg-spielbank-005.jpg\n",
      "['#3b3d32', '#b7bab2']\n",
      "images/land%20Hotel%20Las%20Vegas.jpg\n",
      "['#3f3b34', '#96a3b5']\n",
      "images/LasVegas-MGMgrand.jpg\n",
      "['#1a2511', '#ac8b71']\n",
      "images/Leamy%20Casino.JPG\n",
      "['#5b5e6c', '#c6cedd']\n",
      "images/London%20Hippodrome%202011.jpg\n",
      "['#f2f9fb', '#58534d']\n",
      "images/M-408116720.jpg\n",
      "['#1c0902', '#e4a46b']\n",
      "images/Marinalarge.jpg\n",
      "['#555449', '#7ca5c3']\n",
      "images/Mermaidscasino.jpg\n",
      "['#c5bfb2', '#221a17']\n",
      "images/Mirage%20Volcano.jpg\n",
      "['#47291a', '#deb48a']\n",
      "images/MorongoCasino1.JPG\n",
      "['#d2d7d9', '#545245']\n",
      "images/Neues%20Kurhaus%20II.jpg\n",
      "['#d5dadc', '#514b42']\n",
      "images/Newcastle%20Casino%201.jpg\n",
      "['#dfd6cd', '#756253']\n",
      "images/Newport%20Casino.jpg\n",
      "['#545646', '#98bcd1']\n",
      "images/o%2C%20casin%C3%B2%2C%2001.jpg\n",
      "['#4a4643', '#a5bfdf']\n",
      "images/od%202%20%28June%202019%29.jpg\n",
      "['#96a0ab', '#475056']\n",
      "images/OLG%20Casino%201000.JPG\n",
      "['#6c86a6', '#684130']\n",
      "images/ontainebleau%20Las%20Vegas.JPG\n",
      "['#384a5e', '#c1d6df']\n",
      "images/Opera%20House%20Casino.jpg\n",
      "['#84b8dc', '#43424d']\n",
      "images/Orleans2-LV.JPG\n",
      "['#434239', '#aeb5ba']\n",
      "images/ouge%20Sign%20Circa%202006.jpg\n",
      "['#7395c6', '#414044']\n",
      "images/Oxford%20Casino.jpg\n",
      "['#556753', '#fbfdfe']\n",
      "images/Palms%20Casino%20Resort.jpg\n",
      "['#5c7a9b', '#342d31']\n",
      "images/Park%20MGM%20exterior.jpg\n",
      "['#b2c0d2', '#2d3437']\n",
      "images/Pioneer%20club%2003.JPG\n",
      "['#553c29', '#7499ae']\n",
      "images/PRC%20exterior.jpg\n",
      "['#4d403a', '#d4e2f3']\n",
      "images/r%20City%20Casino%20Length.png\n",
      "['#434b4c', '#acc3d4']\n",
      "images/Railroad%20Pass%20Casino.jpg\n",
      "['#3b526b', '#cec1a5']\n",
      "images/RainbowCasinoWendover.JPG\n",
      "['#5b5a53', '#86a1b9']\n",
      "images/Red%20Rock%20hotel.jpg\n",
      "['#c8e1eb', '#595652']\n",
      "images/RedGarterWendover1.JPG\n",
      "['#635f5b', '#c9d4dd']\n",
      "images/Rio%20hotel%20vegas.jpg\n",
      "['#5a463a', '#b2c1d0']\n",
      "images/Rio%20Vegas%20Nima.JPG\n",
      "['#ced8d5', '#3e495e']\n",
      "images/River%20City%20Casino.jpg\n",
      "['#352f38', '#b3a58a']\n",
      "images/Riverrockcasino-2.jpg\n",
      "['#7a7570', '#f2f1f1']\n",
      "images/RiversCasino.jpg\n",
      "['#49494f', '#aeaaa9']\n",
      "images/Royan%20pont%20cas.JPG\n",
      "['#b8baab', '#676e67']\n",
      "images/s%20%28July%2015%202008%29.jpg\n",
      "['#a7bbd1', '#6c664b']\n",
      "images/s%2095%20%2828276862784%29.jpg\n",
      "['#2f397c', '#969dc8']\n",
      "images/s%20Vegas%20October%202012.jpg\n",
      "['#413b3c', '#b4b1ad']\n",
      "images/Sams%20town%20kc.jpg\n",
      "['#51443a', '#dce0dd']\n",
      "images/Southcoastcasinovegas.jpg\n",
      "['#a1bec5', '#5b5d56']\n",
      "images/Spielbank%20Hohensyburg.JPG\n",
      "['#333a3f', '#d4ddda']\n",
      "images/sVegas%20-%20ParisLasVegas.jpg\n",
      "['#c0bfc8', '#463d34']\n",
      "images/th%20East%20-%202010-12-12.jpg\n",
      "['#939eac', '#47382d']\n",
      "images/The%20Cal.jpg\n",
      "['#1e2222', '#91897f']\n",
      "images/tian%20Las%20Vegas%2C%20NV.jpg\n",
      "['#f5f9fc', '#50524b']\n",
      "images/tion%2C%20Las%20Vegas%20NV.jpg\n",
      "['#3f3c3c', '#c0cdd8']\n",
      "images/tre%20par%20Emile%20Ledoux.jpg\n",
      "['#d8b59e', '#4a502c']\n",
      "images/urhaus-Wiesbaden-bei-Nacht.jpg\n",
      "['#473b2b', '#d3a463']\n",
      "images/ust%20Hotel%20And%20Casino.jpg\n",
      "['#d3d8cb', '#345472']\n",
      "images/Vegas%20-%20October%202021.jpg\n",
      "['#91abcc', '#2b3644']\n",
      "images/Venetian%20Macau.jpg\n",
      "['#1a150e', '#a78e65']\n",
      "images/ver%20City%20Casino%201999.jpg\n",
      "['#c5d6e8', '#494445']\n",
      "{'%20Casino%2C%20Las%20Vagas.jpg': {'exif': {'CustomRendered': 0, 'ExposureMode': 0, 'WhiteBalance': 0, 'SceneCaptureType': 0, 'Contrast': 0, 'Saturation': 0, 'Sharpness': 0, 'ImageDescription': '                               ', 'Make': 'SONY', 'Model': 'DSC-H3', 'Orientation': 1, 'YCbCrPositioning': 2, 'XResolution': '72.0', 'YResolution': '72.0', 'ResolutionUnit': 2, 'Software': 'Adobe Photoshop CS2 Windows', 'DateTime': '2008:03:16 20:23:43', 'ExifOffset': 380, 'CompressedBitsPerPixel': '3.0', 'DateTimeOriginal': '2008:03:07 22:55:14', 'DateTimeDigitized': '2008:03:07 22:55:14', 'ExposureBiasValue': '0.0', 'MaxApertureValue': '3.625', 'MeteringMode': 5, 'LightSource': 0, 'Flash': 24, 'FocalLength': '6.3', 'ColorSpace': 1, 'ExifImageWidth': 584, 'ExifImageHeight': 778, 'ExposureTime': '0.002', 'FNumber': '8.0', 'ExposureProgram': 2, 'ISOSpeedRatings': 125}, 'color': ['#92a0b0', '#4a4747'], 'tags': []}, '%20Casino%2C%20Scarborough.jpg': {'exif': {'ResolutionUnit': 2, 'ExifOffset': 2310, 'Make': 'Sony Ericsson', 'Model': 'K660i', 'Software': 'Microsoft Windows Photo Gallery 6.0.6001.18000', 'Orientation': 1, 'DateTime': '2011:10:17 20:12:05', 'YCbCrPositioning': 2, 'XResolution': '72.0', 'YResolution': '72.0', 'DateTimeOriginal': '2011:10:05 15:50:47', 'DateTimeDigitized': '2011:10:05 15:50:48', 'ExposureBiasValue': '0.3', 'ExifImageWidth': 1314, 'MeteringMode': 2, 'LightSource': 0, 'Flash': 32, 'FocalLength': '3.25', 'ExifImageHeight': 1122, 'ExifInteroperabilityOffset': 18674, 'DigitalZoomRatio': '1.0', 'SceneCaptureType': 0, 'ExposureTime': '0.0025', 'FNumber': '3.0', 'ImageUniqueID': '2B496F3E73194570BEB79BC3380D6DE2', 'CustomRendered': 0, 'ISOSpeedRatings': 100, 'ExposureMode': 0, 'WhiteBalance': 0}, 'color': ['#d8d8db', '#42403f'], 'tags': []}, '%20Montbenon%2C%20Lausanne.jpg': {'exif': {'ResolutionUnit': 2, 'ExifOffset': 242, 'ImageDescription': 'OLYMPUS DIGITAL CAMERA', 'Make': 'OLYMPUS IMAGING CORP.', 'Model': 'E-500', 'Software': 'Adobe Photoshop Lightroom 3.4.1', 'DateTime': '2011:09:29 21:07:19', 'XResolution': '240.0', 'YResolution': '240.0', 'ShutterSpeedValue': '6.321928', 'ApertureValue': '4.643856', 'ExposureBiasValue': '0.0', 'MaxApertureValue': '3.61328125', 'CustomRendered': 0, 'MeteringMode': 5, 'LightSource': 9, 'Flash': 24, 'FocalLength': '23.0', 'ExposureMode': 0, 'WhiteBalance': 1, 'DigitalZoomRatio': '1.0', 'SceneCaptureType': 1, 'GainControl': 0, 'Contrast': 2, 'Saturation': 2, 'Sharpness': 2, 'ExposureTime': '0.0125', 'FNumber': '5.0', 'ExposureProgram': 5, 'ISOSpeedRatings': 100}, 'color': ['#1e1b19', '#939da4'], 'tags': []}, '%20Neuenahr%20Kurhaus%2030.JPG': {'exif': {'ResolutionUnit': 2, 'ExifOffset': 136, 'Make': 'Canon', 'Model': 'Canon EOS 1000D', 'Software': 'Digital Photo Professional', 'Orientation': 1, 'DateTime': '2011:09:28 15:37:34', 'YCbCrPositioning': 1, 'XResolution': '350.0', 'YResolution': '350.0', 'ShutterSpeedValue': '9.0', 'DateTimeOriginal': '2011:09:28 15:37:34', 'DateTimeDigitized': '2011:09:28 15:37:34', 'ApertureValue': '6.0', 'ExposureBiasValue': '-0.3333333333333333', 'Flash': 16, 'FocalLength': '22.0', 'ColorSpace': 1, 'ExifImageWidth': 3572, 'SceneCaptureType': 0, 'FocalPlaneXResolution': '4438.356164383562', 'FocalPlaneYResolution': '4445.969125214408', 'SubsecTime': '83', 'SubsecTimeOriginal': '83', 'SubsecTimeDigitized': '83', 'ExifImageHeight': 2469, 'FocalPlaneResolutionUnit': 2, 'ExposureTime': '0.002', 'FNumber': '8.0', 'ExposureProgram': 3, 'CustomRendered': 0, 'ISOSpeedRatings': 100, 'ExposureMode': 0, 'WhiteBalance': 0}, 'color': ['#313b57', '#beb8b0'], 'tags': []}, '%20Pablo%20Lytton%20Casino.jpg': {'exif': {'ResolutionUnit': 2, 'ExifOffset': 348, 'Make': 'Canon', 'Model': 'Canon EOS REBEL T3i', 'YResolution': '72.0', 'Orientation': 1, 'DateTime': '2017:05:19 11:34:27', 'YCbCrPositioning': 2, 'Copyright': '', 'XResolution': '72.0', 'Artist': '', 'ShutterSpeedValue': '6.625', 'DateTimeOriginal': '2017:05:19 11:34:27', 'DateTimeDigitized': '2017:05:19 11:34:27', 'ApertureValue': '5.375', 'ExposureBiasValue': '0.0', 'MeteringMode': 5, 'Flash': 16, 'FocalLength': '55.0', 'ColorSpace': 1, 'ExifImageWidth': 5184, 'ExifInteroperabilityOffset': 8598, 'FocalPlaneXResolution': '5728.176795580111', 'FocalPlaneYResolution': '5808.403361344538', 'SubsecTime': '03', 'SubsecTimeOriginal': '03', 'SubsecTimeDigitized': '03', 'ExifImageHeight': 3456, 'FocalPlaneResolutionUnit': 2, 'ExposureTime': '0.01', 'FNumber': '6.3', 'ExposureProgram': 3, 'CustomRendered': 0, 'ISOSpeedRatings': 100, 'ExposureMode': 0, 'SensitivityType': 2, 'WhiteBalance': 0, 'RecommendedExposureIndex': 100, 'CameraOwnerName': '\\x00\\x00\\x00\\x00\\x00\\x00\\x00\\x00\\x00\\x00\\x00\\x00\\x00\\x00\\x00\\x00\\x00\\x00\\x00\\x00\\x00\\x00\\x00\\x00\\x00\\x00\\x00\\x00\\x00\\x00\\x00', 'BodySerialNumber': '372077047822', 'LensSpecification': '(18.0, 55.0, nan, nan)', 'LensModel': 'EF-S18-55mm f/3.5-5.6 IS II\\x00\\x00\\x00\\x00\\x00\\x00\\x00\\x00\\x00\\x00\\x00\\x00\\x00\\x00\\x00\\x00\\x00\\x00\\x00\\x00\\x00\\x00\\x00\\x00\\x00\\x00\\x00\\x00\\x00\\x00\\x00\\x00\\x00\\x00\\x00\\x00\\x00\\x00\\x00\\x00\\x00\\x00', 'LensSerialNumber': '0000726c4c\\x00', 'SceneCaptureType': 0}, 'color': ['#d9e3d9', '#545352'], 'tags': []}, '%20Savoie%20-Aix-les-Bains.JPG': {'exif': {'ResolutionUnit': 2, 'ExifOffset': 2294, 'Make': 'EASTMAN KODAK COMPANY', 'Model': 'KODAK EASYSHARE ZD710 ZOOM DIGITAL CAMERA', 'Orientation': 1, 'DateTime': '2012:09:22 18:05:50', 'YCbCrPositioning': 1, 'XResolution': '480.0', 'YResolution': '480.0', 'ShutterSpeedValue': '9.333333333333334', 'DateTimeOriginal': '2012:09:22 15:02:02', 'DateTimeDigitized': '2012:09:22 15:02:02', 'ApertureValue': '4.0', 'ExposureBiasValue': '0.0', 'MaxApertureValue': '3.0', 'MeteringMode': 5, 'LightSource': 0, 'Flash': 16, 'FocalLength': '6.3', 'ColorSpace': 1, 'ExifImageWidth': 2972, 'ExifInteroperabilityOffset': 14322, 'SceneCaptureType': 0, 'ExifImageHeight': 2164, 'Contrast': 0, 'Saturation': 0, 'Sharpness': 0, 'SubjectDistanceRange': 0, 'ExposureIndex': '80.0', 'SensingMethod': 2, 'ExposureTime': '0.0015625', 'FNumber': '4.0', 'ImageUniqueID': 'AA9C5182F97C4B75BE1C934B789DB227', 'ExposureProgram': 0, 'CustomRendered': 0, 'ISOSpeedRatings': 80, 'ExposureMode': 0, 'WhiteBalance': 0, 'DigitalZoomRatio': '0.0', 'FocalLengthIn35mmFilm': 38, 'GainControl': 1}, 'color': ['#455549', '#a2bed1'], 'tags': []}, '%20Vegas%20December%202013.jpg': {'exif': {'ResolutionUnit': 2, 'ExifOffset': 220, 'Make': 'NIKON CORPORATION', 'Model': 'NIKON D7000', 'Software': 'Adobe Photoshop Camera Raw 6.7.1 (Windows)', 'DateTime': '2015:05:24 22:18:35', 'XResolution': '300.0', 'YResolution': '300.0', 'ShutterSpeedValue': '-1.321928', 'ApertureValue': '6.0', 'DateTimeOriginal': '2013:12:25 16:44:36', 'DateTimeDigitized': '2013:12:25 16:44:36', 'ExposureBiasValue': '-0.6666666666666666', 'MaxApertureValue': '3.0', 'MeteringMode': 5, 'LightSource': 0, 'Flash': 16, 'FocalLength': '16.0', 'WhiteBalance': 0, 'DigitalZoomRatio': '1.0', 'FocalLengthIn35mmFilm': 24, 'SceneCaptureType': 0, 'GainControl': 0, 'SubsecTimeOriginal': '90', 'SubsecTimeDigitized': '90', 'Sharpness': 0, 'SubjectDistanceRange': 0, 'SensingMethod': 2, 'ExposureTime': '2.5', 'FNumber': '8.0', 'ExposureProgram': 3, 'CustomRendered': 0, 'ISOSpeedRatings': 100, 'ExposureMode': 0, 'SensitivityType': 2, 'BodySerialNumber': '3392989', 'LensSpecification': '(11.0, 16.0, 2.8, 2.8)', 'LensModel': '11.0-16.0 mm f/2.8', 'Contrast': 0, 'Saturation': 0}, 'color': ['#b9bec2', '#5f5448'], 'tags': ['modern']}, '%20Vegas%20Wynn%20P4220706.jpg': {'exif': {'DateTimeOriginal': '2018:04:22 22:03:21', 'Rating': 1, 'ResolutionUnit': 2, 'RatingPercent': 20, 'ExifOffset': 1018, 'ImageDescription': 'OLYMPUS DIGITAL CAMERA         ', 'Make': 'OLYMPUS IMAGING CORP.  ', 'Model': 'SZ-20                  ', 'Software': 'darktable 2.0', 'Orientation': 1, 'DateTime': '2018:05:27 17:31:08', 'YCbCrPositioning': 2, 'XResolution': 300, 'YResolution': 300, 'CompressedBitsPerPixel': '2.0', 'DateTimeDigitized': '2018:04:22 22:03:21', 'ExposureBiasValue': '0.0', 'MaxApertureValue': '3.26', 'MeteringMode': 5, 'LightSource': 0, 'Flash': 16, 'FocalLength': '4.2', 'ColorSpace': 1, 'ExifImageWidth': 3996, 'ExifInteroperabilityOffset': 2658, 'SceneCaptureType': 1, 'ExifImageHeight': 2990, 'Contrast': 0, 'Saturation': 0, 'Sharpness': 0, 'ExposureTime': '0.001', 'FNumber': '3.0', 'ExposureProgram': 5, 'CustomRendered': 0, 'ISOSpeedRatings': 80, 'ExposureMode': 0, 'WhiteBalance': 0, 'DigitalZoomRatio': '0.0', 'FocalLengthIn35mmFilm': 24, 'GainControl': 0}, 'color': ['#4c5248', '#b0c4d6'], 'tags': ['nature', 'modern']}, '%C3%A1rkert%20kaszin%C3%B3.jpg': {'exif': {'ResolutionUnit': 2, 'ExifOffset': 240, 'ImageDescription': '          ', 'Make': 'NIKON', 'Model': 'COOLPIX P530', 'Software': 'ACD Systems Digital Imaging', 'Orientation': 1, 'DateTime': '2017:02:02 09:29:07', 'YCbCrPositioning': 1, 'XResolution': '300.0', 'YResolution': '300.0', 'CompressedBitsPerPixel': '2.0', 'DateTimeOriginal': '2017:01:28 12:01:44', 'DateTimeDigitized': '2017:01:28 12:01:44', 'ExposureBiasValue': '0.0', 'MaxApertureValue': '3.2', 'MeteringMode': 5, 'LightSource': 0, 'Flash': 16, 'FocalLength': '25.9', 'ColorSpace': 1, 'ExifImageWidth': 4608, 'ExifInteroperabilityOffset': 3710, 'SceneCaptureType': 0, 'SubsecTime': '546', 'ExifImageHeight': 3456, 'Saturation': 2, 'Sharpness': 2, 'SubjectDistanceRange': 0, 'ExposureTime': '0.008', 'FNumber': '4.4', 'ExposureProgram': 2, 'CustomRendered': 0, 'ISOSpeedRatings': 100, 'ExposureMode': 0, 'WhiteBalance': 0, 'DigitalZoomRatio': '0.0', 'FocalLengthIn35mmFilm': 145, 'GainControl': 0, 'Contrast': 2}, 'color': ['#a9afb1', '#423f3e'], 'tags': []}, '-%20en%20Cultuurpaleis%201.jpg': {'exif': {'CustomRendered': 0, 'ExposureMode': 0, 'WhiteBalance': 0, 'SceneCaptureType': 0, 'ResolutionUnit': 2, 'Contrast': 0, 'ExifOffset': 328, 'Saturation': 0, 'Sharpness': 0, 'ImageDescription': '                               ', 'Make': 'SONY', 'Model': 'DSC-S60', 'DateTime': '2007:09:30 15:59:46', 'YCbCrPositioning': 2, 'XResolution': '72.0', 'YResolution': '72.0', 'CompressedBitsPerPixel': '8.0', 'DateTimeOriginal': '2007:09:30 15:59:46', 'DateTimeDigitized': '2007:09:30 15:59:46', 'ExposureBiasValue': '0.0', 'MaxApertureValue': '3.0', 'MeteringMode': 5, 'LightSource': 0, 'Flash': 16, 'FocalLength': '6.0', 'ColorSpace': 1, 'ExifImageWidth': 1728, 'ExifImageHeight': 2304, 'ExposureTime': '0.002', 'FNumber': '5.6', 'ExposureProgram': 2, 'ISOSpeedRatings': 80}, 'color': ['#3f3e41', '#869aba'], 'tags': []}, '-%20North%20-%202011-06-04.jpg': {'exif': {'ResolutionUnit': 2, 'ExifOffset': 196, 'Make': 'Canon', 'Model': 'Canon EOS DIGITAL REBEL', 'Orientation': 1, 'DateTime': '2011:06:04 07:44:20', 'YCbCrPositioning': 1, 'XResolution': '180.0', 'YResolution': '180.0', 'CompressedBitsPerPixel': '3.0', 'DateTimeOriginal': '2011:06:04 07:44:20', 'DateTimeDigitized': '2011:06:04 07:44:20', 'ShutterSpeedValue': '7.321929931640625', 'ApertureValue': '6.33984375', 'ExposureBiasValue': '0.0', 'MaxApertureValue': '4.0', 'MeteringMode': 5, 'Flash': 24, 'FocalLength': '30.0', 'ColorSpace': 1, 'ExifImageWidth': 3072, 'FocalPlaneXResolution': '3443.946188340807', 'ExifImageHeight': 2048, 'FocalPlaneYResolution': '3442.016806722689', 'FocalPlaneResolutionUnit': 2, 'SensingMethod': 2, 'ExposureTime': '0.00625', 'ExifInteroperabilityOffset': 2366, 'FNumber': '9.0', 'CustomRendered': 0, 'ISOSpeedRatings': 100, 'ExposureMode': 0, 'WhiteBalance': 0, 'SceneCaptureType': 0}, 'color': ['#505551', '#c9d1e2'], 'tags': []}, '02017%2003%20%28cropped%29.jpg': {'exif': {'GPSInfo': \"{0: b'\\\\x02\\\\x03\\\\x00\\\\x00', 1: 'S', 2: (31.0, 57.6295, 0.0), 3: 'E', 4: (115.0, 53.977, 0.0), 5: b'\\\\x01', 6: 11.0, 10: '3', 18: 'WGS-84'}\", 'ResolutionUnit': 2, 'ExifOffset': 228, 'Make': 'Canon', 'Model': 'Canon EOS 700D', 'Software': 'Adobe Photoshop Lightroom Classic 7.1 (Windows)', 'DateTime': '2018:01:07 18:14:59', 'XResolution': '72.0', 'YResolution': '72.0', 'ShutterSpeedValue': '7.965784', 'ApertureValue': '6.643856', 'DateTimeOriginal': '2017:12:15 09:56:41', 'DateTimeDigitized': '2017:12:15 09:56:41', 'ExposureBiasValue': '0.0', 'MaxApertureValue': '4.125', 'MeteringMode': 5, 'ColorSpace': 1, 'Flash': 16, 'FocalLength': '31.0', 'ExposureMode': 0, 'WhiteBalance': 0, 'SceneCaptureType': 0, 'FocalPlaneXResolution': '5798.657718120805', 'FocalPlaneYResolution': '5788.94472361809', 'FocalPlaneResolutionUnit': 2, 'SubsecTimeOriginal': '00', 'SubsecTimeDigitized': '00', 'ExposureTime': '0.004', 'FNumber': '10.0', 'ExposureProgram': 0, 'CustomRendered': 0, 'ISOSpeedRatings': 100, 'SensitivityType': 2, 'BodySerialNumber': '125032002867', 'RecommendedExposureIndex': 100, 'LensSpecification': '(18.0, 55.0, nan, nan)', 'LensModel': 'EF-S18-55mm f/3.5-5.6 IS STM', 'LensSerialNumber': '0000139ee2'}, 'color': ['#97acc5', '#444342'], 'tags': ['nature', 'modern']}, '0Casino%20main%20entrance.jpeg': {'exif': {'GPSInfo': \"{1: 'N', 2: (40.0, 7.0, 2.08), 3: 'W', 4: (74.0, 57.0, 17.37), 5: b'\\\\x00', 6: 36.11106108359598, 7: (16.0, 32.0, 51.99), 12: 'K', 13: 0.0, 16: 'T', 17: 54.748260481712755, 23: 'T', 24: 54.748260481712755, 29: '2019:01:12', 31: 5.0}\", 'ResolutionUnit': 2, 'ExifOffset': 204, 'Make': 'Apple', 'Model': 'iPhone SE', 'Software': '12.1', 'Orientation': 1, 'DateTime': '2019:01:12 11:32:52', 'YCbCrPositioning': 1, 'XResolution': '72.0', 'YResolution': '72.0', 'ShutterSpeedValue': '10.300391521533685', 'DateTimeOriginal': '2019:01:12 11:32:52', 'DateTimeDigitized': '2019:01:12 11:32:52', 'ApertureValue': '2.2750070475474535', 'BrightnessValue': '10.49501143213469', 'ExposureBiasValue': '0.0', 'MeteringMode': 5, 'Flash': 16, 'FocalLength': '4.15', 'ColorSpace': 1, 'ExifImageWidth': 4032, 'FocalLengthIn35mmFilm': 29, 'SceneCaptureType': 0, 'ExifImageHeight': 3024, 'SubsecTimeOriginal': '228', 'SubsecTimeDigitized': '228', 'SubjectLocation': '(2015, 1511, 2217, 1330)', 'SensingMethod': 2, 'ExposureTime': '0.0007930214115781126', 'FNumber': '2.2', 'ExposureProgram': 2, 'ISOSpeedRatings': 25, 'ExposureMode': 0, 'WhiteBalance': 0, 'LensSpecification': '(4.15, 4.15, 2.2, 2.2)', 'LensMake': 'Apple', 'LensModel': 'iPhone SE back camera 4.15mm f/2.2'}, 'color': ['#86a7dc', '#5c5446'], 'tags': []}, '0Santa%20Ana%20Pueblo%20NM.jpg': {'exif': {'GPSInfo': \"{0: b'\\\\x02\\\\x03\\\\x00\\\\x00'}\", 'ResolutionUnit': 2, 'ExifOffset': 246, 'ImageDescription': '                               ', 'Make': 'Canon', 'Model': 'Canon PowerShot SX160 IS', 'Orientation': 1, 'DateTime': '2013:02:21 19:07:14', 'YCbCrPositioning': 2, 'XResolution': '180.0', 'YResolution': '180.0', 'CompressedBitsPerPixel': '3.0', 'DateTimeOriginal': '2013:02:21 19:07:14', 'DateTimeDigitized': '2013:02:21 19:07:14', 'ShutterSpeedValue': '9.96875', 'ApertureValue': '3.625', 'ExposureBiasValue': '0.0', 'MaxApertureValue': '3.625', 'MeteringMode': 5, 'Flash': 16, 'FocalLength': '5.0', 'ColorSpace': 1, 'ExifImageWidth': 3264, 'FocalPlaneXResolution': '13487.603305785124', 'ExifImageHeight': 2448, 'FocalPlaneYResolution': '13450.54945054945', 'FocalPlaneResolutionUnit': 2, 'SensingMethod': 2, 'ExposureTime': '0.001', 'ExifInteroperabilityOffset': 4860, 'FNumber': '3.5', 'CustomRendered': 0, 'ISOSpeedRatings': 250, 'ExposureMode': 0, 'SensitivityType': 4, 'WhiteBalance': 0, 'CameraOwnerName': '', 'DigitalZoomRatio': '1.0', 'SceneCaptureType': 0}, 'color': ['#a8b6c7', '#624b3e'], 'tags': []}, '2015%20img38%20Spa%20house.jpg': {'exif': {'ImageWidth': 5472, 'ImageLength': 3648, 'BitsPerSample': '(8, 8, 8)', 'PhotometricInterpretation': 2, 'ResolutionUnit': 2, 'ExifOffset': 336, 'Make': 'Canon', 'Model': 'Canon EOS 7D Mark II', 'Software': 'Adobe Photoshop CC (Windows)', 'Orientation': 1, 'DateTime': '2015:10:12 20:34:13', 'YResolution': '300.0', 'SamplesPerPixel': 3, 'Copyright': 'time of exposure is UTC', 'XResolution': '300.0', 'Artist': 'A.Savin', 'ShutterSpeedValue': '7.643856', 'ApertureValue': '6.918863', 'DateTimeOriginal': '2015:10:03 09:45:07', 'DateTimeDigitized': '2015:10:03 09:45:07', 'ExposureBiasValue': '0.0', 'MaxApertureValue': '4.375', 'MeteringMode': 5, 'ColorSpace': 1, 'Flash': 16, 'FocalLength': '8.0', 'ExifImageWidth': 4850, 'ExifImageHeight': 2728, 'SceneCaptureType': 0, 'FocalPlaneXResolution': '6086.7630700778645', 'FocalPlaneYResolution': '6090.150250417362', 'FocalPlaneResolutionUnit': 2, 'SubsecTimeOriginal': '57', 'SubsecTimeDigitized': '57', 'ExposureTime': '0.005', 'FNumber': '11.0', 'ExposureProgram': 2, 'CustomRendered': 0, 'ISOSpeedRatings': 100, 'ExposureMode': 0, 'SensitivityType': 2, 'WhiteBalance': 0, 'RecommendedExposureIndex': 100, 'BodySerialNumber': '033021000431', 'LensSpecification': '(8.0, 16.0, nan, nan)', 'LensModel': '8-16mm', 'LensSerialNumber': '0000000000'}, 'color': ['#7b7b70', '#227ee6'], 'tags': ['nature', 'architecture']}, '20expansion%20april%202008.jpg': {'exif': {}, 'color': ['#58686f', '#dfe9ef'], 'tags': ['modern']}, '20Grand%20River%20Detroit1.jpg': {'exif': {'ResolutionUnit': 2, 'ExifOffset': 182, 'Make': 'Hewlett-Packard', 'Model': 'Photosmart M425', 'Software': 'Picasa 3.0', 'Orientation': 0, 'YCbCrPositioning': 2, 'XResolution': '230.0', 'YResolution': '230.0', 'CompressedBitsPerPixel': '3.2', 'DateTimeOriginal': '2008:11:07 17:54:43', 'DateTimeDigitized': '2008:11:07 17:54:43', 'ShutterSpeedValue': '10.92', 'ApertureValue': '4.46', 'BrightnessValue': '10.222', 'ExposureBiasValue': '0.0', 'MaxApertureValue': '2.97', 'MeteringMode': 2, 'LightSource': 20, 'Flash': 24, 'FocalLength': '6.0', 'ColorSpace': 65535, 'ExifImageWidth': 1744, 'ExifImageHeight': 1035, 'Contrast': 0, 'Saturation': 0, 'Sharpness': 0, 'SubjectDistanceRange': 3, 'ExposureIndex': '100.0', 'SensingMethod': 2, 'ExposureTime': '0.000516', 'ExifInteroperabilityOffset': 2174, 'FNumber': '4.7', 'ImageUniqueID': '1f36816822642475a287e33232ee4d64', 'ExposureProgram': 2, 'CustomRendered': 0, 'ISOSpeedRatings': 100, 'ExposureMode': 0, 'WhiteBalance': 0, 'DigitalZoomRatio': '0.0', 'FocalLengthIn35mmFilm': 36, 'SceneCaptureType': 0, 'GainControl': 0}, 'color': ['#3e4d51', '#c9dbdf'], 'tags': ['modern']}, '20Niagara%20Casino%20Tower.jpg': {'exif': {'ResolutionUnit': 2, 'ExifOffset': 2464, 'Make': 'PENTAX Corporation ', 'Model': 'PENTAX K10D        ', 'Software': 'Microsoft Windows Photo Viewer 6.1.7600.16385', 'Orientation': 1, 'DateTime': '2012:06:16 00:57:02', 'YCbCrCoefficients': '(0.299, 0.587, 0.114)', 'YCbCrPositioning': 2, 'XResolution': '72.0', 'YResolution': '72.0', 'WhitePoint': '(0.313, 0.329)', 'PrimaryChromaticities': '(0.64, 0.33, 0.21, 0.71, 0.15, 0.06)', 'DateTimeOriginal': '2012:06:15 15:05:34', 'DateTimeDigitized': '2012:06:15 15:05:34', 'ExposureBiasValue': '0.0', 'ColorSpace': 65535, 'MeteringMode': 5, 'ExifImageWidth': 2592, 'Flash': 16, 'FocalLength': '63.0', 'ExifImageHeight': 3872, 'ExifInteroperabilityOffset': 49998, 'FocalLengthIn35mmFilm': 94, 'SceneCaptureType': 0, 'Contrast': 2, 'Saturation': 0, 'Sharpness': 0, 'SubjectDistanceRange': 3, 'SensingMethod': 2, 'ExposureTime': '0.003125', 'FNumber': '9.0', 'ExposureProgram': 2, 'CustomRendered': 0, 'ISOSpeedRatings': 125, 'Gamma': '2.2', 'ExposureMode': 0, 'WhiteBalance': 1}, 'color': ['#466382', '#a2bcdb'], 'tags': []}, '20Palais%20de%20l%27Europe.jpg': {'exif': {}, 'color': ['#57524d', '#8da8d6'], 'tags': []}, '29%20-%20Brantford%2C%20ON.jpg': {'exif': {'ImageWidth': 6000, 'ImageLength': 3376, 'ResolutionUnit': 2, 'ExifOffset': 393, 'ImageDescription': '                               ', 'Make': 'SONY', 'Model': 'ILCE-6000', 'YCbCrCoefficients': '(0.299, 0.587, 0.114)', 'Orientation': 1, 'DateTime': '2023:10:07 13:11:03', 'Software': 'ILCE-6000 v3.21', 'YCbCrPositioning': 2, 'XResolution': '350.0', 'YResolution': '350.0', 'WhitePoint': '(0.313, 0.329)', 'PrimaryChromaticities': '(0.64, 0.33, 0.21, 0.71, 0.15, 0.06)', 'ExifVersion': '0230', 'ColorSpace': 65535, 'ExifImageHeight': 3376, 'ExposureBiasValue': '0.0', 'MaxApertureValue': '4.3359375', 'BrightnessValue': '10.20078125', 'DateTimeOriginal': '2023:10:07 13:11:03', 'Gamma': '2.2', 'WhiteBalance': 0, 'ExifInteroperabilityOffset': 38214, 'Flash': 16, 'ExifImageWidth': 6000, 'Saturation': 0, 'Contrast': 0, 'Sharpness': 0, 'CompressedBitsPerPixel': '2.0', 'DateTimeDigitized': '2023:10:07 13:11:03', 'ExposureTime': '0.00625', 'FNumber': '11.0', 'ExposureProgram': 2, 'CustomRendered': 0, 'ISOSpeedRatings': 100, 'ExposureMode': 0, 'SensitivityType': 2, 'RecommendedExposureIndex': 100, 'LensSpecification': '(18.0, 55.0, 3.5, 5.6)', 'LensModel': 'E 18-55mm F3.5-5.6 OSS', 'DigitalZoomRatio': '1.0', 'MeteringMode': 5, 'LightSource': 0, 'FocalLengthIn35mmFilm': 51, 'SceneCaptureType': 0, 'FocalLength': '34.0'}, 'color': ['#353843', '#a8bce2'], 'tags': []}, '4%20queens.JPG': {'exif': {'ResolutionUnit': 2, 'ExifOffset': 506, 'Make': 'EASTMAN KODAK COMPANY', 'Model': 'KODAK DX7440 ZOOM DIGITAL CAMERA', 'Orientation': 1, 'YCbCrPositioning': 1, 'XResolution': '230.0', 'YResolution': '230.0', 'ShutterSpeedValue': '6.0', 'DateTimeOriginal': '2006:06:21 20:16:56', 'DateTimeDigitized': '2006:06:21 20:16:56', 'ApertureValue': '3.6', 'ExposureBiasValue': '0.0', 'MaxApertureValue': '3.6', 'MeteringMode': 5, 'LightSource': 0, 'Flash': 25, 'FocalLength': '8.2', 'ColorSpace': 1, 'ExifImageWidth': 2304, 'ExifInteroperabilityOffset': 2748, 'SceneCaptureType': 0, 'ExifImageHeight': 1728, 'Contrast': 0, 'Saturation': 0, 'Sharpness': 0, 'SubjectDistanceRange': 0, 'ExposureIndex': '140.0', 'SensingMethod': 2, 'ExposureTime': '0.016666666666666666', 'FNumber': '3.4', 'ExposureProgram': 2, 'CustomRendered': 0, 'ISOSpeedRatings': 140, 'ExposureMode': 0, 'WhiteBalance': 0, 'DigitalZoomRatio': '0.0', 'FocalLengthIn35mmFilm': 49, 'GainControl': 1}, 'color': ['#341a13', '#d9b97d'], 'tags': ['classy']}, '7Entr%C3%A9e%20du%20Casino.jpg': {'exif': {}, 'color': ['#d5c2b2', '#6e6864'], 'tags': []}, '8893445036%29%28cropped%29.jpg': {'exif': {}, 'color': ['#6b6052', '#f7f9f8'], 'tags': []}, 'Aachen%20Casino.JPG': {'exif': {'GPSInfo': \"{0: b'\\\\x02\\\\x03\\\\x00\\\\x00'}\", 'ResolutionUnit': 2, 'ExifOffset': 348, 'Make': 'NIKON CORPORATION', 'Model': 'NIKON D7000', 'Software': 'Ver.1.03 ', 'Orientation': 1, 'DateTime': '2014:01:19 20:39:47', 'YCbCrPositioning': 2, 'YResolution': '300.0', 'Copyright': '                                                      ', 'XResolution': '300.0', 'Artist': '                                    ', 'CompressedBitsPerPixel': '2.0', 'DateTimeOriginal': '2014:01:19 20:39:47', 'DateTimeDigitized': '2014:01:19 20:39:47', 'ExposureBiasValue': '0.0', 'MaxApertureValue': '3.6', 'MeteringMode': 5, 'LightSource': 0, 'Flash': 16, 'FocalLength': '18.0', 'ColorSpace': 1, 'ExifImageWidth': 4928, 'ExifInteroperabilityOffset': 36942, 'SceneCaptureType': 0, 'SubsecTime': '00', 'SubsecTimeOriginal': '00', 'SubsecTimeDigitized': '00', 'ExifImageHeight': 3264, 'SubjectDistanceRange': 0, 'SensingMethod': 2, 'ExposureTime': '0.125', 'FNumber': '3.5', 'ExposureProgram': 1, 'CustomRendered': 0, 'ISOSpeedRatings': 800, 'ExposureMode': 1, 'SensitivityType': 2, 'WhiteBalance': 0, 'DigitalZoomRatio': '1.0', 'FocalLengthIn35mmFilm': 27, 'GainControl': 1, 'Contrast': 0, 'Saturation': 0, 'Sharpness': 0}, 'color': ['#bf894b', '#170e04'], 'tags': ['classy', 'architecture']}, 'aden%20baden%202016%200010.jpg': {'exif': {'GPSInfo': \"{0: b'\\\\x02\\\\x02\\\\x00\\\\x00', 1: 'N', 2: (48.0, 45.0, 37.008), 3: 'E', 4: (8.0, 14.0, 15.169), 5: b'\\\\x00', 6: 175.0, 7: (11.0, 5.0, 46.0), 9: 'A', 18: 'WGS-84', 29: '2016:04:21'}\", 'ResolutionUnit': 2, 'ExifOffset': 218, 'Make': 'Sony', 'Model': 'D5503', 'Software': '14.6.A.1.236_6_f1000010', 'Orientation': 1, 'DateTime': '2016:04:21 13:06:01', 'YCbCrPositioning': 1, 'XResolution': '72.0', 'YResolution': '72.0', 'ShutterSpeedValue': '10.64', 'DateTimeOriginal': '2016:04:21 13:06:01', 'DateTimeDigitized': '2016:04:21 13:06:01', 'ExposureBiasValue': '0.0', 'MeteringMode': 5, 'LightSource': 0, 'Flash': 24, 'FocalLength': '4.9', 'ColorSpace': 1, 'ExifImageWidth': 3840, 'ExifInteroperabilityOffset': 11904, 'SceneCaptureType': 0, 'SubjectDistanceRange': 0, 'SubsecTime': '375024', 'SubsecTimeOriginal': '375024', 'SubsecTimeDigitized': '375024', 'ExifImageHeight': 2160, 'ExposureTime': '0.000625', 'FNumber': '2.0', 'CustomRendered': 0, 'ISOSpeedRatings': 50, 'ExposureMode': 0, 'WhiteBalance': 0, 'DigitalZoomRatio': '1.0'}, 'color': ['#585a44', '#9eb2ca'], 'tags': ['architecture']}, 'Annecy%2020120101%20-%2019.JPG': {'exif': {'ResolutionUnit': 2, 'ExifOffset': 264, 'Make': 'Canon', 'Model': 'Canon EOS 550D\\x00\\x00\\x00\\x00\\x00\\x00\\x00\\x00\\x00\\x00\\x00\\x00\\x00\\x00\\x00\\x00\\x00', 'Software': 'Digital Photo Professional\\x00\\x00\\x00\\x00\\x00', 'Orientation': 1, 'DateTime': '2012:01:01 14:23:35', 'YCbCrPositioning': 1, 'YResolution': '350.0', 'Copyright': '\\x00', 'XResolution': '350.0', 'Artist': '\\x00', 'ShutterSpeedValue': '8.625', 'DateTimeOriginal': '2012:01:01 14:23:35', 'DateTimeDigitized': '2012:01:01 14:23:35', 'ApertureValue': '6.0', 'ExposureBiasValue': '0.0', 'Flash': 16, 'FocalLength': '24.0', 'ColorSpace': 1, 'ExifImageWidth': 5184, 'ExifInteroperabilityOffset': 5250, 'FocalPlaneXResolution': '5728.176795580111', 'FocalPlaneYResolution': '5808.403361344538', 'ExifImageHeight': 3456, 'FocalPlaneResolutionUnit': 2, 'ExposureTime': '0.0025', 'FNumber': '8.0', 'CustomRendered': 0, 'ISOSpeedRatings': 100, 'ExposureMode': 0, 'WhiteBalance': 0, 'SceneCaptureType': 0}, 'color': ['#b4b6c1', '#3c3d2b'], 'tags': []}, 'ano.%20Figueira%20da%20Foz.jpg': {'exif': {'ResolutionUnit': 2, 'ExifOffset': 634, 'Make': 'Panasonic', 'Model': 'DMC-TZ8', 'Software': 'Ver.1.0  ', 'Orientation': 1, 'DateTime': '2011:09:10 10:13:15', 'YCbCrPositioning': 2, 'XResolution': '180.0', 'YResolution': '180.0', 'CompressedBitsPerPixel': '4.0', 'DateTimeOriginal': '2011:09:10 10:13:15', 'DateTimeDigitized': '2011:09:10 10:13:15', 'ExposureBiasValue': '0.0', 'MaxApertureValue': '3.44', 'MeteringMode': 5, 'LightSource': 0, 'Flash': 16, 'FocalLength': '4.7', 'ColorSpace': 1, 'ExifImageWidth': 4000, 'ExifInteroperabilityOffset': 10652, 'FocalLengthIn35mmFilm': 29, 'SceneCaptureType': 0, 'ExifImageHeight': 3000, 'Contrast': 0, 'Saturation': 0, 'Sharpness': 0, 'SensingMethod': 2, 'ExposureTime': '0.005', 'FNumber': '4.0', 'ExposureProgram': 8, 'CustomRendered': 0, 'ISOSpeedRatings': 80, 'ExposureMode': 0, 'WhiteBalance': 0, 'DigitalZoomRatio': '0.0', 'GainControl': 0}, 'color': ['#ebf3f6', '#6d6c64'], 'tags': []}, 'Arcachon%20Casino%20R01.jpg': {'exif': {'GPSInfo': \"{0: b'\\\\x02\\\\x02\\\\x00\\\\x00'}\", 'ResolutionUnit': 2, 'ExifOffset': 252, 'Make': 'NIKON CORPORATION', 'Model': 'NIKON D90', 'Software': 'Adobe Photoshop Elements 6.0 Macintosh', 'Orientation': 1, 'DateTime': '2012:10:03 17:26:50', 'YCbCrPositioning': 2, 'XResolution': '300.0', 'YResolution': '300.0', 'CompressedBitsPerPixel': '4.0', 'DateTimeOriginal': '2012:09:16 11:56:49', 'DateTimeDigitized': '2012:09:16 11:56:49', 'ExposureBiasValue': '0.0', 'MaxApertureValue': '4.0', 'MeteringMode': 5, 'LightSource': 0, 'Flash': 0, 'FocalLength': '27.0', 'ColorSpace': 1, 'ExifImageWidth': 3852, 'ExifInteroperabilityOffset': 876, 'SceneCaptureType': 0, 'SubsecTime': '00', 'SubsecTimeOriginal': '00', 'SubsecTimeDigitized': '00', 'ExifImageHeight': 2559, 'SubjectDistanceRange': 0, 'SensingMethod': 2, 'ExposureTime': '0.0025', 'FNumber': '13.0', 'ExposureProgram': 3, 'CustomRendered': 0, 'ISOSpeedRatings': 200, 'ExposureMode': 0, 'WhiteBalance': 0, 'DigitalZoomRatio': '1.0', 'FocalLengthIn35mmFilm': 40, 'GainControl': 0, 'Contrast': 0, 'Saturation': 0, 'Sharpness': 0}, 'color': ['#879ab9', '#45453d'], 'tags': []}, 'asino%20Canberra%20Sign%20.jpg': {'exif': {'ResolutionUnit': 2, 'ExifOffset': 218, 'Make': 'Canon', 'Model': 'Canon EOS 5D Mark III', 'Software': 'Adobe Photoshop Camera Raw 9.6 (Macintosh)', 'DateTime': '2016:07:27 09:40:26', 'XResolution': '999.0', 'YResolution': '999.0', 'ShutterSpeedValue': '-1.321928', 'ApertureValue': '6.643856', 'DateTimeOriginal': '2016:06:18 17:24:57', 'DateTimeDigitized': '2016:06:18 17:24:57', 'ExposureBiasValue': '0.3333333333333333', 'MaxApertureValue': '4.0', 'MeteringMode': 5, 'ColorSpace': 65535, 'Flash': 16, 'FocalLength': '20.0', 'ExposureMode': 0, 'WhiteBalance': 0, 'SceneCaptureType': 0, 'FocalPlaneXResolution': '1100.0', 'FocalPlaneYResolution': '1100.0', 'FocalPlaneResolutionUnit': 3, 'SubsecTimeOriginal': '19', 'SubsecTimeDigitized': '19', 'ExposureTime': '2.5', 'FNumber': '10.0', 'ExposureProgram': 3, 'CustomRendered': 0, 'ISOSpeedRatings': 100, 'SensitivityType': 2, 'BodySerialNumber': '055023000078', 'RecommendedExposureIndex': 100, 'LensSpecification': '(17.0, 40.0, nan, nan)', 'LensModel': 'EF17-40mm f/4L USM', 'LensSerialNumber': '0000000000'}, 'color': ['#1e2725', '#c3b899'], 'tags': ['classy']}, 'asino%20de%20Montr%C3%A9al.JPG': {'exif': {'ResolutionUnit': 2, 'ExifOffset': 338, 'Make': 'EASTMAN KODAK COMPANY', 'Model': 'KODAK CX4300 DIGITAL CAMERA', 'Software': 'Version 1.0000 ', 'Orientation': 1, 'YCbCrPositioning': 2, 'XResolution': '230.0', 'YResolution': '230.0', 'CompressedBitsPerPixel': '2.28', 'DateTimeOriginal': '2005:04:10 07:01:32', 'DateTimeDigitized': '2005:04:10 07:01:32', 'ShutterSpeedValue': '8.78', 'ApertureValue': '3.61', 'ExposureBiasValue': '0.0', 'MaxApertureValue': '3.61', 'MeteringMode': 2, 'Flash': 0, 'FocalLength': '7.63', 'ColorSpace': 1, 'ExifImageWidth': 2080, 'ExifInteroperabilityOffset': 1750, 'SceneCaptureType': 0, 'ExifImageHeight': 1544, 'Contrast': 0, 'Saturation': 0, 'Sharpness': 0, 'SubjectDistanceRange': 0, 'ExposureIndex': '100.0', 'SensingMethod': 2, 'ExposureTime': '0.00226', 'FNumber': '3.5', 'ExposureProgram': 2, 'CustomRendered': 0, 'ISOSpeedRatings': 100, 'ExposureMode': 0, 'WhiteBalance': 0, 'DigitalZoomRatio': '0.0', 'FocalLengthIn35mmFilm': 36, 'GainControl': 0}, 'color': ['#d8dbe9', '#44445a'], 'tags': ['modern']}, 'asino%20on%20empty%20night.jpg': {'exif': {'ResolutionUnit': 2, 'ExifOffset': 246, 'Make': 'Canon', 'Model': 'Canon PowerShot SD790 IS', 'Software': 'Paint Shop Pro Photo 12.01\\x00\\x00\\x00\\x00\\x00\\x00\\x00\\x00\\x00\\x00\\x00\\x00\\x00\\x00', 'Orientation': 1, 'DateTime': '2009:03:16 13:15:07\\x00', 'YCbCrPositioning': 1, 'XResolution': '180.0', 'YResolution': '180.0', 'CompressedBitsPerPixel': '3.0', 'DateTimeOriginal': '2008:02:19 18:14:21\\x00', 'DateTimeDigitized': '2008:02:19 18:14:21\\x00', 'ShutterSpeedValue': '6.3125', 'ApertureValue': '2.96875', 'ExposureBiasValue': '0.0', 'MaxApertureValue': '2.96875', 'MeteringMode': 5, 'Flash': 24, 'FocalLength': '6.2', 'ColorSpace': 1, 'ExifImageWidth': 2000, 'FocalPlaneXResolution': '15136.929460580914', 'ExifImageHeight': 1500, 'FocalPlaneYResolution': '15116.022099447513', 'FocalPlaneResolutionUnit': 2, 'SensingMethod': 2, 'ExposureTime': '0.0125', 'ExifInteroperabilityOffset': 1020, 'FNumber': '2.8', 'CustomRendered': 0, 'ISOSpeedRatings': 125, 'ExposureMode': 0, 'WhiteBalance': 0, 'DigitalZoomRatio': '1.0', 'SceneCaptureType': 0}, 'color': ['#d6745d', '#22100a'], 'tags': ['classy']}, 'au%20Las%20Vegas%20signage.jpg': {'exif': {'GPSInfo': \"{0: b'\\\\x02\\\\x02\\\\x00\\\\x00', 1: 'N', 2: (36.0, 7.0, 58.34), 3: 'W', 4: (115.0, 9.0, 53.78), 5: b'\\\\x00', 6: 630.89662027833, 12: 'K', 13: 0.0, 16: 'T', 17: 45.799186737566465, 23: 'T', 24: 45.799186737566465, 29: '2022:03:21', 31: 21.88508593067288}\", 'ResolutionUnit': 2, 'ExifOffset': 240, 'Make': 'Apple', 'Model': 'iPhone 11', 'Software': '15.3.1', 'Orientation': 6, 'DateTime': '2022:03:21 15:55:41', 'YCbCrSubSampling': '(2, 2)', 'YCbCrPositioning': 1, 'XResolution': '72.0', 'YResolution': '72.0', 'HostComputer': 'iPhone 11', 'ShutterSpeedValue': '11.609640476860978', 'DateTimeOriginal': '2022:03:21 15:55:41', 'DateTimeDigitized': '2022:03:21 15:55:41', 'ApertureValue': '1.6959938128383605', 'BrightnessValue': '10.159811764705882', 'ExposureBiasValue': '0.0', 'MeteringMode': 5, 'Flash': 16, 'FocalLength': '4.25', 'ColorSpace': 65535, 'ExifImageWidth': 4032, 'DigitalZoomRatio': '2.511627906976744', 'FocalLengthIn35mmFilm': 65, 'SceneCaptureType': 0, 'OffsetTime': '-07:00', 'OffsetTimeOriginal': '-07:00', 'OffsetTimeDigitized': '-07:00', 'SubsecTimeOriginal': '910', 'SubjectLocation': '(2006, 1512, 2322, 1392)', 'SubsecTimeDigitized': '910', 'ExifImageHeight': 3024, 'SensingMethod': 2, 'ExposureTime': '0.00032', 'FNumber': '1.8', 'ImageUniqueID': '4c5a90cb6d3a2a290000000000000000', 'ExposureProgram': 2, 'ISOSpeedRatings': 32, 'ExposureMode': 0, 'WhiteBalance': 0, 'LensSpecification': '(1.5399999618512084, 4.25, 1.8, 2.4)', 'LensMake': 'Apple', 'LensModel': 'iPhone 11 back dual wide camera 4.25mm f/1.8', 'CompositeImage': 2}, 'color': ['#585f55', '#90acd8'], 'tags': ['modern']}, 'Ballys%20Las%20Vegas.jpg': {'exif': {'ResolutionUnit': 2, 'ExifOffset': 191, 'Make': 'Canon', 'Model': 'Canon EOS DIGITAL REBEL XT', 'Orientation': 0, 'DateTime': '2006:12:11 14:16:01', 'YCbCrPositioning': 2, 'XResolution': '72.0', 'YResolution': '72.0', 'ShutterSpeedValue': '4126470.0', 'DateTimeOriginal': '2006:12:11 14:16:01', 'DateTimeDigitized': '2006:12:11 14:16:01', 'ApertureValue': '8.918869018554688', 'ExposureBiasValue': '0.0', 'MeteringMode': 5, 'Flash': 16, 'FocalLength': '18.0', 'ColorSpace': 65535, 'ExifImageWidth': 1600, 'ExifInteroperabilityOffset': 9229, 'FocalPlaneXResolution': '1977.116704805492', 'FocalPlaneYResolution': '1979.381443298969', 'ExifImageHeight': 1067, 'FocalPlaneResolutionUnit': 2, 'ExposureTime': '0.008', 'FNumber': '22.0', 'ExposureProgram': 1, 'CustomRendered': 0, 'ISOSpeedRatings': 200, 'ExposureMode': 1, 'WhiteBalance': 0, 'SceneCaptureType': 0}, 'color': ['#3e475b', '#bebcb8'], 'tags': ['modern']}, 'Bellagio%20outside.jpg': {'exif': {'ResolutionUnit': 2, 'ExifOffset': 39761, 'ImageDescription': '                               ', 'Make': 'NIKON                  ', 'Model': 'COOLPIX P5000', 'Software': 'COOLPIX P5000V1.0              ', 'Orientation': 1, 'DateTime': '2009:10:30 02:25:40', 'YCbCrPositioning': 2, 'XResolution': '300.0', 'YResolution': '300.0', 'CompressedBitsPerPixel': '4.0', 'DateTimeOriginal': '2009:07:07 23:49:31', 'DateTimeDigitized': '2009:07:07 23:49:31', 'ExposureBiasValue': '0.0', 'MaxApertureValue': '2.9', 'MeteringMode': 5, 'LightSource': 0, 'Flash': 24, 'FocalLength': '7.5', 'ColorSpace': 1, 'ExifImageWidth': 1159, 'FocalLengthIn35mmFilm': 36, 'SceneCaptureType': 0, 'ExifImageHeight': 882, 'Contrast': 0, 'Saturation': 0, 'Sharpness': 0, 'SubjectDistanceRange': 0, 'ExposureTime': '0.0053705692803437165', 'ExifInteroperabilityOffset': 40409, 'FNumber': '4.8', 'ExposureProgram': 2, 'CustomRendered': 0, 'ISOSpeedRatings': 64, 'ExposureMode': 0, 'WhiteBalance': 0, 'DigitalZoomRatio': '0.0', 'GainControl': 0}, 'color': ['#cedee9', '#67736e'], 'tags': ['classy', 'architecture']}, 'Binion%27s.jpg': {'exif': {'ResolutionUnit': 2, 'ExifOffset': 240, 'ImageDescription': '                               ', 'Make': 'Canon', 'Model': 'Canon PowerShot A1000 IS', 'Orientation': 1, 'DateTime': '2009:10:13 22:20:41', 'YCbCrPositioning': 2, 'XResolution': '180.0', 'YResolution': '180.0', 'CompressedBitsPerPixel': '3.0', 'DateTimeOriginal': '2009:10:13 22:20:41', 'DateTimeDigitized': '2009:10:13 22:20:41', 'ShutterSpeedValue': '6.65625', 'ApertureValue': '6.0', 'ExposureBiasValue': '0.0', 'MaxApertureValue': '2.875', 'MeteringMode': 5, 'Flash': 16, 'FocalLength': '6.2', 'ColorSpace': 1, 'ExifImageWidth': 3648, 'FocalPlaneXResolution': '15136.929460580914', 'ExifImageHeight': 2736, 'FocalPlaneYResolution': '15116.022099447513', 'FocalPlaneResolutionUnit': 2, 'SensingMethod': 2, 'ExposureTime': '0.01', 'ExifInteroperabilityOffset': 3208, 'FNumber': '8.0', 'CustomRendered': 0, 'ISOSpeedRatings': 1600, 'ExposureMode': 0, 'WhiteBalance': 0, 'DigitalZoomRatio': '1.0', 'SceneCaptureType': 0}, 'color': ['#2f241d', '#9bb9af'], 'tags': ['classy']}, 'Binions%20horseshoe%201986.jpg': {'exif': {}, 'color': ['#d6b97b', '#210c07'], 'tags': ['classy']}, 'Borgata%20ac.jpg': {'exif': {'GPSInfo': \"{0: b'\\\\x02\\\\x02\\\\x00\\\\x00', 1: 'N', 2: (39.0, 22.0, 57.87447601304145), 3: 'W', 4: (74.0, 26.0, 8.748096074985355), 7: (11.0, 11.0, 33.0), 8: '0', 18: 'WGS-84', 29: '2010:08:01'}\", 'ResolutionUnit': 2, 'ExifOffset': 176, 'Make': 'Canon', 'Model': 'Canon PowerShot SX20 IS', 'DateTime': '2010:08:21 10:34:00', 'XResolution': '240.0', 'YResolution': '240.0', 'ShutterSpeedValue': '10.287712', 'ApertureValue': '4.970854', 'DateTimeOriginal': '2010:08:01 11:11:33', 'DateTimeDigitized': '2010:08:01 11:11:33', 'ExposureBiasValue': '0.0', 'MaxApertureValue': '3.34375', 'SubjectDistance': '1.47', 'MeteringMode': 5, 'Flash': 16, 'FocalLength': '6.439', 'ExposureMode': 0, 'WhiteBalance': 0, 'DigitalZoomRatio': '1.0', 'FocalPlaneXResolution': '16393.44262295082', 'FocalPlaneYResolution': '16393.44262295082', 'FocalPlaneResolutionUnit': 2, 'SensingMethod': 2, 'ExposureTime': '0.0008', 'FNumber': '5.6', 'CustomRendered': 0, 'ISOSpeedRatings': 125, 'SceneCaptureType': 0}, 'color': ['#c0bfbb', '#5e5438'], 'tags': []}, 'C%20France%20-%20panoramio.jpg': {'exif': {'GPSInfo': \"{0: b'\\\\x02\\\\x02\\\\x00\\\\x00'}\", 'ResolutionUnit': 2, 'ExifOffset': 256, 'Make': 'NIKON CORPORATION', 'Model': 'NIKON D200', 'Software': 'Paint Shop Pro Photo 12,01\\x00\\x00\\x00\\x00\\x00\\x00\\x00\\x00\\x00\\x00\\x00\\x00\\x00\\x00', 'Orientation': 1, 'DateTime': '2011:01:03 20:09:56\\x00', 'YCbCrPositioning': 2, 'XResolution': '300.0', 'YResolution': '300.0', 'CompressedBitsPerPixel': '4.0', 'DateTimeOriginal': '2007:09:16 16:44:17\\x00', 'DateTimeDigitized': '2007:09:16 16:44:17\\x00', 'ExposureBiasValue': '0.0', 'MaxApertureValue': '4.1', 'MeteringMode': 5, 'LightSource': 0, 'Flash': 0, 'FocalLength': '38.0', 'ColorSpace': 1, 'ExifImageWidth': 1500, 'ExifInteroperabilityOffset': 882, 'SceneCaptureType': 0, 'SubsecTime': '49', 'SubsecTimeOriginal': '49', 'SubsecTimeDigitized': '49', 'ExifImageHeight': 1004, 'SubjectDistanceRange': 0, 'SensingMethod': 2, 'ExposureTime': '0.0015625', 'FNumber': '13.0', 'ExposureProgram': 2, 'CustomRendered': 0, 'ISOSpeedRatings': 500, 'ExposureMode': 0, 'WhiteBalance': 0, 'DigitalZoomRatio': '1.0', 'FocalLengthIn35mmFilm': 57, 'GainControl': 1, 'Contrast': 0, 'Saturation': 0, 'Sharpness': 0}, 'color': ['#85888e', '#342e2a'], 'tags': []}, 'C%20France%2C%20ca.%201895.jpg': {'exif': {'ImageWidth': 3379, 'ImageLength': 2470, 'BitsPerSample': '(8, 8, 8)', 'Compression': 1, 'PhotometricInterpretation': 2, 'ResolutionUnit': 2, 'ExifOffset': 252, 'Software': 'Adobe Photoshop CS2 Windows', 'Orientation': 1, 'DateTime': '2010:01:13 10:41:41', 'SamplesPerPixel': 3, 'XResolution': '400.0', 'YResolution': '400.0', 'PlanarConfiguration': 1, 'ColorSpace': 65535, 'ExifImageWidth': 3286, 'ExifImageHeight': 2384}, 'color': ['#c5c1d1', '#5b4f31'], 'tags': []}, 'Casa%20Rosso%203.jpg': {'exif': {'ImageWidth': 3264, 'ImageLength': 2448, 'ResolutionUnit': 2, 'ExifOffset': 224, 'Make': 'SAMSUNG', 'Model': 'GT-I9100', 'Software': 'I9100XWMS2', 'Orientation': 1, 'DateTime': '2015:05:02 21:09:01', 'YCbCrPositioning': 1, 'XResolution': '72.0', 'YResolution': '72.0', 'ShutterSpeedValue': '4.05', 'ApertureValue': '2.81', 'DateTimeOriginal': '2015:05:02 21:09:01', 'DateTimeDigitized': '2015:05:02 21:09:01', 'BrightnessValue': '1.42', 'ExposureBiasValue': '0.0', 'MaxApertureValue': '2.81', 'MeteringMode': 2, 'Flash': 16, 'FocalLength': '4.03', 'ColorSpace': 1, 'ExifImageWidth': 3264, 'SceneCaptureType': 0, 'ExifImageHeight': 2448, 'ExposureTime': '0.058823529411764705', 'FNumber': '2.65', 'ImageUniqueID': 'SCEF02', 'ExposureProgram': 3, 'ISOSpeedRatings': 125, 'ExposureMode': 0, 'WhiteBalance': 0}, 'color': ['#413e45', '#b0a5a9'], 'tags': []}, 'Casino%20at%20night%202004.jpg': {'exif': {'ResolutionUnit': 2, 'ExifOffset': 232, 'ImageDescription': '          ', 'Make': 'NIKON', 'Model': 'E990', 'Software': 'ACD Systems Digital Imaging', 'Orientation': 1, 'DateTime': '2008:09:21 20:58:10', 'YCbCrPositioning': 1, 'XResolution': '300.0', 'YResolution': '300.0', 'CompressedBitsPerPixel': '1.0', 'DateTimeOriginal': '2004:08:09 00:17:21', 'DateTimeDigitized': '2004:08:09 00:17:21', 'ExposureBiasValue': '0.0', 'MaxApertureValue': '3.5', 'MeteringMode': 5, 'LightSource': 0, 'Flash': 0, 'FocalLength': '10.9', 'ColorSpace': 1, 'ExifImageWidth': 1280, 'ExifInteroperabilityOffset': 1235, 'SubsecTime': '234', 'ExifImageHeight': 960, 'ExposureTime': '0.11235955056179775', 'FNumber': '2.7', 'ExposureProgram': 2, 'ISOSpeedRatings': 100}, 'color': ['#1c1009', '#e0c2af'], 'tags': ['classy']}, 'Casino%20Barri%C3%A8re.jpg': {'exif': {'GPSInfo': \"{0: b'\\\\x02\\\\x03\\\\x00\\\\x00'}\", 'ResolutionUnit': 2, 'ExifOffset': 2526, 'ProcessingSoftware': 'Windows Photo Editor 10.0.10011.16384', 'Make': 'NIKON CORPORATION', 'Model': 'NIKON D800', 'YCbCrCoefficients': '(0.299, 0.587, 0.114)', 'Orientation': 1, 'YCbCrPositioning': 2, 'Software': 'Windows Photo Editor 10.0.10011.16384', 'DateTime': '2020:08:22 07:25:36', 'Artist': '                                    ', 'Copyright': '                                                      ', 'XResolution': '300.0', 'YResolution': '300.0', 'CompressedBitsPerPixel': '4.0', 'DateTimeOriginal': '2020:08:04 13:05:07', 'DateTimeDigitized': '2020:08:04 13:05:07', 'ExposureBiasValue': '0.3333333333333333', 'MaxApertureValue': '1.6', 'MeteringMode': 5, 'LightSource': 9, 'Flash': 16, 'FocalLength': '50.0', 'ColorSpace': 1, 'ExifImageWidth': 7360, 'ExifInteroperabilityOffset': 18368, 'SceneCaptureType': 0, 'SubsecTime': '90', 'SubsecTimeOriginal': '90', 'SubsecTimeDigitized': '90', 'ExifImageHeight': 4912, 'SubjectDistanceRange': 0, 'SensingMethod': 2, 'ExposureTime': '0.0015625', 'FNumber': '13.0', 'ExposureProgram': 2, 'CustomRendered': 0, 'ISOSpeedRatings': 400, 'ExposureMode': 0, 'SensitivityType': 2, 'WhiteBalance': 1, 'DigitalZoomRatio': '1.0', 'FocalLengthIn35mmFilm': 50, 'GainControl': 1, 'Contrast': 0, 'Saturation': 0, 'Sharpness': 0}, 'color': ['#c2beb1', '#596f8e'], 'tags': []}, 'Casino%20Estoril.jpg': {'exif': {'ResolutionUnit': 2, 'ExifOffset': 300, 'ImageDescription': 'OLYMPUS DIGITAL CAMERA         ', 'Make': 'Eastman Kodak Company', 'Model': 'Picture Maker G3', 'Software': 'Adobe Photoshop 7.0', 'Orientation': 1, 'DateTime': '2007:06:29 21:38:02', 'YCbCrPositioning': 1, 'YResolution': '72.0', 'XResolution': '72.0', 'Artist': 'Mathias Stang', 'CompressedBitsPerPixel': '2.0', 'DateTimeOriginal': '0000:00:00 00:00:00', 'DateTimeDigitized': '0000:00:00 00:00:00', 'ExposureBiasValue': '0.0', 'MaxApertureValue': '2.0', 'MeteringMode': 5, 'LightSource': 0, 'Flash': 0, 'FocalLength': '6.6', 'ColorSpace': 1, 'ExifImageWidth': 1602, 'ExifImageHeight': 730, 'ExposureTime': '0.00125', 'FNumber': '5.0', 'ExposureProgram': 4, 'ISOSpeedRatings': 100}, 'color': ['#a0b0cc', '#3f3d28'], 'tags': ['nature', 'architecture']}, 'Casino%20Figueira.jpg': {'exif': {'ImageWidth': 4640, 'ImageLength': 3472, 'GPSInfo': \"{1: 'N', 2: (40.0, 8.0, 59.7875), 3: 'W', 4: (8.0, 51.0, 49.9283), 5: b'\\\\x00', 6: 82.287, 7: (16.0, 38.0, 12.0), 27: b'ASCII\\\\x00\\\\x00\\\\x00GPS\\\\x00', 29: '2022:08:25'}\", 'ResolutionUnit': 2, 'ExifOffset': 170, 'Orientation': 1, 'YCbCrPositioning': 1, 'DateTime': '2022:08:25 17:38:13', 'XResolution': '72.0', 'YResolution': '72.0', 'ExifVersion': '0220', 'ColorSpace': 1, 'ApertureValue': '1.69', 'ExifImageHeight': 3472, 'ExposureBiasValue': '0.0', 'MaxApertureValue': '1.69', 'DateTimeOriginal': '2022:08:25 17:38:13', 'WhiteBalance': 0, 'ExifInteroperabilityOffset': 1409, 'Flash': 16, 'ExifImageWidth': 4640, 'FocalLengthIn35mmFilm': 0, 'DigitalZoomRatio': '1.0', 'FocalLength': '5.53', 'SubsecTime': '173122', 'SubsecTimeOriginal': '173122', 'SubsecTimeDigitized': '173122', 'DateTimeDigitized': '2022:08:25 17:38:13', 'ShutterSpeedValue': '9.456', 'SensingMethod': 0, 'ExposureTime': '0.001422475106685633', 'FNumber': '1.8', 'ISOSpeedRatings': 100, 'LightSource': 21}, 'color': ['#2f343d', '#84a7c6'], 'tags': ['modern']}, 'Casino%20Kursaal.jpg': {'exif': {'ResolutionUnit': 2, 'ExifOffset': 284, 'ImageDescription': 'Medion   DIGITAL CAMERA        ', 'Make': 'Medion   OPTICAL CO,LTD', 'Model': 'MD9700', 'Software': 'Ver 1.0', 'Orientation': 1, 'DateTime': '2001:12:00 00:00:00', 'YCbCrPositioning': 2, 'XResolution': '72.0', 'YResolution': '72.0', 'CompressedBitsPerPixel': '0.2734375', 'DateTimeOriginal': '2001:01:14 17:26:24', 'DateTimeDigitized': '2001:01:14 17:26:24', 'ShutterSpeedValue': '7.125', 'ApertureValue': '7.8138', 'ExposureBiasValue': '0.0', 'SubjectDistance': 'nan', 'MeteringMode': 0, 'Flash': 0, 'FocalLength': '8.24', 'ColorSpace': 1, 'ExifImageWidth': 1600, 'ExifInteroperabilityOffset': 886, 'ExifImageHeight': 1200, 'ISOSpeedRatings': 100}, 'color': ['#5d7379', '#cad0c1'], 'tags': []}, 'Casino%20Montbenon.jpg': {'exif': {'ResolutionUnit': 2, 'ExifOffset': 494, 'Make': 'Panasonic', 'Model': 'DMC-TZ5', 'Software': 'Ver.1.0  ', 'Orientation': 1, 'DateTime': '2009:11:14 15:49:59', 'YCbCrPositioning': 2, 'XResolution': '180.0', 'YResolution': '180.0', 'CompressedBitsPerPixel': '4.0', 'DateTimeOriginal': '2009:11:14 15:49:59', 'DateTimeDigitized': '2009:11:14 15:49:59', 'ExposureBiasValue': '0.0', 'MaxApertureValue': '3.44', 'MeteringMode': 5, 'LightSource': 4, 'Flash': 25, 'FocalLength': '4.7', 'ColorSpace': 1, 'ExifImageWidth': 3456, 'ExifInteroperabilityOffset': 9968, 'FocalLengthIn35mmFilm': 28, 'SceneCaptureType': 0, 'ExifImageHeight': 2592, 'Contrast': 0, 'Saturation': 0, 'Sharpness': 0, 'SensingMethod': 2, 'ExposureTime': '0.03333333333333333', 'FNumber': '3.3', 'ExposureProgram': 2, 'CustomRendered': 0, 'ISOSpeedRatings': 160, 'ExposureMode': 0, 'WhiteBalance': 0, 'DigitalZoomRatio': '0.0', 'GainControl': 1}, 'color': ['#c1c0bc', '#656261'], 'tags': []}, 'Casino%20Travemuende.jpg': {'exif': {'ResolutionUnit': 2, 'ExifOffset': 196, 'Make': 'Canon', 'Model': 'Canon PowerShot A710 IS', 'Orientation': 1, 'DateTime': '2011:03:23 14:01:24', 'YCbCrPositioning': 1, 'XResolution': '180.0', 'YResolution': '180.0', 'CompressedBitsPerPixel': '5.0', 'DateTimeOriginal': '2011:03:23 14:01:24', 'DateTimeDigitized': '2011:03:23 14:01:24', 'ShutterSpeedValue': '10.28125', 'ApertureValue': '4.0', 'ExposureBiasValue': '0.0', 'MaxApertureValue': '2.96875', 'MeteringMode': 5, 'Flash': 16, 'FocalLength': '5.8', 'ColorSpace': 1, 'ExifImageWidth': 3072, 'FocalPlaneXResolution': '13653.333333333334', 'ExifImageHeight': 2304, 'FocalPlaneYResolution': '13633.136094674555', 'FocalPlaneResolutionUnit': 2, 'SensingMethod': 2, 'ExposureTime': '0.0008', 'ExifInteroperabilityOffset': 3080, 'FNumber': '4.0', 'CustomRendered': 0, 'ExposureMode': 0, 'WhiteBalance': 0, 'DigitalZoomRatio': '1.0', 'SceneCaptureType': 0}, 'color': ['#92a3b5', '#4e4b49'], 'tags': ['architecture']}, 'Casino-de-Saint-Denis.JPG': {'exif': {'ExifOffset': 2220, 'Make': 'Canon', 'Model': 'Canon EOS 400D DIGITAL', 'Orientation': 1, 'DateTime': '2011:05:02 16:22:36', 'YCbCrPositioning': 2, 'ShutterSpeedValue': '8.965789794921875', 'DateTimeOriginal': '2011:05:02 16:22:36', 'DateTimeDigitized': '2011:05:02 16:22:36', 'ApertureValue': '7.614715576171875', 'ExposureBiasValue': '0.0', 'MeteringMode': 5, 'Flash': 16, 'FocalLength': '18.0', 'ColorSpace': 1, 'ExifImageWidth': 3888, 'SceneCaptureType': 0, 'FocalPlaneXResolution': '4433.295324971494', 'FocalPlaneYResolution': '4453.6082474226805', 'ExifImageHeight': 2592, 'SubsecTimeOriginal': '00', 'SubsecTimeDigitized': '00', 'FocalPlaneResolutionUnit': 2, 'ExposureTime': '0.002', 'FNumber': '14.0', 'ExposureProgram': 0, 'CustomRendered': 0, 'ISOSpeedRatings': 400, 'ExposureMode': 0, 'WhiteBalance': 0}, 'color': ['#7c97be', '#231c16'], 'tags': []}, 'CasinoduLiban.jpg': {'exif': {'ResolutionUnit': 2, 'ExifOffset': 192, 'ImageDescription': 'IslBG', 'Software': 'ACD Systems Digital Imaging', 'Orientation': 1, 'DateTime': '2005:03:27 14:39:55', 'YCbCrPositioning': 1, 'XResolution': '300.0', 'YResolution': '300.0', 'SubsecTime': '0', 'ColorSpace': 1, 'ExifImageWidth': 800, 'ExifImageHeight': 594, 'ExifInteroperabilityOffset': 270}, 'color': ['#212023', '#807a86'], 'tags': []}, 'CASSINO-ALADIM.JPG': {'exif': {'ResolutionUnit': 2, 'ExifOffset': 284, 'ImageDescription': 'OLYMPUS DIGITAL CAMERA         ', 'Make': 'OLYMPUS OPTICAL CO.,LTD', 'Model': 'C3100Z,C3020Z', 'Software': 'v374-75', 'Orientation': 1, 'DateTime': '0000:00:00 00:00:00', 'YCbCrPositioning': 2, 'XResolution': '72.0', 'YResolution': '72.0', 'CompressedBitsPerPixel': '1.0', 'DateTimeOriginal': '0000:00:00 00:00:00', 'DateTimeDigitized': '0000:00:00 00:00:00', 'ExposureBiasValue': '0.0', 'MaxApertureValue': '3.0', 'MeteringMode': 5, 'LightSource': 0, 'Flash': 0, 'FocalLength': '6.6', 'ColorSpace': 1, 'ExifImageWidth': 2048, 'ExifInteroperabilityOffset': 886, 'ExifImageHeight': 1536, 'ExposureTime': '0.0025', 'FNumber': '5.6', 'ExposureProgram': 2, 'ISOSpeedRatings': 100}, 'color': ['#3e3934', '#8d9cb4'], 'tags': []}, 'Circus%20Circus%20P4220697.jpg': {'exif': {'DateTimeOriginal': '2018:04:22 21:41:52', 'Rating': 1, 'ResolutionUnit': 2, 'RatingPercent': 20, 'ExifOffset': 1018, 'ImageDescription': 'OLYMPUS DIGITAL CAMERA         ', 'Make': 'OLYMPUS IMAGING CORP.  ', 'Model': 'SZ-20                  ', 'Software': 'darktable 2.0', 'Orientation': 1, 'DateTime': '2018:05:28 19:56:41', 'YCbCrPositioning': 2, 'XResolution': 300, 'YResolution': 300, 'CompressedBitsPerPixel': '2.0', 'DateTimeDigitized': '2018:04:22 21:41:52', 'ExposureBiasValue': '0.0', 'MaxApertureValue': '3.26', 'MeteringMode': 5, 'LightSource': 0, 'Flash': 16, 'FocalLength': '5.9', 'ColorSpace': 1, 'ExifImageWidth': 4526, 'ExifInteroperabilityOffset': 2658, 'SceneCaptureType': 0, 'ExifImageHeight': 3386, 'Contrast': 0, 'Saturation': 0, 'Sharpness': 0, 'ExposureTime': '0.00625', 'FNumber': '9.4', 'ExposureProgram': 5, 'CustomRendered': 0, 'ISOSpeedRatings': 80, 'ExposureMode': 0, 'WhiteBalance': 0, 'DigitalZoomRatio': '0.0', 'FocalLengthIn35mmFilm': 33, 'GainControl': 0}, 'color': ['#89a3b4', '#534d4b'], 'tags': ['architecture']}, 'Crown%20Casino%20complex.jpg': {'exif': {'CustomRendered': 0, 'ExposureMode': 0, 'WhiteBalance': 0, 'DigitalZoomRatio': '0.0', 'SceneCaptureType': 1, 'GainControl': 0, 'Contrast': 0, 'Saturation': 0, 'Sharpness': 0, 'ImageDescription': 'OLYMPUS DIGITAL CAMERA         ', 'Make': 'OLYMPUS OPTICAL CO.,LTD', 'Model': 'C750UZ', 'Orientation': 1, 'YCbCrPositioning': 2, 'XResolution': '72.0', 'YResolution': '72.0', 'ResolutionUnit': 2, 'Software': 'v753g-79', 'DateTime': '0000:00:00 00:00:00', 'ExifOffset': 644, 'CompressedBitsPerPixel': '2.0', 'DateTimeOriginal': '0000:00:00 00:00:00', 'DateTimeDigitized': '0000:00:00 00:00:00', 'ExposureBiasValue': '0.0', 'MaxApertureValue': '3.0', 'MeteringMode': 5, 'LightSource': 0, 'Flash': 16, 'FocalLength': '6.3', 'ColorSpace': 1, 'ExifImageWidth': 2288, 'ExifImageHeight': 1712, 'ExposureTime': '0.0025', 'FNumber': '5.6', 'ExposureProgram': 5, 'ISOSpeedRatings': 50}, 'color': ['#7491cb', '#515457'], 'tags': ['modern']}, 'Deauville-Casino-20120915.jpg': {'exif': {'ResolutionUnit': 2, 'ExifOffset': 284, 'Make': 'Canon', 'Model': 'Canon EOS 450D', 'Software': 'Adobe Photoshop CS5.1 Macintosh', 'Orientation': 1, 'DateTime': '2012:10:05 14:52:02', 'YResolution': '240.0', 'Copyright': 'Creatice commons (CC BY 3.0)', 'XResolution': '240.0', 'Artist': 'Daniel VILLAFRUELA', 'ShutterSpeedValue': '8.965784', 'ApertureValue': '8.0', 'DateTimeOriginal': '2012:09:15 12:14:54', 'DateTimeDigitized': '2012:09:15 12:14:54', 'ExposureBiasValue': '0.0', 'MaxApertureValue': '3.625', 'SubjectDistance': '3.49', 'MeteringMode': 6, 'Flash': 16, 'FocalLength': '18.0', 'ExposureMode': 0, 'WhiteBalance': 0, 'SceneCaptureType': 0, 'FocalPlaneXResolution': '4865.603644646925', 'FocalPlaneYResolution': '4876.712328767123', 'FocalPlaneResolutionUnit': 2, 'SubsecTimeOriginal': '03', 'SubsecTimeDigitized': '03', 'ExposureTime': '0.002', 'FNumber': '16.0', 'ExposureProgram': 2, 'CustomRendered': 0, 'ISOSpeedRatings': 200, 'CameraOwnerName': 'Daniel VILLAFRUELA', 'BodySerialNumber': '1380331676', 'LensSpecification': '(18.0, 55.0, nan, nan)', 'LensModel': 'EF-S18-55mm f/3.5-5.6 IS'}, 'color': ['#424c59', '#d6d0cc'], 'tags': []}, 'den%20Kursaal%20Stirnfront.jpg': {'exif': {}, 'color': ['#839db5', '#383c25'], 'tags': []}, 'did%20et%20Atrium%20Casino.jpg': {'exif': {'ImageWidth': 2560, 'ImageLength': 1920, 'GPSInfo': \"{0: b'\\\\x02\\\\x02\\\\x00\\\\x00', 1: 'N', 2: (43.7107507, 0.0, 0.0), 3: 'W', 4: (1.0558943, 0.0, 0.0), 5: b'\\\\x00', 6: 38.0, 7: (10.0, 4.0, 52.0), 27: b'ASCII\\\\x00\\\\x00\\\\x00GPS', 29: '2012:09:11'}\", 'ExifOffset': 176, 'Make': 'google', 'Model': 'Nexus S', 'Software': 'JRO03E', 'Orientation': 1, 'DateTime': '2012:09:11 12:04:52', 'YCbCrPositioning': 1, 'ShutterSpeedValue': '9.0', 'ApertureValue': '3.0', 'DateTimeOriginal': '2012:09:11 12:04:52', 'DateTimeDigitized': '2012:09:11 12:04:52', 'BrightnessValue': '8.0', 'ExposureBiasValue': 'nan', 'MaxApertureValue': '3.0', 'MeteringMode': 2, 'Flash': 0, 'FocalLength': '3.43', 'ColorSpace': 1, 'ExifImageWidth': 2560, 'SceneCaptureType': 0, 'ExifImageHeight': 1920, 'ExposureTime': '0.0015772870662460567', 'FNumber': '2.6', 'ExposureProgram': 3, 'ISOSpeedRatings': 50, 'ExposureMode': 0, 'WhiteBalance': 0}, 'color': ['#5b5a56', '#eaf1f4'], 'tags': []}, 'Dunes%20Hotel.jpg': {'exif': {}, 'color': ['#ebe7e2', '#4f534c'], 'tags': ['modern', 'classy']}, 'e%20hotel%20The%20Bellagio.jpg': {'exif': {'GPSInfo': \"{0: b'\\\\x02\\\\x02\\\\x00\\\\x00', 1: 'N', 2: (36.0, 6.824, 0.0), 3: 'W', 4: (115.0, 10.5856, 0.0), 5: b'\\\\x00', 6: 663.0, 7: (23.0, 56.0, 40.0), 8: '0', 16: 'T', 17: 111.46, 18: 'WGS-84', 19: 'N', 20: (36.0, 6.0, 43.441380002005815), 21: 'W', 22: (115.0, 10.0, 16.170312044327794), 29: '2010:05:18'}\", 'ResolutionUnit': 2, 'ExifOffset': 368, 'ImageDescription': 'Paris Las Vegas as seen from the Bellagio on a sunny summer day in the afternoon.', 'Make': 'SONY', 'Model': 'DSLR-A900', 'Software': 'Adobe Photoshop CS5 Windows', 'Orientation': 1, 'DateTime': '2010:05:18 15:56:40', 'YResolution': '360.0', 'Copyright': 'Â©2010 JÃ¼rgen Matern', 'XResolution': '360.0', 'Artist': 'JÃ¼rgen Matern', 'ShutterSpeedValue': '7.643856', 'ApertureValue': '4.970854', 'DateTimeOriginal': '2010:05:18 15:56:40', 'DateTimeDigitized': '2010:05:18 16:56:40', 'BrightnessValue': '6.25', 'ExposureBiasValue': '-0.3', 'MaxApertureValue': '3.0', 'MeteringMode': 2, 'LightSource': 0, 'Flash': 16, 'FocalLength': '45.0', 'ColorSpace': 1, 'ExifImageWidth': 4536, 'FocalLengthIn35mmFilm': 45, 'SceneCaptureType': 0, 'ExifImageHeight': 3914, 'Contrast': 0, 'Saturation': 0, 'Sharpness': 0, 'ExposureTime': '0.005', 'FNumber': '5.6', 'ExposureProgram': 3, 'CustomRendered': 0, 'ISOSpeedRatings': 200, 'ExposureMode': 0, 'SensitivityType': 0, 'WhiteBalance': 0, 'LensSpecification': '(28.0, 70.0, 2.8, 2.8)', 'LensModel': '28-70mm F2.8'}, 'color': ['#3d4c54', '#b5ab9a'], 'tags': ['modern', 'architecture']}, 'egas%20-%20November%202003.jpg': {'exif': {'ResolutionUnit': 2, 'ExifOffset': 260, 'ImageDescription': '                               ', 'Make': 'SONY', 'Model': 'CYBERSHOT', 'Software': 'Adobe Photoshop CS2 Windows', 'Orientation': 1, 'DateTime': '2007:10:07 15:52:03', 'YCbCrPositioning': 2, 'XResolution': '72.0', 'YResolution': '72.0', 'CompressedBitsPerPixel': '2.0', 'DateTimeOriginal': '2003:11:14 20:28:32', 'DateTimeDigitized': '2003:11:14 20:28:32', 'ExposureBiasValue': '0.0', 'MaxApertureValue': '3.0', 'MeteringMode': 3, 'LightSource': 0, 'Flash': 0, 'FocalLength': '8.0', 'ColorSpace': 1, 'ExifImageWidth': 687, 'ExifImageHeight': 963, 'ExposureTime': '0.0008', 'FNumber': '5.6', 'ExposureProgram': 8, 'ISOSpeedRatings': 100}, 'color': ['#5f5d59', '#c7d4d3'], 'tags': ['modern', 'architecture']}, 'eux%20Casino%20-%20Closeup.jpg': {'exif': {'ResolutionUnit': 2, 'ExifOffset': 2344, 'Make': 'EASTMAN KODAK COMPANY', 'Model': 'KODAK Z1275 ZOOM DIGITAL CAMERA', 'Software': 'Microsoft Windows Photo Gallery 6.0.6001.18000', 'Orientation': 1, 'DateTime': '2009:05:09 00:55:26', 'YCbCrPositioning': 1, 'XResolution': '480.0', 'YResolution': '480.0', 'ShutterSpeedValue': '9.333333333333334', 'DateTimeOriginal': '2008:01:05 10:07:15', 'DateTimeDigitized': '2008:01:05 10:07:15', 'ApertureValue': '3.5', 'ExposureBiasValue': '0.0', 'MaxApertureValue': '3.5', 'MeteringMode': 5, 'LightSource': 0, 'Flash': 16, 'FocalLength': '16.86', 'ColorSpace': 1, 'ExifImageWidth': 2152, 'ExifInteroperabilityOffset': 14360, 'SceneCaptureType': 0, 'ExifImageHeight': 736, 'Contrast': 0, 'Saturation': 0, 'Sharpness': 0, 'SubjectDistanceRange': 0, 'ExposureIndex': '64.0', 'SensingMethod': 2, 'ExposureTime': '0.0015625', 'FNumber': '3.4', 'ImageUniqueID': '16D35B89D9B04A55AC696568D88371C2', 'ExposureProgram': 2, 'CustomRendered': 0, 'ISOSpeedRatings': 64, 'ExposureMode': 0, 'WhiteBalance': 0, 'DigitalZoomRatio': '0.0', 'FocalLengthIn35mmFilm': 80, 'GainControl': 0}, 'color': ['#3f4e46', '#b6bbba'], 'tags': []}, 'Fa%C3%A7ade%20fleurie.jpg': {'exif': {}, 'color': ['#3d3829', '#b9baaf'], 'tags': []}, 'Flamingohotelyay.jpg': {'exif': {'ResolutionUnit': 2, 'ExifOffset': 338, 'Make': 'EASTMAN KODAK COMPANY', 'Model': 'KODAK EASYSHARE CX7300 DIGITAL CAMERA', 'Software': 'Version 1.0000 ', 'Orientation': 1, 'YCbCrPositioning': 2, 'XResolution': '230.0', 'YResolution': '230.0', 'CompressedBitsPerPixel': '1.65', 'DateTimeOriginal': '2005:08:18 05:58:53', 'DateTimeDigitized': '2005:08:18 05:58:53', 'ShutterSpeedValue': '10.81', 'ApertureValue': '4.33', 'ExposureBiasValue': '0.0', 'MaxApertureValue': '4.33', 'MeteringMode': 2, 'Flash': 24, 'FocalLength': '5.9', 'ColorSpace': 1, 'ExifImageWidth': 2080, 'ExifInteroperabilityOffset': 2518, 'SceneCaptureType': 0, 'ExifImageHeight': 1544, 'Contrast': 0, 'Saturation': 0, 'Sharpness': 0, 'SubjectDistanceRange': 0, 'ExposureIndex': '100.0', 'SensingMethod': 2, 'ExposureTime': '0.000555', 'FNumber': '4.5', 'ExposureProgram': 2, 'CustomRendered': 0, 'ISOSpeedRatings': 100, 'ExposureMode': 0, 'WhiteBalance': 0, 'DigitalZoomRatio': '0.0', 'FocalLengthIn35mmFilm': 37, 'GainControl': 0}, 'color': ['#323246', '#b5a9a3'], 'tags': []}, 'Fremont%20street%201983.jpg': {'exif': {}, 'color': ['#3a1f15', '#828c8d'], 'tags': []}, 'gas%20Excalibur%20P4230727.jpg': {'exif': {'DateTimeOriginal': '2018:04:23 00:33:43', 'Rating': 1, 'ResolutionUnit': 2, 'RatingPercent': 20, 'ExifOffset': 1018, 'ImageDescription': 'OLYMPUS DIGITAL CAMERA         ', 'Make': 'OLYMPUS IMAGING CORP.  ', 'Model': 'SZ-20                  ', 'Software': 'darktable 2.0', 'Orientation': 1, 'DateTime': '2018:05:27 11:58:40', 'YCbCrPositioning': 2, 'XResolution': 300, 'YResolution': 300, 'CompressedBitsPerPixel': '2.0', 'DateTimeDigitized': '2018:04:23 00:33:43', 'ExposureBiasValue': '0.0', 'MaxApertureValue': '3.26', 'MeteringMode': 5, 'LightSource': 0, 'Flash': 16, 'FocalLength': '4.9', 'ColorSpace': 1, 'ExifImageWidth': 4541, 'ExifInteroperabilityOffset': 2658, 'SceneCaptureType': 1, 'ExifImageHeight': 3398, 'Contrast': 0, 'Saturation': 0, 'Sharpness': 0, 'ExposureTime': '0.00125', 'FNumber': '3.3', 'ExposureProgram': 5, 'CustomRendered': 0, 'ISOSpeedRatings': 80, 'ExposureMode': 0, 'WhiteBalance': 0, 'DigitalZoomRatio': '0.0', 'FocalLengthIn35mmFilm': 27, 'GainControl': 0}, 'color': ['#4c4f53', '#9bbacf'], 'tags': ['nature', 'architecture']}, 'gas%20Tropicana%20P4230726.jpg': {'exif': {'DateTimeOriginal': '2018:04:23 00:32:17', 'Rating': 1, 'ResolutionUnit': 2, 'RatingPercent': 20, 'ExifOffset': 1018, 'ImageDescription': 'OLYMPUS DIGITAL CAMERA         ', 'Make': 'OLYMPUS IMAGING CORP.  ', 'Model': 'SZ-20                  ', 'Software': 'darktable 2.0', 'Orientation': 1, 'DateTime': '2018:05:27 12:00:36', 'YCbCrPositioning': 2, 'XResolution': 300, 'YResolution': 300, 'CompressedBitsPerPixel': '2.0', 'DateTimeDigitized': '2018:04:23 00:32:17', 'ExposureBiasValue': '0.0', 'MaxApertureValue': '3.26', 'MeteringMode': 5, 'LightSource': 0, 'Flash': 16, 'FocalLength': '10.1', 'ColorSpace': 1, 'ExifImageWidth': 2392, 'ExifInteroperabilityOffset': 2658, 'SceneCaptureType': 0, 'ExifImageHeight': 3197, 'Contrast': 0, 'Saturation': 0, 'Sharpness': 0, 'ExposureTime': '0.001', 'FNumber': '4.5', 'ExposureProgram': 5, 'CustomRendered': 0, 'ISOSpeedRatings': 80, 'ExposureMode': 0, 'WhiteBalance': 0, 'DigitalZoomRatio': '0.0', 'FocalLengthIn35mmFilm': 57, 'GainControl': 0}, 'color': ['#52718d', '#d3d9d7'], 'tags': ['modern']}, 'Golden%20Nugget%202008.jpg': {'exif': {'ResolutionUnit': 2, 'ExifOffset': 240, 'Make': 'Canon', 'Model': 'Canon EOS DIGITAL REBEL XT', 'Software': 'Adobe Photoshop Elements 5.0 Windows', 'Orientation': 1, 'DateTime': '2008:09:22 20:33:42', 'YCbCrPositioning': 1, 'XResolution': '350.0', 'YResolution': '350.0', 'ShutterSpeedValue': '6.64385986328125', 'DateTimeOriginal': '2008:09:19 23:29:31', 'DateTimeDigitized': '2008:09:19 23:29:31', 'ApertureValue': '3.614715576171875', 'ExposureBiasValue': '0.0', 'Flash': 16, 'FocalLength': '18.0', 'ColorSpace': 1, 'ExifImageWidth': 1000, 'SceneCaptureType': 0, 'FocalPlaneXResolution': '3954.233409610984', 'FocalPlaneYResolution': '3958.762886597938', 'ExifImageHeight': 513, 'FocalPlaneResolutionUnit': 2, 'ExposureTime': '0.01', 'FNumber': '3.5', 'ExposureProgram': 1, 'CustomRendered': 0, 'ISOSpeedRatings': 200, 'ExposureMode': 1, 'WhiteBalance': 0}, 'color': ['#a27957', '#271f1b'], 'tags': []}, 'Golden%20Nugget.jpg': {'exif': {}, 'color': ['#585d60', '#ccd3db'], 'tags': []}, 'GrandCasinoBasel.JPG': {'exif': {'GPSInfo': \"{0: b'\\\\x02\\\\x02\\\\x00\\\\x00'}\", 'ResolutionUnit': 2, 'ExifOffset': 360, 'Make': 'Canon', 'Model': 'Canon EOS 500D', 'YResolution': '72.0', 'Orientation': 1, 'DateTime': '2013:06:08 16:32:18', 'YCbCrPositioning': 2, 'Copyright': '', 'XResolution': '72.0', 'Artist': '', 'ShutterSpeedValue': '7.625', 'DateTimeOriginal': '2013:06:08 16:32:18', 'DateTimeDigitized': '2013:06:08 16:32:18', 'ApertureValue': '6.0', 'ExposureBiasValue': '-1.0', 'MeteringMode': 5, 'Flash': 16, 'FocalLength': '18.0', 'ColorSpace': 1, 'ExifImageWidth': 3456, 'ExifInteroperabilityOffset': 8380, 'FocalPlaneXResolution': '3865.771812080537', 'FocalPlaneYResolution': '3885.328836424958', 'SubsecTime': '04', 'SubsecTimeOriginal': '04', 'SubsecTimeDigitized': '04', 'ExifImageHeight': 2304, 'FocalPlaneResolutionUnit': 2, 'ExposureTime': '0.005', 'FNumber': '8.0', 'ExposureProgram': 2, 'CustomRendered': 0, 'ISOSpeedRatings': 100, 'ExposureMode': 0, 'WhiteBalance': 0, 'SceneCaptureType': 0}, 'color': ['#69453a', '#7993bb'], 'tags': []}, 'Hard%20rock%20las%20vegas.jpg': {'exif': {'Model': 'KODAK CX6330 ZOOM DIGITAL CAMERA', 'ExifOffset': 118, 'YCbCrPositioning': 1, 'Make': 'EASTMAN KODAK COMPANY', 'ShutterSpeedValue': '9.0', 'DateTimeOriginal': '2005:03:22 09:21:42', 'DateTimeDigitized': '2005:03:22 09:21:42', 'ApertureValue': '5.0', 'ExposureBiasValue': '0.0', 'MaxApertureValue': '2.9', 'MeteringMode': 5, 'LightSource': 0, 'Flash': 24, 'FocalLength': '5.6', 'ColorSpace': 1, 'ExifImageWidth': 2032, 'FocalLengthIn35mmFilm': 37, 'SceneCaptureType': 0, 'ExifImageHeight': 1524, 'Contrast': 0, 'Saturation': 0, 'Sharpness': 0, 'SubjectDistanceRange': 0, 'ExposureIndex': '100.0', 'SensingMethod': 2, 'ExposureTime': '0.002', 'FNumber': '5.6', 'ExposureProgram': 2, 'CustomRendered': 0, 'ExposureMode': 0, 'WhiteBalance': 0, 'DigitalZoomRatio': '0.0', 'GainControl': 0}, 'color': ['#3d3931', '#b8c2ce'], 'tags': []}, 'Hooters%20Casino%20HotelLV.jpg': {'exif': {'ResolutionUnit': 2, 'ExifOffset': 504, 'Make': 'EASTMAN KODAK COMPANY', 'Model': 'KODAK Z612 ZOOM DIGITAL CAMERA', 'Orientation': 1, 'YCbCrPositioning': 1, 'XResolution': '230.0', 'YResolution': '230.0', 'ShutterSpeedValue': '10.0', 'DateTimeOriginal': '2007:08:23 15:50:51', 'DateTimeDigitized': '2007:08:23 15:50:51', 'ApertureValue': '3.4', 'ExposureBiasValue': '0.0', 'MaxApertureValue': '3.4', 'MeteringMode': 5, 'LightSource': 0, 'Flash': 24, 'FocalLength': '14.6', 'ColorSpace': 1, 'ExifImageWidth': 2832, 'ExifInteroperabilityOffset': 11148, 'SceneCaptureType': 0, 'ExifImageHeight': 2128, 'Contrast': 0, 'Saturation': 0, 'Sharpness': 0, 'SubjectDistanceRange': 0, 'ExposureIndex': '80.0', 'SensingMethod': 2, 'ExposureTime': '0.001', 'FNumber': '3.2', 'ExposureProgram': 2, 'CustomRendered': 0, 'ISOSpeedRatings': 80, 'ExposureMode': 0, 'WhiteBalance': 0, 'DigitalZoomRatio': '0.0', 'FocalLengthIn35mmFilm': 87, 'GainControl': 0}, 'color': ['#4b5256', '#bcd5e6'], 'tags': ['nature', 'modern']}, 'HPIM1957.sized.jpg': {'exif': {}, 'color': ['#e6e4e1', '#6f493e'], 'tags': []}, 'ino%20de%20Charlevoix%2001.jpg': {'exif': {'ResolutionUnit': 2, 'ExifOffset': 218, 'ImageDescription': '          ', 'Make': 'NIKON', 'Model': 'E4100', 'Software': 'Picasa 3.0', 'Orientation': 0, 'DateTime': '2006:06:04 09:21:28', 'YCbCrPositioning': 2, 'XResolution': '300.0', 'YResolution': '300.0', 'CompressedBitsPerPixel': '2.0', 'DateTimeOriginal': '2006:06:04 09:21:28', 'DateTimeDigitized': '2006:06:04 09:21:28', 'ExposureBiasValue': '0.0', 'MaxApertureValue': '3.0', 'MeteringMode': 5, 'LightSource': 0, 'Flash': 24, 'FocalLength': '5.8', 'ColorSpace': 65535, 'ExifImageWidth': 2288, 'ExifInteroperabilityOffset': 2092, 'SceneCaptureType': 0, 'ExifImageHeight': 1531, 'Contrast': 0, 'Saturation': 0, 'Sharpness': 0, 'SubjectDistanceRange': 0, 'ExposureTime': '0.004721435316336166', 'FNumber': '5.6', 'ImageUniqueID': '51d9b1b98ef016b48c4c76f7fbd037f0', 'ExposureProgram': 2, 'CustomRendered': 0, 'ISOSpeedRatings': 50, 'ExposureMode': 0, 'WhiteBalance': 0, 'DigitalZoomRatio': '0.0', 'FocalLengthIn35mmFilm': 35, 'GainControl': 0}, 'color': ['#606d42', '#c2d8e1'], 'tags': []}, 'ino%20helium%20balloon-002.jpg': {'exif': {'ResolutionUnit': 2, 'ExifOffset': 342, 'ImageDescription': 'KONICA MINOLTA DIGITAL CAMERA  ', 'Make': 'KONICA MINOLTA', 'Model': 'DiMAGE A200', 'Software': 'DiMAGE A200 Ver1.00', 'Orientation': 1, 'DateTime': '2006:09:23 12:05:21', 'YCbCrPositioning': 2, 'XResolution': '72.0', 'YResolution': '72.0', 'CompressedBitsPerPixel': '4.0', 'DateTimeOriginal': '2006:09:23 12:05:21', 'DateTimeDigitized': '2006:09:23 12:05:21', 'BrightnessValue': '9.1', 'ExposureBiasValue': '0.0', 'MaxApertureValue': '3.0', 'MeteringMode': 5, 'LightSource': 0, 'Flash': 16, 'FocalLength': '7.4', 'ColorSpace': 1, 'ExifImageWidth': 3264, 'SceneCaptureType': 0, 'ExifImageHeight': 2448, 'Contrast': 0, 'Saturation': 0, 'Sharpness': 0, 'SubjectLocation': '(1632, 1224, 424, 325)', 'SubjectDistanceRange': 3, 'ExposureTime': '0.004', 'ExifInteroperabilityOffset': 1124, 'FNumber': '5.6', 'ExposureProgram': 2, 'CustomRendered': 0, 'ISOSpeedRatings': 50, 'ExposureMode': 0, 'WhiteBalance': 0, 'DigitalZoomRatio': '0.0', 'FocalLengthIn35mmFilm': 28, 'GainControl': 0}, 'color': ['#97abc5', '#585442'], 'tags': []}, 'ino%20mauresque%20arcachon.jpg': {'exif': {}, 'color': ['#4b4c40', '#d2d3c8'], 'tags': []}, 'Interlaken%20Kursaal%2009.jpg': {'exif': {'ResolutionUnit': 2, 'ExifOffset': 2294, 'Make': 'NIKON CORPORATION', 'Model': 'NIKON D40X', 'Software': 'Ver.1.00 ', 'Orientation': 1, 'DateTime': '2011:07:22 17:55:46', 'YCbCrPositioning': 2, 'XResolution': '300.0', 'YResolution': '300.0', 'CompressedBitsPerPixel': '4.0', 'DateTimeOriginal': '2011:07:22 17:55:46', 'DateTimeDigitized': '2011:07:22 17:55:46', 'ExposureBiasValue': '0.0', 'MaxApertureValue': '3.6', 'MeteringMode': 5, 'LightSource': 0, 'Flash': 0, 'FocalLength': '18.0', 'ColorSpace': 1, 'ExifImageWidth': 3872, 'ExifInteroperabilityOffset': 32858, 'SceneCaptureType': 0, 'SubsecTime': '40', 'SubsecTimeOriginal': '40', 'SubsecTimeDigitized': '40', 'ExifImageHeight': 2592, 'SubjectDistanceRange': 0, 'SensingMethod': 2, 'ExposureTime': '0.01', 'FNumber': '5.0', 'ExposureProgram': 0, 'CustomRendered': 0, 'ISOSpeedRatings': 200, 'ExposureMode': 0, 'WhiteBalance': 0, 'DigitalZoomRatio': '1.0', 'FocalLengthIn35mmFilm': 27, 'GainControl': 0, 'Contrast': 0, 'Saturation': 0, 'Sharpness': 0}, 'color': ['#9fba81', '#3d4d43'], 'tags': ['nature']}, 'is%2C%20Duisburg%2C%202012.JPG': {'exif': {'GPSInfo': \"{0: b'\\\\x02\\\\x02\\\\x00\\\\x00', 1: 'N', 2: (51.0, 25.0, 55.00037993920973), 3: 'E', 4: (6.0, 45.0, 37.794347974123255), 5: b'\\\\x00', 6: 36.0, 7: (15.0, 16.0, 40.0), 18: 'WGS-84', 29: '2012:12:02'}\", 'ResolutionUnit': 2, 'ExifOffset': 292, 'Make': 'Canon', 'Model': 'Canon EOS 600D', 'YResolution': '72.0', 'Orientation': 1, 'DateTime': '2012:12:02 16:16:40', 'YCbCrPositioning': 2, 'Copyright': '2012 - BlackIceNRW - Wikipedia - Wikimedia Commons', 'XResolution': '72.0', 'Artist': 'BlackIceNRW - Wikipedia', 'ShutterSpeedValue': '6.0', 'DateTimeOriginal': '2012:12:02 16:16:40', 'DateTimeDigitized': '2012:12:02 16:16:40', 'ApertureValue': '4.0', 'ExposureBiasValue': '0.0', 'MeteringMode': 5, 'Flash': 9, 'FocalLength': '18.0', 'ColorSpace': 1, 'ExifImageWidth': 5184, 'ExifInteroperabilityOffset': 8186, 'FocalPlaneXResolution': '5728.176795580111', 'FocalPlaneYResolution': '5808.403361344538', 'SubsecTime': '00', 'SubsecTimeOriginal': '00', 'SubsecTimeDigitized': '00', 'ExifImageHeight': 3456, 'FocalPlaneResolutionUnit': 2, 'ExposureTime': '0.016666666666666666', 'FNumber': '4.0', 'ExposureProgram': 2, 'CustomRendered': 0, 'ISOSpeedRatings': 400, 'ExposureMode': 0, 'SensitivityType': 2, 'WhiteBalance': 0, 'RecommendedExposureIndex': 400, 'CameraOwnerName': '\\x00\\x00\\x00\\x00\\x00\\x00\\x00\\x00\\x00\\x00\\x00\\x00\\x00\\x00\\x00\\x00\\x00\\x00\\x00\\x00\\x00\\x00\\x00\\x00\\x00\\x00\\x00\\x00\\x00\\x00\\x00', 'BodySerialNumber': '073023033031', 'LensSpecification': '(18.0, 55.0, nan, nan)', 'LensModel': 'EF-S18-55mm f/3.5-5.6 IS II\\x00\\x00\\x00\\x00\\x00\\x00\\x00\\x00\\x00\\x00\\x00\\x00\\x00\\x00\\x00\\x00\\x00\\x00\\x00\\x00\\x00\\x00\\x00\\x00\\x00\\x00\\x00\\x00\\x00\\x00\\x00\\x00\\x00\\x00\\x00\\x00\\x00\\x00\\x00\\x00\\x00\\x00', 'LensSerialNumber': '0000038f03\\x00', 'SceneCaptureType': 0}, 'color': ['#565441', '#b8c0c8'], 'tags': ['modern']}, 'Kurpark-hg-spielbank-005.jpg': {'exif': {'ResolutionUnit': 2, 'ExifOffset': 420, 'Make': 'Panasonic', 'Model': 'DMC-FZ50', 'Software': 'Ver.1.0  ', 'Orientation': 1, 'DateTime': '2009:08:26 13:42:03', 'YCbCrPositioning': 2, 'XResolution': '72.0', 'YResolution': '72.0', 'CompressedBitsPerPixel': '4.0', 'DateTimeOriginal': '2009:08:26 13:42:03', 'DateTimeDigitized': '2009:08:26 13:42:03', 'ExposureBiasValue': '0.0', 'MaxApertureValue': '3.0', 'MeteringMode': 5, 'LightSource': 0, 'Flash': 16, 'FocalLength': '7.4', 'ColorSpace': 1, 'ExifImageWidth': 3648, 'ExifInteroperabilityOffset': 7692, 'FocalLengthIn35mmFilm': 35, 'SceneCaptureType': 0, 'ExifImageHeight': 2736, 'Contrast': 0, 'Saturation': 0, 'Sharpness': 0, 'SensingMethod': 2, 'ExposureTime': '0.004', 'FNumber': '5.0', 'ExposureProgram': 2, 'CustomRendered': 0, 'ISOSpeedRatings': 100, 'ExposureMode': 0, 'WhiteBalance': 0, 'DigitalZoomRatio': '0.0', 'GainControl': 0}, 'color': ['#3b3d32', '#b7bab2'], 'tags': []}, 'land%20Hotel%20Las%20Vegas.jpg': {'exif': {'ResolutionUnit': 2, 'ExifOffset': 228, 'Make': 'Canon', 'Model': 'Canon DIGITAL IXUS 50', 'Software': 'Adobe Photoshop CS Windows', 'Orientation': 1, 'DateTime': '2006:11:09 21:10:55', 'YCbCrPositioning': 1, 'XResolution': '180.0', 'YResolution': '180.0', 'CompressedBitsPerPixel': '5.0', 'DateTimeOriginal': '2006:09:11 23:44:45', 'DateTimeDigitized': '2006:09:11 23:44:45', 'ShutterSpeedValue': '7.96875', 'ApertureValue': '6.0', 'ExposureBiasValue': '0.0', 'MaxApertureValue': '4.0', 'MeteringMode': 5, 'Flash': 24, 'FocalLength': '12.12', 'ColorSpace': 1, 'ExifImageWidth': 1924, 'FocalPlaneXResolution': '11520.0', 'ExifImageHeight': 1561, 'FocalPlaneYResolution': '11571.42857142857', 'FocalPlaneResolutionUnit': 2, 'SensingMethod': 2, 'ExposureTime': '0.004', 'ExifInteroperabilityOffset': 988, 'FNumber': '8.0', 'CustomRendered': 0, 'ExposureMode': 0, 'WhiteBalance': 0, 'DigitalZoomRatio': '1.0', 'SceneCaptureType': 0}, 'color': ['#3f3b34', '#96a3b5'], 'tags': []}, 'LasVegas-MGMgrand.jpg': {'exif': {'CustomRendered': 0, 'ExposureMode': 1, 'WhiteBalance': 1, 'SceneCaptureType': 0, 'ResolutionUnit': 2, 'ExifOffset': 264, 'Make': 'Canon', 'Model': 'Canon EOS 10D', 'Software': 'Adobe Photoshop Album 2.0', 'DateTime': '2004:10:10 19:07:32', 'YCbCrPositioning': 1, 'XResolution': '133.25', 'YResolution': '133.25', 'ShutterSpeedValue': '-0.5849456787109375', 'DateTimeOriginal': '2003:12:26 23:31:03', 'DateTimeDigitized': '2003:12:26 23:31:03', 'ApertureValue': '6.9188690185546875', 'ExposureBiasValue': '0.0', 'ColorSpace': 65535, 'Flash': 0, 'FocalLength': '40.0', 'ExifImageWidth': 800, 'ExifImageHeight': 533, 'FocalPlaneXResolution': '3443.946188340807', 'FocalPlaneYResolution': '3442.016806722689', 'FocalPlaneResolutionUnit': 2, 'ExposureTime': '1.5', 'FNumber': '11.0', 'ISOSpeedRatings': 400}, 'color': ['#1a2511', '#ac8b71'], 'tags': ['modern', 'classy']}, 'Leamy%20Casino.JPG': {'exif': {'ResolutionUnit': 2, 'ExifOffset': 543, 'ImageDescription': 'OLYMPUS DIGITAL CAMERA         ', 'Make': 'OLYMPUS CORPORATION    ', 'Model': 'u10D,S300D,u300D', 'Software': '22-1014                        ', 'Orientation': 1, 'DateTime': '2005:10:20 14:49:23', 'YCbCrPositioning': 2, 'XResolution': '144.0', 'YResolution': '144.0', 'DateTimeOriginal': '2005:10:20 14:49:23', 'DateTimeDigitized': '2005:10:20 14:49:23', 'ExposureBiasValue': '0.0', 'MaxApertureValue': '3.26', 'MeteringMode': 5, 'LightSource': 0, 'Flash': 24, 'FocalLength': '5.8', 'ColorSpace': 1, 'ExifImageWidth': 2048, 'SceneCaptureType': 0, 'GainControl': 0, 'ExifImageHeight': 1536, 'Contrast': 0, 'Saturation': 0, 'Sharpness': 0, 'ExposureTime': '0.016666666666666666', 'ExifInteroperabilityOffset': 1892, 'FNumber': '8.8', 'ExposureProgram': 2, 'CustomRendered': 0, 'ISOSpeedRatings': 80, 'ExposureMode': 0, 'WhiteBalance': 0, 'DigitalZoomRatio': '1.0'}, 'color': ['#5b5e6c', '#c6cedd'], 'tags': ['architecture']}, 'London%20Hippodrome%202011.jpg': {'exif': {'ResolutionUnit': 2, 'ExifOffset': 196, 'Make': 'NIKON CORPORATION', 'Model': 'NIKON D90', 'Software': 'Ver.1.00', 'DateTime': '2011:06:15 14:36:09', 'YCbCrPositioning': 1, 'XResolution': '300.0', 'YResolution': '300.0', 'ColorSpace': 1, 'DateTimeOriginal': '2011:06:15 14:36:09', 'DateTimeDigitized': '2011:06:15 14:36:09', 'ExposureBiasValue': '0.0', 'MaxApertureValue': '3.614709851551957', 'MeteringMode': 5, 'LightSource': 0, 'Flash': 24, 'FocalLength': '18.0', 'ExifImageWidth': 4288, 'DigitalZoomRatio': '1.0', 'FocalLengthIn35mmFilm': 27, 'SceneCaptureType': 0, 'ExifImageHeight': 2848, 'Contrast': 0, 'Saturation': 0, 'Sharpness': 0, 'SubjectDistanceRange': 0, 'SensingMethod': 2, 'ExposureTime': '0.005', 'FNumber': '7.1', 'ExposureProgram': 0, 'CustomRendered': 0, 'ISOSpeedRatings': 200, 'ExposureMode': 0, 'WhiteBalance': 0, 'GainControl': 0}, 'color': ['#f2f9fb', '#58534d'], 'tags': ['architecture']}, 'M-408116720.jpg': {'exif': {'CustomRendered': 0, 'ExposureMode': 0, 'WhiteBalance': 0, 'SceneCaptureType': 0, 'ResolutionUnit': 2, 'ExifOffset': 224, 'Make': 'Canon', 'Model': 'Canon EOS 350D DIGITAL', 'DateTime': '2006:07:03 07:47:50', 'YCbCrPositioning': 2, 'XResolution': '72.0', 'YResolution': '72.0', 'ShutterSpeedValue': '6.321929931640625', 'DateTimeOriginal': '2006:07:03 07:47:50', 'DateTimeDigitized': '2006:07:03 07:47:50', 'ApertureValue': '4.970855712890625', 'ExposureBiasValue': '0.0', 'MeteringMode': 5, 'Flash': 16, 'FocalLength': '18.0', 'ColorSpace': 1, 'ExifImageWidth': 2304, 'FocalPlaneXResolution': '3958.762886597938', 'FocalPlaneYResolution': '3954.233409610984', 'ExifImageHeight': 3456, 'FocalPlaneResolutionUnit': 2, 'ExposureTime': '0.0125', 'FNumber': '5.6', 'ExposureProgram': 2, 'ISOSpeedRatings': 400}, 'color': ['#1c0902', '#e4a46b'], 'tags': ['classy']}, 'Marinalarge.jpg': {'exif': {}, 'color': ['#555449', '#7ca5c3'], 'tags': []}, 'Mermaidscasino.jpg': {'exif': {}, 'color': ['#c5bfb2', '#221a17'], 'tags': []}, 'Mirage%20Volcano.jpg': {'exif': {'ImageWidth': 10500, 'ImageLength': 7001, 'BitsPerSample': '(8, 8, 8)', 'Compression': 1, 'PhotometricInterpretation': 2, 'ResolutionUnit': 2, 'ExifOffset': 308, 'Make': 'Canon', 'Model': 'Canon EOS-1Ds Mark II', 'Software': 'Adobe Photoshop CS2 Macintosh', 'Orientation': 1, 'DateTime': '2008:12:30 12:44:16', 'SamplesPerPixel': 3, 'XResolution': '200.0', 'YResolution': '200.0', 'PlanarConfiguration': 1, 'ShutterSpeedValue': '2.321928', 'ApertureValue': '6.33985', 'DateTimeOriginal': '2008:12:03 20:26:41', 'DateTimeDigitized': '2008:12:03 20:26:41', 'ExposureBiasValue': '0.0', 'MaxApertureValue': '4.0', 'MeteringMode': 5, 'ColorSpace': 65535, 'Flash': 16, 'FocalLength': '26.0', 'ExifImageWidth': 2000, 'ExifImageHeight': 1334, 'SceneCaptureType': 0, 'FocalPlaneXResolution': '3526.760563380282', 'FocalPlaneYResolution': '3528.042328042328', 'FocalPlaneResolutionUnit': 2, 'ExposureTime': '0.2', 'FNumber': '9.0', 'ExposureProgram': 1, 'CustomRendered': 0, 'ISOSpeedRatings': 800, 'ExposureMode': 1, 'WhiteBalance': 1}, 'color': ['#47291a', '#deb48a'], 'tags': ['nature', 'modern', 'classy']}, 'MorongoCasino1.JPG': {'exif': {'ResolutionUnit': 2, 'ExifOffset': 196, 'Make': 'Canon', 'Model': 'Canon PowerShot S70', 'Orientation': 1, 'DateTime': '2007:03:23 16:58:20', 'YCbCrPositioning': 1, 'XResolution': '180.0', 'YResolution': '180.0', 'CompressedBitsPerPixel': '3.0', 'DateTimeOriginal': '2007:03:23 16:58:20', 'DateTimeDigitized': '2007:03:23 16:58:20', 'ShutterSpeedValue': '9.3125', 'ApertureValue': '3.625', 'ExposureBiasValue': '0.0', 'MaxApertureValue': '3.625', 'MeteringMode': 5, 'Flash': 24, 'FocalLength': '9.90625', 'ColorSpace': 1, 'ExifImageWidth': 2162, 'FocalPlaneXResolution': '10816.901408450703', 'ExifImageHeight': 2219, 'FocalPlaneYResolution': '10816.901408450703', 'FocalPlaneResolutionUnit': 2, 'SensingMethod': 2, 'ExposureTime': '0.0015625', 'ExifInteroperabilityOffset': 1870, 'FNumber': '3.5', 'CustomRendered': 0, 'ExposureMode': 0, 'WhiteBalance': 0, 'DigitalZoomRatio': '1.0', 'SceneCaptureType': 0}, 'color': ['#d2d7d9', '#545245'], 'tags': []}, 'Neues%20Kurhaus%20II.jpg': {'exif': {'ResolutionUnit': 2, 'ExifOffset': 224, 'Make': 'NIKON CORPORATION', 'Model': 'NIKON D50', 'Software': 'Adobe Photoshop Elements 9.0 Windows', 'Orientation': 1, 'DateTime': '2012:01:12 22:09:23', 'XResolution': '240.0', 'YResolution': '240.0', 'ShutterSpeedValue': '5.906891', 'ApertureValue': '4.811985', 'DateTimeOriginal': '2012:01:12 16:43:41', 'DateTimeDigitized': '2012:01:12 16:43:41', 'ExposureBiasValue': '0.0', 'MaxApertureValue': '4.7', 'SubjectDistance': '4294967295.0', 'MeteringMode': 5, 'LightSource': 0, 'Flash': 0, 'FocalLength': '42.0', 'ColorSpace': 1, 'ExifImageWidth': 2994, 'SceneCaptureType': 0, 'SubsecTime': '60', 'SubsecTimeOriginal': '60', 'SubsecTimeDigitized': '60', 'ExifImageHeight': 1991, 'SubjectDistanceRange': 0, 'SensingMethod': 2, 'ExposureTime': '0.016666666666666666', 'FNumber': '5.3', 'ExposureProgram': 3, 'CustomRendered': 0, 'ISOSpeedRatings': 400, 'ExposureMode': 0, 'WhiteBalance': 0, 'LensSpecification': '(18.0, 55.0, 3.5, 5.6)', 'LensModel': '18.0-55.0 mm f/3.5-5.6', 'DigitalZoomRatio': '1.0', 'FocalLengthIn35mmFilm': 63, 'GainControl': 0, 'Contrast': 0, 'Saturation': 0, 'Sharpness': 0}, 'color': ['#d5dadc', '#514b42'], 'tags': ['architecture']}, 'Newcastle%20Casino%201.jpg': {'exif': {}, 'color': ['#dfd6cd', '#756253'], 'tags': []}, 'Newport%20Casino.jpg': {'exif': {'ResolutionUnit': 2, 'ExifOffset': 252, 'Make': 'EASTMAN KODAK COMPANY', 'Model': 'KODAK C340 ZOOM DIGITAL CAMERA', 'Software': 'Adobe Photoshop CS2 Windows', 'Orientation': 1, 'DateTime': '2008:04:28 12:56:33', 'YCbCrPositioning': 2, 'XResolution': '230.0', 'YResolution': '230.0', 'ShutterSpeedValue': '9.5', 'DateTimeOriginal': '2008:04:19 17:08:21', 'DateTimeDigitized': '2008:04:19 17:08:21', 'ApertureValue': '3.0', 'ExposureBiasValue': '0.0', 'MaxApertureValue': '2.9', 'MeteringMode': 2, 'LightSource': 0, 'Flash': 24, 'FocalLength': '5.6', 'ColorSpace': 1, 'ExifImageWidth': 2076, 'ExifInteroperabilityOffset': 804, 'SceneCaptureType': 0, 'ExifImageHeight': 1854, 'Contrast': 0, 'Saturation': 0, 'Sharpness': 0, 'SubjectDistanceRange': 0, 'ExposureIndex': '80.0', 'SensingMethod': 2, 'ExposureTime': '0.0013333333333333333', 'FNumber': '2.7', 'ExposureProgram': 2, 'CustomRendered': 0, 'ISOSpeedRatings': 80, 'ExposureMode': 0, 'WhiteBalance': 0, 'DigitalZoomRatio': '0.0', 'FocalLengthIn35mmFilm': 34, 'GainControl': 0}, 'color': ['#545646', '#98bcd1'], 'tags': []}, 'o%2C%20casin%C3%B2%2C%2001.jpg': {'exif': {'ImageWidth': 5472, 'ImageLength': 3648, 'BitsPerSample': '(8, 8, 8)', 'GPSInfo': \"{0: b'\\\\x02\\\\x03\\\\x00\\\\x00'}\", 'PhotometricInterpretation': 2, 'ResolutionUnit': 2, 'ExifOffset': 304, 'Make': 'Canon', 'Model': 'Canon EOS 6D', 'Software': 'Adobe Photoshop CC 2017 (Windows)', 'Orientation': 1, 'DateTime': '2019:07:01 23:21:52', 'YCbCrPositioning': 2, 'SamplesPerPixel': 3, 'XResolution': '72.0', 'YResolution': '72.0', 'ShutterSpeedValue': '8.0', 'DateTimeOriginal': '2018:08:19 13:42:25', 'DateTimeDigitized': '2018:08:19 13:42:25', 'ApertureValue': '6.625', 'ExposureBiasValue': '0.0', 'MaxApertureValue': '3.75', 'MeteringMode': 5, 'Flash': 16, 'FocalLength': '24.0', 'ColorSpace': 1, 'ExifImageWidth': 4074, 'ExifInteroperabilityOffset': 1228, 'FocalPlaneXResolution': '3810.58495821727', 'SubsecTime': '92', 'SubsecTimeOriginal': '92', 'SubsecTimeDigitized': '92', 'ExifImageHeight': 3462, 'FocalPlaneYResolution': '3815.899581589958', 'FocalPlaneResolutionUnit': 2, 'ExposureTime': '0.004', 'FNumber': '10.0', 'ExposureProgram': 2, 'CustomRendered': 0, 'ISOSpeedRatings': 100, 'ExposureMode': 0, 'SensitivityType': 2, 'WhiteBalance': 0, 'RecommendedExposureIndex': 100, 'CameraOwnerName': '', 'BodySerialNumber': '055052000338', 'LensSpecification': '(24.0, 105.0, 0.0, 0.0)', 'LensModel': 'EF24-105mm f/3.5-5.6 IS STM', 'LensSerialNumber': '000000ccc4', 'SceneCaptureType': 0}, 'color': ['#4a4643', '#a5bfdf'], 'tags': []}, 'od%202%20%28June%202019%29.jpg': {'exif': {'GPSInfo': \"{1: 'N', 2: (26.0, 3.0, 59.0), 3: 'W', 4: (80.0, 12.0, 11.47), 5: b'\\\\x00', 6: 13.559988135844579, 7: (16.0, 14.0, 11.0), 12: 'K', 13: 77.54338070306656, 16: 'T', 17: 198.6982269503546, 23: 'T', 24: 198.6982269503546, 29: '2019:06:19', 31: 48.0}\", 'ResolutionUnit': 2, 'ExifOffset': 206, 'Make': 'Apple', 'Model': 'iPhone 8', 'Software': '12.1.4', 'Orientation': 1, 'DateTime': '2019:06:19 12:14:11', 'YCbCrPositioning': 1, 'XResolution': '72.0', 'YResolution': '72.0', 'ShutterSpeedValue': '10.76164356238157', 'DateTimeOriginal': '2019:06:19 12:14:11', 'DateTimeDigitized': '2019:06:19 12:14:11', 'ApertureValue': '1.6959938128383605', 'BrightnessValue': '10.09842783697191', 'ExposureBiasValue': '0.0', 'MeteringMode': 5, 'Flash': 16, 'FocalLength': '3.99', 'ColorSpace': 65535, 'ExifImageWidth': 4032, 'DigitalZoomRatio': '4.6523076923076925', 'FocalLengthIn35mmFilm': 131, 'SceneCaptureType': 0, 'ExifImageHeight': 3024, 'SubsecTimeOriginal': '423', 'SubsecTimeDigitized': '423', 'SubjectLocation': '(2011, 1507, 2206, 1335)', 'SensingMethod': 2, 'ExposureTime': '0.000576036866359447', 'FNumber': '1.8', 'ExposureProgram': 2, 'ISOSpeedRatings': 20, 'ExposureMode': 0, 'WhiteBalance': 0, 'LensSpecification': '(3.9900000095374253, 3.9900000095374253, 1.8, 1.8)', 'LensMake': 'Apple', 'LensModel': 'iPhone 8 back camera 3.99mm f/1.8'}, 'color': ['#96a0ab', '#475056'], 'tags': []}, 'OLG%20Casino%201000.JPG': {'exif': {'ResolutionUnit': 2, 'ExifOffset': 146, 'ImageDescription': 'OLYMPUS DIGITAL CAMERA         ', 'Make': 'OLYMPUS OPTICAL CO.,LTD', 'Model': 'C2Z,D520Z,C220Z ', 'Software': '83-1054                        ', 'Orientation': 1, 'DateTime': '2010:10:11 11:53:25', 'YCbCrPositioning': 2, 'XResolution': '144.0', 'YResolution': '144.0', 'DateTimeOriginal': '2010:10:11 11:53:25', 'DateTimeDigitized': '2010:10:11 11:53:25', 'ExposureBiasValue': '0.0', 'MaxApertureValue': '3.0', 'MeteringMode': 5, 'Flash': 0, 'FocalLength': '5.0', 'ColorSpace': 1, 'ExifImageWidth': 1024, 'ExifInteroperabilityOffset': 482, 'ExifImageHeight': 768, 'ExposureTime': '0.003125', 'FNumber': '8.0', 'ExposureProgram': 2, 'ISOSpeedRatings': 80}, 'color': ['#6c86a6', '#684130'], 'tags': []}, 'ontainebleau%20Las%20Vegas.JPG': {'exif': {'ResolutionUnit': 2, 'ExifOffset': 2362, 'ImageDescription': '                               ', 'Make': 'SONY', 'Model': 'DSC-W80', 'Software': 'Microsoft Windows Live Photo Gallery14.0.8064.206', 'Orientation': 1, 'DateTime': '2009:07:16 10:11:34', 'YCbCrPositioning': 2, 'XResolution': '72.0', 'YResolution': '72.0', 'CompressedBitsPerPixel': '4.0', 'DateTimeOriginal': '2009:07:16 09:04:22', 'DateTimeDigitized': '2009:07:16 09:04:22', 'ExposureBiasValue': '0.0', 'MaxApertureValue': '3.0', 'MeteringMode': 5, 'LightSource': 0, 'Flash': 16, 'FocalLength': '8.7', 'ColorSpace': 1, 'ExifImageWidth': 1536, 'ExifInteroperabilityOffset': 13368, 'SceneCaptureType': 0, 'Contrast': 0, 'ExifImageHeight': 2048, 'Saturation': 0, 'Sharpness': 0, 'ExposureTime': '0.008', 'FNumber': '10.0', 'ImageUniqueID': '4BA0D9801FA443929EA71B7366D59966', 'ExposureProgram': 2, 'CustomRendered': 0, 'ISOSpeedRatings': 125, 'ExposureMode': 0, 'WhiteBalance': 0}, 'color': ['#384a5e', '#c1d6df'], 'tags': ['modern']}, 'Opera%20House%20Casino.jpg': {'exif': {'CustomRendered': 1, 'ExposureMode': 0, 'WhiteBalance': 0, 'DigitalZoomRatio': '0.0', 'FocalLengthIn35mmFilm': 36, 'SceneCaptureType': 0, 'GainControl': 0, 'Contrast': 0, 'Saturation': 0, 'Sharpness': 0, 'SubjectDistanceRange': 0, 'Make': 'EASTMAN KODAK COMPANY', 'Model': 'KODAK EASYSHARE M530 Digital Camera', 'Orientation': 1, 'YCbCrPositioning': 2, 'XResolution': '480.0', 'YResolution': '480.0', 'ResolutionUnit': 2, 'DateTime': '2011:02:28 12:08:36', 'Rating': 0, 'ExifOffset': 966, 'ShutterSpeedValue': '7.33', 'DateTimeOriginal': '2011:02:28 12:08:36', 'DateTimeDigitized': '2011:02:28 12:08:36', 'ApertureValue': '6.0', 'ExposureBiasValue': '0.0', 'MaxApertureValue': '3.26', 'MeteringMode': 5, 'LightSource': 0, 'Flash': 16, 'FocalLength': '6.5', 'ColorSpace': 1, 'ExifImageWidth': 4000, 'ExifImageHeight': 2664, 'ExposureIndex': '80.0', 'SensingMethod': 2, 'ExposureTime': '0.00625', 'FNumber': '8.0', 'ExposureProgram': 2, 'ISOSpeedRatings': 80}, 'color': ['#84b8dc', '#43424d'], 'tags': []}, 'Orleans2-LV.JPG': {'exif': {'ResolutionUnit': 2, 'ExifOffset': 996, 'ImageDescription': 'OLYMPUS DIGITAL CAMERA         ', 'Make': 'OLYMPUS IMAGING CORP.', 'Model': 'C180,D435', 'Software': 'Version 1.0', 'Orientation': 1, 'DateTime': '0000:00:00 00:00:00', 'YCbCrPositioning': 2, 'XResolution': '72.0', 'YResolution': '72.0', 'CompressedBitsPerPixel': '2.0', 'DateTimeOriginal': '0000:00:00 00:00:00', 'DateTimeDigitized': '0000:00:00 00:00:00', 'ExposureBiasValue': '0.0', 'MaxApertureValue': '3.0', 'MeteringMode': 5, 'LightSource': 0, 'Flash': 24, 'FocalLength': '6.1', 'ColorSpace': 1, 'ExifImageWidth': 2592, 'ExifInteroperabilityOffset': 1714, 'SceneCaptureType': 0, 'ExifImageHeight': 1944, 'Contrast': 0, 'Saturation': 0, 'Sharpness': 0, 'ExposureTime': '0.0025', 'FNumber': '2.8', 'ExposureProgram': 5, 'CustomRendered': 0, 'ISOSpeedRatings': 250, 'ExposureMode': 0, 'WhiteBalance': 0, 'DigitalZoomRatio': '1.85', 'GainControl': 2}, 'color': ['#434239', '#aeb5ba'], 'tags': []}, 'ouge%20Sign%20Circa%202006.jpg': {'exif': {}, 'color': ['#7395c6', '#414044'], 'tags': []}, 'Oxford%20Casino.jpg': {'exif': {'ResolutionUnit': 2, 'ExifOffset': 634, 'Make': 'Panasonic', 'Model': 'DMC-F2', 'Software': 'Ver.1.0  ', 'Orientation': 1, 'DateTime': '2012:08:16 05:39:57', 'YCbCrPositioning': 2, 'XResolution': '180.0', 'YResolution': '180.0', 'CompressedBitsPerPixel': '4.0', 'DateTimeOriginal': '2012:08:16 05:39:57', 'DateTimeDigitized': '2012:08:16 05:39:57', 'ExposureBiasValue': '0.0', 'MaxApertureValue': '3.0', 'MeteringMode': 5, 'LightSource': 0, 'Flash': 16, 'FocalLength': '5.5', 'ColorSpace': 1, 'ExifImageWidth': 3648, 'ExifInteroperabilityOffset': 10168, 'FocalLengthIn35mmFilm': 33, 'SceneCaptureType': 0, 'ExifImageHeight': 2736, 'Contrast': 0, 'Saturation': 0, 'Sharpness': 0, 'SensingMethod': 2, 'ExposureTime': '0.0005', 'FNumber': '8.0', 'ExposureProgram': 2, 'CustomRendered': 0, 'ISOSpeedRatings': 1600, 'ExposureMode': 0, 'WhiteBalance': 0, 'DigitalZoomRatio': '0.0', 'GainControl': 2}, 'color': ['#556753', '#fbfdfe'], 'tags': []}, 'Palms%20Casino%20Resort.jpg': {'exif': {'ResolutionUnit': 2, 'Software': 'Paint.NET v3.10', 'XResolution': '200.0', 'YResolution': '200.0'}, 'color': ['#5c7a9b', '#342d31'], 'tags': []}, 'Park%20MGM%20exterior.jpg': {'exif': {'GPSInfo': \"{1: 'N', 2: (36.0, 6.0, 13.37), 3: 'W', 4: (115.0, 10.0, 25.2), 5: b'\\\\x00', 6: 647.5966162065895, 7: (18.0, 55.0, 27.01), 12: 'K', 13: 0.0, 16: 'T', 17: 332.27140783744557, 23: 'T', 24: 332.27140783744557, 29: '2019:02:04', 31: 30.0}\", 'ResolutionUnit': 2, 'ExifOffset': 206, 'Make': 'Apple', 'Model': 'iPhone SE', 'Software': '12.1.2', 'Orientation': 3, 'DateTime': '2019:02:04 10:55:27', 'YCbCrPositioning': 1, 'XResolution': '72.0', 'YResolution': '72.0', 'ShutterSpeedValue': '10.80486409155937', 'DateTimeOriginal': '2019:02:04 10:55:27', 'DateTimeDigitized': '2019:02:04 10:55:27', 'ApertureValue': '2.2750070475474535', 'BrightnessValue': '10.949874130016289', 'ExposureBiasValue': '0.0', 'MeteringMode': 5, 'Flash': 24, 'FocalLength': '4.15', 'ColorSpace': 1, 'ExifImageWidth': 4032, 'FocalLengthIn35mmFilm': 29, 'SceneCaptureType': 0, 'ExifImageHeight': 3024, 'SubsecTimeOriginal': '820', 'SubsecTimeDigitized': '820', 'SubjectLocation': '(2015, 1511, 2217, 1330)', 'SensingMethod': 2, 'ExposureTime': '0.0005589714924538849', 'FNumber': '2.2', 'ExposureProgram': 2, 'ISOSpeedRatings': 25, 'ExposureMode': 0, 'WhiteBalance': 0, 'LensSpecification': '(4.15, 4.15, 2.2, 2.2)', 'LensMake': 'Apple', 'LensModel': 'iPhone SE back camera 4.15mm f/2.2'}, 'color': ['#b2c0d2', '#2d3437'], 'tags': []}, 'Pioneer%20club%2003.JPG': {'exif': {'ExifOffset': 26, 'UserComment': 'LEAD Technologies Inc. V1.01\\x00'}, 'color': ['#553c29', '#7499ae'], 'tags': []}, 'PRC%20exterior.jpg': {'exif': {'ResolutionUnit': 2, 'ExifOffset': 220, 'Make': 'Canon', 'Model': 'Canon EOS 20D', 'Software': 'Adobe Photoshop CS2 Windows', 'Orientation': 1, 'DateTime': '2009:03:04 11:13:36', 'YCbCrPositioning': 2, 'XResolution': '72.0', 'YResolution': '72.0', 'ShutterSpeedValue': '7.64385986328125', 'DateTimeOriginal': '2009:03:03 06:25:07', 'DateTimeDigitized': '2009:03:03 06:25:07', 'ApertureValue': '5.6556396484375', 'ExposureBiasValue': '0.0', 'MeteringMode': 5, 'Flash': 16, 'FocalLength': '17.0', 'ColorSpace': 1, 'ExifImageWidth': 1130, 'ExifInteroperabilityOffset': 920, 'FocalPlaneXResolution': '2886.3636363636365', 'FocalPlaneYResolution': '2885.8057630736394', 'ExifImageHeight': 600, 'FocalPlaneResolutionUnit': 2, 'ExposureTime': '0.005', 'FNumber': '7.1', 'ExposureProgram': 0, 'CustomRendered': 0, 'ISOSpeedRatings': 400, 'ExposureMode': 0, 'WhiteBalance': 0, 'SceneCaptureType': 0}, 'color': ['#4d403a', '#d4e2f3'], 'tags': []}, 'r%20City%20Casino%20Length.png': {'exif': {}, 'color': ['#434b4c', '#acc3d4'], 'tags': ['nature', 'modern']}, 'Railroad%20Pass%20Casino.jpg': {'exif': {'GPSInfo': \"{0: b'\\\\x02\\\\x02\\\\x00\\\\x00', 1: 'N', 2: (35.0, 58.0, 21.0955), 3: 'W', 4: (114.0, 54.0, 45.1043), 5: b'\\\\x00', 6: 669.0, 7: (23.0, 55.0, 31.0), 29: '2017:06:18'}\", 'ResolutionUnit': 2, 'ExifOffset': 212, 'Make': 'samsung', 'Model': 'SM-G530T', 'Software': 'GIMP 2.8.14', 'Orientation': 1, 'DateTime': '2017:06:22 18:48:38', 'YCbCrPositioning': 1, 'XResolution': '72.0', 'YResolution': '72.0', 'ShutterSpeedValue': '11.02', 'DateTimeOriginal': '2017:06:18 16:55:46', 'DateTimeDigitized': '2017:06:18 16:55:46', 'ApertureValue': '2.28', 'BrightnessValue': '9.26', 'ExposureBiasValue': '0.0', 'MaxApertureValue': '2.28', 'MeteringMode': 2, 'LightSource': 0, 'Flash': 0, 'FocalLength': '3.3', 'ColorSpace': 1, 'ExifImageWidth': 1065, 'ExifImageHeight': 720, 'SensingMethod': 2, 'ExposureTime': '0.00047824007651841227', 'ExifInteroperabilityOffset': 2958, 'FNumber': '2.2', 'ImageUniqueID': 'H08QLHL03AY\\x00\\x00\\x00\\x00\\x00\\x00\\x00\\x00\\x00\\x00\\x00\\x00\\x00\\x00\\x00\\x00\\x00\\x00\\x00\\x00\\x00', 'ExposureProgram': 2, 'ISOSpeedRatings': 50, 'ExposureMode': 0, 'WhiteBalance': 0, 'FocalLengthIn35mmFilm': 31, 'SceneCaptureType': 0}, 'color': ['#3b526b', '#cec1a5'], 'tags': []}, 'RainbowCasinoWendover.JPG': {'exif': {'ResolutionUnit': 2, 'ExifOffset': 196, 'Make': 'Canon', 'Model': 'Canon PowerShot A540', 'Orientation': 1, 'DateTime': '2009:07:18 10:57:31', 'YCbCrPositioning': 1, 'XResolution': '180.0', 'YResolution': '180.0', 'CompressedBitsPerPixel': '3.0', 'DateTimeOriginal': '2009:07:18 10:57:31', 'DateTimeDigitized': '2009:07:18 10:57:31', 'ShutterSpeedValue': '9.96875', 'ApertureValue': '4.0', 'ExposureBiasValue': '0.0', 'MaxApertureValue': '2.75', 'MeteringMode': 5, 'Flash': 88, 'FocalLength': '5.8', 'ColorSpace': 1, 'ExifImageWidth': 2816, 'FocalPlaneXResolution': '12515.555555555555', 'ExifImageHeight': 2112, 'FocalPlaneYResolution': '12497.041420118343', 'FocalPlaneResolutionUnit': 2, 'SensingMethod': 2, 'ExposureTime': '0.001', 'ExifInteroperabilityOffset': 2824, 'FNumber': '4.0', 'CustomRendered': 0, 'ExposureMode': 0, 'WhiteBalance': 0, 'DigitalZoomRatio': '1.0', 'SceneCaptureType': 0}, 'color': ['#5b5a53', '#86a1b9'], 'tags': []}, 'Red%20Rock%20hotel.jpg': {'exif': {'ResolutionUnit': 2, 'ExifOffset': 266, 'ImageDescription': '                               ', 'Make': 'NIKON', 'Model': 'COOLPIX P80  ', 'Software': 'COOLPIX P80V1.1                ', 'Orientation': 1, 'DateTime': '2010:07:21 03:06:27', 'YCbCrPositioning': 2, 'XResolution': '300.0', 'YResolution': '300.0', 'CompressedBitsPerPixel': '4.0', 'DateTimeOriginal': '2010:07:21 03:06:27', 'DateTimeDigitized': '2010:07:21 03:06:27', 'ExposureBiasValue': '0.0', 'MaxApertureValue': '3.0', 'MeteringMode': 5, 'LightSource': 0, 'Flash': 16, 'FocalLength': '9.8', 'ColorSpace': 1, 'ExifImageWidth': 1600, 'ExifInteroperabilityOffset': 1008, 'SceneCaptureType': 0, 'ExifImageHeight': 1200, 'Contrast': 0, 'Saturation': 0, 'Sharpness': 0, 'SubjectDistanceRange': 0, 'ExposureTime': '0.007867820613690008', 'FNumber': '5.0', 'ExposureProgram': 2, 'CustomRendered': 0, 'ISOSpeedRatings': 64, 'ExposureMode': 0, 'WhiteBalance': 0, 'DigitalZoomRatio': '0.0', 'FocalLengthIn35mmFilm': 56, 'GainControl': 0}, 'color': ['#c8e1eb', '#595652'], 'tags': []}, 'RedGarterWendover1.JPG': {'exif': {'ResolutionUnit': 2, 'ExifOffset': 196, 'Make': 'Canon', 'Model': 'Canon PowerShot A540', 'Orientation': 1, 'DateTime': '2009:07:18 10:51:23', 'YCbCrPositioning': 1, 'XResolution': '180.0', 'YResolution': '180.0', 'CompressedBitsPerPixel': '3.0', 'DateTimeOriginal': '2009:07:18 10:51:23', 'DateTimeDigitized': '2009:07:18 10:51:23', 'ShutterSpeedValue': '10.28125', 'ApertureValue': '4.34375', 'ExposureBiasValue': '0.0', 'MaxApertureValue': '2.75', 'MeteringMode': 5, 'Flash': 88, 'FocalLength': '5.8', 'ColorSpace': 1, 'ExifImageWidth': 2816, 'FocalPlaneXResolution': '12515.555555555555', 'ExifImageHeight': 2112, 'FocalPlaneYResolution': '12497.041420118343', 'FocalPlaneResolutionUnit': 2, 'SensingMethod': 2, 'ExposureTime': '0.0008', 'ExifInteroperabilityOffset': 2824, 'FNumber': '4.5', 'CustomRendered': 0, 'ExposureMode': 0, 'WhiteBalance': 0, 'DigitalZoomRatio': '1.0', 'SceneCaptureType': 0}, 'color': ['#635f5b', '#c9d4dd'], 'tags': []}, 'Rio%20hotel%20vegas.jpg': {'exif': {}, 'color': ['#5a463a', '#b2c1d0'], 'tags': ['modern']}, 'Rio%20Vegas%20Nima.JPG': {'exif': {'ExifOffset': 2272, 'ImageDescription': '                               ', 'Make': 'SONY', 'Model': 'DSC-H3', 'Orientation': 1, 'DateTime': '2008:11:04 10:43:33', 'YCbCrPositioning': 2, 'CompressedBitsPerPixel': '3.0', 'DateTimeOriginal': '2008:11:04 10:43:33', 'DateTimeDigitized': '2008:11:04 10:43:33', 'ExposureBiasValue': '0.0', 'MaxApertureValue': '3.625', 'MeteringMode': 5, 'LightSource': 0, 'Flash': 16, 'FocalLength': '30.4', 'ColorSpace': 1, 'ExifImageWidth': 3264, 'SceneCaptureType': 0, 'Contrast': 0, 'Saturation': 0, 'ExifImageHeight': 2448, 'SubsecTimeOriginal': '00', 'SubsecTimeDigitized': '00', 'Sharpness': 0, 'ExposureTime': '0.002', 'FNumber': '4.0', 'ExposureProgram': 2, 'CustomRendered': 0, 'ISOSpeedRatings': 125, 'ExposureMode': 0, 'WhiteBalance': 0}, 'color': ['#ced8d5', '#3e495e'], 'tags': ['modern', 'classy']}, 'River%20City%20Casino.jpg': {'exif': {}, 'color': ['#352f38', '#b3a58a'], 'tags': []}, 'Riverrockcasino-2.jpg': {'exif': {'ResolutionUnit': 2, 'ExifOffset': 196, 'Make': 'Canon', 'Model': 'Canon PowerShot S400', 'Orientation': 1, 'DateTime': '2006:05:23 13:04:19', 'YCbCrPositioning': 1, 'XResolution': '180.0', 'YResolution': '180.0', 'CompressedBitsPerPixel': '5.0', 'DateTimeOriginal': '2006:05:23 13:04:19', 'DateTimeDigitized': '2006:05:23 13:04:19', 'ShutterSpeedValue': '7.3125', 'ApertureValue': '5.3125', 'ExposureBiasValue': '0.0', 'MaxApertureValue': '2.96875', 'MeteringMode': 5, 'Flash': 24, 'FocalLength': '7.40625', 'ColorSpace': 1, 'ExifImageWidth': 2272, 'FocalPlaneXResolution': '8114.285714285715', 'ExifImageHeight': 1704, 'FocalPlaneYResolution': '8114.285714285715', 'FocalPlaneResolutionUnit': 2, 'SensingMethod': 2, 'ExposureTime': '0.00625', 'ExifInteroperabilityOffset': 1556, 'FNumber': '6.3', 'CustomRendered': 0, 'ExposureMode': 0, 'WhiteBalance': 0, 'DigitalZoomRatio': '1.0', 'SceneCaptureType': 0}, 'color': ['#7a7570', '#f2f1f1'], 'tags': []}, 'RiversCasino.jpg': {'exif': {'ResolutionUnit': 2, 'ExifOffset': 264, 'ImageDescription': '                               ', 'Make': 'NIKON', 'Model': 'COOLPIX P80  ', 'Software': 'Adobe Photoshop CS3 Windows', 'Orientation': 1, 'DateTime': '2010:09:24 23:30:24', 'YCbCrPositioning': 2, 'XResolution': '300.0', 'YResolution': '300.0', 'CompressedBitsPerPixel': '2.0', 'DateTimeOriginal': '2010:09:18 14:31:29', 'DateTimeDigitized': '2010:09:18 14:31:29', 'ExposureBiasValue': '0.0', 'MaxApertureValue': '3.0', 'MeteringMode': 5, 'LightSource': 0, 'Flash': 24, 'FocalLength': '21.0', 'ColorSpace': 1, 'ExifImageWidth': 600, 'ExifInteroperabilityOffset': 900, 'SceneCaptureType': 0, 'ExifImageHeight': 425, 'Contrast': 0, 'Saturation': 0, 'Sharpness': 0, 'SubjectDistanceRange': 0, 'ExposureTime': '0.003775009437523594', 'FNumber': '8.0', 'ExposureProgram': 2, 'CustomRendered': 0, 'ISOSpeedRatings': 64, 'ExposureMode': 0, 'WhiteBalance': 0, 'DigitalZoomRatio': '0.0', 'FocalLengthIn35mmFilm': 119, 'GainControl': 0}, 'color': ['#49494f', '#aeaaa9'], 'tags': []}, 'Royan%20pont%20cas.JPG': {'exif': {'ResolutionUnit': 2, 'ExifOffset': 636, 'Make': 'Panasonic', 'Model': 'DMC-FZ28', 'Software': 'Ver.1.0  ', 'Orientation': 1, 'DateTime': '2009:08:27 17:53:49', 'YCbCrPositioning': 2, 'XResolution': '180.0', 'YResolution': '180.0', 'CompressedBitsPerPixel': '4.0', 'DateTimeOriginal': '2009:08:27 17:53:49', 'DateTimeDigitized': '2009:08:27 17:53:49', 'ExposureBiasValue': '0.0', 'MaxApertureValue': '3.0', 'MeteringMode': 5, 'LightSource': 0, 'Flash': 16, 'FocalLength': '7.1', 'ColorSpace': 1, 'ExifImageWidth': 1600, 'ExifInteroperabilityOffset': 10242, 'FocalLengthIn35mmFilm': 71, 'SceneCaptureType': 0, 'ExifImageHeight': 1200, 'Contrast': 0, 'Saturation': 0, 'Sharpness': 0, 'SensingMethod': 2, 'ExposureTime': '0.00125', 'FNumber': '8.0', 'ExposureProgram': 2, 'CustomRendered': 0, 'ISOSpeedRatings': 100, 'ExposureMode': 0, 'WhiteBalance': 0, 'DigitalZoomRatio': '0.0', 'GainControl': 0}, 'color': ['#b8baab', '#676e67'], 'tags': []}, 's%20%28July%2015%202008%29.jpg': {'exif': {'ImageWidth': 3072, 'ImageLength': 2048, 'BitsPerSample': '(8, 8, 8)', 'PhotometricInterpretation': 2, 'ResolutionUnit': 2, 'ExifOffset': 300, 'Make': 'Canon', 'Model': 'Canon EOS 300D DIGITAL', 'Software': 'Adobe Photoshop CC 2015 (Windows)', 'Orientation': 1, 'DateTime': '2017:10:15 07:07:51', 'YCbCrPositioning': 1, 'SamplesPerPixel': 3, 'XResolution': '180.0', 'YResolution': '180.0', 'CompressedBitsPerPixel': '3.0', 'DateTimeOriginal': '2008:07:15 07:33:18', 'DateTimeDigitized': '2008:07:15 07:33:18', 'ShutterSpeedValue': '9.321929931640625', 'ApertureValue': '5.310699462890625', 'ExposureBiasValue': '0.0', 'MaxApertureValue': '0.970855712890625', 'MeteringMode': 5, 'Flash': 0, 'FocalLength': '30.0', 'ColorSpace': 1, 'ExifImageWidth': 3000, 'FocalPlaneXResolution': '3443.946188340807', 'ExifImageHeight': 2000, 'FocalPlaneYResolution': '3442.016806722689', 'FocalPlaneResolutionUnit': 2, 'SensingMethod': 2, 'ExposureTime': '0.0015625', 'FNumber': '6.3', 'CustomRendered': 0, 'ISOSpeedRatings': 100, 'ExposureMode': 0, 'WhiteBalance': 0, 'SceneCaptureType': 0}, 'color': ['#a7bbd1', '#6c664b'], 'tags': []}, 's%2095%20%2828276862784%29.jpg': {'exif': {'ImageWidth': 4035, 'ImageLength': 2596, 'BitsPerSample': '(8, 8, 8)', 'GPSInfo': \"{0: b'\\\\x02\\\\x03\\\\x00\\\\x00', 1: 'N', 2: (36.0, 7.0, 15.441858121725112), 3: 'W', 4: (115.0, 10.0, 10.871213872832369), 53248: 10.387902064330293, 53249: 0.0, 16: 'T', 17: 359.98237885462555, 23: 'T', 24: 0.0, 25: 'K', 26: 4.597162997128187}\", 'PhotometricInterpretation': 2, 'ResolutionUnit': 2, 'ExifOffset': 246, 'Software': 'Adobe Photoshop CC 2015 (Windows)', 'Orientation': 1, 'DateTime': '2016:07:25 16:00:03', 'SamplesPerPixel': 3, 'XResolution': '96.0', 'YResolution': '96.0', 'ColorSpace': 65535, 'ExifImageWidth': 4035, 'ExifImageHeight': 2596}, 'color': ['#2f397c', '#969dc8'], 'tags': ['classy', 'architecture']}, 's%20Vegas%20October%202012.jpg': {'exif': {'ImageWidth': 1600, 'ImageLength': 1200, 'ExifOffset': 147, 'Make': 'SAMSUNG', 'Model': 'SCH-R910', 'Orientation': 1, 'DateTime': '2012:10:06 12:05:22', 'YCbCrPositioning': 1, 'ColorSpace': 1, 'ExifImageWidth': 1600, 'DateTimeOriginal': '2012:10:06 12:05:22', 'DateTimeDigitized': '2012:10:06 12:05:22', 'ExposureBiasValue': '0.0', 'MaxApertureValue': '2.76', 'MeteringMode': 2, 'Flash': 0, 'FocalLength': '2.78', 'ExifImageHeight': 1200, 'WhiteBalance': 0, 'SceneCaptureType': 0, 'ExposureTime': '0.008333333333333333', 'FNumber': '2.6', 'ExposureProgram': 3, 'ISOSpeedRatings': 50, 'ExposureMode': 0}, 'color': ['#413b3c', '#b4b1ad'], 'tags': ['classy']}, 'Sams%20town%20kc.jpg': {'exif': {'ResolutionUnit': 2, 'ExifOffset': 192, 'Make': 'Apple', 'Model': 'iPhone 4', 'Software': '4.2.1', 'Orientation': 1, 'DateTime': '2011:01:26 15:46:41', 'YCbCrPositioning': 1, 'XResolution': '72.0', 'YResolution': '72.0', 'ShutterSpeedValue': '10.295624332977589', 'DateTimeOriginal': '2011:01:26 15:46:41', 'DateTimeDigitized': '2011:01:26 15:46:41', 'ApertureValue': '2.970853573907009', 'MeteringMode': 1, 'ColorSpace': 1, 'Flash': 0, 'FocalLength': '3.85', 'ExifImageWidth': 2592, 'ExifImageHeight': 1936, 'SceneCaptureType': 0, 'SensingMethod': 2, 'ExposureTime': '0.0007955449482895784', 'FNumber': '2.8', 'ExposureProgram': 2, 'CustomRendered': 3, 'ISOSpeedRatings': 80, 'ExposureMode': 0, 'WhiteBalance': 0}, 'color': ['#51443a', '#dce0dd'], 'tags': []}, 'Southcoastcasinovegas.jpg': {'exif': {'ResolutionUnit': 2, 'ExifOffset': 156, 'Software': 'Adobe Photoshop 7.0', 'Orientation': 1, 'DateTime': '2006:02:13 18:09:58', 'XResolution': '72.0', 'YResolution': '72.0', 'ColorSpace': 65535, 'ExifImageWidth': 500, 'ExifImageHeight': 354}, 'color': ['#a1bec5', '#5b5d56'], 'tags': []}, 'Spielbank%20Hohensyburg.JPG': {'exif': {'ResolutionUnit': 2, 'ExifOffset': 288, 'Make': 'FUJIFILM', 'Model': 'FinePix F650', 'Software': 'Digital Camera FinePix F650 Ver1.00', 'Orientation': 1, 'DateTime': '2007:03:11 12:19:07', 'YCbCrPositioning': 2, 'Copyright': '    ', 'XResolution': '72.0', 'YResolution': '72.0', 'CompressedBitsPerPixel': '4.0', 'DateTimeOriginal': '2007:03:11 12:19:07', 'DateTimeDigitized': '2007:03:11 12:19:07', 'ShutterSpeedValue': '8.3', 'ApertureValue': '3.4', 'BrightnessValue': '7.2', 'ExposureBiasValue': '0.0', 'MaxApertureValue': '2.8', 'MeteringMode': 5, 'LightSource': 0, 'Flash': 9, 'FocalLength': '5.8', 'ColorSpace': 1, 'ExifImageWidth': 2816, 'ExifImageHeight': 2112, 'FocalPlaneXResolution': '4926.0', 'FocalPlaneYResolution': '4926.0', 'FocalPlaneResolutionUnit': 3, 'SubjectDistanceRange': 0, 'SensingMethod': 2, 'ExposureTime': '0.003125', 'ExifInteroperabilityOffset': 972, 'FNumber': '3.2', 'ExposureProgram': 2, 'CustomRendered': 0, 'ISOSpeedRatings': 64, 'ExposureMode': 0, 'WhiteBalance': 0, 'SceneCaptureType': 0, 'Sharpness': 0}, 'color': ['#333a3f', '#d4ddda'], 'tags': []}, 'sVegas%20-%20ParisLasVegas.jpg': {'exif': {'ResolutionUnit': 2, 'ExifOffset': 224, 'ImageDescription': 'SONY DSC', 'Make': 'SONY', 'Model': 'DSLR-A700', 'Software': 'Adobe Photoshop CS4 Windows', 'Orientation': 1, 'DateTime': '2010:04:24 21:54:46', 'XResolution': '240.0', 'YResolution': '240.0', 'ShutterSpeedValue': '7.643856', 'ApertureValue': '6.918863', 'DateTimeOriginal': '2010:04:11 23:47:28', 'DateTimeDigitized': '2010:04:11 23:47:28', 'BrightnessValue': '8.62', 'ExposureBiasValue': '0.0', 'MaxApertureValue': '3.61', 'MeteringMode': 5, 'LightSource': 0, 'Flash': 24, 'FocalLength': '20.0', 'ColorSpace': 65535, 'ExifImageWidth': 4272, 'FocalLengthIn35mmFilm': 30, 'SceneCaptureType': 1, 'ExifImageHeight': 2848, 'Contrast': 0, 'Saturation': 0, 'Sharpness': 0, 'ExposureTime': '0.005', 'FNumber': '11.0', 'ExposureProgram': 8, 'CustomRendered': 0, 'ISOSpeedRatings': 200, 'ExposureMode': 0, 'WhiteBalance': 0, 'DigitalZoomRatio': '0.0'}, 'color': ['#c0bfc8', '#463d34'], 'tags': ['architecture']}, 'th%20East%20-%202010-12-12.jpg': {'exif': {'ResolutionUnit': 2, 'ExifOffset': 296, 'ImageDescription': '                               ', 'Make': 'SONY', 'Model': 'DSC-T90', 'Software': 'Adobe Photoshop CS2 Windows', 'Orientation': 1, 'DateTime': '2014:09:29 13:28:49', 'YCbCrPositioning': 2, 'XResolution': '72.0', 'YResolution': '72.0', 'CompressedBitsPerPixel': '4.0', 'DateTimeOriginal': '2010:12:12 11:16:34', 'DateTimeDigitized': '2010:12:12 11:16:34', 'ExposureBiasValue': '0.0', 'MaxApertureValue': '3.625', 'MeteringMode': 5, 'LightSource': 0, 'Flash': 24, 'FocalLength': '6.18', 'ColorSpace': 1, 'ExifImageWidth': 3885, 'ExifInteroperabilityOffset': 740, 'SceneCaptureType': 1, 'Contrast': 0, 'ExifImageHeight': 2844, 'Saturation': 0, 'Sharpness': 0, 'ExposureTime': '0.001', 'FNumber': '5.6', 'ExposureProgram': 2, 'CustomRendered': 0, 'ISOSpeedRatings': 80, 'ExposureMode': 0, 'WhiteBalance': 0}, 'color': ['#939eac', '#47382d'], 'tags': ['architecture']}, 'The%20Cal.jpg': {'exif': {'PhotometricInterpretation': 32803, 'ResolutionUnit': 2, 'ExifOffset': 209, 'Make': 'NIKON CORPORATION', 'Model': 'NIKON D700', 'Software': 'Ver.1.00 ', 'Orientation': 1, 'DateTime': '2009:09:27 07:36:07', 'XResolution': '72.0', 'YResolution': '72.0', 'ColorSpace': 1, 'ExifImageWidth': 3978, 'DateTimeOriginal': '2009:09:27 07:36:07', 'DateTimeDigitized': '2009:09:27 07:36:07', 'ExposureBiasValue': '0.0', 'MaxApertureValue': '3.0', 'MeteringMode': 5, 'LightSource': 0, 'Flash': 0, 'FocalLength': '28.0', 'ExifImageHeight': 2642, 'DigitalZoomRatio': '1.0', 'FocalLengthIn35mmFilm': 28, 'SceneCaptureType': 0, 'SubsecTime': '50', 'SubsecTimeOriginal': '50', 'SubsecTimeDigitized': '50', 'Saturation': 0, 'Sharpness': 0, 'SubjectDistanceRange': 0, 'SensingMethod': 2, 'Contrast': 0, 'ExposureTime': '1.3', 'FNumber': '10.0', 'ExposureProgram': 3, 'CustomRendered': 1, 'ISOSpeedRatings': 100, 'ExposureMode': 0, 'WhiteBalance': 0, 'GainControl': 0}, 'color': ['#1e2222', '#91897f'], 'tags': ['modern', 'classy']}, 'tian%20Las%20Vegas%2C%20NV.jpg': {'exif': {'ResolutionUnit': 2, 'ExifOffset': 282, 'Make': 'CASIO COMPUTER CO.,LTD.', 'Model': 'EX-S500', 'Software': '1.02                 ', 'Orientation': 1, 'DateTime': '2007:07:26 12:01:58', 'YCbCrPositioning': 1, 'XResolution': '72.0', 'YResolution': '72.0', 'CompressedBitsPerPixel': '4.270833333333333', 'DateTimeOriginal': '2007:07:26 12:01:58', 'DateTimeDigitized': '2007:07:26 12:01:58', 'ExposureBiasValue': '0.0', 'MaxApertureValue': '2.8', 'MeteringMode': 5, 'LightSource': 0, 'Flash': 16, 'FocalLength': '7.6', 'ColorSpace': 1, 'ExifImageWidth': 2048, 'ExifInteroperabilityOffset': 30632, 'FocalLengthIn35mmFilm': 47, 'SceneCaptureType': 0, 'ExifImageHeight': 1536, 'Contrast': 0, 'Saturation': 0, 'Sharpness': 2, 'ExposureTime': '0.0015625', 'FNumber': '4.8', 'ExposureProgram': 2, 'CustomRendered': 0, 'ExposureMode': 0, 'WhiteBalance': 0, 'DigitalZoomRatio': 'nan', 'GainControl': 0}, 'color': ['#f5f9fc', '#50524b'], 'tags': ['architecture']}, 'tion%2C%20Las%20Vegas%20NV.jpg': {'exif': {'ResolutionUnit': 2, 'ExifOffset': 234, 'ImageDescription': '                               ', 'Make': 'Canon', 'Model': 'Canon PowerShot SX150 IS', 'Orientation': 1, 'DateTime': '2012:01:29 17:26:10', 'YCbCrPositioning': 2, 'XResolution': '180.0', 'YResolution': '180.0', 'CompressedBitsPerPixel': '3.0', 'DateTimeOriginal': '2012:01:29 17:26:10', 'DateTimeDigitized': '2012:01:29 17:26:10', 'ShutterSpeedValue': '9.96875', 'ApertureValue': '3.53125', 'ExposureBiasValue': '0.0', 'MaxApertureValue': '3.53125', 'MeteringMode': 5, 'Flash': 16, 'FocalLength': '5.0', 'ColorSpace': 1, 'ExifImageWidth': 3072, 'FocalPlaneXResolution': '12641.975308641975', 'ExifImageHeight': 2304, 'FocalPlaneYResolution': '12659.34065934066', 'FocalPlaneResolutionUnit': 2, 'SensingMethod': 2, 'ExposureTime': '0.001', 'ExifInteroperabilityOffset': 4760, 'FNumber': '3.4', 'CustomRendered': 0, 'ISOSpeedRatings': 80, 'ExposureMode': 0, 'SensitivityType': 4, 'WhiteBalance': 0, 'CameraOwnerName': '', 'DigitalZoomRatio': '1.0', 'SceneCaptureType': 0}, 'color': ['#3f3c3c', '#c0cdd8'], 'tags': []}, 'tre%20par%20Emile%20Ledoux.jpg': {'exif': {'ResolutionUnit': 2, 'ExifOffset': 188, 'Make': 'Apple', 'Model': 'iPad', 'Software': '7.0.4', 'Orientation': 1, 'DateTime': '2014:09:17 14:13:25', 'YCbCrPositioning': 1, 'XResolution': '72.0', 'YResolution': '72.0', 'ShutterSpeedValue': '8.141626794258373', 'DateTimeOriginal': '2014:09:17 14:13:25', 'DateTimeDigitized': '2014:09:17 14:13:25', 'ApertureValue': '2.5260688216892597', 'BrightnessValue': '7.337752525252525', 'MeteringMode': 3, 'Flash': 32, 'FocalLength': '4.28', 'ColorSpace': 1, 'ExifImageWidth': 905, 'FocalLengthIn35mmFilm': 35, 'SceneCaptureType': 0, 'ExifImageHeight': 752, 'SubsecTimeOriginal': '255', 'SubsecTimeDigitized': '255', 'SensingMethod': 2, 'ExposureTime': '0.0035460992907801418', 'FNumber': '2.4', 'ExposureProgram': 2, 'ISOSpeedRatings': 50, 'ExposureMode': 0, 'WhiteBalance': 0, 'LensSpecification': '(4.28, 4.28, 2.4, 2.4)', 'LensMake': 'Apple', 'LensModel': 'iPad back camera 4.28mm f/2.4'}, 'color': ['#d8b59e', '#4a502c'], 'tags': []}, 'urhaus-Wiesbaden-bei-Nacht.jpg': {'exif': {'ResolutionUnit': 2, 'ExifOffset': 216, 'Make': 'NIKON CORPORATION', 'Model': 'NIKON D70', 'Software': 'Adobe Photoshop CS2 Windows', 'Orientation': 1, 'DateTime': '2008:07:29 17:54:39', 'XResolution': '609.0', 'YResolution': '609.0', 'ShutterSpeedValue': '-1.0', 'ApertureValue': '5.310704', 'DateTimeOriginal': '2006:11:16 17:25:09', 'DateTimeDigitized': '2006:11:16 17:25:09', 'ExposureBiasValue': '1.0', 'MaxApertureValue': '3.6', 'MeteringMode': 5, 'LightSource': 0, 'Flash': 0, 'FocalLength': '18.0', 'ColorSpace': 65535, 'ExifImageWidth': 3008, 'DigitalZoomRatio': '1.0', 'FocalLengthIn35mmFilm': 27, 'SceneCaptureType': 0, 'ExifImageHeight': 2009, 'SubsecTimeOriginal': '70', 'SubsecTimeDigitized': '70', 'Sharpness': 0, 'SubjectDistanceRange': 0, 'SensingMethod': 2, 'ExposureTime': '2.0', 'FNumber': '6.3', 'ExposureProgram': 3, 'CustomRendered': 0, 'ISOSpeedRatings': 200, 'ExposureMode': 0, 'WhiteBalance': 0, 'GainControl': 0, 'Contrast': 1, 'Saturation': 0}, 'color': ['#473b2b', '#d3a463'], 'tags': ['architecture']}, 'ust%20Hotel%20And%20Casino.jpg': {'exif': {'ResolutionUnit': 2, 'ExifOffset': 196, 'Make': 'Canon', 'Model': 'Canon DIGITAL IXUS 40', 'Orientation': 1, 'DateTime': '2006:01:04 20:45:11', 'YCbCrPositioning': 1, 'XResolution': '180.0', 'YResolution': '180.0', 'CompressedBitsPerPixel': '5.0', 'DateTimeOriginal': '2006:01:04 20:45:11', 'DateTimeDigitized': '2006:01:04 20:45:11', 'ShutterSpeedValue': '9.3125', 'ApertureValue': '4.96875', 'ExposureBiasValue': '0.0', 'MaxApertureValue': '2.96875', 'MeteringMode': 5, 'Flash': 24, 'FocalLength': '5.8', 'ColorSpace': 1, 'ExifImageWidth': 2272, 'FocalPlaneXResolution': '10142.857142857143', 'ExifImageHeight': 1704, 'FocalPlaneYResolution': '10142.857142857143', 'FocalPlaneResolutionUnit': 2, 'SensingMethod': 2, 'ExposureTime': '0.0015625', 'ExifInteroperabilityOffset': 2142, 'FNumber': '5.6', 'CustomRendered': 0, 'ExposureMode': 0, 'WhiteBalance': 0, 'DigitalZoomRatio': '1.0', 'SceneCaptureType': 0}, 'color': ['#d3d8cb', '#345472'], 'tags': ['nature', 'architecture']}, 'Vegas%20-%20October%202021.jpg': {'exif': {'TileWidth': 1024, 'TileLength': 1024, 'GPSInfo': \"{0: b'\\\\x02\\\\x02\\\\x00\\\\x00', 1: 'N', 2: (36.0, 8.0, 11.79), 3: 'W', 4: (115.0, 9.0, 43.95), 5: b'\\\\x00', 6: 628.9519343493553, 12: 'K', 13: 0.04121705515661201, 16: 'T', 17: 132.42110453648914, 23: 'T', 24: 132.42110453648914, 31: 10.21801948051948}\", 'ResolutionUnit': 2, 'ExifOffset': 234, 'Make': 'Apple', 'Model': 'iPhone XR', 'Software': '14.8', 'DateTime': '2022:02:27 10:50:34', 'YCbCrPositioning': 1, 'YResolution': '72.0', 'XResolution': '72.0', 'Artist': 'Picasa', 'ShutterSpeedValue': '10.697948894236278', 'DateTimeOriginal': '2021:10:06 11:31:59', 'DateTimeDigitized': '2021:10:06 11:31:59', 'ApertureValue': '1.6959938128383605', 'BrightnessValue': '9.461922748872913', 'ExposureBiasValue': '0.0', 'MeteringMode': 5, 'Flash': 0, 'FocalLength': '4.25', 'ColorSpace': 65535, 'ExifImageWidth': 2054, 'ExifInteroperabilityOffset': 1134, 'FocalLengthIn35mmFilm': 26, 'SceneCaptureType': 0, 'OffsetTime': '-07:00', 'OffsetTimeOriginal': '-07:00', 'OffsetTimeDigitized': '-07:00', 'SubsecTimeOriginal': '210', 'SubsecTimeDigitized': '210', 'ExifImageHeight': 1530, 'SensingMethod': 2, 'ExposureTime': '0.0006020469596628537', 'FNumber': '1.8', 'ImageUniqueID': 'ec087e530292e8e664d6d81df24a429d', 'CustomRendered': 6, 'ISOSpeedRatings': 25, 'WhiteBalance': 0, 'LensSpecification': '(4.25, 4.25, 1.8, 1.8)', 'LensMake': 'Apple', 'LensModel': 'iPhone XR back camera 4.25mm f/1.8'}, 'color': ['#91abcc', '#2b3644'], 'tags': ['modern']}, 'Venetian%20Macau.jpg': {'exif': {'ResolutionUnit': 2, 'ExifOffset': 238, 'Make': 'Canon ', 'Model': 'Canon EOS 20D', 'Software': 'SILKYPIX(R) Developer Studio Version 3.0.15.1', 'Orientation': 1, 'DateTime': '2007:12:07 14:24:11', 'YCbCrPositioning': 2, 'XResolution': '300.0', 'YResolution': '300.0', 'ShutterSpeedValue': '0.321929931640625', 'DateTimeOriginal': '2007:11:29 21:04:35', 'DateTimeDigitized': '2007:11:29 21:04:35', 'ApertureValue': '6.33984375', 'ExposureBiasValue': '0.6666666666666666', 'MeteringMode': 5, 'Flash': 16, 'FocalLength': '16.0', 'ColorSpace': 1, 'ExifImageWidth': 1200, 'ExifInteroperabilityOffset': 12924, 'FocalPlaneXResolution': '3959.322033898305', 'FocalPlaneYResolution': '3959.322033898305', 'ExifImageHeight': 1800, 'FocalPlaneResolutionUnit': 2, 'ExposureTime': '0.8', 'FNumber': '9.0', 'ExposureProgram': 3, 'CustomRendered': 1, 'ISOSpeedRatings': 800, 'ExposureMode': 0, 'SceneCaptureType': 0}, 'color': ['#1a150e', '#a78e65'], 'tags': ['architecture']}, 'ver%20City%20Casino%201999.jpg': {'exif': {}, 'color': ['#c5d6e8', '#494445'], 'tags': []}}\n"
     ]
    }
   ],
   "source": [
    "json_dat = {}\n",
    "for filename in os.listdir(\"images\"):\n",
    "    json_dat[filename] = {\n",
    "        'exif': extraire_donnees(\"images/\"+filename),\n",
    "        'color': extraire_couleurs(\"images/\"+filename)\n",
    "    }\n",
    "    json_dat = lire_entree(json_dat, filename)\n",
    "print(json_dat)\n",
    "json.dump(json_dat, open(\"img_data.json\", \"w\"), indent=2)"
   ]
  },
  {
   "cell_type": "markdown",
   "id": "b0ed09be8fd0b946",
   "metadata": {
    "collapsed": false
   },
   "source": [
    "Maintenant, on a les données à l'état brut. On va les transformer pour garder des données traitables pour l'analyse. Il faut qu'on convertisse chaque donnée en une valeur traitable pour faire des vecteurs. On commence par une fonction de transformation de la première couleur dominante en tag"
   ]
  },
  {
   "cell_type": "code",
   "outputs": [
    {
     "name": "stdout",
     "output_type": "stream",
     "text": [
      "Collecting colorsysx\n",
      "  Downloading colorsysx-1.1-py3-none-any.whl (14 kB)\n",
      "Installing collected packages: colorsysx\n",
      "Successfully installed colorsysx-1.1\n"
     ]
    },
    {
     "name": "stderr",
     "output_type": "stream",
     "text": [
      "\n",
      "[notice] A new release of pip available: 22.3.1 -> 24.0\n",
      "[notice] To update, run: python.exe -m pip install --upgrade pip\n"
     ]
    }
   ],
   "source": [
    "!pip install colorsysx"
   ],
   "metadata": {
    "collapsed": false,
    "ExecuteTime": {
     "end_time": "2024-03-21T19:45:48.582615Z",
     "start_time": "2024-03-21T19:45:45.230936Z"
    }
   },
   "id": "ac0c18eb04a0a5b0",
   "execution_count": 11
  },
  {
   "cell_type": "code",
   "outputs": [],
   "source": [
    "import numpy as np\n",
    "from sklearn.neighbors import NearestNeighbors\n",
    "import colorsysx as colorsys\n",
    "\n",
    "couleurs_tags_possibles = {\n",
    "    'red': [255, 0, 0],\n",
    "    'green': [0, 255, 0],\n",
    "    'blue': [0, 0, 255],\n",
    "    'yellow': [255, 255, 0],\n",
    "    'cyan': [0, 255, 255],\n",
    "    'magenta': [255, 0, 255],\n",
    "    'black': [0, 0, 0],\n",
    "    'white': [255, 255, 255]\n",
    "}\n",
    "\n",
    "tags_keys = couleurs_tags_possibles.keys()\n",
    "def rgb_to_hls(color_rgb):\n",
    "    return colorsys.rgb_to_hls(*[v/255 for v in color_rgb[:3]])\n",
    "\n",
    "colors_lab = {k: rgb_to_hls(couleurs_tags_possibles[k]) for k in tags_keys}\n",
    "color_voisins = NearestNeighbors(n_neighbors=1, algorithm='ball_tree').fit(np.array([colors_lab[k] for k in tags_keys]))\n",
    "\n",
    "def tag_de_couleur(colorhex):\n",
    "    # hex to rgb: #xxxxxx -> [ x, x, x ]\n",
    "    hex = colorhex.lstrip('#')\n",
    "    color = tuple(int(hex[i:i+2], 16) for i in (0, 2, 4))\n",
    "    \n",
    "    color_lab = rgb_to_hls(color)\n",
    "    distances, indices = color_voisins.kneighbors([color_lab])\n",
    "    nearest_color = list(tags_keys)[indices[0][0]]\n",
    "    return nearest_color"
   ],
   "metadata": {
    "collapsed": false,
    "ExecuteTime": {
     "end_time": "2024-03-21T19:55:11.733909Z",
     "start_time": "2024-03-21T19:55:11.691421Z"
    }
   },
   "id": "a071e92db4dba2f4",
   "execution_count": 36
  },
  {
   "cell_type": "code",
   "execution_count": 50,
   "id": "7478a4a3220cd88f",
   "metadata": {
    "collapsed": false,
    "ExecuteTime": {
     "end_time": "2024-03-21T19:55:22.773766Z",
     "start_time": "2024-03-21T19:55:22.768584Z"
    }
   },
   "outputs": [],
   "source": [
    "\"\"\"\n",
    " single_picdata peut être un dictionnaire {exif, color, tags} ou {}\n",
    " La sortie doit être un tableau (ou vecteur) traitable pour l'analyse\n",
    "\"\"\"\n",
    "def transform_data(single_picdata):\n",
    "    keys = single_picdata.keys()\n",
    "    exifs = single_picdata[\"exif\"] if \"exif\" in keys else {}\n",
    "    exifkeys = exifs.keys()\n",
    "    tags = single_picdata[\"tags\"]\n",
    "    return [\n",
    "        exifs[\"Orientation\"] if \"Orientation\" in exifs else -1,\n",
    "        tag_de_couleur(single_picdata[\"color\"][0]),\n",
    "        \"true\" if \"old\" in tags else \"false\",\n",
    "        \"true\" if \"modern\" in tags else \"false\",\n",
    "        \"true\" if \"architecture\" in tags else \"false\",\n",
    "        \"true\" if \"classy\" in tags else \"false\",\n",
    "        \"true\" if \"nature\" in tags else \"false\"\n",
    "    ]"
   ]
  },
  {
   "cell_type": "markdown",
   "id": "33dd4aa45d9878c3",
   "metadata": {
    "collapsed": false
   },
   "source": [
    "On initialise ensuite un tableau avec nos données traitables pour 10 images aléatoires"
   ]
  },
  {
   "cell_type": "code",
   "execution_count": 117,
   "id": "55197942-214e-4116-979f-a598257dfa0b",
   "metadata": {
    "ExecuteTime": {
     "end_time": "2024-03-21T19:57:10.667635Z",
     "start_time": "2024-03-21T19:57:10.651981Z"
    }
   },
   "outputs": [],
   "source": [
    "from random import sample\n",
    "import json, os\n",
    "\n",
    "def read_pic_datas(picnames):\n",
    "    with open('img_data.json', 'r') as f:\n",
    "        pic_json_data = json.load(f)\n",
    "    pic_json_keys = pic_json_data.keys()\n",
    "    res_dat = []\n",
    "    for picname in picnames:\n",
    "        single_picdat = pic_json_data[picname] if picname in pic_json_keys else {}\n",
    "        res_dat.append(transform_data(single_picdat))\n",
    "    return res_dat\n",
    "\n",
    "pics = sample(os.listdir(\"images\"), 10)\n",
    "picdata_matrix = read_pic_datas(pics)"
   ]
  },
  {
   "cell_type": "markdown",
   "id": "90a6525fc94a6755",
   "metadata": {
    "collapsed": false
   },
   "source": [
    "On demande les préférences utilisateur sur ces 10 images"
   ]
  },
  {
   "cell_type": "code",
   "execution_count": 15,
   "id": "46d01fc0029a430a",
   "metadata": {
    "collapsed": false,
    "ExecuteTime": {
     "end_time": "2024-03-21T19:57:14.832334Z",
     "start_time": "2024-03-21T19:57:12.178138Z"
    }
   },
   "outputs": [
    {
     "name": "stdout",
     "output_type": "stream",
     "text": [
      "Requirement already satisfied: ipywidgets in c:\\users\\leo-b\\onedrive - cpe.fr\\cpe\\s9\\machine_learning\\venv\\lib\\site-packages (8.1.2)\n",
      "Requirement already satisfied: ipython>=6.1.0 in c:\\users\\leo-b\\onedrive - cpe.fr\\cpe\\s9\\machine_learning\\venv\\lib\\site-packages (from ipywidgets) (8.18.1)\n",
      "Requirement already satisfied: traitlets>=4.3.1 in c:\\users\\leo-b\\onedrive - cpe.fr\\cpe\\s9\\machine_learning\\venv\\lib\\site-packages (from ipywidgets) (5.14.1)\n",
      "Requirement already satisfied: comm>=0.1.3 in c:\\users\\leo-b\\onedrive - cpe.fr\\cpe\\s9\\machine_learning\\venv\\lib\\site-packages (from ipywidgets) (0.2.1)\n",
      "Requirement already satisfied: jupyterlab-widgets~=3.0.10 in c:\\users\\leo-b\\onedrive - cpe.fr\\cpe\\s9\\machine_learning\\venv\\lib\\site-packages (from ipywidgets) (3.0.10)\n",
      "Requirement already satisfied: widgetsnbextension~=4.0.10 in c:\\users\\leo-b\\onedrive - cpe.fr\\cpe\\s9\\machine_learning\\venv\\lib\\site-packages (from ipywidgets) (4.0.10)\n",
      "Requirement already satisfied: typing-extensions in c:\\users\\leo-b\\onedrive - cpe.fr\\cpe\\s9\\machine_learning\\venv\\lib\\site-packages (from ipython>=6.1.0->ipywidgets) (4.9.0)\n",
      "Requirement already satisfied: matplotlib-inline in c:\\users\\leo-b\\onedrive - cpe.fr\\cpe\\s9\\machine_learning\\venv\\lib\\site-packages (from ipython>=6.1.0->ipywidgets) (0.1.6)\n",
      "Requirement already satisfied: exceptiongroup in c:\\users\\leo-b\\onedrive - cpe.fr\\cpe\\s9\\machine_learning\\venv\\lib\\site-packages (from ipython>=6.1.0->ipywidgets) (1.2.0)\n",
      "Requirement already satisfied: colorama in c:\\users\\leo-b\\onedrive - cpe.fr\\cpe\\s9\\machine_learning\\venv\\lib\\site-packages (from ipython>=6.1.0->ipywidgets) (0.4.6)\n",
      "Requirement already satisfied: pygments>=2.4.0 in c:\\users\\leo-b\\onedrive - cpe.fr\\cpe\\s9\\machine_learning\\venv\\lib\\site-packages (from ipython>=6.1.0->ipywidgets) (2.17.2)\n",
      "Requirement already satisfied: decorator in c:\\users\\leo-b\\onedrive - cpe.fr\\cpe\\s9\\machine_learning\\venv\\lib\\site-packages (from ipython>=6.1.0->ipywidgets) (5.1.1)\n",
      "Requirement already satisfied: jedi>=0.16 in c:\\users\\leo-b\\onedrive - cpe.fr\\cpe\\s9\\machine_learning\\venv\\lib\\site-packages (from ipython>=6.1.0->ipywidgets) (0.19.1)\n",
      "Requirement already satisfied: stack-data in c:\\users\\leo-b\\onedrive - cpe.fr\\cpe\\s9\\machine_learning\\venv\\lib\\site-packages (from ipython>=6.1.0->ipywidgets) (0.6.3)\n",
      "Requirement already satisfied: prompt-toolkit<3.1.0,>=3.0.41 in c:\\users\\leo-b\\onedrive - cpe.fr\\cpe\\s9\\machine_learning\\venv\\lib\\site-packages (from ipython>=6.1.0->ipywidgets) (3.0.43)\n",
      "Requirement already satisfied: parso<0.9.0,>=0.8.3 in c:\\users\\leo-b\\onedrive - cpe.fr\\cpe\\s9\\machine_learning\\venv\\lib\\site-packages (from jedi>=0.16->ipython>=6.1.0->ipywidgets) (0.8.3)\n",
      "Requirement already satisfied: wcwidth in c:\\users\\leo-b\\onedrive - cpe.fr\\cpe\\s9\\machine_learning\\venv\\lib\\site-packages (from prompt-toolkit<3.1.0,>=3.0.41->ipython>=6.1.0->ipywidgets) (0.2.13)\n",
      "Requirement already satisfied: executing>=1.2.0 in c:\\users\\leo-b\\onedrive - cpe.fr\\cpe\\s9\\machine_learning\\venv\\lib\\site-packages (from stack-data->ipython>=6.1.0->ipywidgets) (2.0.1)\n",
      "Requirement already satisfied: asttokens>=2.1.0 in c:\\users\\leo-b\\onedrive - cpe.fr\\cpe\\s9\\machine_learning\\venv\\lib\\site-packages (from stack-data->ipython>=6.1.0->ipywidgets) (2.4.1)\n",
      "Requirement already satisfied: pure-eval in c:\\users\\leo-b\\onedrive - cpe.fr\\cpe\\s9\\machine_learning\\venv\\lib\\site-packages (from stack-data->ipython>=6.1.0->ipywidgets) (0.2.2)\n",
      "Requirement already satisfied: six>=1.12.0 in c:\\users\\leo-b\\onedrive - cpe.fr\\cpe\\s9\\machine_learning\\venv\\lib\\site-packages (from asttokens>=2.1.0->stack-data->ipython>=6.1.0->ipywidgets) (1.16.0)\n"
     ]
    },
    {
     "name": "stderr",
     "output_type": "stream",
     "text": [
      "\n",
      "[notice] A new release of pip available: 22.3.1 -> 24.0\n",
      "[notice] To update, run: python.exe -m pip install --upgrade pip\n"
     ]
    }
   ],
   "source": [
    "!pip install ipywidgets"
   ]
  },
  {
   "cell_type": "code",
   "outputs": [
    {
     "data": {
      "text/plain": "HBox(children=(Button(icon='heart', style=ButtonStyle(button_color='#ff4757'), tooltip='Like'), Button(icon='t…",
      "application/vnd.jupyter.widget-view+json": {
       "version_major": 2,
       "version_minor": 0,
       "model_id": "d968e727b8ec4e33b207f3f515541db9"
      }
     },
     "metadata": {},
     "output_type": "display_data"
    },
    {
     "data": {
      "text/plain": "Output()",
      "application/vnd.jupyter.widget-view+json": {
       "version_major": 2,
       "version_minor": 0,
       "model_id": "acc41bf635c242aa84972350eb0bfb66"
      }
     },
     "metadata": {},
     "output_type": "display_data"
    }
   ],
   "source": [
    "import ipywidgets as widgets\n",
    "from IPython.display import clear_output\n",
    "\n",
    "pic_output = widgets.Output()\n",
    "\n",
    "shown_image_idx = 0\n",
    "likes = [None] * len(pics)\n",
    "\n",
    "def show(nomfichier):\n",
    "    global pic_output\n",
    "    with open(\"images/\"+nomfichier, 'rb') as f:\n",
    "        shown_image = f.read()\n",
    "    picwidget = widgets.Image(\n",
    "        value=shown_image,\n",
    "    )\n",
    "    picwidget.layout.height= '150px'\n",
    "    with pic_output:\n",
    "        clear_output()\n",
    "        display(picwidget)\n",
    "\n",
    "def clear_if_maxed():\n",
    "    global shown_image_idx\n",
    "    if shown_image_idx >= len(pics):\n",
    "        with pic_output:\n",
    "            clear_output()\n",
    "            print(\"Fin de la navigation\")\n",
    "def likeit(_b):\n",
    "    global shown_image_idx\n",
    "    clear_if_maxed()\n",
    "    likes[shown_image_idx] = True\n",
    "    shown_image_idx += 1\n",
    "    clear_if_maxed()\n",
    "    show(pics[shown_image_idx])\n",
    "\n",
    "def hateit(_b):\n",
    "    global shown_image_idx, liked\n",
    "    print(\"Hate\")\n",
    "    clear_if_maxed()\n",
    "    likes[shown_image_idx] = False\n",
    "    shown_image_idx += 1\n",
    "    clear_if_maxed()\n",
    "    show(pics[shown_image_idx])\n",
    "\n",
    "like_button = widgets.Button(\n",
    "    description='',\n",
    "    disabled=False,\n",
    "    button_style='',\n",
    "    tooltip='Like',\n",
    "    icon='heart'\n",
    ")\n",
    "like_button.style = {'button_color': '#ff4757'}\n",
    "like_button.on_click(likeit)\n",
    "\n",
    "hate_button = widgets.Button(\n",
    "    description='',\n",
    "    disabled=False,\n",
    "    button_style='',\n",
    "    tooltip='Dislike',\n",
    "    icon='thumbs-down'\n",
    ")\n",
    "hate_button.style = {'button_color': '#5352ed'}\n",
    "hate_button.on_click(hateit)\n",
    "buttons = widgets.HBox([like_button, hate_button])\n",
    "\n",
    "display(buttons,pic_output)\n",
    "show(pics[shown_image_idx])"
   ],
   "metadata": {
    "collapsed": false,
    "ExecuteTime": {
     "end_time": "2024-03-21T20:12:45.517932Z",
     "start_time": "2024-03-21T20:12:45.486191Z"
    }
   },
   "id": "e57a711ab9a173fd",
   "execution_count": 118
  },
  {
   "cell_type": "code",
   "execution_count": 119,
   "id": "1af564ac-5593-4edf-9257-b2f1a4945571",
   "metadata": {
    "ExecuteTime": {
     "end_time": "2024-03-21T20:13:06.854017Z",
     "start_time": "2024-03-21T20:13:06.847699Z"
    }
   },
   "outputs": [
    {
     "name": "stdout",
     "output_type": "stream",
     "text": [
      "[False, True, False, True, False, False, False, False, False, True]\n"
     ]
    }
   ],
   "source": [
    "print(likes)"
   ]
  },
  {
   "cell_type": "code",
   "execution_count": 19,
   "outputs": [
    {
     "name": "stdout",
     "output_type": "stream",
     "text": [
      "Collecting graphviz\n",
      "  Downloading graphviz-0.20.3-py3-none-any.whl (47 kB)\n",
      "     ---------------------------------------- 47.1/47.1 kB 2.5 MB/s eta 0:00:00\n",
      "Collecting pydotplus\n",
      "  Downloading pydotplus-2.0.2.tar.gz (278 kB)\n",
      "     -------------------------------------- 278.7/278.7 kB 5.7 MB/s eta 0:00:00\n",
      "  Preparing metadata (setup.py): started\n",
      "  Preparing metadata (setup.py): finished with status 'done'\n",
      "Requirement already satisfied: pyparsing>=2.0.1 in c:\\users\\leo-b\\onedrive - cpe.fr\\cpe\\s9\\machine_learning\\venv\\lib\\site-packages (from pydotplus) (3.1.1)\n",
      "Building wheels for collected packages: pydotplus\n",
      "  Building wheel for pydotplus (setup.py): started\n",
      "  Building wheel for pydotplus (setup.py): finished with status 'done'\n",
      "  Created wheel for pydotplus: filename=pydotplus-2.0.2-py3-none-any.whl size=24578 sha256=3fc81c7987b38174f1ba9325d92340bdc0a66ed0af55ec863db46a37bcff9be8\n",
      "  Stored in directory: c:\\users\\leo-b\\appdata\\local\\pip\\cache\\wheels\\85\\58\\96\\6cba53da2c6e8690dd0a33f67a4a0e2e88f70798e9d4955812\n",
      "Successfully built pydotplus\n",
      "Installing collected packages: pydotplus, graphviz\n",
      "Successfully installed graphviz-0.20.3 pydotplus-2.0.2\n"
     ]
    },
    {
     "name": "stderr",
     "output_type": "stream",
     "text": [
      "\n",
      "[notice] A new release of pip available: 22.3.1 -> 24.0\n",
      "[notice] To update, run: python.exe -m pip install --upgrade pip\n"
     ]
    }
   ],
   "source": [
    "! pip3 install graphviz pydotplus"
   ],
   "metadata": {
    "collapsed": false
   }
  },
  {
   "cell_type": "code",
   "execution_count": 133,
   "outputs": [
    {
     "name": "stdout",
     "output_type": "stream",
     "text": [
      "[1, 'white', 'false', 'false', 'false', 'false', 'false']\n"
     ]
    }
   ],
   "source": [
    "from random import sample\n",
    "import json, os\n",
    "\n",
    "\n",
    "def read_pic_datas2(picnames):\n",
    "    with open('img_data.json', 'r') as f:\n",
    "        pic_json_data = json.load(f)\n",
    "    pic_json_keys = pic_json_data.keys()\n",
    "    res_dat = []\n",
    "    for picname in picnames:\n",
    "        single_picdat = pic_json_data[picname] if picname in pic_json_keys else {}\n",
    "        res_dat.append(transform_data(single_picdat))\n",
    "    return res_dat\n",
    "\n",
    "\n",
    "pics = sample(os.listdir(\"images\"), 128)\n",
    "picdata_matrix2 = read_pic_datas(pics)\n",
    "print(picdata_matrix2[5])"
   ],
   "metadata": {
    "collapsed": false
   }
  },
  {
   "cell_type": "code",
   "outputs": [
    {
     "name": "stdout",
     "output_type": "stream",
     "text": [
      "Accuracy: 0.5\n",
      "[[1, 'black', 'false', 'false', 'false', 'false', 'false'], [1, 'black', 'false', 'false', 'false', 'false', 'false'], [1, 'black', 'false', 'true', 'false', 'false', 'true'], [-1, 'black', 'false', 'false', 'false', 'false', 'false'], [1, 'black', 'false', 'true', 'false', 'true', 'false'], [1, 'white', 'false', 'false', 'false', 'false', 'false'], [1, 'black', 'false', 'false', 'false', 'false', 'false'], [1, 'black', 'false', 'false', 'true', 'false', 'false'], [1, 'black', 'false', 'false', 'false', 'false', 'false'], [1, 'white', 'false', 'false', 'true', 'false', 'false'], [1, 'black', 'false', 'false', 'true', 'false', 'true'], [1, 'black', 'false', 'false', 'true', 'false', 'true'], [1, 'white', 'false', 'false', 'true', 'false', 'false'], [1, 'cyan', 'false', 'false', 'false', 'false', 'false'], [1, 'black', 'false', 'false', 'false', 'false', 'false'], [-1, 'black', 'false', 'false', 'false', 'false', 'false'], [1, 'black', 'false', 'false', 'true', 'false', 'false'], [1, 'black', 'false', 'false', 'false', 'false', 'false'], [1, 'black', 'false', 'true', 'true', 'false', 'false'], [1, 'white', 'false', 'true', 'false', 'false', 'false'], [-1, 'white', 'false', 'false', 'false', 'false', 'false'], [1, 'white', 'false', 'false', 'false', 'false', 'false'], [1, 'black', 'false', 'false', 'false', 'false', 'false'], [1, 'black', 'false', 'true', 'false', 'false', 'false'], [-1, 'white', 'false', 'true', 'false', 'false', 'true'], [1, 'blue', 'false', 'false', 'false', 'false', 'false'], [1, 'black', 'false', 'false', 'false', 'false', 'false'], [-1, 'white', 'false', 'false', 'false', 'false', 'false'], [1, 'black', 'false', 'false', 'false', 'false', 'false'], [1, 'black', 'false', 'false', 'false', 'false', 'false'], [-1, 'black', 'false', 'false', 'false', 'false', 'false'], [1, 'black', 'false', 'false', 'false', 'false', 'false'], [1, 'black', 'false', 'true', 'false', 'false', 'false'], [1, 'white', 'false', 'true', 'false', 'true', 'false'], [-1, 'blue', 'false', 'false', 'false', 'false', 'false'], [-1, 'blue', 'false', 'true', 'false', 'false', 'false'], [-1, 'black', 'false', 'true', 'false', 'true', 'false'], [-1, 'white', 'false', 'true', 'false', 'false', 'false'], [1, 'white', 'false', 'false', 'false', 'false', 'false'], [1, 'black', 'false', 'false', 'true', 'false', 'false'], [1, 'white', 'false', 'false', 'true', 'false', 'true'], [1, 'black', 'false', 'false', 'false', 'false', 'false'], [-1, 'white', 'false', 'false', 'false', 'false', 'false'], [1, 'white', 'false', 'false', 'false', 'false', 'false'], [1, 'black', 'false', 'false', 'false', 'false', 'false'], [-1, 'black', 'false', 'false', 'false', 'false', 'false'], [1, 'blue', 'false', 'false', 'true', 'false', 'true'], [1, 'white', 'false', 'false', 'false', 'false', 'false'], [1, 'blue', 'false', 'false', 'true', 'true', 'false'], [1, 'blue', 'false', 'true', 'false', 'false', 'false'], [1, 'white', 'false', 'false', 'false', 'false', 'false'], [1, 'black', 'false', 'false', 'false', 'false', 'false'], [1, 'white', 'false', 'false', 'false', 'false', 'false'], [1, 'black', 'false', 'false', 'false', 'false', 'false'], [1, 'black', 'false', 'true', 'true', 'false', 'false'], [1, 'white', 'false', 'false', 'false', 'false', 'false'], [-1, 'black', 'false', 'false', 'false', 'false', 'false'], [-1, 'black', 'false', 'false', 'false', 'false', 'false'], [-1, 'black', 'false', 'false', 'false', 'false', 'false'], [1, 'cyan', 'false', 'true', 'false', 'false', 'false'], [1, 'black', 'false', 'false', 'false', 'false', 'false'], [1, 'red', 'false', 'false', 'false', 'true', 'false'], [-1, 'white', 'false', 'true', 'false', 'true', 'false'], [1, 'black', 'false', 'true', 'false', 'false', 'false'], [-1, 'black', 'false', 'false', 'false', 'false', 'false'], [1, 'blue', 'false', 'false', 'false', 'false', 'false'], [1, 'cyan', 'false', 'false', 'true', 'false', 'false'], [1, 'black', 'false', 'false', 'false', 'false', 'false'], [1, 'white', 'false', 'false', 'false', 'false', 'false'], [1, 'black', 'false', 'false', 'false', 'false', 'false'], [-1, 'black', 'false', 'false', 'false', 'false', 'false'], [1, 'white', 'false', 'false', 'true', 'true', 'false'], [1, 'black', 'false', 'false', 'false', 'true', 'false'], [1, 'white', 'false', 'false', 'false', 'false', 'false'], [-1, 'white', 'false', 'false', 'false', 'false', 'false'], [1, 'black', 'false', 'false', 'false', 'false', 'false'], [1, 'black', 'false', 'false', 'false', 'false', 'false'], [1, 'white', 'false', 'false', 'true', 'false', 'false'], [1, 'white', 'false', 'false', 'false', 'false', 'true'], [1, 'black', 'false', 'false', 'false', 'false', 'false'], [0, 'black', 'false', 'true', 'false', 'false', 'false'], [1, 'white', 'false', 'false', 'false', 'false', 'false'], [1, 'white', 'false', 'false', 'false', 'false', 'false'], [1, 'black', 'false', 'false', 'false', 'false', 'false'], [1, 'magenta', 'false', 'false', 'false', 'true', 'false'], [1, 'black', 'false', 'false', 'false', 'false', 'false'], [0, 'black', 'false', 'true', 'false', 'false', 'false'], [1, 'black', 'false', 'false', 'false', 'false', 'false'], [1, 'black', 'false', 'false', 'false', 'false', 'false'], [0, 'black', 'false', 'false', 'false', 'false', 'false'], [1, 'black', 'false', 'true', 'false', 'true', 'true'], [3, 'white', 'false', 'false', 'false', 'false', 'false'], [-1, 'yellow', 'false', 'false', 'false', 'true', 'false'], [-1, 'black', 'false', 'false', 'false', 'false', 'false'], [1, 'black', 'false', 'false', 'false', 'true', 'false'], [1, 'white', 'false', 'false', 'true', 'false', 'false'], [-1, 'white', 'false', 'false', 'false', 'false', 'false'], [1, 'black', 'false', 'true', 'false', 'false', 'true'], [1, 'blue', 'false', 'false', 'false', 'false', 'false'], [-1, 'blue', 'false', 'false', 'false', 'false', 'false'], [1, 'white', 'false', 'false', 'false', 'false', 'false'], [-1, 'black', 'false', 'false', 'false', 'false', 'false'], [-1, 'blue', 'false', 'false', 'false', 'false', 'false'], [-1, 'black', 'false', 'true', 'false', 'false', 'true'], [1, 'white', 'false', 'false', 'false', 'false', 'false'], [-1, 'black', 'false', 'true', 'false', 'false', 'false'], [1, 'white', 'false', 'false', 'false', 'false', 'false'], [1, 'black', 'false', 'false', 'false', 'false', 'false'], [1, 'black', 'false', 'false', 'false', 'false', 'false'], [1, 'white', 'false', 'false', 'false', 'false', 'false'], [1, 'blue', 'false', 'false', 'false', 'false', 'false'], [1, 'blue', 'false', 'false', 'false', 'false', 'false'], [6, 'black', 'false', 'true', 'false', 'false', 'false'], [1, 'black', 'false', 'false', 'true', 'false', 'false'], [-1, 'cyan', 'false', 'false', 'true', 'false', 'false'], [1, 'black', 'false', 'false', 'false', 'false', 'false'], [-1, 'black', 'false', 'true', 'false', 'false', 'false'], [1, 'black', 'false', 'false', 'false', 'true', 'false'], [1, 'white', 'false', 'false', 'false', 'false', 'false'], [-1, 'black', 'false', 'false', 'false', 'true', 'false'], [1, 'yellow', 'false', 'false', 'true', 'true', 'false'], [-1, 'white', 'false', 'false', 'false', 'false', 'false'], [1, 'cyan', 'false', 'false', 'false', 'false', 'false'], [1, 'black', 'false', 'false', 'false', 'false', 'false'], [1, 'white', 'false', 'false', 'false', 'false', 'false'], [1, 'white', 'false', 'false', 'true', 'false', 'false'], [-1, 'black', 'false', 'false', 'false', 'false', 'false'], [-1, 'red', 'false', 'false', 'false', 'true', 'false']]\n",
      "[1, 0, 0, 0, 0, 0, 0]\n",
      "Prediction for the sample item: False\n",
      "[1, 0, 0, 0, 0, 0, 0]\n",
      "Prediction for the sample item: False\n"
     ]
    },
    {
     "ename": "ValueError",
     "evalue": "y contains previously unseen labels: 'true'",
     "output_type": "error",
     "traceback": [
      "\u001B[1;31m---------------------------------------------------------------------------\u001B[0m",
      "\u001B[1;31mKeyError\u001B[0m                                  Traceback (most recent call last)",
      "File \u001B[1;32m~\\OneDrive - cpe.fr\\CPE\\S9\\machine_learning\\venv\\lib\\site-packages\\sklearn\\utils\\_encode.py:225\u001B[0m, in \u001B[0;36m_encode\u001B[1;34m(values, uniques, check_unknown)\u001B[0m\n\u001B[0;32m    224\u001B[0m \u001B[38;5;28;01mtry\u001B[39;00m:\n\u001B[1;32m--> 225\u001B[0m     \u001B[38;5;28;01mreturn\u001B[39;00m \u001B[43m_map_to_integer\u001B[49m\u001B[43m(\u001B[49m\u001B[43mvalues\u001B[49m\u001B[43m,\u001B[49m\u001B[43m \u001B[49m\u001B[43muniques\u001B[49m\u001B[43m)\u001B[49m\n\u001B[0;32m    226\u001B[0m \u001B[38;5;28;01mexcept\u001B[39;00m \u001B[38;5;167;01mKeyError\u001B[39;00m \u001B[38;5;28;01mas\u001B[39;00m e:\n",
      "File \u001B[1;32m~\\OneDrive - cpe.fr\\CPE\\S9\\machine_learning\\venv\\lib\\site-packages\\sklearn\\utils\\_encode.py:165\u001B[0m, in \u001B[0;36m_map_to_integer\u001B[1;34m(values, uniques)\u001B[0m\n\u001B[0;32m    164\u001B[0m table \u001B[38;5;241m=\u001B[39m _nandict({val: i \u001B[38;5;28;01mfor\u001B[39;00m i, val \u001B[38;5;129;01min\u001B[39;00m \u001B[38;5;28menumerate\u001B[39m(uniques)})\n\u001B[1;32m--> 165\u001B[0m \u001B[38;5;28;01mreturn\u001B[39;00m np\u001B[38;5;241m.\u001B[39marray([table[v] \u001B[38;5;28;01mfor\u001B[39;00m v \u001B[38;5;129;01min\u001B[39;00m values])\n",
      "File \u001B[1;32m~\\OneDrive - cpe.fr\\CPE\\S9\\machine_learning\\venv\\lib\\site-packages\\sklearn\\utils\\_encode.py:165\u001B[0m, in \u001B[0;36m<listcomp>\u001B[1;34m(.0)\u001B[0m\n\u001B[0;32m    164\u001B[0m table \u001B[38;5;241m=\u001B[39m _nandict({val: i \u001B[38;5;28;01mfor\u001B[39;00m i, val \u001B[38;5;129;01min\u001B[39;00m \u001B[38;5;28menumerate\u001B[39m(uniques)})\n\u001B[1;32m--> 165\u001B[0m \u001B[38;5;28;01mreturn\u001B[39;00m np\u001B[38;5;241m.\u001B[39marray([\u001B[43mtable\u001B[49m\u001B[43m[\u001B[49m\u001B[43mv\u001B[49m\u001B[43m]\u001B[49m \u001B[38;5;28;01mfor\u001B[39;00m v \u001B[38;5;129;01min\u001B[39;00m values])\n",
      "File \u001B[1;32m~\\OneDrive - cpe.fr\\CPE\\S9\\machine_learning\\venv\\lib\\site-packages\\sklearn\\utils\\_encode.py:159\u001B[0m, in \u001B[0;36m_nandict.__missing__\u001B[1;34m(self, key)\u001B[0m\n\u001B[0;32m    158\u001B[0m     \u001B[38;5;28;01mreturn\u001B[39;00m \u001B[38;5;28mself\u001B[39m\u001B[38;5;241m.\u001B[39mnan_value\n\u001B[1;32m--> 159\u001B[0m \u001B[38;5;28;01mraise\u001B[39;00m \u001B[38;5;167;01mKeyError\u001B[39;00m(key)\n",
      "\u001B[1;31mKeyError\u001B[0m: 'true'",
      "\nDuring handling of the above exception, another exception occurred:\n",
      "\u001B[1;31mValueError\u001B[0m                                Traceback (most recent call last)",
      "Cell \u001B[1;32mIn[149], line 31\u001B[0m\n\u001B[0;32m     29\u001B[0m \u001B[38;5;66;03m# Sample prediction\u001B[39;00m\n\u001B[0;32m     30\u001B[0m \u001B[38;5;28;01mfor\u001B[39;00m j \u001B[38;5;129;01min\u001B[39;00m picdata_matrix2:\n\u001B[1;32m---> 31\u001B[0m     encoded_item \u001B[38;5;241m=\u001B[39m [label_encoders[i]\u001B[38;5;241m.\u001B[39mtransform([val])[\u001B[38;5;241m0\u001B[39m] \u001B[38;5;28;01mfor\u001B[39;00m i, val \u001B[38;5;129;01min\u001B[39;00m \u001B[38;5;28menumerate\u001B[39m(j)]\n\u001B[0;32m     32\u001B[0m     \u001B[38;5;28mprint\u001B[39m(encoded_item)\n\u001B[0;32m     33\u001B[0m     prediction \u001B[38;5;241m=\u001B[39m classifier\u001B[38;5;241m.\u001B[39mpredict([encoded_item])[\u001B[38;5;241m0\u001B[39m]\n",
      "Cell \u001B[1;32mIn[149], line 31\u001B[0m, in \u001B[0;36m<listcomp>\u001B[1;34m(.0)\u001B[0m\n\u001B[0;32m     29\u001B[0m \u001B[38;5;66;03m# Sample prediction\u001B[39;00m\n\u001B[0;32m     30\u001B[0m \u001B[38;5;28;01mfor\u001B[39;00m j \u001B[38;5;129;01min\u001B[39;00m picdata_matrix2:\n\u001B[1;32m---> 31\u001B[0m     encoded_item \u001B[38;5;241m=\u001B[39m [\u001B[43mlabel_encoders\u001B[49m\u001B[43m[\u001B[49m\u001B[43mi\u001B[49m\u001B[43m]\u001B[49m\u001B[38;5;241;43m.\u001B[39;49m\u001B[43mtransform\u001B[49m\u001B[43m(\u001B[49m\u001B[43m[\u001B[49m\u001B[43mval\u001B[49m\u001B[43m]\u001B[49m\u001B[43m)\u001B[49m[\u001B[38;5;241m0\u001B[39m] \u001B[38;5;28;01mfor\u001B[39;00m i, val \u001B[38;5;129;01min\u001B[39;00m \u001B[38;5;28menumerate\u001B[39m(j)]\n\u001B[0;32m     32\u001B[0m     \u001B[38;5;28mprint\u001B[39m(encoded_item)\n\u001B[0;32m     33\u001B[0m     prediction \u001B[38;5;241m=\u001B[39m classifier\u001B[38;5;241m.\u001B[39mpredict([encoded_item])[\u001B[38;5;241m0\u001B[39m]\n",
      "File \u001B[1;32m~\\OneDrive - cpe.fr\\CPE\\S9\\machine_learning\\venv\\lib\\site-packages\\sklearn\\preprocessing\\_label.py:137\u001B[0m, in \u001B[0;36mLabelEncoder.transform\u001B[1;34m(self, y)\u001B[0m\n\u001B[0;32m    134\u001B[0m \u001B[38;5;28;01mif\u001B[39;00m _num_samples(y) \u001B[38;5;241m==\u001B[39m \u001B[38;5;241m0\u001B[39m:\n\u001B[0;32m    135\u001B[0m     \u001B[38;5;28;01mreturn\u001B[39;00m np\u001B[38;5;241m.\u001B[39marray([])\n\u001B[1;32m--> 137\u001B[0m \u001B[38;5;28;01mreturn\u001B[39;00m \u001B[43m_encode\u001B[49m\u001B[43m(\u001B[49m\u001B[43my\u001B[49m\u001B[43m,\u001B[49m\u001B[43m \u001B[49m\u001B[43muniques\u001B[49m\u001B[38;5;241;43m=\u001B[39;49m\u001B[38;5;28;43mself\u001B[39;49m\u001B[38;5;241;43m.\u001B[39;49m\u001B[43mclasses_\u001B[49m\u001B[43m)\u001B[49m\n",
      "File \u001B[1;32m~\\OneDrive - cpe.fr\\CPE\\S9\\machine_learning\\venv\\lib\\site-packages\\sklearn\\utils\\_encode.py:227\u001B[0m, in \u001B[0;36m_encode\u001B[1;34m(values, uniques, check_unknown)\u001B[0m\n\u001B[0;32m    225\u001B[0m         \u001B[38;5;28;01mreturn\u001B[39;00m _map_to_integer(values, uniques)\n\u001B[0;32m    226\u001B[0m     \u001B[38;5;28;01mexcept\u001B[39;00m \u001B[38;5;167;01mKeyError\u001B[39;00m \u001B[38;5;28;01mas\u001B[39;00m e:\n\u001B[1;32m--> 227\u001B[0m         \u001B[38;5;28;01mraise\u001B[39;00m \u001B[38;5;167;01mValueError\u001B[39;00m(\u001B[38;5;124mf\u001B[39m\u001B[38;5;124m\"\u001B[39m\u001B[38;5;124my contains previously unseen labels: \u001B[39m\u001B[38;5;132;01m{\u001B[39;00m\u001B[38;5;28mstr\u001B[39m(e)\u001B[38;5;132;01m}\u001B[39;00m\u001B[38;5;124m\"\u001B[39m)\n\u001B[0;32m    228\u001B[0m \u001B[38;5;28;01melse\u001B[39;00m:\n\u001B[0;32m    229\u001B[0m     \u001B[38;5;28;01mif\u001B[39;00m check_unknown:\n",
      "\u001B[1;31mValueError\u001B[0m: y contains previously unseen labels: 'true'"
     ]
    }
   ],
   "source": [
    "from sklearn.model_selection import train_test_split\n",
    "from sklearn import svm\n",
    "from sklearn.preprocessing import LabelEncoder\n",
    "from sklearn.metrics import accuracy_score\n",
    "\n",
    "label_encoders = [LabelEncoder() for _ in range(len(picdata_matrix2[0]))]\n",
    "encoded_data = []\n",
    "for i, column in enumerate(zip(*picdata_matrix)):\n",
    "    encoded_data.append(label_encoders[i].fit_transform(column))\n",
    "\n",
    "X = list(zip(*encoded_data))  # Features\n",
    "y = likes  # Labels\n",
    "\n",
    "# Split the data into training and testing sets\n",
    "X_train, X_test, y_train, y_test = train_test_split(X, y, test_size=0.2, random_state=42)\n",
    "\n",
    "# Train the logistic regression classifier\n",
    "classifier = svm.SVC()\n",
    "classifier.fit(X_train, y_train)\n",
    "\n",
    "# Predictions\n",
    "y_pred = classifier.predict(X_test)\n",
    "\n",
    "# Evaluate the classifier\n",
    "accuracy = accuracy_score(y_test, y_pred)\n",
    "print(f\"Accuracy: {accuracy}\")\n",
    "\n",
    "print(picdata_matrix2)\n",
    "# Sample prediction\n",
    "for j in picdata_matrix2:\n",
    "    encoded_item = [label_encoders[i].transform([val])[0] for i, val in enumerate(j)]\n",
    "    print(encoded_item)\n",
    "    prediction = classifier.predict([encoded_item])[0]\n",
    "    print(f\"Prediction for the sample item: {prediction}\")"
   ],
   "metadata": {
    "collapsed": false
   },
   "id": "6a2c2617165b62c6",
   "execution_count": 149
  },
  {
   "cell_type": "code",
   "execution_count": 125,
   "outputs": [
    {
     "name": "stdout",
     "output_type": "stream",
     "text": [
      "[[1, 'magenta', 'false', 'false', 'false', 'true', 'false'], [-1, 'blue', 'false', 'true', 'false', 'false', 'false'], [1, 'white', 'false', 'false', 'false', 'false', 'false'], [1, 'black', 'false', 'false', 'false', 'false', 'false'], [-1, 'black', 'false', 'false', 'false', 'false', 'false'], [1, 'black', 'false', 'false', 'false', 'false', 'false'], [-1, 'red', 'false', 'false', 'false', 'true', 'false'], [1, 'white', 'false', 'false', 'false', 'false', 'false'], [1, 'white', 'false', 'false', 'false', 'false', 'false'], [1, 'black', 'false', 'false', 'false', 'false', 'false']]\n"
     ]
    }
   ],
   "source": [
    "print(picdata_matrix)"
   ],
   "metadata": {
    "collapsed": false
   }
  },
  {
   "cell_type": "code",
   "execution_count": null,
   "outputs": [],
   "source": [],
   "metadata": {
    "collapsed": false
   }
  }
 ],
 "metadata": {
  "kernelspec": {
   "display_name": "Python 3 (ipykernel)",
   "language": "python",
   "name": "python3"
  },
  "language_info": {
   "codemirror_mode": {
    "name": "ipython",
    "version": 3
   },
   "file_extension": ".py",
   "mimetype": "text/x-python",
   "name": "python",
   "nbconvert_exporter": "python",
   "pygments_lexer": "ipython3",
   "version": "3.12.2"
  }
 },
 "nbformat": 4,
 "nbformat_minor": 5
}
